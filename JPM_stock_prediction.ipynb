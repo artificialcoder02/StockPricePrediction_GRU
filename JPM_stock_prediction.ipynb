{
  "nbformat": 4,
  "nbformat_minor": 0,
  "metadata": {
    "colab": {
      "provenance": [],
      "authorship_tag": "ABX9TyNc1ECZSD047gcd1Yp1KPOp",
      "include_colab_link": true
    },
    "kernelspec": {
      "name": "python3",
      "display_name": "Python 3"
    },
    "language_info": {
      "name": "python"
    }
  },
  "cells": [
    {
      "cell_type": "markdown",
      "metadata": {
        "id": "view-in-github",
        "colab_type": "text"
      },
      "source": [
        "<a href=\"https://colab.research.google.com/github/artificialcoder02/StockPricePrediction_GRU/blob/main/JPM_stock_prediction.ipynb\" target=\"_parent\"><img src=\"https://colab.research.google.com/assets/colab-badge.svg\" alt=\"Open In Colab\"/></a>"
      ]
    },
    {
      "cell_type": "markdown",
      "source": [
        "#Importing Libraries\n"
      ],
      "metadata": {
        "id": "VIcUU5tK6F3U"
      }
    },
    {
      "cell_type": "code",
      "execution_count": 1,
      "metadata": {
        "id": "r9mH01M-yB7j"
      },
      "outputs": [],
      "source": [
        "import os\n",
        "import pandas as pd\n",
        "import numpy as np\n",
        "import datetime as dt\n",
        "\n",
        "from sklearn.metrics import mean_squared_error, mean_absolute_error, explained_variance_score, r2_score\n",
        "from sklearn.metrics import mean_poisson_deviance, mean_gamma_deviance, accuracy_score\n",
        "from sklearn.preprocessing import MinMaxScaler\n",
        "\n",
        "import tensorflow as tf\n",
        "from tensorflow.keras.models import Sequential\n",
        "from tensorflow.keras.layers import Dense, Dropout\n",
        "from tensorflow.keras.layers import LSTM, GRU\n",
        "\n",
        "import itertools\n",
        "from itertools import cycle\n",
        "import plotly.graph_objects as go\n",
        "import plotly.express as px\n",
        "from plotly.subplots import make_subplots\n",
        "\n",
        "from numpy import array"
      ]
    },
    {
      "cell_type": "markdown",
      "source": [
        "#Importing Dataset"
      ],
      "metadata": {
        "id": "KmdpuMus5-qE"
      }
    },
    {
      "cell_type": "code",
      "source": [
        "!pip install tensorflow"
      ],
      "metadata": {
        "colab": {
          "base_uri": "https://localhost:8080/"
        },
        "id": "pkyTyZ6d6KZL",
        "outputId": "b60a4370-4994-4705-fa53-ba8427c65286"
      },
      "execution_count": 2,
      "outputs": [
        {
          "output_type": "stream",
          "name": "stdout",
          "text": [
            "Looking in indexes: https://pypi.org/simple, https://us-python.pkg.dev/colab-wheels/public/simple/\n",
            "Requirement already satisfied: tensorflow in /usr/local/lib/python3.9/dist-packages (2.12.0)\n",
            "Requirement already satisfied: tensorflow-io-gcs-filesystem>=0.23.1 in /usr/local/lib/python3.9/dist-packages (from tensorflow) (0.32.0)\n",
            "Requirement already satisfied: protobuf!=4.21.0,!=4.21.1,!=4.21.2,!=4.21.3,!=4.21.4,!=4.21.5,<5.0.0dev,>=3.20.3 in /usr/local/lib/python3.9/dist-packages (from tensorflow) (3.20.3)\n",
            "Requirement already satisfied: setuptools in /usr/local/lib/python3.9/dist-packages (from tensorflow) (67.6.1)\n",
            "Requirement already satisfied: libclang>=13.0.0 in /usr/local/lib/python3.9/dist-packages (from tensorflow) (16.0.0)\n",
            "Requirement already satisfied: six>=1.12.0 in /usr/local/lib/python3.9/dist-packages (from tensorflow) (1.16.0)\n",
            "Requirement already satisfied: typing-extensions>=3.6.6 in /usr/local/lib/python3.9/dist-packages (from tensorflow) (4.5.0)\n",
            "Requirement already satisfied: opt-einsum>=2.3.2 in /usr/local/lib/python3.9/dist-packages (from tensorflow) (3.3.0)\n",
            "Requirement already satisfied: packaging in /usr/local/lib/python3.9/dist-packages (from tensorflow) (23.0)\n",
            "Requirement already satisfied: tensorboard<2.13,>=2.12 in /usr/local/lib/python3.9/dist-packages (from tensorflow) (2.12.1)\n",
            "Requirement already satisfied: grpcio<2.0,>=1.24.3 in /usr/local/lib/python3.9/dist-packages (from tensorflow) (1.53.0)\n",
            "Requirement already satisfied: jax>=0.3.15 in /usr/local/lib/python3.9/dist-packages (from tensorflow) (0.4.8)\n",
            "Requirement already satisfied: absl-py>=1.0.0 in /usr/local/lib/python3.9/dist-packages (from tensorflow) (1.4.0)\n",
            "Requirement already satisfied: h5py>=2.9.0 in /usr/local/lib/python3.9/dist-packages (from tensorflow) (3.8.0)\n",
            "Requirement already satisfied: flatbuffers>=2.0 in /usr/local/lib/python3.9/dist-packages (from tensorflow) (23.3.3)\n",
            "Requirement already satisfied: astunparse>=1.6.0 in /usr/local/lib/python3.9/dist-packages (from tensorflow) (1.6.3)\n",
            "Requirement already satisfied: google-pasta>=0.1.1 in /usr/local/lib/python3.9/dist-packages (from tensorflow) (0.2.0)\n",
            "Requirement already satisfied: tensorflow-estimator<2.13,>=2.12.0 in /usr/local/lib/python3.9/dist-packages (from tensorflow) (2.12.0)\n",
            "Requirement already satisfied: keras<2.13,>=2.12.0 in /usr/local/lib/python3.9/dist-packages (from tensorflow) (2.12.0)\n",
            "Requirement already satisfied: gast<=0.4.0,>=0.2.1 in /usr/local/lib/python3.9/dist-packages (from tensorflow) (0.4.0)\n",
            "Requirement already satisfied: termcolor>=1.1.0 in /usr/local/lib/python3.9/dist-packages (from tensorflow) (2.2.0)\n",
            "Requirement already satisfied: wrapt<1.15,>=1.11.0 in /usr/local/lib/python3.9/dist-packages (from tensorflow) (1.14.1)\n",
            "Requirement already satisfied: numpy<1.24,>=1.22 in /usr/local/lib/python3.9/dist-packages (from tensorflow) (1.22.4)\n",
            "Requirement already satisfied: wheel<1.0,>=0.23.0 in /usr/local/lib/python3.9/dist-packages (from astunparse>=1.6.0->tensorflow) (0.40.0)\n",
            "Requirement already satisfied: scipy>=1.7 in /usr/local/lib/python3.9/dist-packages (from jax>=0.3.15->tensorflow) (1.10.1)\n",
            "Requirement already satisfied: ml-dtypes>=0.0.3 in /usr/local/lib/python3.9/dist-packages (from jax>=0.3.15->tensorflow) (0.0.4)\n",
            "Requirement already satisfied: requests<3,>=2.21.0 in /usr/local/lib/python3.9/dist-packages (from tensorboard<2.13,>=2.12->tensorflow) (2.27.1)\n",
            "Requirement already satisfied: tensorboard-data-server<0.8.0,>=0.7.0 in /usr/local/lib/python3.9/dist-packages (from tensorboard<2.13,>=2.12->tensorflow) (0.7.0)\n",
            "Requirement already satisfied: markdown>=2.6.8 in /usr/local/lib/python3.9/dist-packages (from tensorboard<2.13,>=2.12->tensorflow) (3.4.3)\n",
            "Requirement already satisfied: google-auth-oauthlib<1.1,>=0.5 in /usr/local/lib/python3.9/dist-packages (from tensorboard<2.13,>=2.12->tensorflow) (1.0.0)\n",
            "Requirement already satisfied: tensorboard-plugin-wit>=1.6.0 in /usr/local/lib/python3.9/dist-packages (from tensorboard<2.13,>=2.12->tensorflow) (1.8.1)\n",
            "Requirement already satisfied: google-auth<3,>=1.6.3 in /usr/local/lib/python3.9/dist-packages (from tensorboard<2.13,>=2.12->tensorflow) (2.17.2)\n",
            "Requirement already satisfied: werkzeug>=1.0.1 in /usr/local/lib/python3.9/dist-packages (from tensorboard<2.13,>=2.12->tensorflow) (2.2.3)\n",
            "Requirement already satisfied: cachetools<6.0,>=2.0.0 in /usr/local/lib/python3.9/dist-packages (from google-auth<3,>=1.6.3->tensorboard<2.13,>=2.12->tensorflow) (5.3.0)\n",
            "Requirement already satisfied: rsa<5,>=3.1.4 in /usr/local/lib/python3.9/dist-packages (from google-auth<3,>=1.6.3->tensorboard<2.13,>=2.12->tensorflow) (4.9)\n",
            "Requirement already satisfied: pyasn1-modules>=0.2.1 in /usr/local/lib/python3.9/dist-packages (from google-auth<3,>=1.6.3->tensorboard<2.13,>=2.12->tensorflow) (0.2.8)\n",
            "Requirement already satisfied: requests-oauthlib>=0.7.0 in /usr/local/lib/python3.9/dist-packages (from google-auth-oauthlib<1.1,>=0.5->tensorboard<2.13,>=2.12->tensorflow) (1.3.1)\n",
            "Requirement already satisfied: importlib-metadata>=4.4 in /usr/local/lib/python3.9/dist-packages (from markdown>=2.6.8->tensorboard<2.13,>=2.12->tensorflow) (6.3.0)\n",
            "Requirement already satisfied: urllib3<1.27,>=1.21.1 in /usr/local/lib/python3.9/dist-packages (from requests<3,>=2.21.0->tensorboard<2.13,>=2.12->tensorflow) (1.26.15)\n",
            "Requirement already satisfied: charset-normalizer~=2.0.0 in /usr/local/lib/python3.9/dist-packages (from requests<3,>=2.21.0->tensorboard<2.13,>=2.12->tensorflow) (2.0.12)\n",
            "Requirement already satisfied: idna<4,>=2.5 in /usr/local/lib/python3.9/dist-packages (from requests<3,>=2.21.0->tensorboard<2.13,>=2.12->tensorflow) (3.4)\n",
            "Requirement already satisfied: certifi>=2017.4.17 in /usr/local/lib/python3.9/dist-packages (from requests<3,>=2.21.0->tensorboard<2.13,>=2.12->tensorflow) (2022.12.7)\n",
            "Requirement already satisfied: MarkupSafe>=2.1.1 in /usr/local/lib/python3.9/dist-packages (from werkzeug>=1.0.1->tensorboard<2.13,>=2.12->tensorflow) (2.1.2)\n",
            "Requirement already satisfied: zipp>=0.5 in /usr/local/lib/python3.9/dist-packages (from importlib-metadata>=4.4->markdown>=2.6.8->tensorboard<2.13,>=2.12->tensorflow) (3.15.0)\n",
            "Requirement already satisfied: pyasn1<0.5.0,>=0.4.6 in /usr/local/lib/python3.9/dist-packages (from pyasn1-modules>=0.2.1->google-auth<3,>=1.6.3->tensorboard<2.13,>=2.12->tensorflow) (0.4.8)\n",
            "Requirement already satisfied: oauthlib>=3.0.0 in /usr/local/lib/python3.9/dist-packages (from requests-oauthlib>=0.7.0->google-auth-oauthlib<1.1,>=0.5->tensorboard<2.13,>=2.12->tensorflow) (3.2.2)\n"
          ]
        }
      ]
    },
    {
      "cell_type": "code",
      "source": [
        "from google.colab import drive\n",
        "drive.mount('/content/gdrive')"
      ],
      "metadata": {
        "colab": {
          "base_uri": "https://localhost:8080/"
        },
        "id": "22BTTfXL55ci",
        "outputId": "26502f7a-1dcf-492b-c7bd-4a4ad8711be7"
      },
      "execution_count": 3,
      "outputs": [
        {
          "output_type": "stream",
          "name": "stdout",
          "text": [
            "Drive already mounted at /content/gdrive; to attempt to forcibly remount, call drive.mount(\"/content/gdrive\", force_remount=True).\n"
          ]
        }
      ]
    },
    {
      "cell_type": "code",
      "source": [
        "root_path = \"/content/gdrive/MyDrive/JPM (1).csv\""
      ],
      "metadata": {
        "id": "YXL4eo6R1AhC"
      },
      "execution_count": 4,
      "outputs": []
    },
    {
      "cell_type": "code",
      "source": [
        "\n",
        "stock_df=pd.read_csv(root_path)\n",
        "stock_df.head()"
      ],
      "metadata": {
        "colab": {
          "base_uri": "https://localhost:8080/",
          "height": 206
        },
        "id": "nNrnOv2O83po",
        "outputId": "32e739cb-e882-4417-f74b-21078afdab02"
      },
      "execution_count": 5,
      "outputs": [
        {
          "output_type": "execute_result",
          "data": {
            "text/plain": [
              "        Date        Open        High         Low       Close  Adj Close  \\\n",
              "0  4/12/2018  111.559998  114.389999  111.500000  113.370003  97.591393   \n",
              "1  4/13/2018  115.019997  115.150002  109.050003  110.300003  94.948662   \n",
              "2  4/16/2018  110.940002  111.470001  109.790001  110.209999  94.871178   \n",
              "3  4/17/2018  111.370003  111.919998  109.989998  110.209999  94.871178   \n",
              "4  4/18/2018  110.529999  111.070000  108.889999  109.320000  94.105057   \n",
              "\n",
              "     Volume  \n",
              "0  16435500  \n",
              "1  39152800  \n",
              "2  16580500  \n",
              "3  15501400  \n",
              "4  16081400  "
            ],
            "text/html": [
              "\n",
              "  <div id=\"df-1f871f15-9ffa-4329-9b99-50f301365d26\">\n",
              "    <div class=\"colab-df-container\">\n",
              "      <div>\n",
              "<style scoped>\n",
              "    .dataframe tbody tr th:only-of-type {\n",
              "        vertical-align: middle;\n",
              "    }\n",
              "\n",
              "    .dataframe tbody tr th {\n",
              "        vertical-align: top;\n",
              "    }\n",
              "\n",
              "    .dataframe thead th {\n",
              "        text-align: right;\n",
              "    }\n",
              "</style>\n",
              "<table border=\"1\" class=\"dataframe\">\n",
              "  <thead>\n",
              "    <tr style=\"text-align: right;\">\n",
              "      <th></th>\n",
              "      <th>Date</th>\n",
              "      <th>Open</th>\n",
              "      <th>High</th>\n",
              "      <th>Low</th>\n",
              "      <th>Close</th>\n",
              "      <th>Adj Close</th>\n",
              "      <th>Volume</th>\n",
              "    </tr>\n",
              "  </thead>\n",
              "  <tbody>\n",
              "    <tr>\n",
              "      <th>0</th>\n",
              "      <td>4/12/2018</td>\n",
              "      <td>111.559998</td>\n",
              "      <td>114.389999</td>\n",
              "      <td>111.500000</td>\n",
              "      <td>113.370003</td>\n",
              "      <td>97.591393</td>\n",
              "      <td>16435500</td>\n",
              "    </tr>\n",
              "    <tr>\n",
              "      <th>1</th>\n",
              "      <td>4/13/2018</td>\n",
              "      <td>115.019997</td>\n",
              "      <td>115.150002</td>\n",
              "      <td>109.050003</td>\n",
              "      <td>110.300003</td>\n",
              "      <td>94.948662</td>\n",
              "      <td>39152800</td>\n",
              "    </tr>\n",
              "    <tr>\n",
              "      <th>2</th>\n",
              "      <td>4/16/2018</td>\n",
              "      <td>110.940002</td>\n",
              "      <td>111.470001</td>\n",
              "      <td>109.790001</td>\n",
              "      <td>110.209999</td>\n",
              "      <td>94.871178</td>\n",
              "      <td>16580500</td>\n",
              "    </tr>\n",
              "    <tr>\n",
              "      <th>3</th>\n",
              "      <td>4/17/2018</td>\n",
              "      <td>111.370003</td>\n",
              "      <td>111.919998</td>\n",
              "      <td>109.989998</td>\n",
              "      <td>110.209999</td>\n",
              "      <td>94.871178</td>\n",
              "      <td>15501400</td>\n",
              "    </tr>\n",
              "    <tr>\n",
              "      <th>4</th>\n",
              "      <td>4/18/2018</td>\n",
              "      <td>110.529999</td>\n",
              "      <td>111.070000</td>\n",
              "      <td>108.889999</td>\n",
              "      <td>109.320000</td>\n",
              "      <td>94.105057</td>\n",
              "      <td>16081400</td>\n",
              "    </tr>\n",
              "  </tbody>\n",
              "</table>\n",
              "</div>\n",
              "      <button class=\"colab-df-convert\" onclick=\"convertToInteractive('df-1f871f15-9ffa-4329-9b99-50f301365d26')\"\n",
              "              title=\"Convert this dataframe to an interactive table.\"\n",
              "              style=\"display:none;\">\n",
              "        \n",
              "  <svg xmlns=\"http://www.w3.org/2000/svg\" height=\"24px\"viewBox=\"0 0 24 24\"\n",
              "       width=\"24px\">\n",
              "    <path d=\"M0 0h24v24H0V0z\" fill=\"none\"/>\n",
              "    <path d=\"M18.56 5.44l.94 2.06.94-2.06 2.06-.94-2.06-.94-.94-2.06-.94 2.06-2.06.94zm-11 1L8.5 8.5l.94-2.06 2.06-.94-2.06-.94L8.5 2.5l-.94 2.06-2.06.94zm10 10l.94 2.06.94-2.06 2.06-.94-2.06-.94-.94-2.06-.94 2.06-2.06.94z\"/><path d=\"M17.41 7.96l-1.37-1.37c-.4-.4-.92-.59-1.43-.59-.52 0-1.04.2-1.43.59L10.3 9.45l-7.72 7.72c-.78.78-.78 2.05 0 2.83L4 21.41c.39.39.9.59 1.41.59.51 0 1.02-.2 1.41-.59l7.78-7.78 2.81-2.81c.8-.78.8-2.07 0-2.86zM5.41 20L4 18.59l7.72-7.72 1.47 1.35L5.41 20z\"/>\n",
              "  </svg>\n",
              "      </button>\n",
              "      \n",
              "  <style>\n",
              "    .colab-df-container {\n",
              "      display:flex;\n",
              "      flex-wrap:wrap;\n",
              "      gap: 12px;\n",
              "    }\n",
              "\n",
              "    .colab-df-convert {\n",
              "      background-color: #E8F0FE;\n",
              "      border: none;\n",
              "      border-radius: 50%;\n",
              "      cursor: pointer;\n",
              "      display: none;\n",
              "      fill: #1967D2;\n",
              "      height: 32px;\n",
              "      padding: 0 0 0 0;\n",
              "      width: 32px;\n",
              "    }\n",
              "\n",
              "    .colab-df-convert:hover {\n",
              "      background-color: #E2EBFA;\n",
              "      box-shadow: 0px 1px 2px rgba(60, 64, 67, 0.3), 0px 1px 3px 1px rgba(60, 64, 67, 0.15);\n",
              "      fill: #174EA6;\n",
              "    }\n",
              "\n",
              "    [theme=dark] .colab-df-convert {\n",
              "      background-color: #3B4455;\n",
              "      fill: #D2E3FC;\n",
              "    }\n",
              "\n",
              "    [theme=dark] .colab-df-convert:hover {\n",
              "      background-color: #434B5C;\n",
              "      box-shadow: 0px 1px 3px 1px rgba(0, 0, 0, 0.15);\n",
              "      filter: drop-shadow(0px 1px 2px rgba(0, 0, 0, 0.3));\n",
              "      fill: #FFFFFF;\n",
              "    }\n",
              "  </style>\n",
              "\n",
              "      <script>\n",
              "        const buttonEl =\n",
              "          document.querySelector('#df-1f871f15-9ffa-4329-9b99-50f301365d26 button.colab-df-convert');\n",
              "        buttonEl.style.display =\n",
              "          google.colab.kernel.accessAllowed ? 'block' : 'none';\n",
              "\n",
              "        async function convertToInteractive(key) {\n",
              "          const element = document.querySelector('#df-1f871f15-9ffa-4329-9b99-50f301365d26');\n",
              "          const dataTable =\n",
              "            await google.colab.kernel.invokeFunction('convertToInteractive',\n",
              "                                                     [key], {});\n",
              "          if (!dataTable) return;\n",
              "\n",
              "          const docLinkHtml = 'Like what you see? Visit the ' +\n",
              "            '<a target=\"_blank\" href=https://colab.research.google.com/notebooks/data_table.ipynb>data table notebook</a>'\n",
              "            + ' to learn more about interactive tables.';\n",
              "          element.innerHTML = '';\n",
              "          dataTable['output_type'] = 'display_data';\n",
              "          await google.colab.output.renderOutput(dataTable, element);\n",
              "          const docLink = document.createElement('div');\n",
              "          docLink.innerHTML = docLinkHtml;\n",
              "          element.appendChild(docLink);\n",
              "        }\n",
              "      </script>\n",
              "    </div>\n",
              "  </div>\n",
              "  "
            ]
          },
          "metadata": {},
          "execution_count": 5
        }
      ]
    },
    {
      "cell_type": "code",
      "source": [
        "stock_df.columns"
      ],
      "metadata": {
        "colab": {
          "base_uri": "https://localhost:8080/"
        },
        "id": "Ip3eP54-86kZ",
        "outputId": "20c55f20-e3e5-42fc-b64c-3071ed94dbee"
      },
      "execution_count": 6,
      "outputs": [
        {
          "output_type": "execute_result",
          "data": {
            "text/plain": [
              "Index(['Date', 'Open', 'High', 'Low', 'Close', 'Adj Close', 'Volume'], dtype='object')"
            ]
          },
          "metadata": {},
          "execution_count": 6
        }
      ]
    },
    {
      "cell_type": "code",
      "source": [
        "\n",
        "stock_df = stock_df.rename(columns={'Date':'date','Open':'open','High':'high','Low':'low','Close':'close','Adj Close': 'adj_close','Volume':'volume'})\n",
        "stock_df.head()"
      ],
      "metadata": {
        "colab": {
          "base_uri": "https://localhost:8080/",
          "height": 206
        },
        "id": "X5QYnQ2e9Dmn",
        "outputId": "ca513294-9cc4-4af3-b578-98ada12b41b6"
      },
      "execution_count": 7,
      "outputs": [
        {
          "output_type": "execute_result",
          "data": {
            "text/plain": [
              "        date        open        high         low       close  adj_close  \\\n",
              "0  4/12/2018  111.559998  114.389999  111.500000  113.370003  97.591393   \n",
              "1  4/13/2018  115.019997  115.150002  109.050003  110.300003  94.948662   \n",
              "2  4/16/2018  110.940002  111.470001  109.790001  110.209999  94.871178   \n",
              "3  4/17/2018  111.370003  111.919998  109.989998  110.209999  94.871178   \n",
              "4  4/18/2018  110.529999  111.070000  108.889999  109.320000  94.105057   \n",
              "\n",
              "     volume  \n",
              "0  16435500  \n",
              "1  39152800  \n",
              "2  16580500  \n",
              "3  15501400  \n",
              "4  16081400  "
            ],
            "text/html": [
              "\n",
              "  <div id=\"df-aef0e3ac-cb93-4eee-99f2-a9dda54cc0e6\">\n",
              "    <div class=\"colab-df-container\">\n",
              "      <div>\n",
              "<style scoped>\n",
              "    .dataframe tbody tr th:only-of-type {\n",
              "        vertical-align: middle;\n",
              "    }\n",
              "\n",
              "    .dataframe tbody tr th {\n",
              "        vertical-align: top;\n",
              "    }\n",
              "\n",
              "    .dataframe thead th {\n",
              "        text-align: right;\n",
              "    }\n",
              "</style>\n",
              "<table border=\"1\" class=\"dataframe\">\n",
              "  <thead>\n",
              "    <tr style=\"text-align: right;\">\n",
              "      <th></th>\n",
              "      <th>date</th>\n",
              "      <th>open</th>\n",
              "      <th>high</th>\n",
              "      <th>low</th>\n",
              "      <th>close</th>\n",
              "      <th>adj_close</th>\n",
              "      <th>volume</th>\n",
              "    </tr>\n",
              "  </thead>\n",
              "  <tbody>\n",
              "    <tr>\n",
              "      <th>0</th>\n",
              "      <td>4/12/2018</td>\n",
              "      <td>111.559998</td>\n",
              "      <td>114.389999</td>\n",
              "      <td>111.500000</td>\n",
              "      <td>113.370003</td>\n",
              "      <td>97.591393</td>\n",
              "      <td>16435500</td>\n",
              "    </tr>\n",
              "    <tr>\n",
              "      <th>1</th>\n",
              "      <td>4/13/2018</td>\n",
              "      <td>115.019997</td>\n",
              "      <td>115.150002</td>\n",
              "      <td>109.050003</td>\n",
              "      <td>110.300003</td>\n",
              "      <td>94.948662</td>\n",
              "      <td>39152800</td>\n",
              "    </tr>\n",
              "    <tr>\n",
              "      <th>2</th>\n",
              "      <td>4/16/2018</td>\n",
              "      <td>110.940002</td>\n",
              "      <td>111.470001</td>\n",
              "      <td>109.790001</td>\n",
              "      <td>110.209999</td>\n",
              "      <td>94.871178</td>\n",
              "      <td>16580500</td>\n",
              "    </tr>\n",
              "    <tr>\n",
              "      <th>3</th>\n",
              "      <td>4/17/2018</td>\n",
              "      <td>111.370003</td>\n",
              "      <td>111.919998</td>\n",
              "      <td>109.989998</td>\n",
              "      <td>110.209999</td>\n",
              "      <td>94.871178</td>\n",
              "      <td>15501400</td>\n",
              "    </tr>\n",
              "    <tr>\n",
              "      <th>4</th>\n",
              "      <td>4/18/2018</td>\n",
              "      <td>110.529999</td>\n",
              "      <td>111.070000</td>\n",
              "      <td>108.889999</td>\n",
              "      <td>109.320000</td>\n",
              "      <td>94.105057</td>\n",
              "      <td>16081400</td>\n",
              "    </tr>\n",
              "  </tbody>\n",
              "</table>\n",
              "</div>\n",
              "      <button class=\"colab-df-convert\" onclick=\"convertToInteractive('df-aef0e3ac-cb93-4eee-99f2-a9dda54cc0e6')\"\n",
              "              title=\"Convert this dataframe to an interactive table.\"\n",
              "              style=\"display:none;\">\n",
              "        \n",
              "  <svg xmlns=\"http://www.w3.org/2000/svg\" height=\"24px\"viewBox=\"0 0 24 24\"\n",
              "       width=\"24px\">\n",
              "    <path d=\"M0 0h24v24H0V0z\" fill=\"none\"/>\n",
              "    <path d=\"M18.56 5.44l.94 2.06.94-2.06 2.06-.94-2.06-.94-.94-2.06-.94 2.06-2.06.94zm-11 1L8.5 8.5l.94-2.06 2.06-.94-2.06-.94L8.5 2.5l-.94 2.06-2.06.94zm10 10l.94 2.06.94-2.06 2.06-.94-2.06-.94-.94-2.06-.94 2.06-2.06.94z\"/><path d=\"M17.41 7.96l-1.37-1.37c-.4-.4-.92-.59-1.43-.59-.52 0-1.04.2-1.43.59L10.3 9.45l-7.72 7.72c-.78.78-.78 2.05 0 2.83L4 21.41c.39.39.9.59 1.41.59.51 0 1.02-.2 1.41-.59l7.78-7.78 2.81-2.81c.8-.78.8-2.07 0-2.86zM5.41 20L4 18.59l7.72-7.72 1.47 1.35L5.41 20z\"/>\n",
              "  </svg>\n",
              "      </button>\n",
              "      \n",
              "  <style>\n",
              "    .colab-df-container {\n",
              "      display:flex;\n",
              "      flex-wrap:wrap;\n",
              "      gap: 12px;\n",
              "    }\n",
              "\n",
              "    .colab-df-convert {\n",
              "      background-color: #E8F0FE;\n",
              "      border: none;\n",
              "      border-radius: 50%;\n",
              "      cursor: pointer;\n",
              "      display: none;\n",
              "      fill: #1967D2;\n",
              "      height: 32px;\n",
              "      padding: 0 0 0 0;\n",
              "      width: 32px;\n",
              "    }\n",
              "\n",
              "    .colab-df-convert:hover {\n",
              "      background-color: #E2EBFA;\n",
              "      box-shadow: 0px 1px 2px rgba(60, 64, 67, 0.3), 0px 1px 3px 1px rgba(60, 64, 67, 0.15);\n",
              "      fill: #174EA6;\n",
              "    }\n",
              "\n",
              "    [theme=dark] .colab-df-convert {\n",
              "      background-color: #3B4455;\n",
              "      fill: #D2E3FC;\n",
              "    }\n",
              "\n",
              "    [theme=dark] .colab-df-convert:hover {\n",
              "      background-color: #434B5C;\n",
              "      box-shadow: 0px 1px 3px 1px rgba(0, 0, 0, 0.15);\n",
              "      filter: drop-shadow(0px 1px 2px rgba(0, 0, 0, 0.3));\n",
              "      fill: #FFFFFF;\n",
              "    }\n",
              "  </style>\n",
              "\n",
              "      <script>\n",
              "        const buttonEl =\n",
              "          document.querySelector('#df-aef0e3ac-cb93-4eee-99f2-a9dda54cc0e6 button.colab-df-convert');\n",
              "        buttonEl.style.display =\n",
              "          google.colab.kernel.accessAllowed ? 'block' : 'none';\n",
              "\n",
              "        async function convertToInteractive(key) {\n",
              "          const element = document.querySelector('#df-aef0e3ac-cb93-4eee-99f2-a9dda54cc0e6');\n",
              "          const dataTable =\n",
              "            await google.colab.kernel.invokeFunction('convertToInteractive',\n",
              "                                                     [key], {});\n",
              "          if (!dataTable) return;\n",
              "\n",
              "          const docLinkHtml = 'Like what you see? Visit the ' +\n",
              "            '<a target=\"_blank\" href=https://colab.research.google.com/notebooks/data_table.ipynb>data table notebook</a>'\n",
              "            + ' to learn more about interactive tables.';\n",
              "          element.innerHTML = '';\n",
              "          dataTable['output_type'] = 'display_data';\n",
              "          await google.colab.output.renderOutput(dataTable, element);\n",
              "          const docLink = document.createElement('div');\n",
              "          docLink.innerHTML = docLinkHtml;\n",
              "          element.appendChild(docLink);\n",
              "        }\n",
              "      </script>\n",
              "    </div>\n",
              "  </div>\n",
              "  "
            ]
          },
          "metadata": {},
          "execution_count": 7
        }
      ]
    },
    {
      "cell_type": "code",
      "source": [
        "\n",
        "print(\"Checking the total number of days\",stock_df.shape[0])\n",
        "print(\"Checking the total number of fields\",stock_df.shape[1])\n"
      ],
      "metadata": {
        "colab": {
          "base_uri": "https://localhost:8080/"
        },
        "id": "UAoJlwYb9HR4",
        "outputId": "a1055cef-9068-4a59-89b6-5fcc89c712a7"
      },
      "execution_count": 8,
      "outputs": [
        {
          "output_type": "stream",
          "name": "stdout",
          "text": [
            "Checking the total number of days 1258\n",
            "Checking the total number of fields 7\n"
          ]
        }
      ]
    },
    {
      "cell_type": "markdown",
      "source": [
        "#Data Preprocessing\n"
      ],
      "metadata": {
        "id": "3qSNtfND9N3S"
      }
    },
    {
      "cell_type": "code",
      "source": [
        "\n",
        "print(\"NUll values\",stock_df.isnull().values.sum())\n",
        "print(\"NA values\",stock_df.isna().values.any())"
      ],
      "metadata": {
        "colab": {
          "base_uri": "https://localhost:8080/"
        },
        "id": "0TYrINQe9MTv",
        "outputId": "5d620768-612e-4bc2-be0e-87f0823b6fde"
      },
      "execution_count": 9,
      "outputs": [
        {
          "output_type": "stream",
          "name": "stdout",
          "text": [
            "NUll values 0\n",
            "NA values False\n"
          ]
        }
      ]
    },
    {
      "cell_type": "markdown",
      "source": [
        "#Summary of the stocks"
      ],
      "metadata": {
        "id": "_Fdkaiq79W2_"
      }
    },
    {
      "cell_type": "code",
      "source": [
        "\n",
        "stock_df.info()"
      ],
      "metadata": {
        "colab": {
          "base_uri": "https://localhost:8080/"
        },
        "id": "f6vvHuKO9UoR",
        "outputId": "05c6ef66-a9ef-44a0-ac48-51da74ab5b57"
      },
      "execution_count": 10,
      "outputs": [
        {
          "output_type": "stream",
          "name": "stdout",
          "text": [
            "<class 'pandas.core.frame.DataFrame'>\n",
            "RangeIndex: 1258 entries, 0 to 1257\n",
            "Data columns (total 7 columns):\n",
            " #   Column     Non-Null Count  Dtype  \n",
            "---  ------     --------------  -----  \n",
            " 0   date       1258 non-null   object \n",
            " 1   open       1258 non-null   float64\n",
            " 2   high       1258 non-null   float64\n",
            " 3   low        1258 non-null   float64\n",
            " 4   close      1258 non-null   float64\n",
            " 5   adj_close  1258 non-null   float64\n",
            " 6   volume     1258 non-null   int64  \n",
            "dtypes: float64(5), int64(1), object(1)\n",
            "memory usage: 68.9+ KB\n"
          ]
        }
      ]
    },
    {
      "cell_type": "markdown",
      "source": [
        "#Changing the Date Time format to a more computable type"
      ],
      "metadata": {
        "id": "vlMvLJzV_z1o"
      }
    },
    {
      "cell_type": "code",
      "source": [
        "\n",
        "stock_df['date']=pd.to_datetime(stock_df['date'],utc=True)"
      ],
      "metadata": {
        "id": "FLGmL07P_5LO"
      },
      "execution_count": 11,
      "outputs": []
    },
    {
      "cell_type": "code",
      "source": [
        "\n",
        "stock_df.info()\n",
        "     "
      ],
      "metadata": {
        "colab": {
          "base_uri": "https://localhost:8080/"
        },
        "id": "0OKAiHFm_8HG",
        "outputId": "374e1bbb-c486-4011-9b79-059de1472a72"
      },
      "execution_count": 12,
      "outputs": [
        {
          "output_type": "stream",
          "name": "stdout",
          "text": [
            "<class 'pandas.core.frame.DataFrame'>\n",
            "RangeIndex: 1258 entries, 0 to 1257\n",
            "Data columns (total 7 columns):\n",
            " #   Column     Non-Null Count  Dtype              \n",
            "---  ------     --------------  -----              \n",
            " 0   date       1258 non-null   datetime64[ns, UTC]\n",
            " 1   open       1258 non-null   float64            \n",
            " 2   high       1258 non-null   float64            \n",
            " 3   low        1258 non-null   float64            \n",
            " 4   close      1258 non-null   float64            \n",
            " 5   adj_close  1258 non-null   float64            \n",
            " 6   volume     1258 non-null   int64              \n",
            "dtypes: datetime64[ns, UTC](1), float64(5), int64(1)\n",
            "memory usage: 68.9 KB\n"
          ]
        }
      ]
    },
    {
      "cell_type": "markdown",
      "source": [
        "#Checking the Time Period of the Stock"
      ],
      "metadata": {
        "id": "450dBb9uACFO"
      }
    },
    {
      "cell_type": "code",
      "source": [
        "\n",
        "print(\"Starting date:\", stock_df.iloc[0][0])\n",
        "#grabbing the starting date\n",
        "print(\"Ending date:\",stock_df.iloc[-1][0])\n",
        "#grabbing the ending date\n",
        "print(\"Duration: \",stock_df.iloc[-1][0]-stock_df.iloc[0][0])"
      ],
      "metadata": {
        "colab": {
          "base_uri": "https://localhost:8080/"
        },
        "id": "eKK056KO__1-",
        "outputId": "78593eac-d2db-4d9b-9be2-187e0d2c504c"
      },
      "execution_count": 13,
      "outputs": [
        {
          "output_type": "stream",
          "name": "stdout",
          "text": [
            "Starting date: 2018-04-12 00:00:00+00:00\n",
            "Ending date: 2023-04-11 00:00:00+00:00\n",
            "Duration:  1825 days 00:00:00\n"
          ]
        }
      ]
    },
    {
      "cell_type": "markdown",
      "source": [
        "#Comparing the Trends"
      ],
      "metadata": {
        "id": "U6B1zbfZAbiN"
      }
    },
    {
      "cell_type": "code",
      "source": [
        "names = cycle(['Open Price','Close Price','High Price', 'Low Price'])\n",
        "\n",
        "fig = px.line(stock_df, x=stock_df.date, y=[stock_df['open'],stock_df['close'],stock_df['high'],stock_df['low']],labels={'date':'Date','value':'Stock Value'})\n",
        "     "
      ],
      "metadata": {
        "id": "134wvVpgAKHL"
      },
      "execution_count": 14,
      "outputs": []
    },
    {
      "cell_type": "code",
      "source": [
        "fig.update_layout(title_text='Stock Analysis Chart', font_size=15, font_color='black',legend_title_text='Stock Parameters')\n",
        "\n",
        "fig.for_each_trace(lambda t: t.update(name=next(names)))\n",
        "fig.update_xaxes(showgrid=False)\n",
        "fig.update_yaxes(showgrid=False)\n",
        "\n",
        "fig.show()\n",
        "     "
      ],
      "metadata": {
        "colab": {
          "base_uri": "https://localhost:8080/",
          "height": 542
        },
        "id": "kWhUYgF2Afg0",
        "outputId": "5f50bb04-446e-4174-bcb9-cc76a3c298a2"
      },
      "execution_count": 15,
      "outputs": [
        {
          "output_type": "display_data",
          "data": {
            "text/html": [
              "<html>\n",
              "<head><meta charset=\"utf-8\" /></head>\n",
              "<body>\n",
              "    <div>            <script src=\"https://cdnjs.cloudflare.com/ajax/libs/mathjax/2.7.5/MathJax.js?config=TeX-AMS-MML_SVG\"></script><script type=\"text/javascript\">if (window.MathJax && window.MathJax.Hub && window.MathJax.Hub.Config) {window.MathJax.Hub.Config({SVG: {font: \"STIX-Web\"}});}</script>                <script type=\"text/javascript\">window.PlotlyConfig = {MathJaxConfig: 'local'};</script>\n",
              "        <script src=\"https://cdn.plot.ly/plotly-2.18.2.min.js\"></script>                <div id=\"51a86397-a58f-48dc-a15d-57c3c0cc8fcd\" class=\"plotly-graph-div\" style=\"height:525px; width:100%;\"></div>            <script type=\"text/javascript\">                                    window.PLOTLYENV=window.PLOTLYENV || {};                                    if (document.getElementById(\"51a86397-a58f-48dc-a15d-57c3c0cc8fcd\")) {                    Plotly.newPlot(                        \"51a86397-a58f-48dc-a15d-57c3c0cc8fcd\",                        [{\"hovertemplate\":\"variable=open<br>Date=%{x}<br>Stock Value=%{y}<extra></extra>\",\"legendgroup\":\"open\",\"line\":{\"color\":\"#636efa\",\"dash\":\"solid\"},\"marker\":{\"symbol\":\"circle\"},\"mode\":\"lines\",\"name\":\"Open Price\",\"showlegend\":true,\"x\":[\"2018-04-12T00:00:00+00:00\",\"2018-04-13T00:00:00+00:00\",\"2018-04-16T00:00:00+00:00\",\"2018-04-17T00:00:00+00:00\",\"2018-04-18T00:00:00+00:00\",\"2018-04-19T00:00:00+00:00\",\"2018-04-20T00:00:00+00:00\",\"2018-04-23T00:00:00+00:00\",\"2018-04-24T00:00:00+00:00\",\"2018-04-25T00:00:00+00:00\",\"2018-04-26T00:00:00+00:00\",\"2018-04-27T00:00:00+00:00\",\"2018-04-30T00:00:00+00:00\",\"2018-05-01T00:00:00+00:00\",\"2018-05-02T00:00:00+00:00\",\"2018-05-03T00:00:00+00:00\",\"2018-05-04T00:00:00+00:00\",\"2018-05-07T00:00:00+00:00\",\"2018-05-08T00:00:00+00:00\",\"2018-05-09T00:00:00+00:00\",\"2018-05-10T00:00:00+00:00\",\"2018-05-11T00:00:00+00:00\",\"2018-05-14T00:00:00+00:00\",\"2018-05-15T00:00:00+00:00\",\"2018-05-16T00:00:00+00:00\",\"2018-05-17T00:00:00+00:00\",\"2018-05-18T00:00:00+00:00\",\"2018-05-21T00:00:00+00:00\",\"2018-05-22T00:00:00+00:00\",\"2018-05-23T00:00:00+00:00\",\"2018-05-24T00:00:00+00:00\",\"2018-05-25T00:00:00+00:00\",\"2018-05-29T00:00:00+00:00\",\"2018-05-30T00:00:00+00:00\",\"2018-05-31T00:00:00+00:00\",\"2018-06-01T00:00:00+00:00\",\"2018-06-04T00:00:00+00:00\",\"2018-06-05T00:00:00+00:00\",\"2018-06-06T00:00:00+00:00\",\"2018-06-07T00:00:00+00:00\",\"2018-06-08T00:00:00+00:00\",\"2018-06-11T00:00:00+00:00\",\"2018-06-12T00:00:00+00:00\",\"2018-06-13T00:00:00+00:00\",\"2018-06-14T00:00:00+00:00\",\"2018-06-15T00:00:00+00:00\",\"2018-06-18T00:00:00+00:00\",\"2018-06-19T00:00:00+00:00\",\"2018-06-20T00:00:00+00:00\",\"2018-06-21T00:00:00+00:00\",\"2018-06-22T00:00:00+00:00\",\"2018-06-25T00:00:00+00:00\",\"2018-06-26T00:00:00+00:00\",\"2018-06-27T00:00:00+00:00\",\"2018-06-28T00:00:00+00:00\",\"2018-06-29T00:00:00+00:00\",\"2018-07-02T00:00:00+00:00\",\"2018-07-03T00:00:00+00:00\",\"2018-07-05T00:00:00+00:00\",\"2018-07-06T00:00:00+00:00\",\"2018-07-09T00:00:00+00:00\",\"2018-07-10T00:00:00+00:00\",\"2018-07-11T00:00:00+00:00\",\"2018-07-12T00:00:00+00:00\",\"2018-07-13T00:00:00+00:00\",\"2018-07-16T00:00:00+00:00\",\"2018-07-17T00:00:00+00:00\",\"2018-07-18T00:00:00+00:00\",\"2018-07-19T00:00:00+00:00\",\"2018-07-20T00:00:00+00:00\",\"2018-07-23T00:00:00+00:00\",\"2018-07-24T00:00:00+00:00\",\"2018-07-25T00:00:00+00:00\",\"2018-07-26T00:00:00+00:00\",\"2018-07-27T00:00:00+00:00\",\"2018-07-30T00:00:00+00:00\",\"2018-07-31T00:00:00+00:00\",\"2018-08-01T00:00:00+00:00\",\"2018-08-02T00:00:00+00:00\",\"2018-08-03T00:00:00+00:00\",\"2018-08-06T00:00:00+00:00\",\"2018-08-07T00:00:00+00:00\",\"2018-08-08T00:00:00+00:00\",\"2018-08-09T00:00:00+00:00\",\"2018-08-10T00:00:00+00:00\",\"2018-08-13T00:00:00+00:00\",\"2018-08-14T00:00:00+00:00\",\"2018-08-15T00:00:00+00:00\",\"2018-08-16T00:00:00+00:00\",\"2018-08-17T00:00:00+00:00\",\"2018-08-20T00:00:00+00:00\",\"2018-08-21T00:00:00+00:00\",\"2018-08-22T00:00:00+00:00\",\"2018-08-23T00:00:00+00:00\",\"2018-08-24T00:00:00+00:00\",\"2018-08-27T00:00:00+00:00\",\"2018-08-28T00:00:00+00:00\",\"2018-08-29T00:00:00+00:00\",\"2018-08-30T00:00:00+00:00\",\"2018-08-31T00:00:00+00:00\",\"2018-09-04T00:00:00+00:00\",\"2018-09-05T00:00:00+00:00\",\"2018-09-06T00:00:00+00:00\",\"2018-09-07T00:00:00+00:00\",\"2018-09-10T00:00:00+00:00\",\"2018-09-11T00:00:00+00:00\",\"2018-09-12T00:00:00+00:00\",\"2018-09-13T00:00:00+00:00\",\"2018-09-14T00:00:00+00:00\",\"2018-09-17T00:00:00+00:00\",\"2018-09-18T00:00:00+00:00\",\"2018-09-19T00:00:00+00:00\",\"2018-09-20T00:00:00+00:00\",\"2018-09-21T00:00:00+00:00\",\"2018-09-24T00:00:00+00:00\",\"2018-09-25T00:00:00+00:00\",\"2018-09-26T00:00:00+00:00\",\"2018-09-27T00:00:00+00:00\",\"2018-09-28T00:00:00+00:00\",\"2018-10-01T00:00:00+00:00\",\"2018-10-02T00:00:00+00:00\",\"2018-10-03T00:00:00+00:00\",\"2018-10-04T00:00:00+00:00\",\"2018-10-05T00:00:00+00:00\",\"2018-10-08T00:00:00+00:00\",\"2018-10-09T00:00:00+00:00\",\"2018-10-10T00:00:00+00:00\",\"2018-10-11T00:00:00+00:00\",\"2018-10-12T00:00:00+00:00\",\"2018-10-15T00:00:00+00:00\",\"2018-10-16T00:00:00+00:00\",\"2018-10-17T00:00:00+00:00\",\"2018-10-18T00:00:00+00:00\",\"2018-10-19T00:00:00+00:00\",\"2018-10-22T00:00:00+00:00\",\"2018-10-23T00:00:00+00:00\",\"2018-10-24T00:00:00+00:00\",\"2018-10-25T00:00:00+00:00\",\"2018-10-26T00:00:00+00:00\",\"2018-10-29T00:00:00+00:00\",\"2018-10-30T00:00:00+00:00\",\"2018-10-31T00:00:00+00:00\",\"2018-11-01T00:00:00+00:00\",\"2018-11-02T00:00:00+00:00\",\"2018-11-05T00:00:00+00:00\",\"2018-11-06T00:00:00+00:00\",\"2018-11-07T00:00:00+00:00\",\"2018-11-08T00:00:00+00:00\",\"2018-11-09T00:00:00+00:00\",\"2018-11-12T00:00:00+00:00\",\"2018-11-13T00:00:00+00:00\",\"2018-11-14T00:00:00+00:00\",\"2018-11-15T00:00:00+00:00\",\"2018-11-16T00:00:00+00:00\",\"2018-11-19T00:00:00+00:00\",\"2018-11-20T00:00:00+00:00\",\"2018-11-21T00:00:00+00:00\",\"2018-11-23T00:00:00+00:00\",\"2018-11-26T00:00:00+00:00\",\"2018-11-27T00:00:00+00:00\",\"2018-11-28T00:00:00+00:00\",\"2018-11-29T00:00:00+00:00\",\"2018-11-30T00:00:00+00:00\",\"2018-12-03T00:00:00+00:00\",\"2018-12-04T00:00:00+00:00\",\"2018-12-06T00:00:00+00:00\",\"2018-12-07T00:00:00+00:00\",\"2018-12-10T00:00:00+00:00\",\"2018-12-11T00:00:00+00:00\",\"2018-12-12T00:00:00+00:00\",\"2018-12-13T00:00:00+00:00\",\"2018-12-14T00:00:00+00:00\",\"2018-12-17T00:00:00+00:00\",\"2018-12-18T00:00:00+00:00\",\"2018-12-19T00:00:00+00:00\",\"2018-12-20T00:00:00+00:00\",\"2018-12-21T00:00:00+00:00\",\"2018-12-24T00:00:00+00:00\",\"2018-12-26T00:00:00+00:00\",\"2018-12-27T00:00:00+00:00\",\"2018-12-28T00:00:00+00:00\",\"2018-12-31T00:00:00+00:00\",\"2019-01-02T00:00:00+00:00\",\"2019-01-03T00:00:00+00:00\",\"2019-01-04T00:00:00+00:00\",\"2019-01-07T00:00:00+00:00\",\"2019-01-08T00:00:00+00:00\",\"2019-01-09T00:00:00+00:00\",\"2019-01-10T00:00:00+00:00\",\"2019-01-11T00:00:00+00:00\",\"2019-01-14T00:00:00+00:00\",\"2019-01-15T00:00:00+00:00\",\"2019-01-16T00:00:00+00:00\",\"2019-01-17T00:00:00+00:00\",\"2019-01-18T00:00:00+00:00\",\"2019-01-22T00:00:00+00:00\",\"2019-01-23T00:00:00+00:00\",\"2019-01-24T00:00:00+00:00\",\"2019-01-25T00:00:00+00:00\",\"2019-01-28T00:00:00+00:00\",\"2019-01-29T00:00:00+00:00\",\"2019-01-30T00:00:00+00:00\",\"2019-01-31T00:00:00+00:00\",\"2019-02-01T00:00:00+00:00\",\"2019-02-04T00:00:00+00:00\",\"2019-02-05T00:00:00+00:00\",\"2019-02-06T00:00:00+00:00\",\"2019-02-07T00:00:00+00:00\",\"2019-02-08T00:00:00+00:00\",\"2019-02-11T00:00:00+00:00\",\"2019-02-12T00:00:00+00:00\",\"2019-02-13T00:00:00+00:00\",\"2019-02-14T00:00:00+00:00\",\"2019-02-15T00:00:00+00:00\",\"2019-02-19T00:00:00+00:00\",\"2019-02-20T00:00:00+00:00\",\"2019-02-21T00:00:00+00:00\",\"2019-02-22T00:00:00+00:00\",\"2019-02-25T00:00:00+00:00\",\"2019-02-26T00:00:00+00:00\",\"2019-02-27T00:00:00+00:00\",\"2019-02-28T00:00:00+00:00\",\"2019-03-01T00:00:00+00:00\",\"2019-03-04T00:00:00+00:00\",\"2019-03-05T00:00:00+00:00\",\"2019-03-06T00:00:00+00:00\",\"2019-03-07T00:00:00+00:00\",\"2019-03-08T00:00:00+00:00\",\"2019-03-11T00:00:00+00:00\",\"2019-03-12T00:00:00+00:00\",\"2019-03-13T00:00:00+00:00\",\"2019-03-14T00:00:00+00:00\",\"2019-03-15T00:00:00+00:00\",\"2019-03-18T00:00:00+00:00\",\"2019-03-19T00:00:00+00:00\",\"2019-03-20T00:00:00+00:00\",\"2019-03-21T00:00:00+00:00\",\"2019-03-22T00:00:00+00:00\",\"2019-03-25T00:00:00+00:00\",\"2019-03-26T00:00:00+00:00\",\"2019-03-27T00:00:00+00:00\",\"2019-03-28T00:00:00+00:00\",\"2019-03-29T00:00:00+00:00\",\"2019-04-01T00:00:00+00:00\",\"2019-04-02T00:00:00+00:00\",\"2019-04-03T00:00:00+00:00\",\"2019-04-04T00:00:00+00:00\",\"2019-04-05T00:00:00+00:00\",\"2019-04-08T00:00:00+00:00\",\"2019-04-09T00:00:00+00:00\",\"2019-04-10T00:00:00+00:00\",\"2019-04-11T00:00:00+00:00\",\"2019-04-12T00:00:00+00:00\",\"2019-04-15T00:00:00+00:00\",\"2019-04-16T00:00:00+00:00\",\"2019-04-17T00:00:00+00:00\",\"2019-04-18T00:00:00+00:00\",\"2019-04-22T00:00:00+00:00\",\"2019-04-23T00:00:00+00:00\",\"2019-04-24T00:00:00+00:00\",\"2019-04-25T00:00:00+00:00\",\"2019-04-26T00:00:00+00:00\",\"2019-04-29T00:00:00+00:00\",\"2019-04-30T00:00:00+00:00\",\"2019-05-01T00:00:00+00:00\",\"2019-05-02T00:00:00+00:00\",\"2019-05-03T00:00:00+00:00\",\"2019-05-06T00:00:00+00:00\",\"2019-05-07T00:00:00+00:00\",\"2019-05-08T00:00:00+00:00\",\"2019-05-09T00:00:00+00:00\",\"2019-05-10T00:00:00+00:00\",\"2019-05-13T00:00:00+00:00\",\"2019-05-14T00:00:00+00:00\",\"2019-05-15T00:00:00+00:00\",\"2019-05-16T00:00:00+00:00\",\"2019-05-17T00:00:00+00:00\",\"2019-05-20T00:00:00+00:00\",\"2019-05-21T00:00:00+00:00\",\"2019-05-22T00:00:00+00:00\",\"2019-05-23T00:00:00+00:00\",\"2019-05-24T00:00:00+00:00\",\"2019-05-28T00:00:00+00:00\",\"2019-05-29T00:00:00+00:00\",\"2019-05-30T00:00:00+00:00\",\"2019-05-31T00:00:00+00:00\",\"2019-06-03T00:00:00+00:00\",\"2019-06-04T00:00:00+00:00\",\"2019-06-05T00:00:00+00:00\",\"2019-06-06T00:00:00+00:00\",\"2019-06-07T00:00:00+00:00\",\"2019-06-10T00:00:00+00:00\",\"2019-06-11T00:00:00+00:00\",\"2019-06-12T00:00:00+00:00\",\"2019-06-13T00:00:00+00:00\",\"2019-06-14T00:00:00+00:00\",\"2019-06-17T00:00:00+00:00\",\"2019-06-18T00:00:00+00:00\",\"2019-06-19T00:00:00+00:00\",\"2019-06-20T00:00:00+00:00\",\"2019-06-21T00:00:00+00:00\",\"2019-06-24T00:00:00+00:00\",\"2019-06-25T00:00:00+00:00\",\"2019-06-26T00:00:00+00:00\",\"2019-06-27T00:00:00+00:00\",\"2019-06-28T00:00:00+00:00\",\"2019-07-01T00:00:00+00:00\",\"2019-07-02T00:00:00+00:00\",\"2019-07-03T00:00:00+00:00\",\"2019-07-05T00:00:00+00:00\",\"2019-07-08T00:00:00+00:00\",\"2019-07-09T00:00:00+00:00\",\"2019-07-10T00:00:00+00:00\",\"2019-07-11T00:00:00+00:00\",\"2019-07-12T00:00:00+00:00\",\"2019-07-15T00:00:00+00:00\",\"2019-07-16T00:00:00+00:00\",\"2019-07-17T00:00:00+00:00\",\"2019-07-18T00:00:00+00:00\",\"2019-07-19T00:00:00+00:00\",\"2019-07-22T00:00:00+00:00\",\"2019-07-23T00:00:00+00:00\",\"2019-07-24T00:00:00+00:00\",\"2019-07-25T00:00:00+00:00\",\"2019-07-26T00:00:00+00:00\",\"2019-07-29T00:00:00+00:00\",\"2019-07-30T00:00:00+00:00\",\"2019-07-31T00:00:00+00:00\",\"2019-08-01T00:00:00+00:00\",\"2019-08-02T00:00:00+00:00\",\"2019-08-05T00:00:00+00:00\",\"2019-08-06T00:00:00+00:00\",\"2019-08-07T00:00:00+00:00\",\"2019-08-08T00:00:00+00:00\",\"2019-08-09T00:00:00+00:00\",\"2019-08-12T00:00:00+00:00\",\"2019-08-13T00:00:00+00:00\",\"2019-08-14T00:00:00+00:00\",\"2019-08-15T00:00:00+00:00\",\"2019-08-16T00:00:00+00:00\",\"2019-08-19T00:00:00+00:00\",\"2019-08-20T00:00:00+00:00\",\"2019-08-21T00:00:00+00:00\",\"2019-08-22T00:00:00+00:00\",\"2019-08-23T00:00:00+00:00\",\"2019-08-26T00:00:00+00:00\",\"2019-08-27T00:00:00+00:00\",\"2019-08-28T00:00:00+00:00\",\"2019-08-29T00:00:00+00:00\",\"2019-08-30T00:00:00+00:00\",\"2019-09-03T00:00:00+00:00\",\"2019-09-04T00:00:00+00:00\",\"2019-09-05T00:00:00+00:00\",\"2019-09-06T00:00:00+00:00\",\"2019-09-09T00:00:00+00:00\",\"2019-09-10T00:00:00+00:00\",\"2019-09-11T00:00:00+00:00\",\"2019-09-12T00:00:00+00:00\",\"2019-09-13T00:00:00+00:00\",\"2019-09-16T00:00:00+00:00\",\"2019-09-17T00:00:00+00:00\",\"2019-09-18T00:00:00+00:00\",\"2019-09-19T00:00:00+00:00\",\"2019-09-20T00:00:00+00:00\",\"2019-09-23T00:00:00+00:00\",\"2019-09-24T00:00:00+00:00\",\"2019-09-25T00:00:00+00:00\",\"2019-09-26T00:00:00+00:00\",\"2019-09-27T00:00:00+00:00\",\"2019-09-30T00:00:00+00:00\",\"2019-10-01T00:00:00+00:00\",\"2019-10-02T00:00:00+00:00\",\"2019-10-03T00:00:00+00:00\",\"2019-10-04T00:00:00+00:00\",\"2019-10-07T00:00:00+00:00\",\"2019-10-08T00:00:00+00:00\",\"2019-10-09T00:00:00+00:00\",\"2019-10-10T00:00:00+00:00\",\"2019-10-11T00:00:00+00:00\",\"2019-10-14T00:00:00+00:00\",\"2019-10-15T00:00:00+00:00\",\"2019-10-16T00:00:00+00:00\",\"2019-10-17T00:00:00+00:00\",\"2019-10-18T00:00:00+00:00\",\"2019-10-21T00:00:00+00:00\",\"2019-10-22T00:00:00+00:00\",\"2019-10-23T00:00:00+00:00\",\"2019-10-24T00:00:00+00:00\",\"2019-10-25T00:00:00+00:00\",\"2019-10-28T00:00:00+00:00\",\"2019-10-29T00:00:00+00:00\",\"2019-10-30T00:00:00+00:00\",\"2019-10-31T00:00:00+00:00\",\"2019-11-01T00:00:00+00:00\",\"2019-11-04T00:00:00+00:00\",\"2019-11-05T00:00:00+00:00\",\"2019-11-06T00:00:00+00:00\",\"2019-11-07T00:00:00+00:00\",\"2019-11-08T00:00:00+00:00\",\"2019-11-11T00:00:00+00:00\",\"2019-11-12T00:00:00+00:00\",\"2019-11-13T00:00:00+00:00\",\"2019-11-14T00:00:00+00:00\",\"2019-11-15T00:00:00+00:00\",\"2019-11-18T00:00:00+00:00\",\"2019-11-19T00:00:00+00:00\",\"2019-11-20T00:00:00+00:00\",\"2019-11-21T00:00:00+00:00\",\"2019-11-22T00:00:00+00:00\",\"2019-11-25T00:00:00+00:00\",\"2019-11-26T00:00:00+00:00\",\"2019-11-27T00:00:00+00:00\",\"2019-11-29T00:00:00+00:00\",\"2019-12-02T00:00:00+00:00\",\"2019-12-03T00:00:00+00:00\",\"2019-12-04T00:00:00+00:00\",\"2019-12-05T00:00:00+00:00\",\"2019-12-06T00:00:00+00:00\",\"2019-12-09T00:00:00+00:00\",\"2019-12-10T00:00:00+00:00\",\"2019-12-11T00:00:00+00:00\",\"2019-12-12T00:00:00+00:00\",\"2019-12-13T00:00:00+00:00\",\"2019-12-16T00:00:00+00:00\",\"2019-12-17T00:00:00+00:00\",\"2019-12-18T00:00:00+00:00\",\"2019-12-19T00:00:00+00:00\",\"2019-12-20T00:00:00+00:00\",\"2019-12-23T00:00:00+00:00\",\"2019-12-24T00:00:00+00:00\",\"2019-12-26T00:00:00+00:00\",\"2019-12-27T00:00:00+00:00\",\"2019-12-30T00:00:00+00:00\",\"2019-12-31T00:00:00+00:00\",\"2020-01-02T00:00:00+00:00\",\"2020-01-03T00:00:00+00:00\",\"2020-01-06T00:00:00+00:00\",\"2020-01-07T00:00:00+00:00\",\"2020-01-08T00:00:00+00:00\",\"2020-01-09T00:00:00+00:00\",\"2020-01-10T00:00:00+00:00\",\"2020-01-13T00:00:00+00:00\",\"2020-01-14T00:00:00+00:00\",\"2020-01-15T00:00:00+00:00\",\"2020-01-16T00:00:00+00:00\",\"2020-01-17T00:00:00+00:00\",\"2020-01-21T00:00:00+00:00\",\"2020-01-22T00:00:00+00:00\",\"2020-01-23T00:00:00+00:00\",\"2020-01-24T00:00:00+00:00\",\"2020-01-27T00:00:00+00:00\",\"2020-01-28T00:00:00+00:00\",\"2020-01-29T00:00:00+00:00\",\"2020-01-30T00:00:00+00:00\",\"2020-01-31T00:00:00+00:00\",\"2020-02-03T00:00:00+00:00\",\"2020-02-04T00:00:00+00:00\",\"2020-02-05T00:00:00+00:00\",\"2020-02-06T00:00:00+00:00\",\"2020-02-07T00:00:00+00:00\",\"2020-02-10T00:00:00+00:00\",\"2020-02-11T00:00:00+00:00\",\"2020-02-12T00:00:00+00:00\",\"2020-02-13T00:00:00+00:00\",\"2020-02-14T00:00:00+00:00\",\"2020-02-18T00:00:00+00:00\",\"2020-02-19T00:00:00+00:00\",\"2020-02-20T00:00:00+00:00\",\"2020-02-21T00:00:00+00:00\",\"2020-02-24T00:00:00+00:00\",\"2020-02-25T00:00:00+00:00\",\"2020-02-26T00:00:00+00:00\",\"2020-02-27T00:00:00+00:00\",\"2020-02-28T00:00:00+00:00\",\"2020-03-02T00:00:00+00:00\",\"2020-03-03T00:00:00+00:00\",\"2020-03-04T00:00:00+00:00\",\"2020-03-05T00:00:00+00:00\",\"2020-03-06T00:00:00+00:00\",\"2020-03-09T00:00:00+00:00\",\"2020-03-10T00:00:00+00:00\",\"2020-03-11T00:00:00+00:00\",\"2020-03-12T00:00:00+00:00\",\"2020-03-13T00:00:00+00:00\",\"2020-03-16T00:00:00+00:00\",\"2020-03-17T00:00:00+00:00\",\"2020-03-18T00:00:00+00:00\",\"2020-03-19T00:00:00+00:00\",\"2020-03-20T00:00:00+00:00\",\"2020-03-23T00:00:00+00:00\",\"2020-03-24T00:00:00+00:00\",\"2020-03-25T00:00:00+00:00\",\"2020-03-26T00:00:00+00:00\",\"2020-03-27T00:00:00+00:00\",\"2020-03-30T00:00:00+00:00\",\"2020-03-31T00:00:00+00:00\",\"2020-04-01T00:00:00+00:00\",\"2020-04-02T00:00:00+00:00\",\"2020-04-03T00:00:00+00:00\",\"2020-04-06T00:00:00+00:00\",\"2020-04-07T00:00:00+00:00\",\"2020-04-08T00:00:00+00:00\",\"2020-04-09T00:00:00+00:00\",\"2020-04-13T00:00:00+00:00\",\"2020-04-14T00:00:00+00:00\",\"2020-04-15T00:00:00+00:00\",\"2020-04-16T00:00:00+00:00\",\"2020-04-17T00:00:00+00:00\",\"2020-04-20T00:00:00+00:00\",\"2020-04-21T00:00:00+00:00\",\"2020-04-22T00:00:00+00:00\",\"2020-04-23T00:00:00+00:00\",\"2020-04-24T00:00:00+00:00\",\"2020-04-27T00:00:00+00:00\",\"2020-04-28T00:00:00+00:00\",\"2020-04-29T00:00:00+00:00\",\"2020-04-30T00:00:00+00:00\",\"2020-05-01T00:00:00+00:00\",\"2020-05-04T00:00:00+00:00\",\"2020-05-05T00:00:00+00:00\",\"2020-05-06T00:00:00+00:00\",\"2020-05-07T00:00:00+00:00\",\"2020-05-08T00:00:00+00:00\",\"2020-05-11T00:00:00+00:00\",\"2020-05-12T00:00:00+00:00\",\"2020-05-13T00:00:00+00:00\",\"2020-05-14T00:00:00+00:00\",\"2020-05-15T00:00:00+00:00\",\"2020-05-18T00:00:00+00:00\",\"2020-05-19T00:00:00+00:00\",\"2020-05-20T00:00:00+00:00\",\"2020-05-21T00:00:00+00:00\",\"2020-05-22T00:00:00+00:00\",\"2020-05-26T00:00:00+00:00\",\"2020-05-27T00:00:00+00:00\",\"2020-05-28T00:00:00+00:00\",\"2020-05-29T00:00:00+00:00\",\"2020-06-01T00:00:00+00:00\",\"2020-06-02T00:00:00+00:00\",\"2020-06-03T00:00:00+00:00\",\"2020-06-04T00:00:00+00:00\",\"2020-06-05T00:00:00+00:00\",\"2020-06-08T00:00:00+00:00\",\"2020-06-09T00:00:00+00:00\",\"2020-06-10T00:00:00+00:00\",\"2020-06-11T00:00:00+00:00\",\"2020-06-12T00:00:00+00:00\",\"2020-06-15T00:00:00+00:00\",\"2020-06-16T00:00:00+00:00\",\"2020-06-17T00:00:00+00:00\",\"2020-06-18T00:00:00+00:00\",\"2020-06-19T00:00:00+00:00\",\"2020-06-22T00:00:00+00:00\",\"2020-06-23T00:00:00+00:00\",\"2020-06-24T00:00:00+00:00\",\"2020-06-25T00:00:00+00:00\",\"2020-06-26T00:00:00+00:00\",\"2020-06-29T00:00:00+00:00\",\"2020-06-30T00:00:00+00:00\",\"2020-07-01T00:00:00+00:00\",\"2020-07-02T00:00:00+00:00\",\"2020-07-06T00:00:00+00:00\",\"2020-07-07T00:00:00+00:00\",\"2020-07-08T00:00:00+00:00\",\"2020-07-09T00:00:00+00:00\",\"2020-07-10T00:00:00+00:00\",\"2020-07-13T00:00:00+00:00\",\"2020-07-14T00:00:00+00:00\",\"2020-07-15T00:00:00+00:00\",\"2020-07-16T00:00:00+00:00\",\"2020-07-17T00:00:00+00:00\",\"2020-07-20T00:00:00+00:00\",\"2020-07-21T00:00:00+00:00\",\"2020-07-22T00:00:00+00:00\",\"2020-07-23T00:00:00+00:00\",\"2020-07-24T00:00:00+00:00\",\"2020-07-27T00:00:00+00:00\",\"2020-07-28T00:00:00+00:00\",\"2020-07-29T00:00:00+00:00\",\"2020-07-30T00:00:00+00:00\",\"2020-07-31T00:00:00+00:00\",\"2020-08-03T00:00:00+00:00\",\"2020-08-04T00:00:00+00:00\",\"2020-08-05T00:00:00+00:00\",\"2020-08-06T00:00:00+00:00\",\"2020-08-07T00:00:00+00:00\",\"2020-08-10T00:00:00+00:00\",\"2020-08-11T00:00:00+00:00\",\"2020-08-12T00:00:00+00:00\",\"2020-08-13T00:00:00+00:00\",\"2020-08-14T00:00:00+00:00\",\"2020-08-17T00:00:00+00:00\",\"2020-08-18T00:00:00+00:00\",\"2020-08-19T00:00:00+00:00\",\"2020-08-20T00:00:00+00:00\",\"2020-08-21T00:00:00+00:00\",\"2020-08-24T00:00:00+00:00\",\"2020-08-25T00:00:00+00:00\",\"2020-08-26T00:00:00+00:00\",\"2020-08-27T00:00:00+00:00\",\"2020-08-28T00:00:00+00:00\",\"2020-08-31T00:00:00+00:00\",\"2020-09-01T00:00:00+00:00\",\"2020-09-02T00:00:00+00:00\",\"2020-09-03T00:00:00+00:00\",\"2020-09-04T00:00:00+00:00\",\"2020-09-08T00:00:00+00:00\",\"2020-09-09T00:00:00+00:00\",\"2020-09-10T00:00:00+00:00\",\"2020-09-11T00:00:00+00:00\",\"2020-09-14T00:00:00+00:00\",\"2020-09-15T00:00:00+00:00\",\"2020-09-16T00:00:00+00:00\",\"2020-09-17T00:00:00+00:00\",\"2020-09-18T00:00:00+00:00\",\"2020-09-21T00:00:00+00:00\",\"2020-09-22T00:00:00+00:00\",\"2020-09-23T00:00:00+00:00\",\"2020-09-24T00:00:00+00:00\",\"2020-09-25T00:00:00+00:00\",\"2020-09-28T00:00:00+00:00\",\"2020-09-29T00:00:00+00:00\",\"2020-09-30T00:00:00+00:00\",\"2020-10-01T00:00:00+00:00\",\"2020-10-02T00:00:00+00:00\",\"2020-10-05T00:00:00+00:00\",\"2020-10-06T00:00:00+00:00\",\"2020-10-07T00:00:00+00:00\",\"2020-10-08T00:00:00+00:00\",\"2020-10-09T00:00:00+00:00\",\"2020-10-12T00:00:00+00:00\",\"2020-10-13T00:00:00+00:00\",\"2020-10-14T00:00:00+00:00\",\"2020-10-15T00:00:00+00:00\",\"2020-10-16T00:00:00+00:00\",\"2020-10-19T00:00:00+00:00\",\"2020-10-20T00:00:00+00:00\",\"2020-10-21T00:00:00+00:00\",\"2020-10-22T00:00:00+00:00\",\"2020-10-23T00:00:00+00:00\",\"2020-10-26T00:00:00+00:00\",\"2020-10-27T00:00:00+00:00\",\"2020-10-28T00:00:00+00:00\",\"2020-10-29T00:00:00+00:00\",\"2020-10-30T00:00:00+00:00\",\"2020-11-02T00:00:00+00:00\",\"2020-11-03T00:00:00+00:00\",\"2020-11-04T00:00:00+00:00\",\"2020-11-05T00:00:00+00:00\",\"2020-11-06T00:00:00+00:00\",\"2020-11-09T00:00:00+00:00\",\"2020-11-10T00:00:00+00:00\",\"2020-11-11T00:00:00+00:00\",\"2020-11-12T00:00:00+00:00\",\"2020-11-13T00:00:00+00:00\",\"2020-11-16T00:00:00+00:00\",\"2020-11-17T00:00:00+00:00\",\"2020-11-18T00:00:00+00:00\",\"2020-11-19T00:00:00+00:00\",\"2020-11-20T00:00:00+00:00\",\"2020-11-23T00:00:00+00:00\",\"2020-11-24T00:00:00+00:00\",\"2020-11-25T00:00:00+00:00\",\"2020-11-27T00:00:00+00:00\",\"2020-11-30T00:00:00+00:00\",\"2020-12-01T00:00:00+00:00\",\"2020-12-02T00:00:00+00:00\",\"2020-12-03T00:00:00+00:00\",\"2020-12-04T00:00:00+00:00\",\"2020-12-07T00:00:00+00:00\",\"2020-12-08T00:00:00+00:00\",\"2020-12-09T00:00:00+00:00\",\"2020-12-10T00:00:00+00:00\",\"2020-12-11T00:00:00+00:00\",\"2020-12-14T00:00:00+00:00\",\"2020-12-15T00:00:00+00:00\",\"2020-12-16T00:00:00+00:00\",\"2020-12-17T00:00:00+00:00\",\"2020-12-18T00:00:00+00:00\",\"2020-12-21T00:00:00+00:00\",\"2020-12-22T00:00:00+00:00\",\"2020-12-23T00:00:00+00:00\",\"2020-12-24T00:00:00+00:00\",\"2020-12-28T00:00:00+00:00\",\"2020-12-29T00:00:00+00:00\",\"2020-12-30T00:00:00+00:00\",\"2020-12-31T00:00:00+00:00\",\"2021-01-04T00:00:00+00:00\",\"2021-01-05T00:00:00+00:00\",\"2021-01-06T00:00:00+00:00\",\"2021-01-07T00:00:00+00:00\",\"2021-01-08T00:00:00+00:00\",\"2021-01-11T00:00:00+00:00\",\"2021-01-12T00:00:00+00:00\",\"2021-01-13T00:00:00+00:00\",\"2021-01-14T00:00:00+00:00\",\"2021-01-15T00:00:00+00:00\",\"2021-01-19T00:00:00+00:00\",\"2021-01-20T00:00:00+00:00\",\"2021-01-21T00:00:00+00:00\",\"2021-01-22T00:00:00+00:00\",\"2021-01-25T00:00:00+00:00\",\"2021-01-26T00:00:00+00:00\",\"2021-01-27T00:00:00+00:00\",\"2021-01-28T00:00:00+00:00\",\"2021-01-29T00:00:00+00:00\",\"2021-02-01T00:00:00+00:00\",\"2021-02-02T00:00:00+00:00\",\"2021-02-03T00:00:00+00:00\",\"2021-02-04T00:00:00+00:00\",\"2021-02-05T00:00:00+00:00\",\"2021-02-08T00:00:00+00:00\",\"2021-02-09T00:00:00+00:00\",\"2021-02-10T00:00:00+00:00\",\"2021-02-11T00:00:00+00:00\",\"2021-02-12T00:00:00+00:00\",\"2021-02-16T00:00:00+00:00\",\"2021-02-17T00:00:00+00:00\",\"2021-02-18T00:00:00+00:00\",\"2021-02-19T00:00:00+00:00\",\"2021-02-22T00:00:00+00:00\",\"2021-02-23T00:00:00+00:00\",\"2021-02-24T00:00:00+00:00\",\"2021-02-25T00:00:00+00:00\",\"2021-02-26T00:00:00+00:00\",\"2021-03-01T00:00:00+00:00\",\"2021-03-02T00:00:00+00:00\",\"2021-03-03T00:00:00+00:00\",\"2021-03-04T00:00:00+00:00\",\"2021-03-05T00:00:00+00:00\",\"2021-03-08T00:00:00+00:00\",\"2021-03-09T00:00:00+00:00\",\"2021-03-10T00:00:00+00:00\",\"2021-03-11T00:00:00+00:00\",\"2021-03-12T00:00:00+00:00\",\"2021-03-15T00:00:00+00:00\",\"2021-03-16T00:00:00+00:00\",\"2021-03-17T00:00:00+00:00\",\"2021-03-18T00:00:00+00:00\",\"2021-03-19T00:00:00+00:00\",\"2021-03-22T00:00:00+00:00\",\"2021-03-23T00:00:00+00:00\",\"2021-03-24T00:00:00+00:00\",\"2021-03-25T00:00:00+00:00\",\"2021-03-26T00:00:00+00:00\",\"2021-03-29T00:00:00+00:00\",\"2021-03-30T00:00:00+00:00\",\"2021-03-31T00:00:00+00:00\",\"2021-04-01T00:00:00+00:00\",\"2021-04-05T00:00:00+00:00\",\"2021-04-06T00:00:00+00:00\",\"2021-04-07T00:00:00+00:00\",\"2021-04-08T00:00:00+00:00\",\"2021-04-09T00:00:00+00:00\",\"2021-04-12T00:00:00+00:00\",\"2021-04-13T00:00:00+00:00\",\"2021-04-14T00:00:00+00:00\",\"2021-04-15T00:00:00+00:00\",\"2021-04-16T00:00:00+00:00\",\"2021-04-19T00:00:00+00:00\",\"2021-04-20T00:00:00+00:00\",\"2021-04-21T00:00:00+00:00\",\"2021-04-22T00:00:00+00:00\",\"2021-04-23T00:00:00+00:00\",\"2021-04-26T00:00:00+00:00\",\"2021-04-27T00:00:00+00:00\",\"2021-04-28T00:00:00+00:00\",\"2021-04-29T00:00:00+00:00\",\"2021-04-30T00:00:00+00:00\",\"2021-05-03T00:00:00+00:00\",\"2021-05-04T00:00:00+00:00\",\"2021-05-05T00:00:00+00:00\",\"2021-05-06T00:00:00+00:00\",\"2021-05-07T00:00:00+00:00\",\"2021-05-10T00:00:00+00:00\",\"2021-05-11T00:00:00+00:00\",\"2021-05-12T00:00:00+00:00\",\"2021-05-13T00:00:00+00:00\",\"2021-05-14T00:00:00+00:00\",\"2021-05-17T00:00:00+00:00\",\"2021-05-18T00:00:00+00:00\",\"2021-05-19T00:00:00+00:00\",\"2021-05-20T00:00:00+00:00\",\"2021-05-21T00:00:00+00:00\",\"2021-05-24T00:00:00+00:00\",\"2021-05-25T00:00:00+00:00\",\"2021-05-26T00:00:00+00:00\",\"2021-05-27T00:00:00+00:00\",\"2021-05-28T00:00:00+00:00\",\"2021-06-01T00:00:00+00:00\",\"2021-06-02T00:00:00+00:00\",\"2021-06-03T00:00:00+00:00\",\"2021-06-04T00:00:00+00:00\",\"2021-06-07T00:00:00+00:00\",\"2021-06-08T00:00:00+00:00\",\"2021-06-09T00:00:00+00:00\",\"2021-06-10T00:00:00+00:00\",\"2021-06-11T00:00:00+00:00\",\"2021-06-14T00:00:00+00:00\",\"2021-06-15T00:00:00+00:00\",\"2021-06-16T00:00:00+00:00\",\"2021-06-17T00:00:00+00:00\",\"2021-06-18T00:00:00+00:00\",\"2021-06-21T00:00:00+00:00\",\"2021-06-22T00:00:00+00:00\",\"2021-06-23T00:00:00+00:00\",\"2021-06-24T00:00:00+00:00\",\"2021-06-25T00:00:00+00:00\",\"2021-06-28T00:00:00+00:00\",\"2021-06-29T00:00:00+00:00\",\"2021-06-30T00:00:00+00:00\",\"2021-07-01T00:00:00+00:00\",\"2021-07-02T00:00:00+00:00\",\"2021-07-06T00:00:00+00:00\",\"2021-07-07T00:00:00+00:00\",\"2021-07-08T00:00:00+00:00\",\"2021-07-09T00:00:00+00:00\",\"2021-07-12T00:00:00+00:00\",\"2021-07-13T00:00:00+00:00\",\"2021-07-14T00:00:00+00:00\",\"2021-07-15T00:00:00+00:00\",\"2021-07-16T00:00:00+00:00\",\"2021-07-19T00:00:00+00:00\",\"2021-07-20T00:00:00+00:00\",\"2021-07-21T00:00:00+00:00\",\"2021-07-22T00:00:00+00:00\",\"2021-07-23T00:00:00+00:00\",\"2021-07-26T00:00:00+00:00\",\"2021-07-27T00:00:00+00:00\",\"2021-07-28T00:00:00+00:00\",\"2021-07-29T00:00:00+00:00\",\"2021-07-30T00:00:00+00:00\",\"2021-08-02T00:00:00+00:00\",\"2021-08-03T00:00:00+00:00\",\"2021-08-04T00:00:00+00:00\",\"2021-08-05T00:00:00+00:00\",\"2021-08-06T00:00:00+00:00\",\"2021-08-09T00:00:00+00:00\",\"2021-08-10T00:00:00+00:00\",\"2021-08-11T00:00:00+00:00\",\"2021-08-12T00:00:00+00:00\",\"2021-08-13T00:00:00+00:00\",\"2021-08-16T00:00:00+00:00\",\"2021-08-17T00:00:00+00:00\",\"2021-08-18T00:00:00+00:00\",\"2021-08-19T00:00:00+00:00\",\"2021-08-20T00:00:00+00:00\",\"2021-08-23T00:00:00+00:00\",\"2021-08-24T00:00:00+00:00\",\"2021-08-25T00:00:00+00:00\",\"2021-08-26T00:00:00+00:00\",\"2021-08-27T00:00:00+00:00\",\"2021-08-30T00:00:00+00:00\",\"2021-08-31T00:00:00+00:00\",\"2021-09-01T00:00:00+00:00\",\"2021-09-02T00:00:00+00:00\",\"2021-09-03T00:00:00+00:00\",\"2021-09-07T00:00:00+00:00\",\"2021-09-08T00:00:00+00:00\",\"2021-09-09T00:00:00+00:00\",\"2021-09-10T00:00:00+00:00\",\"2021-09-13T00:00:00+00:00\",\"2021-09-14T00:00:00+00:00\",\"2021-09-15T00:00:00+00:00\",\"2021-09-16T00:00:00+00:00\",\"2021-09-17T00:00:00+00:00\",\"2021-09-20T00:00:00+00:00\",\"2021-09-21T00:00:00+00:00\",\"2021-09-22T00:00:00+00:00\",\"2021-09-23T00:00:00+00:00\",\"2021-09-24T00:00:00+00:00\",\"2021-09-27T00:00:00+00:00\",\"2021-09-28T00:00:00+00:00\",\"2021-09-29T00:00:00+00:00\",\"2021-09-30T00:00:00+00:00\",\"2021-10-01T00:00:00+00:00\",\"2021-10-04T00:00:00+00:00\",\"2021-10-05T00:00:00+00:00\",\"2021-10-06T00:00:00+00:00\",\"2021-10-07T00:00:00+00:00\",\"2021-10-08T00:00:00+00:00\",\"2021-10-11T00:00:00+00:00\",\"2021-10-12T00:00:00+00:00\",\"2021-10-13T00:00:00+00:00\",\"2021-10-14T00:00:00+00:00\",\"2021-10-15T00:00:00+00:00\",\"2021-10-18T00:00:00+00:00\",\"2021-10-19T00:00:00+00:00\",\"2021-10-20T00:00:00+00:00\",\"2021-10-21T00:00:00+00:00\",\"2021-10-22T00:00:00+00:00\",\"2021-10-25T00:00:00+00:00\",\"2021-10-26T00:00:00+00:00\",\"2021-10-27T00:00:00+00:00\",\"2021-10-28T00:00:00+00:00\",\"2021-10-29T00:00:00+00:00\",\"2021-11-01T00:00:00+00:00\",\"2021-11-02T00:00:00+00:00\",\"2021-11-03T00:00:00+00:00\",\"2021-11-04T00:00:00+00:00\",\"2021-11-05T00:00:00+00:00\",\"2021-11-08T00:00:00+00:00\",\"2021-11-09T00:00:00+00:00\",\"2021-11-10T00:00:00+00:00\",\"2021-11-11T00:00:00+00:00\",\"2021-11-12T00:00:00+00:00\",\"2021-11-15T00:00:00+00:00\",\"2021-11-16T00:00:00+00:00\",\"2021-11-17T00:00:00+00:00\",\"2021-11-18T00:00:00+00:00\",\"2021-11-19T00:00:00+00:00\",\"2021-11-22T00:00:00+00:00\",\"2021-11-23T00:00:00+00:00\",\"2021-11-24T00:00:00+00:00\",\"2021-11-26T00:00:00+00:00\",\"2021-11-29T00:00:00+00:00\",\"2021-11-30T00:00:00+00:00\",\"2021-12-01T00:00:00+00:00\",\"2021-12-02T00:00:00+00:00\",\"2021-12-03T00:00:00+00:00\",\"2021-12-06T00:00:00+00:00\",\"2021-12-07T00:00:00+00:00\",\"2021-12-08T00:00:00+00:00\",\"2021-12-09T00:00:00+00:00\",\"2021-12-10T00:00:00+00:00\",\"2021-12-13T00:00:00+00:00\",\"2021-12-14T00:00:00+00:00\",\"2021-12-15T00:00:00+00:00\",\"2021-12-16T00:00:00+00:00\",\"2021-12-17T00:00:00+00:00\",\"2021-12-20T00:00:00+00:00\",\"2021-12-21T00:00:00+00:00\",\"2021-12-22T00:00:00+00:00\",\"2021-12-23T00:00:00+00:00\",\"2021-12-27T00:00:00+00:00\",\"2021-12-28T00:00:00+00:00\",\"2021-12-29T00:00:00+00:00\",\"2021-12-30T00:00:00+00:00\",\"2021-12-31T00:00:00+00:00\",\"2022-01-03T00:00:00+00:00\",\"2022-01-04T00:00:00+00:00\",\"2022-01-05T00:00:00+00:00\",\"2022-01-06T00:00:00+00:00\",\"2022-01-07T00:00:00+00:00\",\"2022-01-10T00:00:00+00:00\",\"2022-01-11T00:00:00+00:00\",\"2022-01-12T00:00:00+00:00\",\"2022-01-13T00:00:00+00:00\",\"2022-01-14T00:00:00+00:00\",\"2022-01-18T00:00:00+00:00\",\"2022-01-19T00:00:00+00:00\",\"2022-01-20T00:00:00+00:00\",\"2022-01-21T00:00:00+00:00\",\"2022-01-24T00:00:00+00:00\",\"2022-01-25T00:00:00+00:00\",\"2022-01-26T00:00:00+00:00\",\"2022-01-27T00:00:00+00:00\",\"2022-01-28T00:00:00+00:00\",\"2022-01-31T00:00:00+00:00\",\"2022-02-01T00:00:00+00:00\",\"2022-02-02T00:00:00+00:00\",\"2022-02-03T00:00:00+00:00\",\"2022-02-04T00:00:00+00:00\",\"2022-02-07T00:00:00+00:00\",\"2022-02-08T00:00:00+00:00\",\"2022-02-09T00:00:00+00:00\",\"2022-02-10T00:00:00+00:00\",\"2022-02-11T00:00:00+00:00\",\"2022-02-14T00:00:00+00:00\",\"2022-02-15T00:00:00+00:00\",\"2022-02-16T00:00:00+00:00\",\"2022-02-17T00:00:00+00:00\",\"2022-02-18T00:00:00+00:00\",\"2022-02-22T00:00:00+00:00\",\"2022-02-23T00:00:00+00:00\",\"2022-02-24T00:00:00+00:00\",\"2022-02-25T00:00:00+00:00\",\"2022-02-28T00:00:00+00:00\",\"2022-03-01T00:00:00+00:00\",\"2022-03-02T00:00:00+00:00\",\"2022-03-03T00:00:00+00:00\",\"2022-03-04T00:00:00+00:00\",\"2022-03-07T00:00:00+00:00\",\"2022-03-08T00:00:00+00:00\",\"2022-03-09T00:00:00+00:00\",\"2022-03-10T00:00:00+00:00\",\"2022-03-11T00:00:00+00:00\",\"2022-03-14T00:00:00+00:00\",\"2022-03-15T00:00:00+00:00\",\"2022-03-16T00:00:00+00:00\",\"2022-03-17T00:00:00+00:00\",\"2022-03-18T00:00:00+00:00\",\"2022-03-21T00:00:00+00:00\",\"2022-03-22T00:00:00+00:00\",\"2022-03-23T00:00:00+00:00\",\"2022-03-24T00:00:00+00:00\",\"2022-03-25T00:00:00+00:00\",\"2022-03-28T00:00:00+00:00\",\"2022-03-29T00:00:00+00:00\",\"2022-03-30T00:00:00+00:00\",\"2022-03-31T00:00:00+00:00\",\"2022-04-01T00:00:00+00:00\",\"2022-04-04T00:00:00+00:00\",\"2022-04-05T00:00:00+00:00\",\"2022-04-06T00:00:00+00:00\",\"2022-04-07T00:00:00+00:00\",\"2022-04-08T00:00:00+00:00\",\"2022-04-11T00:00:00+00:00\",\"2022-04-12T00:00:00+00:00\",\"2022-04-13T00:00:00+00:00\",\"2022-04-14T00:00:00+00:00\",\"2022-04-18T00:00:00+00:00\",\"2022-04-19T00:00:00+00:00\",\"2022-04-20T00:00:00+00:00\",\"2022-04-21T00:00:00+00:00\",\"2022-04-22T00:00:00+00:00\",\"2022-04-25T00:00:00+00:00\",\"2022-04-26T00:00:00+00:00\",\"2022-04-27T00:00:00+00:00\",\"2022-04-28T00:00:00+00:00\",\"2022-04-29T00:00:00+00:00\",\"2022-05-02T00:00:00+00:00\",\"2022-05-03T00:00:00+00:00\",\"2022-05-04T00:00:00+00:00\",\"2022-05-05T00:00:00+00:00\",\"2022-05-06T00:00:00+00:00\",\"2022-05-09T00:00:00+00:00\",\"2022-05-10T00:00:00+00:00\",\"2022-05-11T00:00:00+00:00\",\"2022-05-12T00:00:00+00:00\",\"2022-05-13T00:00:00+00:00\",\"2022-05-16T00:00:00+00:00\",\"2022-05-17T00:00:00+00:00\",\"2022-05-18T00:00:00+00:00\",\"2022-05-19T00:00:00+00:00\",\"2022-05-20T00:00:00+00:00\",\"2022-05-23T00:00:00+00:00\",\"2022-05-24T00:00:00+00:00\",\"2022-05-25T00:00:00+00:00\",\"2022-05-26T00:00:00+00:00\",\"2022-05-27T00:00:00+00:00\",\"2022-05-31T00:00:00+00:00\",\"2022-06-01T00:00:00+00:00\",\"2022-06-02T00:00:00+00:00\",\"2022-06-03T00:00:00+00:00\",\"2022-06-06T00:00:00+00:00\",\"2022-06-07T00:00:00+00:00\",\"2022-06-08T00:00:00+00:00\",\"2022-06-09T00:00:00+00:00\",\"2022-06-10T00:00:00+00:00\",\"2022-06-13T00:00:00+00:00\",\"2022-06-14T00:00:00+00:00\",\"2022-06-15T00:00:00+00:00\",\"2022-06-16T00:00:00+00:00\",\"2022-06-17T00:00:00+00:00\",\"2022-06-21T00:00:00+00:00\",\"2022-06-22T00:00:00+00:00\",\"2022-06-23T00:00:00+00:00\",\"2022-06-24T00:00:00+00:00\",\"2022-06-27T00:00:00+00:00\",\"2022-06-28T00:00:00+00:00\",\"2022-06-29T00:00:00+00:00\",\"2022-06-30T00:00:00+00:00\",\"2022-07-01T00:00:00+00:00\",\"2022-07-05T00:00:00+00:00\",\"2022-07-06T00:00:00+00:00\",\"2022-07-07T00:00:00+00:00\",\"2022-07-08T00:00:00+00:00\",\"2022-07-11T00:00:00+00:00\",\"2022-07-12T00:00:00+00:00\",\"2022-07-13T00:00:00+00:00\",\"2022-07-14T00:00:00+00:00\",\"2022-07-15T00:00:00+00:00\",\"2022-07-18T00:00:00+00:00\",\"2022-07-19T00:00:00+00:00\",\"2022-07-20T00:00:00+00:00\",\"2022-07-21T00:00:00+00:00\",\"2022-07-22T00:00:00+00:00\",\"2022-07-25T00:00:00+00:00\",\"2022-07-26T00:00:00+00:00\",\"2022-07-27T00:00:00+00:00\",\"2022-07-28T00:00:00+00:00\",\"2022-07-29T00:00:00+00:00\",\"2022-08-01T00:00:00+00:00\",\"2022-08-02T00:00:00+00:00\",\"2022-08-03T00:00:00+00:00\",\"2022-08-04T00:00:00+00:00\",\"2022-08-05T00:00:00+00:00\",\"2022-08-08T00:00:00+00:00\",\"2022-08-09T00:00:00+00:00\",\"2022-08-10T00:00:00+00:00\",\"2022-08-11T00:00:00+00:00\",\"2022-08-12T00:00:00+00:00\",\"2022-08-15T00:00:00+00:00\",\"2022-08-16T00:00:00+00:00\",\"2022-08-17T00:00:00+00:00\",\"2022-08-18T00:00:00+00:00\",\"2022-08-19T00:00:00+00:00\",\"2022-08-22T00:00:00+00:00\",\"2022-08-23T00:00:00+00:00\",\"2022-08-24T00:00:00+00:00\",\"2022-08-25T00:00:00+00:00\",\"2022-08-26T00:00:00+00:00\",\"2022-08-29T00:00:00+00:00\",\"2022-08-30T00:00:00+00:00\",\"2022-08-31T00:00:00+00:00\",\"2022-09-01T00:00:00+00:00\",\"2022-09-02T00:00:00+00:00\",\"2022-09-06T00:00:00+00:00\",\"2022-09-07T00:00:00+00:00\",\"2022-09-08T00:00:00+00:00\",\"2022-09-09T00:00:00+00:00\",\"2022-09-12T00:00:00+00:00\",\"2022-09-13T00:00:00+00:00\",\"2022-09-14T00:00:00+00:00\",\"2022-09-15T00:00:00+00:00\",\"2022-09-16T00:00:00+00:00\",\"2022-09-19T00:00:00+00:00\",\"2022-09-20T00:00:00+00:00\",\"2022-09-21T00:00:00+00:00\",\"2022-09-22T00:00:00+00:00\",\"2022-09-23T00:00:00+00:00\",\"2022-09-26T00:00:00+00:00\",\"2022-09-27T00:00:00+00:00\",\"2022-09-28T00:00:00+00:00\",\"2022-09-29T00:00:00+00:00\",\"2022-09-30T00:00:00+00:00\",\"2022-10-03T00:00:00+00:00\",\"2022-10-04T00:00:00+00:00\",\"2022-10-05T00:00:00+00:00\",\"2022-10-06T00:00:00+00:00\",\"2022-10-07T00:00:00+00:00\",\"2022-10-10T00:00:00+00:00\",\"2022-10-11T00:00:00+00:00\",\"2022-10-12T00:00:00+00:00\",\"2022-10-13T00:00:00+00:00\",\"2022-10-14T00:00:00+00:00\",\"2022-10-17T00:00:00+00:00\",\"2022-10-18T00:00:00+00:00\",\"2022-10-19T00:00:00+00:00\",\"2022-10-20T00:00:00+00:00\",\"2022-10-21T00:00:00+00:00\",\"2022-10-24T00:00:00+00:00\",\"2022-10-25T00:00:00+00:00\",\"2022-10-26T00:00:00+00:00\",\"2022-10-27T00:00:00+00:00\",\"2022-10-28T00:00:00+00:00\",\"2022-10-31T00:00:00+00:00\",\"2022-11-01T00:00:00+00:00\",\"2022-11-02T00:00:00+00:00\",\"2022-11-03T00:00:00+00:00\",\"2022-11-04T00:00:00+00:00\",\"2022-11-07T00:00:00+00:00\",\"2022-11-08T00:00:00+00:00\",\"2022-11-09T00:00:00+00:00\",\"2022-11-10T00:00:00+00:00\",\"2022-11-11T00:00:00+00:00\",\"2022-11-14T00:00:00+00:00\",\"2022-11-15T00:00:00+00:00\",\"2022-11-16T00:00:00+00:00\",\"2022-11-17T00:00:00+00:00\",\"2022-11-18T00:00:00+00:00\",\"2022-11-21T00:00:00+00:00\",\"2022-11-22T00:00:00+00:00\",\"2022-11-23T00:00:00+00:00\",\"2022-11-25T00:00:00+00:00\",\"2022-11-28T00:00:00+00:00\",\"2022-11-29T00:00:00+00:00\",\"2022-11-30T00:00:00+00:00\",\"2022-12-01T00:00:00+00:00\",\"2022-12-02T00:00:00+00:00\",\"2022-12-05T00:00:00+00:00\",\"2022-12-06T00:00:00+00:00\",\"2022-12-07T00:00:00+00:00\",\"2022-12-08T00:00:00+00:00\",\"2022-12-09T00:00:00+00:00\",\"2022-12-12T00:00:00+00:00\",\"2022-12-13T00:00:00+00:00\",\"2022-12-14T00:00:00+00:00\",\"2022-12-15T00:00:00+00:00\",\"2022-12-16T00:00:00+00:00\",\"2022-12-19T00:00:00+00:00\",\"2022-12-20T00:00:00+00:00\",\"2022-12-21T00:00:00+00:00\",\"2022-12-22T00:00:00+00:00\",\"2022-12-23T00:00:00+00:00\",\"2022-12-27T00:00:00+00:00\",\"2022-12-28T00:00:00+00:00\",\"2022-12-29T00:00:00+00:00\",\"2022-12-30T00:00:00+00:00\",\"2023-01-03T00:00:00+00:00\",\"2023-01-04T00:00:00+00:00\",\"2023-01-05T00:00:00+00:00\",\"2023-01-06T00:00:00+00:00\",\"2023-01-09T00:00:00+00:00\",\"2023-01-10T00:00:00+00:00\",\"2023-01-11T00:00:00+00:00\",\"2023-01-12T00:00:00+00:00\",\"2023-01-13T00:00:00+00:00\",\"2023-01-17T00:00:00+00:00\",\"2023-01-18T00:00:00+00:00\",\"2023-01-19T00:00:00+00:00\",\"2023-01-20T00:00:00+00:00\",\"2023-01-23T00:00:00+00:00\",\"2023-01-24T00:00:00+00:00\",\"2023-01-25T00:00:00+00:00\",\"2023-01-26T00:00:00+00:00\",\"2023-01-27T00:00:00+00:00\",\"2023-01-30T00:00:00+00:00\",\"2023-01-31T00:00:00+00:00\",\"2023-02-01T00:00:00+00:00\",\"2023-02-02T00:00:00+00:00\",\"2023-02-03T00:00:00+00:00\",\"2023-02-06T00:00:00+00:00\",\"2023-02-07T00:00:00+00:00\",\"2023-02-08T00:00:00+00:00\",\"2023-02-09T00:00:00+00:00\",\"2023-02-10T00:00:00+00:00\",\"2023-02-13T00:00:00+00:00\",\"2023-02-14T00:00:00+00:00\",\"2023-02-15T00:00:00+00:00\",\"2023-02-16T00:00:00+00:00\",\"2023-02-17T00:00:00+00:00\",\"2023-02-21T00:00:00+00:00\",\"2023-02-22T00:00:00+00:00\",\"2023-02-23T00:00:00+00:00\",\"2023-02-24T00:00:00+00:00\",\"2023-02-27T00:00:00+00:00\",\"2023-02-28T00:00:00+00:00\",\"2023-03-01T00:00:00+00:00\",\"2023-03-02T00:00:00+00:00\",\"2023-03-03T00:00:00+00:00\",\"2023-03-06T00:00:00+00:00\",\"2023-03-07T00:00:00+00:00\",\"2023-03-08T00:00:00+00:00\",\"2023-03-09T00:00:00+00:00\",\"2023-03-10T00:00:00+00:00\",\"2023-03-13T00:00:00+00:00\",\"2023-03-14T00:00:00+00:00\",\"2023-03-15T00:00:00+00:00\",\"2023-03-16T00:00:00+00:00\",\"2023-03-17T00:00:00+00:00\",\"2023-03-20T00:00:00+00:00\",\"2023-03-21T00:00:00+00:00\",\"2023-03-22T00:00:00+00:00\",\"2023-03-23T00:00:00+00:00\",\"2023-03-24T00:00:00+00:00\",\"2023-03-27T00:00:00+00:00\",\"2023-03-28T00:00:00+00:00\",\"2023-03-29T00:00:00+00:00\",\"2023-03-30T00:00:00+00:00\",\"2023-03-31T00:00:00+00:00\",\"2023-04-03T00:00:00+00:00\",\"2023-04-04T00:00:00+00:00\",\"2023-04-05T00:00:00+00:00\",\"2023-04-06T00:00:00+00:00\",\"2023-04-10T00:00:00+00:00\",\"2023-04-11T00:00:00+00:00\"],\"xaxis\":\"x\",\"y\":[111.559998,115.019997,110.940002,111.370003,110.529999,109.529999,112.300003,111.57,111.75,110.269997,109.970001,109.550003,109.75,108.449997,108.110001,107.589996,106.43,108.760002,109.529999,111.440002,113.190002,114.489998,114.110001,113.910004,112.889999,113.199997,112.75,112.050003,112.349998,112.510002,112.139999,110.459999,109.18,107.639999,107.949997,108.339996,108.989998,108.239998,108.660004,111.18,110.620003,111.120003,111.139999,110.459999,110.279999,107.800003,107.260002,106.900002,108.18,107.099998,108.160004,105.660004,104.709999,104.68,103.68,106.68,103.720001,105.410004,104.129997,103.120003,104.709999,108.019997,106.309998,107.419998,107.300003,107.050003,110.690002,110.419998,111.059998,110.0,111.059998,113.550003,113.879997,115.419998,115.18,116.279999,117.080002,115.75,114.57,116.0,116.790001,117.739998,117.330002,117.510002,115.5,115.559998,114.269997,113.82,114.349998,114.639999,114.589996,115.370003,115.309998,114.959999,114.980003,115.220001,117.0,116.349998,115.589996,114.830002,114.339996,115.0,114.5,114.5,114.849998,113.540001,114.25,113.370003,113.809998,113.790001,114.330002,114.440002,118.5,119.129997,117.760002,117.040001,116.75,115.419998,113.650002,113.370003,113.360001,114.940002,114.550003,115.830002,114.25,114.669998,114.699997,110.970001,110.370003,107.199997,107.160004,108.379997,109.019997,107.650002,108.150002,104.199997,104.760002,104.18,104.0,104.459999,105.709999,108.080002,109.620003,109.900002,108.610001,108.669998,110.370003,111.010002,112.230003,111.419998,109.099998,110.230003,108.239998,109.449997,109.959999,109.779999,109.029999,106.739998,107.720001,108.760002,109.800003,110.269997,109.849998,112.379997,111.599998,105.010002,105.160004,102.870003,103.129997,101.660004,101.550003,99.989998,99.769997,99.419998,98.410004,96.610001,96.68,92.889999,92.690002,94.82,97.949997,97.589996,95.949997,98.639999,99.110001,100.43,101.629997,100.809998,100.019997,99.889999,98.870003,98.889999,102.25,102.110001,103.769997,103.080002,103.440002,102.129997,103.510002,102.889999,103.879997,104.139999,103.410004,104.0,103.790001,104.519997,103.709999,103.25,102.080002,101.760002,101.949997,102.900002,102.470001,103.900002,104.910004,105.209999,105.449997,105.699997,105.75,104.5,105.18,105.010002,105.099998,104.919998,104.129997,103.860001,103.25,101.989998,103.980003,104.589996,104.190002,104.5,105.410004,106.550003,108.199997,106.43,103.489998,101.82,99.589996,99.82,99.879997,100.0,101.540001,102.150002,104.599998,105.809998,104.550003,105.800003,105.110001,105.080002,105.129997,105.709999,109.440002,110.919998,109.900002,111.699997,114.529999,112.830002,113.0,113.260002,113.010002,113.949997,114.599998,116.43,115.720001,115.169998,116.0,114.18,114.029999,112.660004,111.139999,111.75,110.080002,109.550003,109.209999,110.620003,110.0,110.580002,111.440002,111.400002,109.639999,109.519997,109.199997,107.449997,108.650002,105.559998,105.800003,107.849998,109.860001,110.150002,109.699997,110.75,110.82,110.699997,109.459999,109.57,109.699997,109.010002,110.82,110.879997,110.190002,109.279999,108.68,108.300003,108.839996,111.040001,113.230003,113.510002,113.339996,113.510002,112.959999,112.279999,113.370003,113.370003,114.129997,115.540001,113.480003,114.43,113.93,114.889999,112.910004,114.879997,115.580002,116.889999,115.769997,116.459999,115.190002,116.099998,115.330002,112.400002,110.790001,110.050003,108.0,109.050003,109.349998,108.440002,107.949997,106.300003,104.82,106.370003,109.629997,107.849998,108.209999,108.370003,108.0,106.620003,107.349998,105.080002,108.139999,109.839996,108.980003,109.449997,111.25,112.660004,113.709999,116.300003,116.889999,116.550003,119.0,118.900002,118.419998,118.32,119.699997,119.739998,117.779999,118.75,117.269997,117.879997,117.959999,118.360001,118.400002,114.809998,112.269997,112.339996,114.190002,113.059998,112.669998,113.139999,116.029999,115.849998,118.849998,119.959999,120.75,120.0,122.050003,123.449997,124.199997,125.290001,125.0,126.57,126.059998,126.050003,125.489998,126.199997,129.080002,129.389999,128.690002,130.429993,129.880005,129.600006,129.630005,128.130005,127.720001,129.229996,129.559998,130.990005,130.300003,130.0,130.149994,131.25,131.820007,132.289993,131.869995,132.309998,129.770004,130.380005,132.679993,134.690002,134.630005,133.25,134.289993,134.490005,137.949997,138.380005,137.729996,138.149994,137.759995,138.020004,137.600006,137.330002,137.889999,139.300003,139.899994,138.509995,139.789993,137.5,136.559998,137.279999,135.699997,138.050003,137.210007,136.190002,137.940002,137.850006,137.449997,137.539993,137.190002,137.240005,135.710007,136.369995,130.270004,132.839996,134.809998,132.690002,134.490005,132.660004,135.550003,136.570007,138.240005,136.729996,136.949997,138.259995,138.600006,137.75,137.839996,137.339996,136.910004,137.169998,136.550003,131.440002,131.0,126.93,122.910004,117.519997,116.629997,120.970001,118.330002,115.669998,106.260002,96.57,99.0,97.699997,89.589996,95.989998,85.199997,90.889999,87.669998,81.559998,86.300003,82.68,84.900002,89.239998,94.080002,93.190002,90.650002,92.050003,85.099998,83.510002,86.0,88.989998,94.449997,92.099998,96.919998,103.110001,101.019997,91.150002,90.230003,92.0,92.470001,88.620003,90.690002,89.739998,90.639999,91.940002,97.809998,99.080002,95.599998,93.5,92.019997,93.650002,92.160004,91.339996,92.800003,91.110001,90.150002,86.379997,82.720001,86.849998,88.690002,90.050003,90.709999,90.269997,90.010002,92.889999,102.07,102.940002,98.660004,97.75,100.279999,101.580002,103.82,114.93,113.410004,110.650002,110.459999,100.029999,100.709999,96.419998,105.370003,102.529999,98.669998,100.529999,97.25,98.970001,96.75,94.349998,95.110001,93.400002,92.830002,94.889999,94.739998,94.43,93.82,92.290001,93.519997,92.0,98.730003,98.370003,100.889999,98.779999,100.0,97.43,97.709999,99.650002,98.5,99.599998,97.510002,96.5,97.07,97.540001,96.480003,97.019997,95.910004,95.870003,97.580002,96.93,100.110001,103.860001,106.160004,102.0,101.5,101.5,99.910004,98.919998,97.260002,97.269997,98.449997,101.269997,99.940002,99.0,103.139999,102.120003,99.550003,99.949997,103.32,104.050003,102.980003,100.800003,101.400002,99.970001,101.510002,102.730003,99.43,98.699997,97.889999,95.199997,94.959999,94.779999,92.32,92.050003,95.059998,96.029999,95.349998,97.120003,95.25,98.32,100.07,98.959999,100.510002,102.0,101.099998,103.0,101.029999,99.099998,101.410004,101.599998,100.309998,100.360001,99.32,103.5,102.650002,100.510002,97.5,96.120003,97.910004,99.389999,103.019997,101.0,101.059998,105.029999,113.160004,117.349998,116.889999,112.529999,114.699997,117.790001,115.389999,117.339996,114.18,114.43,116.050003,120.07,121.370003,122.0,120.0,120.339996,119.699997,121.849998,122.480003,121.150002,121.040001,123.169998,119.989998,118.940002,121.339996,119.290001,120.300003,121.260002,119.139999,123.169998,123.389999,122.779999,125.089996,125.82,126.199997,125.489998,125.089996,127.5,124.989998,129.880005,135.690002,135.970001,134.580002,139.440002,138.589996,140.490005,137.429993,139.860001,137.820007,135.690002,132.690002,132.139999,132.75,129.589996,129.899994,131.190002,129.399994,131.940002,133.649994,135.470001,139.389999,138.199997,139.429993,140.0,139.660004,139.050003,143.550003,143.949997,144.0,145.860001,146.869995,151.509995,150.110001,154.270004,150.300003,149.520004,150.080002,151.229996,152.610001,153.220001,152.470001,151.5,151.910004,154.110001,156.860001,156.350006,154.089996,155.339996,157.600006,155.509995,152.800003,150.330002,150.0,150.0,154.300003,152.119995,154.460007,153.279999,151.899994,154.399994,152.789993,153.100006,154.0,155.809998,155.580002,154.75,151.470001,151.25,153.869995,153.419998,151.740005,147.789993,150.229996,147.179993,150.779999,150.5,152.429993,153.539993,154.100006,154.850006,152.869995,156.0,158.070007,157.220001,161.5,161.080002,159.610001,158.179993,162.389999,163.369995,164.679993,161.0,160.830002,161.339996,163.360001,163.850006,163.570007,163.949997,164.679993,165.869995,167.259995,165.410004,166.210007,167.0,164.490005,164.139999,164.360001,160.429993,160.149994,156.699997,154.729996,157.100006,149.300003,149.080002,150.600006,150.199997,151.919998,152.589996,153.699997,155.0,153.75,156.259995,155.949997,155.779999,152.009995,151.610001,153.050003,154.350006,156.050003,155.949997,153.899994,155.960007,148.550003,146.520004,152.050003,152.880005,151.479996,150.190002,150.399994,152.289993,153.139999,152.580002,152.029999,151.949997,151.25,152.279999,155.190002,157.520004,156.740005,160.0,161.880005,161.789993,158.940002,157.570007,156.309998,153.160004,154.350006,155.330002,157.0,158.509995,162.259995,161.75,163.210007,160.440002,160.220001,160.020004,160.389999,159.990005,158.889999,158.270004,160.559998,158.529999,160.449997,156.720001,159.410004,157.380005,153.889999,153.529999,155.199997,158.0,161.440002,165.0,167.699997,166.210007,166.919998,164.0,166.970001,167.210007,167.990005,171.199997,170.020004,170.800003,165.75,164.070007,161.75,165.350006,166.479996,167.399994,168.300003,170.759995,170.029999,172.710007,171.0,170.320007,168.300003,171.179993,172.039993,169.800003,170.130005,170.0,168.899994,169.050003,167.350006,167.449997,167.520004,167.649994,167.210007,167.059998,165.210007,164.389999,161.300003,164.160004,165.5,168.460007,162.139999,163.309998,159.160004,161.0,159.830002,161.5,161.009995,161.880005,162.660004,159.649994,161.320007,159.5,157.449997,159.850006,160.389999,159.320007,154.509995,155.410004,155.75,157.610001,157.600006,158.199997,158.850006,159.110001,158.449997,159.860001,164.309998,167.820007,166.910004,165.669998,169.070007,168.259995,168.460007,168.339996,160.759995,155.779999,151.570007,148.990005,147.5,142.279999,143.649994,148.720001,149.419998,144.190002,145.639999,148.690002,150.5,150.0,149.100006,153.270004,155.0,156.589996,156.660004,155.610001,152.729996,154.509995,153.740005,153.0,152.130005,150.600006,153.119995,142.940002,145.25,143.550003,140.039993,137.289993,139.839996,134.940002,132.169998,129.639999,132.899994,131.860001,132.490005,129.460007,131.800003,134.869995,136.860001,140.190002,140.350006,142.270004,140.979996,140.300003,141.089996,140.0,143.350006,141.899994,139.830002,137.399994,134.119995,134.070007,131.580002,130.949997,131.669998,133.0,132.139999,126.940002,126.5,125.669998,128.449997,132.520004,132.220001,130.279999,126.010002,124.639999,122.330002,122.809998,123.050003,119.879997,121.529999,122.800003,125.25,123.800003,122.110001,123.110001,119.300003,117.0,119.410004,118.540001,121.040001,121.300003,118.190002,119.459999,120.459999,124.360001,126.279999,128.369995,130.160004,130.179993,132.869995,129.899994,131.210007,131.089996,128.830002,129.0,127.370003,122.589996,116.860001,115.550003,115.620003,113.860001,113.540001,115.870003,114.879997,115.010002,113.230003,118.059998,117.669998,116.0,113.169998,112.650002,110.769997,111.730003,113.5,115.160004,113.550003,112.580002,111.75,107.989998,109.160004,114.769997,113.129997,114.099998,114.440002,115.239998,115.839996,114.580002,114.010002,115.25,115.589996,114.5,113.919998,113.449997,112.849998,112.529999,116.25,114.75,117.959999,119.900002,120.669998,121.139999,122.290001,122.300003,122.239998,120.620003,116.75,116.690002,115.290001,116.160004,119.459999,114.0,115.0,114.480003,113.290001,115.870003,114.330002,113.129997,115.279999,119.139999,120.620003,118.07,116.699997,116.120003,117.389999,116.0,117.410004,116.540001,113.379997,110.050003,108.0,107.75,105.949997,106.949997,106.059998,105.620003,110.610001,109.75,109.459999,107.519997,106.730003,104.370003,101.800003,101.980003,111.959999,115.410004,119.660004,117.989998,117.160004,116.459999,122.07,121.849998,123.0,125.199997,125.290001,125.699997,126.870003,127.650002,126.309998,129.490005,131.0,131.240005,131.320007,132.630005,135.190002,134.800003,134.679993,133.0,132.0,134.570007,133.740005,134.0,134.940002,136.479996,136.070007,134.660004,136.089996,138.179993,134.490005,134.240005,133.389999,131.309998,132.330002,132.199997,132.399994,136.889999,133.779999,131.149994,129.149994,129.649994,130.970001,132.179993,131.100006,130.580002,131.570007,131.850006,132.929993,132.809998,135.240005,135.990005,135.660004,136.130005,138.600006,137.789993,138.899994,140.0,135.600006,141.169998,138.919998,135.320007,135.160004,135.119995,136.419998,138.050003,139.419998,140.610001,139.229996,139.880005,138.210007,140.0,138.179993,140.229996,141.380005,142.649994,143.119995,139.779999,141.300003,142.5,141.610001,142.910004,140.979996,140.690002,138.919998,138.729996,139.110001,142.110001,142.940002,142.100006,142.240005,141.509995,143.440002,142.009995,138.0,136.759995,128.960007,131.210007,135.279999,130.979996,128.009995,128.380005,126.989998,130.589996,130.559998,127.900002,125.629997,126.790001,128.710007,130.100006,129.949997,129.660004,129.910004,130.5,126.800003,127.0,126.540001,128.300003],\"yaxis\":\"y\",\"type\":\"scattergl\"},{\"hovertemplate\":\"variable=close<br>Date=%{x}<br>Stock Value=%{y}<extra></extra>\",\"legendgroup\":\"close\",\"line\":{\"color\":\"#EF553B\",\"dash\":\"solid\"},\"marker\":{\"symbol\":\"circle\"},\"mode\":\"lines\",\"name\":\"Close Price\",\"showlegend\":true,\"x\":[\"2018-04-12T00:00:00+00:00\",\"2018-04-13T00:00:00+00:00\",\"2018-04-16T00:00:00+00:00\",\"2018-04-17T00:00:00+00:00\",\"2018-04-18T00:00:00+00:00\",\"2018-04-19T00:00:00+00:00\",\"2018-04-20T00:00:00+00:00\",\"2018-04-23T00:00:00+00:00\",\"2018-04-24T00:00:00+00:00\",\"2018-04-25T00:00:00+00:00\",\"2018-04-26T00:00:00+00:00\",\"2018-04-27T00:00:00+00:00\",\"2018-04-30T00:00:00+00:00\",\"2018-05-01T00:00:00+00:00\",\"2018-05-02T00:00:00+00:00\",\"2018-05-03T00:00:00+00:00\",\"2018-05-04T00:00:00+00:00\",\"2018-05-07T00:00:00+00:00\",\"2018-05-08T00:00:00+00:00\",\"2018-05-09T00:00:00+00:00\",\"2018-05-10T00:00:00+00:00\",\"2018-05-11T00:00:00+00:00\",\"2018-05-14T00:00:00+00:00\",\"2018-05-15T00:00:00+00:00\",\"2018-05-16T00:00:00+00:00\",\"2018-05-17T00:00:00+00:00\",\"2018-05-18T00:00:00+00:00\",\"2018-05-21T00:00:00+00:00\",\"2018-05-22T00:00:00+00:00\",\"2018-05-23T00:00:00+00:00\",\"2018-05-24T00:00:00+00:00\",\"2018-05-25T00:00:00+00:00\",\"2018-05-29T00:00:00+00:00\",\"2018-05-30T00:00:00+00:00\",\"2018-05-31T00:00:00+00:00\",\"2018-06-01T00:00:00+00:00\",\"2018-06-04T00:00:00+00:00\",\"2018-06-05T00:00:00+00:00\",\"2018-06-06T00:00:00+00:00\",\"2018-06-07T00:00:00+00:00\",\"2018-06-08T00:00:00+00:00\",\"2018-06-11T00:00:00+00:00\",\"2018-06-12T00:00:00+00:00\",\"2018-06-13T00:00:00+00:00\",\"2018-06-14T00:00:00+00:00\",\"2018-06-15T00:00:00+00:00\",\"2018-06-18T00:00:00+00:00\",\"2018-06-19T00:00:00+00:00\",\"2018-06-20T00:00:00+00:00\",\"2018-06-21T00:00:00+00:00\",\"2018-06-22T00:00:00+00:00\",\"2018-06-25T00:00:00+00:00\",\"2018-06-26T00:00:00+00:00\",\"2018-06-27T00:00:00+00:00\",\"2018-06-28T00:00:00+00:00\",\"2018-06-29T00:00:00+00:00\",\"2018-07-02T00:00:00+00:00\",\"2018-07-03T00:00:00+00:00\",\"2018-07-05T00:00:00+00:00\",\"2018-07-06T00:00:00+00:00\",\"2018-07-09T00:00:00+00:00\",\"2018-07-10T00:00:00+00:00\",\"2018-07-11T00:00:00+00:00\",\"2018-07-12T00:00:00+00:00\",\"2018-07-13T00:00:00+00:00\",\"2018-07-16T00:00:00+00:00\",\"2018-07-17T00:00:00+00:00\",\"2018-07-18T00:00:00+00:00\",\"2018-07-19T00:00:00+00:00\",\"2018-07-20T00:00:00+00:00\",\"2018-07-23T00:00:00+00:00\",\"2018-07-24T00:00:00+00:00\",\"2018-07-25T00:00:00+00:00\",\"2018-07-26T00:00:00+00:00\",\"2018-07-27T00:00:00+00:00\",\"2018-07-30T00:00:00+00:00\",\"2018-07-31T00:00:00+00:00\",\"2018-08-01T00:00:00+00:00\",\"2018-08-02T00:00:00+00:00\",\"2018-08-03T00:00:00+00:00\",\"2018-08-06T00:00:00+00:00\",\"2018-08-07T00:00:00+00:00\",\"2018-08-08T00:00:00+00:00\",\"2018-08-09T00:00:00+00:00\",\"2018-08-10T00:00:00+00:00\",\"2018-08-13T00:00:00+00:00\",\"2018-08-14T00:00:00+00:00\",\"2018-08-15T00:00:00+00:00\",\"2018-08-16T00:00:00+00:00\",\"2018-08-17T00:00:00+00:00\",\"2018-08-20T00:00:00+00:00\",\"2018-08-21T00:00:00+00:00\",\"2018-08-22T00:00:00+00:00\",\"2018-08-23T00:00:00+00:00\",\"2018-08-24T00:00:00+00:00\",\"2018-08-27T00:00:00+00:00\",\"2018-08-28T00:00:00+00:00\",\"2018-08-29T00:00:00+00:00\",\"2018-08-30T00:00:00+00:00\",\"2018-08-31T00:00:00+00:00\",\"2018-09-04T00:00:00+00:00\",\"2018-09-05T00:00:00+00:00\",\"2018-09-06T00:00:00+00:00\",\"2018-09-07T00:00:00+00:00\",\"2018-09-10T00:00:00+00:00\",\"2018-09-11T00:00:00+00:00\",\"2018-09-12T00:00:00+00:00\",\"2018-09-13T00:00:00+00:00\",\"2018-09-14T00:00:00+00:00\",\"2018-09-17T00:00:00+00:00\",\"2018-09-18T00:00:00+00:00\",\"2018-09-19T00:00:00+00:00\",\"2018-09-20T00:00:00+00:00\",\"2018-09-21T00:00:00+00:00\",\"2018-09-24T00:00:00+00:00\",\"2018-09-25T00:00:00+00:00\",\"2018-09-26T00:00:00+00:00\",\"2018-09-27T00:00:00+00:00\",\"2018-09-28T00:00:00+00:00\",\"2018-10-01T00:00:00+00:00\",\"2018-10-02T00:00:00+00:00\",\"2018-10-03T00:00:00+00:00\",\"2018-10-04T00:00:00+00:00\",\"2018-10-05T00:00:00+00:00\",\"2018-10-08T00:00:00+00:00\",\"2018-10-09T00:00:00+00:00\",\"2018-10-10T00:00:00+00:00\",\"2018-10-11T00:00:00+00:00\",\"2018-10-12T00:00:00+00:00\",\"2018-10-15T00:00:00+00:00\",\"2018-10-16T00:00:00+00:00\",\"2018-10-17T00:00:00+00:00\",\"2018-10-18T00:00:00+00:00\",\"2018-10-19T00:00:00+00:00\",\"2018-10-22T00:00:00+00:00\",\"2018-10-23T00:00:00+00:00\",\"2018-10-24T00:00:00+00:00\",\"2018-10-25T00:00:00+00:00\",\"2018-10-26T00:00:00+00:00\",\"2018-10-29T00:00:00+00:00\",\"2018-10-30T00:00:00+00:00\",\"2018-10-31T00:00:00+00:00\",\"2018-11-01T00:00:00+00:00\",\"2018-11-02T00:00:00+00:00\",\"2018-11-05T00:00:00+00:00\",\"2018-11-06T00:00:00+00:00\",\"2018-11-07T00:00:00+00:00\",\"2018-11-08T00:00:00+00:00\",\"2018-11-09T00:00:00+00:00\",\"2018-11-12T00:00:00+00:00\",\"2018-11-13T00:00:00+00:00\",\"2018-11-14T00:00:00+00:00\",\"2018-11-15T00:00:00+00:00\",\"2018-11-16T00:00:00+00:00\",\"2018-11-19T00:00:00+00:00\",\"2018-11-20T00:00:00+00:00\",\"2018-11-21T00:00:00+00:00\",\"2018-11-23T00:00:00+00:00\",\"2018-11-26T00:00:00+00:00\",\"2018-11-27T00:00:00+00:00\",\"2018-11-28T00:00:00+00:00\",\"2018-11-29T00:00:00+00:00\",\"2018-11-30T00:00:00+00:00\",\"2018-12-03T00:00:00+00:00\",\"2018-12-04T00:00:00+00:00\",\"2018-12-06T00:00:00+00:00\",\"2018-12-07T00:00:00+00:00\",\"2018-12-10T00:00:00+00:00\",\"2018-12-11T00:00:00+00:00\",\"2018-12-12T00:00:00+00:00\",\"2018-12-13T00:00:00+00:00\",\"2018-12-14T00:00:00+00:00\",\"2018-12-17T00:00:00+00:00\",\"2018-12-18T00:00:00+00:00\",\"2018-12-19T00:00:00+00:00\",\"2018-12-20T00:00:00+00:00\",\"2018-12-21T00:00:00+00:00\",\"2018-12-24T00:00:00+00:00\",\"2018-12-26T00:00:00+00:00\",\"2018-12-27T00:00:00+00:00\",\"2018-12-28T00:00:00+00:00\",\"2018-12-31T00:00:00+00:00\",\"2019-01-02T00:00:00+00:00\",\"2019-01-03T00:00:00+00:00\",\"2019-01-04T00:00:00+00:00\",\"2019-01-07T00:00:00+00:00\",\"2019-01-08T00:00:00+00:00\",\"2019-01-09T00:00:00+00:00\",\"2019-01-10T00:00:00+00:00\",\"2019-01-11T00:00:00+00:00\",\"2019-01-14T00:00:00+00:00\",\"2019-01-15T00:00:00+00:00\",\"2019-01-16T00:00:00+00:00\",\"2019-01-17T00:00:00+00:00\",\"2019-01-18T00:00:00+00:00\",\"2019-01-22T00:00:00+00:00\",\"2019-01-23T00:00:00+00:00\",\"2019-01-24T00:00:00+00:00\",\"2019-01-25T00:00:00+00:00\",\"2019-01-28T00:00:00+00:00\",\"2019-01-29T00:00:00+00:00\",\"2019-01-30T00:00:00+00:00\",\"2019-01-31T00:00:00+00:00\",\"2019-02-01T00:00:00+00:00\",\"2019-02-04T00:00:00+00:00\",\"2019-02-05T00:00:00+00:00\",\"2019-02-06T00:00:00+00:00\",\"2019-02-07T00:00:00+00:00\",\"2019-02-08T00:00:00+00:00\",\"2019-02-11T00:00:00+00:00\",\"2019-02-12T00:00:00+00:00\",\"2019-02-13T00:00:00+00:00\",\"2019-02-14T00:00:00+00:00\",\"2019-02-15T00:00:00+00:00\",\"2019-02-19T00:00:00+00:00\",\"2019-02-20T00:00:00+00:00\",\"2019-02-21T00:00:00+00:00\",\"2019-02-22T00:00:00+00:00\",\"2019-02-25T00:00:00+00:00\",\"2019-02-26T00:00:00+00:00\",\"2019-02-27T00:00:00+00:00\",\"2019-02-28T00:00:00+00:00\",\"2019-03-01T00:00:00+00:00\",\"2019-03-04T00:00:00+00:00\",\"2019-03-05T00:00:00+00:00\",\"2019-03-06T00:00:00+00:00\",\"2019-03-07T00:00:00+00:00\",\"2019-03-08T00:00:00+00:00\",\"2019-03-11T00:00:00+00:00\",\"2019-03-12T00:00:00+00:00\",\"2019-03-13T00:00:00+00:00\",\"2019-03-14T00:00:00+00:00\",\"2019-03-15T00:00:00+00:00\",\"2019-03-18T00:00:00+00:00\",\"2019-03-19T00:00:00+00:00\",\"2019-03-20T00:00:00+00:00\",\"2019-03-21T00:00:00+00:00\",\"2019-03-22T00:00:00+00:00\",\"2019-03-25T00:00:00+00:00\",\"2019-03-26T00:00:00+00:00\",\"2019-03-27T00:00:00+00:00\",\"2019-03-28T00:00:00+00:00\",\"2019-03-29T00:00:00+00:00\",\"2019-04-01T00:00:00+00:00\",\"2019-04-02T00:00:00+00:00\",\"2019-04-03T00:00:00+00:00\",\"2019-04-04T00:00:00+00:00\",\"2019-04-05T00:00:00+00:00\",\"2019-04-08T00:00:00+00:00\",\"2019-04-09T00:00:00+00:00\",\"2019-04-10T00:00:00+00:00\",\"2019-04-11T00:00:00+00:00\",\"2019-04-12T00:00:00+00:00\",\"2019-04-15T00:00:00+00:00\",\"2019-04-16T00:00:00+00:00\",\"2019-04-17T00:00:00+00:00\",\"2019-04-18T00:00:00+00:00\",\"2019-04-22T00:00:00+00:00\",\"2019-04-23T00:00:00+00:00\",\"2019-04-24T00:00:00+00:00\",\"2019-04-25T00:00:00+00:00\",\"2019-04-26T00:00:00+00:00\",\"2019-04-29T00:00:00+00:00\",\"2019-04-30T00:00:00+00:00\",\"2019-05-01T00:00:00+00:00\",\"2019-05-02T00:00:00+00:00\",\"2019-05-03T00:00:00+00:00\",\"2019-05-06T00:00:00+00:00\",\"2019-05-07T00:00:00+00:00\",\"2019-05-08T00:00:00+00:00\",\"2019-05-09T00:00:00+00:00\",\"2019-05-10T00:00:00+00:00\",\"2019-05-13T00:00:00+00:00\",\"2019-05-14T00:00:00+00:00\",\"2019-05-15T00:00:00+00:00\",\"2019-05-16T00:00:00+00:00\",\"2019-05-17T00:00:00+00:00\",\"2019-05-20T00:00:00+00:00\",\"2019-05-21T00:00:00+00:00\",\"2019-05-22T00:00:00+00:00\",\"2019-05-23T00:00:00+00:00\",\"2019-05-24T00:00:00+00:00\",\"2019-05-28T00:00:00+00:00\",\"2019-05-29T00:00:00+00:00\",\"2019-05-30T00:00:00+00:00\",\"2019-05-31T00:00:00+00:00\",\"2019-06-03T00:00:00+00:00\",\"2019-06-04T00:00:00+00:00\",\"2019-06-05T00:00:00+00:00\",\"2019-06-06T00:00:00+00:00\",\"2019-06-07T00:00:00+00:00\",\"2019-06-10T00:00:00+00:00\",\"2019-06-11T00:00:00+00:00\",\"2019-06-12T00:00:00+00:00\",\"2019-06-13T00:00:00+00:00\",\"2019-06-14T00:00:00+00:00\",\"2019-06-17T00:00:00+00:00\",\"2019-06-18T00:00:00+00:00\",\"2019-06-19T00:00:00+00:00\",\"2019-06-20T00:00:00+00:00\",\"2019-06-21T00:00:00+00:00\",\"2019-06-24T00:00:00+00:00\",\"2019-06-25T00:00:00+00:00\",\"2019-06-26T00:00:00+00:00\",\"2019-06-27T00:00:00+00:00\",\"2019-06-28T00:00:00+00:00\",\"2019-07-01T00:00:00+00:00\",\"2019-07-02T00:00:00+00:00\",\"2019-07-03T00:00:00+00:00\",\"2019-07-05T00:00:00+00:00\",\"2019-07-08T00:00:00+00:00\",\"2019-07-09T00:00:00+00:00\",\"2019-07-10T00:00:00+00:00\",\"2019-07-11T00:00:00+00:00\",\"2019-07-12T00:00:00+00:00\",\"2019-07-15T00:00:00+00:00\",\"2019-07-16T00:00:00+00:00\",\"2019-07-17T00:00:00+00:00\",\"2019-07-18T00:00:00+00:00\",\"2019-07-19T00:00:00+00:00\",\"2019-07-22T00:00:00+00:00\",\"2019-07-23T00:00:00+00:00\",\"2019-07-24T00:00:00+00:00\",\"2019-07-25T00:00:00+00:00\",\"2019-07-26T00:00:00+00:00\",\"2019-07-29T00:00:00+00:00\",\"2019-07-30T00:00:00+00:00\",\"2019-07-31T00:00:00+00:00\",\"2019-08-01T00:00:00+00:00\",\"2019-08-02T00:00:00+00:00\",\"2019-08-05T00:00:00+00:00\",\"2019-08-06T00:00:00+00:00\",\"2019-08-07T00:00:00+00:00\",\"2019-08-08T00:00:00+00:00\",\"2019-08-09T00:00:00+00:00\",\"2019-08-12T00:00:00+00:00\",\"2019-08-13T00:00:00+00:00\",\"2019-08-14T00:00:00+00:00\",\"2019-08-15T00:00:00+00:00\",\"2019-08-16T00:00:00+00:00\",\"2019-08-19T00:00:00+00:00\",\"2019-08-20T00:00:00+00:00\",\"2019-08-21T00:00:00+00:00\",\"2019-08-22T00:00:00+00:00\",\"2019-08-23T00:00:00+00:00\",\"2019-08-26T00:00:00+00:00\",\"2019-08-27T00:00:00+00:00\",\"2019-08-28T00:00:00+00:00\",\"2019-08-29T00:00:00+00:00\",\"2019-08-30T00:00:00+00:00\",\"2019-09-03T00:00:00+00:00\",\"2019-09-04T00:00:00+00:00\",\"2019-09-05T00:00:00+00:00\",\"2019-09-06T00:00:00+00:00\",\"2019-09-09T00:00:00+00:00\",\"2019-09-10T00:00:00+00:00\",\"2019-09-11T00:00:00+00:00\",\"2019-09-12T00:00:00+00:00\",\"2019-09-13T00:00:00+00:00\",\"2019-09-16T00:00:00+00:00\",\"2019-09-17T00:00:00+00:00\",\"2019-09-18T00:00:00+00:00\",\"2019-09-19T00:00:00+00:00\",\"2019-09-20T00:00:00+00:00\",\"2019-09-23T00:00:00+00:00\",\"2019-09-24T00:00:00+00:00\",\"2019-09-25T00:00:00+00:00\",\"2019-09-26T00:00:00+00:00\",\"2019-09-27T00:00:00+00:00\",\"2019-09-30T00:00:00+00:00\",\"2019-10-01T00:00:00+00:00\",\"2019-10-02T00:00:00+00:00\",\"2019-10-03T00:00:00+00:00\",\"2019-10-04T00:00:00+00:00\",\"2019-10-07T00:00:00+00:00\",\"2019-10-08T00:00:00+00:00\",\"2019-10-09T00:00:00+00:00\",\"2019-10-10T00:00:00+00:00\",\"2019-10-11T00:00:00+00:00\",\"2019-10-14T00:00:00+00:00\",\"2019-10-15T00:00:00+00:00\",\"2019-10-16T00:00:00+00:00\",\"2019-10-17T00:00:00+00:00\",\"2019-10-18T00:00:00+00:00\",\"2019-10-21T00:00:00+00:00\",\"2019-10-22T00:00:00+00:00\",\"2019-10-23T00:00:00+00:00\",\"2019-10-24T00:00:00+00:00\",\"2019-10-25T00:00:00+00:00\",\"2019-10-28T00:00:00+00:00\",\"2019-10-29T00:00:00+00:00\",\"2019-10-30T00:00:00+00:00\",\"2019-10-31T00:00:00+00:00\",\"2019-11-01T00:00:00+00:00\",\"2019-11-04T00:00:00+00:00\",\"2019-11-05T00:00:00+00:00\",\"2019-11-06T00:00:00+00:00\",\"2019-11-07T00:00:00+00:00\",\"2019-11-08T00:00:00+00:00\",\"2019-11-11T00:00:00+00:00\",\"2019-11-12T00:00:00+00:00\",\"2019-11-13T00:00:00+00:00\",\"2019-11-14T00:00:00+00:00\",\"2019-11-15T00:00:00+00:00\",\"2019-11-18T00:00:00+00:00\",\"2019-11-19T00:00:00+00:00\",\"2019-11-20T00:00:00+00:00\",\"2019-11-21T00:00:00+00:00\",\"2019-11-22T00:00:00+00:00\",\"2019-11-25T00:00:00+00:00\",\"2019-11-26T00:00:00+00:00\",\"2019-11-27T00:00:00+00:00\",\"2019-11-29T00:00:00+00:00\",\"2019-12-02T00:00:00+00:00\",\"2019-12-03T00:00:00+00:00\",\"2019-12-04T00:00:00+00:00\",\"2019-12-05T00:00:00+00:00\",\"2019-12-06T00:00:00+00:00\",\"2019-12-09T00:00:00+00:00\",\"2019-12-10T00:00:00+00:00\",\"2019-12-11T00:00:00+00:00\",\"2019-12-12T00:00:00+00:00\",\"2019-12-13T00:00:00+00:00\",\"2019-12-16T00:00:00+00:00\",\"2019-12-17T00:00:00+00:00\",\"2019-12-18T00:00:00+00:00\",\"2019-12-19T00:00:00+00:00\",\"2019-12-20T00:00:00+00:00\",\"2019-12-23T00:00:00+00:00\",\"2019-12-24T00:00:00+00:00\",\"2019-12-26T00:00:00+00:00\",\"2019-12-27T00:00:00+00:00\",\"2019-12-30T00:00:00+00:00\",\"2019-12-31T00:00:00+00:00\",\"2020-01-02T00:00:00+00:00\",\"2020-01-03T00:00:00+00:00\",\"2020-01-06T00:00:00+00:00\",\"2020-01-07T00:00:00+00:00\",\"2020-01-08T00:00:00+00:00\",\"2020-01-09T00:00:00+00:00\",\"2020-01-10T00:00:00+00:00\",\"2020-01-13T00:00:00+00:00\",\"2020-01-14T00:00:00+00:00\",\"2020-01-15T00:00:00+00:00\",\"2020-01-16T00:00:00+00:00\",\"2020-01-17T00:00:00+00:00\",\"2020-01-21T00:00:00+00:00\",\"2020-01-22T00:00:00+00:00\",\"2020-01-23T00:00:00+00:00\",\"2020-01-24T00:00:00+00:00\",\"2020-01-27T00:00:00+00:00\",\"2020-01-28T00:00:00+00:00\",\"2020-01-29T00:00:00+00:00\",\"2020-01-30T00:00:00+00:00\",\"2020-01-31T00:00:00+00:00\",\"2020-02-03T00:00:00+00:00\",\"2020-02-04T00:00:00+00:00\",\"2020-02-05T00:00:00+00:00\",\"2020-02-06T00:00:00+00:00\",\"2020-02-07T00:00:00+00:00\",\"2020-02-10T00:00:00+00:00\",\"2020-02-11T00:00:00+00:00\",\"2020-02-12T00:00:00+00:00\",\"2020-02-13T00:00:00+00:00\",\"2020-02-14T00:00:00+00:00\",\"2020-02-18T00:00:00+00:00\",\"2020-02-19T00:00:00+00:00\",\"2020-02-20T00:00:00+00:00\",\"2020-02-21T00:00:00+00:00\",\"2020-02-24T00:00:00+00:00\",\"2020-02-25T00:00:00+00:00\",\"2020-02-26T00:00:00+00:00\",\"2020-02-27T00:00:00+00:00\",\"2020-02-28T00:00:00+00:00\",\"2020-03-02T00:00:00+00:00\",\"2020-03-03T00:00:00+00:00\",\"2020-03-04T00:00:00+00:00\",\"2020-03-05T00:00:00+00:00\",\"2020-03-06T00:00:00+00:00\",\"2020-03-09T00:00:00+00:00\",\"2020-03-10T00:00:00+00:00\",\"2020-03-11T00:00:00+00:00\",\"2020-03-12T00:00:00+00:00\",\"2020-03-13T00:00:00+00:00\",\"2020-03-16T00:00:00+00:00\",\"2020-03-17T00:00:00+00:00\",\"2020-03-18T00:00:00+00:00\",\"2020-03-19T00:00:00+00:00\",\"2020-03-20T00:00:00+00:00\",\"2020-03-23T00:00:00+00:00\",\"2020-03-24T00:00:00+00:00\",\"2020-03-25T00:00:00+00:00\",\"2020-03-26T00:00:00+00:00\",\"2020-03-27T00:00:00+00:00\",\"2020-03-30T00:00:00+00:00\",\"2020-03-31T00:00:00+00:00\",\"2020-04-01T00:00:00+00:00\",\"2020-04-02T00:00:00+00:00\",\"2020-04-03T00:00:00+00:00\",\"2020-04-06T00:00:00+00:00\",\"2020-04-07T00:00:00+00:00\",\"2020-04-08T00:00:00+00:00\",\"2020-04-09T00:00:00+00:00\",\"2020-04-13T00:00:00+00:00\",\"2020-04-14T00:00:00+00:00\",\"2020-04-15T00:00:00+00:00\",\"2020-04-16T00:00:00+00:00\",\"2020-04-17T00:00:00+00:00\",\"2020-04-20T00:00:00+00:00\",\"2020-04-21T00:00:00+00:00\",\"2020-04-22T00:00:00+00:00\",\"2020-04-23T00:00:00+00:00\",\"2020-04-24T00:00:00+00:00\",\"2020-04-27T00:00:00+00:00\",\"2020-04-28T00:00:00+00:00\",\"2020-04-29T00:00:00+00:00\",\"2020-04-30T00:00:00+00:00\",\"2020-05-01T00:00:00+00:00\",\"2020-05-04T00:00:00+00:00\",\"2020-05-05T00:00:00+00:00\",\"2020-05-06T00:00:00+00:00\",\"2020-05-07T00:00:00+00:00\",\"2020-05-08T00:00:00+00:00\",\"2020-05-11T00:00:00+00:00\",\"2020-05-12T00:00:00+00:00\",\"2020-05-13T00:00:00+00:00\",\"2020-05-14T00:00:00+00:00\",\"2020-05-15T00:00:00+00:00\",\"2020-05-18T00:00:00+00:00\",\"2020-05-19T00:00:00+00:00\",\"2020-05-20T00:00:00+00:00\",\"2020-05-21T00:00:00+00:00\",\"2020-05-22T00:00:00+00:00\",\"2020-05-26T00:00:00+00:00\",\"2020-05-27T00:00:00+00:00\",\"2020-05-28T00:00:00+00:00\",\"2020-05-29T00:00:00+00:00\",\"2020-06-01T00:00:00+00:00\",\"2020-06-02T00:00:00+00:00\",\"2020-06-03T00:00:00+00:00\",\"2020-06-04T00:00:00+00:00\",\"2020-06-05T00:00:00+00:00\",\"2020-06-08T00:00:00+00:00\",\"2020-06-09T00:00:00+00:00\",\"2020-06-10T00:00:00+00:00\",\"2020-06-11T00:00:00+00:00\",\"2020-06-12T00:00:00+00:00\",\"2020-06-15T00:00:00+00:00\",\"2020-06-16T00:00:00+00:00\",\"2020-06-17T00:00:00+00:00\",\"2020-06-18T00:00:00+00:00\",\"2020-06-19T00:00:00+00:00\",\"2020-06-22T00:00:00+00:00\",\"2020-06-23T00:00:00+00:00\",\"2020-06-24T00:00:00+00:00\",\"2020-06-25T00:00:00+00:00\",\"2020-06-26T00:00:00+00:00\",\"2020-06-29T00:00:00+00:00\",\"2020-06-30T00:00:00+00:00\",\"2020-07-01T00:00:00+00:00\",\"2020-07-02T00:00:00+00:00\",\"2020-07-06T00:00:00+00:00\",\"2020-07-07T00:00:00+00:00\",\"2020-07-08T00:00:00+00:00\",\"2020-07-09T00:00:00+00:00\",\"2020-07-10T00:00:00+00:00\",\"2020-07-13T00:00:00+00:00\",\"2020-07-14T00:00:00+00:00\",\"2020-07-15T00:00:00+00:00\",\"2020-07-16T00:00:00+00:00\",\"2020-07-17T00:00:00+00:00\",\"2020-07-20T00:00:00+00:00\",\"2020-07-21T00:00:00+00:00\",\"2020-07-22T00:00:00+00:00\",\"2020-07-23T00:00:00+00:00\",\"2020-07-24T00:00:00+00:00\",\"2020-07-27T00:00:00+00:00\",\"2020-07-28T00:00:00+00:00\",\"2020-07-29T00:00:00+00:00\",\"2020-07-30T00:00:00+00:00\",\"2020-07-31T00:00:00+00:00\",\"2020-08-03T00:00:00+00:00\",\"2020-08-04T00:00:00+00:00\",\"2020-08-05T00:00:00+00:00\",\"2020-08-06T00:00:00+00:00\",\"2020-08-07T00:00:00+00:00\",\"2020-08-10T00:00:00+00:00\",\"2020-08-11T00:00:00+00:00\",\"2020-08-12T00:00:00+00:00\",\"2020-08-13T00:00:00+00:00\",\"2020-08-14T00:00:00+00:00\",\"2020-08-17T00:00:00+00:00\",\"2020-08-18T00:00:00+00:00\",\"2020-08-19T00:00:00+00:00\",\"2020-08-20T00:00:00+00:00\",\"2020-08-21T00:00:00+00:00\",\"2020-08-24T00:00:00+00:00\",\"2020-08-25T00:00:00+00:00\",\"2020-08-26T00:00:00+00:00\",\"2020-08-27T00:00:00+00:00\",\"2020-08-28T00:00:00+00:00\",\"2020-08-31T00:00:00+00:00\",\"2020-09-01T00:00:00+00:00\",\"2020-09-02T00:00:00+00:00\",\"2020-09-03T00:00:00+00:00\",\"2020-09-04T00:00:00+00:00\",\"2020-09-08T00:00:00+00:00\",\"2020-09-09T00:00:00+00:00\",\"2020-09-10T00:00:00+00:00\",\"2020-09-11T00:00:00+00:00\",\"2020-09-14T00:00:00+00:00\",\"2020-09-15T00:00:00+00:00\",\"2020-09-16T00:00:00+00:00\",\"2020-09-17T00:00:00+00:00\",\"2020-09-18T00:00:00+00:00\",\"2020-09-21T00:00:00+00:00\",\"2020-09-22T00:00:00+00:00\",\"2020-09-23T00:00:00+00:00\",\"2020-09-24T00:00:00+00:00\",\"2020-09-25T00:00:00+00:00\",\"2020-09-28T00:00:00+00:00\",\"2020-09-29T00:00:00+00:00\",\"2020-09-30T00:00:00+00:00\",\"2020-10-01T00:00:00+00:00\",\"2020-10-02T00:00:00+00:00\",\"2020-10-05T00:00:00+00:00\",\"2020-10-06T00:00:00+00:00\",\"2020-10-07T00:00:00+00:00\",\"2020-10-08T00:00:00+00:00\",\"2020-10-09T00:00:00+00:00\",\"2020-10-12T00:00:00+00:00\",\"2020-10-13T00:00:00+00:00\",\"2020-10-14T00:00:00+00:00\",\"2020-10-15T00:00:00+00:00\",\"2020-10-16T00:00:00+00:00\",\"2020-10-19T00:00:00+00:00\",\"2020-10-20T00:00:00+00:00\",\"2020-10-21T00:00:00+00:00\",\"2020-10-22T00:00:00+00:00\",\"2020-10-23T00:00:00+00:00\",\"2020-10-26T00:00:00+00:00\",\"2020-10-27T00:00:00+00:00\",\"2020-10-28T00:00:00+00:00\",\"2020-10-29T00:00:00+00:00\",\"2020-10-30T00:00:00+00:00\",\"2020-11-02T00:00:00+00:00\",\"2020-11-03T00:00:00+00:00\",\"2020-11-04T00:00:00+00:00\",\"2020-11-05T00:00:00+00:00\",\"2020-11-06T00:00:00+00:00\",\"2020-11-09T00:00:00+00:00\",\"2020-11-10T00:00:00+00:00\",\"2020-11-11T00:00:00+00:00\",\"2020-11-12T00:00:00+00:00\",\"2020-11-13T00:00:00+00:00\",\"2020-11-16T00:00:00+00:00\",\"2020-11-17T00:00:00+00:00\",\"2020-11-18T00:00:00+00:00\",\"2020-11-19T00:00:00+00:00\",\"2020-11-20T00:00:00+00:00\",\"2020-11-23T00:00:00+00:00\",\"2020-11-24T00:00:00+00:00\",\"2020-11-25T00:00:00+00:00\",\"2020-11-27T00:00:00+00:00\",\"2020-11-30T00:00:00+00:00\",\"2020-12-01T00:00:00+00:00\",\"2020-12-02T00:00:00+00:00\",\"2020-12-03T00:00:00+00:00\",\"2020-12-04T00:00:00+00:00\",\"2020-12-07T00:00:00+00:00\",\"2020-12-08T00:00:00+00:00\",\"2020-12-09T00:00:00+00:00\",\"2020-12-10T00:00:00+00:00\",\"2020-12-11T00:00:00+00:00\",\"2020-12-14T00:00:00+00:00\",\"2020-12-15T00:00:00+00:00\",\"2020-12-16T00:00:00+00:00\",\"2020-12-17T00:00:00+00:00\",\"2020-12-18T00:00:00+00:00\",\"2020-12-21T00:00:00+00:00\",\"2020-12-22T00:00:00+00:00\",\"2020-12-23T00:00:00+00:00\",\"2020-12-24T00:00:00+00:00\",\"2020-12-28T00:00:00+00:00\",\"2020-12-29T00:00:00+00:00\",\"2020-12-30T00:00:00+00:00\",\"2020-12-31T00:00:00+00:00\",\"2021-01-04T00:00:00+00:00\",\"2021-01-05T00:00:00+00:00\",\"2021-01-06T00:00:00+00:00\",\"2021-01-07T00:00:00+00:00\",\"2021-01-08T00:00:00+00:00\",\"2021-01-11T00:00:00+00:00\",\"2021-01-12T00:00:00+00:00\",\"2021-01-13T00:00:00+00:00\",\"2021-01-14T00:00:00+00:00\",\"2021-01-15T00:00:00+00:00\",\"2021-01-19T00:00:00+00:00\",\"2021-01-20T00:00:00+00:00\",\"2021-01-21T00:00:00+00:00\",\"2021-01-22T00:00:00+00:00\",\"2021-01-25T00:00:00+00:00\",\"2021-01-26T00:00:00+00:00\",\"2021-01-27T00:00:00+00:00\",\"2021-01-28T00:00:00+00:00\",\"2021-01-29T00:00:00+00:00\",\"2021-02-01T00:00:00+00:00\",\"2021-02-02T00:00:00+00:00\",\"2021-02-03T00:00:00+00:00\",\"2021-02-04T00:00:00+00:00\",\"2021-02-05T00:00:00+00:00\",\"2021-02-08T00:00:00+00:00\",\"2021-02-09T00:00:00+00:00\",\"2021-02-10T00:00:00+00:00\",\"2021-02-11T00:00:00+00:00\",\"2021-02-12T00:00:00+00:00\",\"2021-02-16T00:00:00+00:00\",\"2021-02-17T00:00:00+00:00\",\"2021-02-18T00:00:00+00:00\",\"2021-02-19T00:00:00+00:00\",\"2021-02-22T00:00:00+00:00\",\"2021-02-23T00:00:00+00:00\",\"2021-02-24T00:00:00+00:00\",\"2021-02-25T00:00:00+00:00\",\"2021-02-26T00:00:00+00:00\",\"2021-03-01T00:00:00+00:00\",\"2021-03-02T00:00:00+00:00\",\"2021-03-03T00:00:00+00:00\",\"2021-03-04T00:00:00+00:00\",\"2021-03-05T00:00:00+00:00\",\"2021-03-08T00:00:00+00:00\",\"2021-03-09T00:00:00+00:00\",\"2021-03-10T00:00:00+00:00\",\"2021-03-11T00:00:00+00:00\",\"2021-03-12T00:00:00+00:00\",\"2021-03-15T00:00:00+00:00\",\"2021-03-16T00:00:00+00:00\",\"2021-03-17T00:00:00+00:00\",\"2021-03-18T00:00:00+00:00\",\"2021-03-19T00:00:00+00:00\",\"2021-03-22T00:00:00+00:00\",\"2021-03-23T00:00:00+00:00\",\"2021-03-24T00:00:00+00:00\",\"2021-03-25T00:00:00+00:00\",\"2021-03-26T00:00:00+00:00\",\"2021-03-29T00:00:00+00:00\",\"2021-03-30T00:00:00+00:00\",\"2021-03-31T00:00:00+00:00\",\"2021-04-01T00:00:00+00:00\",\"2021-04-05T00:00:00+00:00\",\"2021-04-06T00:00:00+00:00\",\"2021-04-07T00:00:00+00:00\",\"2021-04-08T00:00:00+00:00\",\"2021-04-09T00:00:00+00:00\",\"2021-04-12T00:00:00+00:00\",\"2021-04-13T00:00:00+00:00\",\"2021-04-14T00:00:00+00:00\",\"2021-04-15T00:00:00+00:00\",\"2021-04-16T00:00:00+00:00\",\"2021-04-19T00:00:00+00:00\",\"2021-04-20T00:00:00+00:00\",\"2021-04-21T00:00:00+00:00\",\"2021-04-22T00:00:00+00:00\",\"2021-04-23T00:00:00+00:00\",\"2021-04-26T00:00:00+00:00\",\"2021-04-27T00:00:00+00:00\",\"2021-04-28T00:00:00+00:00\",\"2021-04-29T00:00:00+00:00\",\"2021-04-30T00:00:00+00:00\",\"2021-05-03T00:00:00+00:00\",\"2021-05-04T00:00:00+00:00\",\"2021-05-05T00:00:00+00:00\",\"2021-05-06T00:00:00+00:00\",\"2021-05-07T00:00:00+00:00\",\"2021-05-10T00:00:00+00:00\",\"2021-05-11T00:00:00+00:00\",\"2021-05-12T00:00:00+00:00\",\"2021-05-13T00:00:00+00:00\",\"2021-05-14T00:00:00+00:00\",\"2021-05-17T00:00:00+00:00\",\"2021-05-18T00:00:00+00:00\",\"2021-05-19T00:00:00+00:00\",\"2021-05-20T00:00:00+00:00\",\"2021-05-21T00:00:00+00:00\",\"2021-05-24T00:00:00+00:00\",\"2021-05-25T00:00:00+00:00\",\"2021-05-26T00:00:00+00:00\",\"2021-05-27T00:00:00+00:00\",\"2021-05-28T00:00:00+00:00\",\"2021-06-01T00:00:00+00:00\",\"2021-06-02T00:00:00+00:00\",\"2021-06-03T00:00:00+00:00\",\"2021-06-04T00:00:00+00:00\",\"2021-06-07T00:00:00+00:00\",\"2021-06-08T00:00:00+00:00\",\"2021-06-09T00:00:00+00:00\",\"2021-06-10T00:00:00+00:00\",\"2021-06-11T00:00:00+00:00\",\"2021-06-14T00:00:00+00:00\",\"2021-06-15T00:00:00+00:00\",\"2021-06-16T00:00:00+00:00\",\"2021-06-17T00:00:00+00:00\",\"2021-06-18T00:00:00+00:00\",\"2021-06-21T00:00:00+00:00\",\"2021-06-22T00:00:00+00:00\",\"2021-06-23T00:00:00+00:00\",\"2021-06-24T00:00:00+00:00\",\"2021-06-25T00:00:00+00:00\",\"2021-06-28T00:00:00+00:00\",\"2021-06-29T00:00:00+00:00\",\"2021-06-30T00:00:00+00:00\",\"2021-07-01T00:00:00+00:00\",\"2021-07-02T00:00:00+00:00\",\"2021-07-06T00:00:00+00:00\",\"2021-07-07T00:00:00+00:00\",\"2021-07-08T00:00:00+00:00\",\"2021-07-09T00:00:00+00:00\",\"2021-07-12T00:00:00+00:00\",\"2021-07-13T00:00:00+00:00\",\"2021-07-14T00:00:00+00:00\",\"2021-07-15T00:00:00+00:00\",\"2021-07-16T00:00:00+00:00\",\"2021-07-19T00:00:00+00:00\",\"2021-07-20T00:00:00+00:00\",\"2021-07-21T00:00:00+00:00\",\"2021-07-22T00:00:00+00:00\",\"2021-07-23T00:00:00+00:00\",\"2021-07-26T00:00:00+00:00\",\"2021-07-27T00:00:00+00:00\",\"2021-07-28T00:00:00+00:00\",\"2021-07-29T00:00:00+00:00\",\"2021-07-30T00:00:00+00:00\",\"2021-08-02T00:00:00+00:00\",\"2021-08-03T00:00:00+00:00\",\"2021-08-04T00:00:00+00:00\",\"2021-08-05T00:00:00+00:00\",\"2021-08-06T00:00:00+00:00\",\"2021-08-09T00:00:00+00:00\",\"2021-08-10T00:00:00+00:00\",\"2021-08-11T00:00:00+00:00\",\"2021-08-12T00:00:00+00:00\",\"2021-08-13T00:00:00+00:00\",\"2021-08-16T00:00:00+00:00\",\"2021-08-17T00:00:00+00:00\",\"2021-08-18T00:00:00+00:00\",\"2021-08-19T00:00:00+00:00\",\"2021-08-20T00:00:00+00:00\",\"2021-08-23T00:00:00+00:00\",\"2021-08-24T00:00:00+00:00\",\"2021-08-25T00:00:00+00:00\",\"2021-08-26T00:00:00+00:00\",\"2021-08-27T00:00:00+00:00\",\"2021-08-30T00:00:00+00:00\",\"2021-08-31T00:00:00+00:00\",\"2021-09-01T00:00:00+00:00\",\"2021-09-02T00:00:00+00:00\",\"2021-09-03T00:00:00+00:00\",\"2021-09-07T00:00:00+00:00\",\"2021-09-08T00:00:00+00:00\",\"2021-09-09T00:00:00+00:00\",\"2021-09-10T00:00:00+00:00\",\"2021-09-13T00:00:00+00:00\",\"2021-09-14T00:00:00+00:00\",\"2021-09-15T00:00:00+00:00\",\"2021-09-16T00:00:00+00:00\",\"2021-09-17T00:00:00+00:00\",\"2021-09-20T00:00:00+00:00\",\"2021-09-21T00:00:00+00:00\",\"2021-09-22T00:00:00+00:00\",\"2021-09-23T00:00:00+00:00\",\"2021-09-24T00:00:00+00:00\",\"2021-09-27T00:00:00+00:00\",\"2021-09-28T00:00:00+00:00\",\"2021-09-29T00:00:00+00:00\",\"2021-09-30T00:00:00+00:00\",\"2021-10-01T00:00:00+00:00\",\"2021-10-04T00:00:00+00:00\",\"2021-10-05T00:00:00+00:00\",\"2021-10-06T00:00:00+00:00\",\"2021-10-07T00:00:00+00:00\",\"2021-10-08T00:00:00+00:00\",\"2021-10-11T00:00:00+00:00\",\"2021-10-12T00:00:00+00:00\",\"2021-10-13T00:00:00+00:00\",\"2021-10-14T00:00:00+00:00\",\"2021-10-15T00:00:00+00:00\",\"2021-10-18T00:00:00+00:00\",\"2021-10-19T00:00:00+00:00\",\"2021-10-20T00:00:00+00:00\",\"2021-10-21T00:00:00+00:00\",\"2021-10-22T00:00:00+00:00\",\"2021-10-25T00:00:00+00:00\",\"2021-10-26T00:00:00+00:00\",\"2021-10-27T00:00:00+00:00\",\"2021-10-28T00:00:00+00:00\",\"2021-10-29T00:00:00+00:00\",\"2021-11-01T00:00:00+00:00\",\"2021-11-02T00:00:00+00:00\",\"2021-11-03T00:00:00+00:00\",\"2021-11-04T00:00:00+00:00\",\"2021-11-05T00:00:00+00:00\",\"2021-11-08T00:00:00+00:00\",\"2021-11-09T00:00:00+00:00\",\"2021-11-10T00:00:00+00:00\",\"2021-11-11T00:00:00+00:00\",\"2021-11-12T00:00:00+00:00\",\"2021-11-15T00:00:00+00:00\",\"2021-11-16T00:00:00+00:00\",\"2021-11-17T00:00:00+00:00\",\"2021-11-18T00:00:00+00:00\",\"2021-11-19T00:00:00+00:00\",\"2021-11-22T00:00:00+00:00\",\"2021-11-23T00:00:00+00:00\",\"2021-11-24T00:00:00+00:00\",\"2021-11-26T00:00:00+00:00\",\"2021-11-29T00:00:00+00:00\",\"2021-11-30T00:00:00+00:00\",\"2021-12-01T00:00:00+00:00\",\"2021-12-02T00:00:00+00:00\",\"2021-12-03T00:00:00+00:00\",\"2021-12-06T00:00:00+00:00\",\"2021-12-07T00:00:00+00:00\",\"2021-12-08T00:00:00+00:00\",\"2021-12-09T00:00:00+00:00\",\"2021-12-10T00:00:00+00:00\",\"2021-12-13T00:00:00+00:00\",\"2021-12-14T00:00:00+00:00\",\"2021-12-15T00:00:00+00:00\",\"2021-12-16T00:00:00+00:00\",\"2021-12-17T00:00:00+00:00\",\"2021-12-20T00:00:00+00:00\",\"2021-12-21T00:00:00+00:00\",\"2021-12-22T00:00:00+00:00\",\"2021-12-23T00:00:00+00:00\",\"2021-12-27T00:00:00+00:00\",\"2021-12-28T00:00:00+00:00\",\"2021-12-29T00:00:00+00:00\",\"2021-12-30T00:00:00+00:00\",\"2021-12-31T00:00:00+00:00\",\"2022-01-03T00:00:00+00:00\",\"2022-01-04T00:00:00+00:00\",\"2022-01-05T00:00:00+00:00\",\"2022-01-06T00:00:00+00:00\",\"2022-01-07T00:00:00+00:00\",\"2022-01-10T00:00:00+00:00\",\"2022-01-11T00:00:00+00:00\",\"2022-01-12T00:00:00+00:00\",\"2022-01-13T00:00:00+00:00\",\"2022-01-14T00:00:00+00:00\",\"2022-01-18T00:00:00+00:00\",\"2022-01-19T00:00:00+00:00\",\"2022-01-20T00:00:00+00:00\",\"2022-01-21T00:00:00+00:00\",\"2022-01-24T00:00:00+00:00\",\"2022-01-25T00:00:00+00:00\",\"2022-01-26T00:00:00+00:00\",\"2022-01-27T00:00:00+00:00\",\"2022-01-28T00:00:00+00:00\",\"2022-01-31T00:00:00+00:00\",\"2022-02-01T00:00:00+00:00\",\"2022-02-02T00:00:00+00:00\",\"2022-02-03T00:00:00+00:00\",\"2022-02-04T00:00:00+00:00\",\"2022-02-07T00:00:00+00:00\",\"2022-02-08T00:00:00+00:00\",\"2022-02-09T00:00:00+00:00\",\"2022-02-10T00:00:00+00:00\",\"2022-02-11T00:00:00+00:00\",\"2022-02-14T00:00:00+00:00\",\"2022-02-15T00:00:00+00:00\",\"2022-02-16T00:00:00+00:00\",\"2022-02-17T00:00:00+00:00\",\"2022-02-18T00:00:00+00:00\",\"2022-02-22T00:00:00+00:00\",\"2022-02-23T00:00:00+00:00\",\"2022-02-24T00:00:00+00:00\",\"2022-02-25T00:00:00+00:00\",\"2022-02-28T00:00:00+00:00\",\"2022-03-01T00:00:00+00:00\",\"2022-03-02T00:00:00+00:00\",\"2022-03-03T00:00:00+00:00\",\"2022-03-04T00:00:00+00:00\",\"2022-03-07T00:00:00+00:00\",\"2022-03-08T00:00:00+00:00\",\"2022-03-09T00:00:00+00:00\",\"2022-03-10T00:00:00+00:00\",\"2022-03-11T00:00:00+00:00\",\"2022-03-14T00:00:00+00:00\",\"2022-03-15T00:00:00+00:00\",\"2022-03-16T00:00:00+00:00\",\"2022-03-17T00:00:00+00:00\",\"2022-03-18T00:00:00+00:00\",\"2022-03-21T00:00:00+00:00\",\"2022-03-22T00:00:00+00:00\",\"2022-03-23T00:00:00+00:00\",\"2022-03-24T00:00:00+00:00\",\"2022-03-25T00:00:00+00:00\",\"2022-03-28T00:00:00+00:00\",\"2022-03-29T00:00:00+00:00\",\"2022-03-30T00:00:00+00:00\",\"2022-03-31T00:00:00+00:00\",\"2022-04-01T00:00:00+00:00\",\"2022-04-04T00:00:00+00:00\",\"2022-04-05T00:00:00+00:00\",\"2022-04-06T00:00:00+00:00\",\"2022-04-07T00:00:00+00:00\",\"2022-04-08T00:00:00+00:00\",\"2022-04-11T00:00:00+00:00\",\"2022-04-12T00:00:00+00:00\",\"2022-04-13T00:00:00+00:00\",\"2022-04-14T00:00:00+00:00\",\"2022-04-18T00:00:00+00:00\",\"2022-04-19T00:00:00+00:00\",\"2022-04-20T00:00:00+00:00\",\"2022-04-21T00:00:00+00:00\",\"2022-04-22T00:00:00+00:00\",\"2022-04-25T00:00:00+00:00\",\"2022-04-26T00:00:00+00:00\",\"2022-04-27T00:00:00+00:00\",\"2022-04-28T00:00:00+00:00\",\"2022-04-29T00:00:00+00:00\",\"2022-05-02T00:00:00+00:00\",\"2022-05-03T00:00:00+00:00\",\"2022-05-04T00:00:00+00:00\",\"2022-05-05T00:00:00+00:00\",\"2022-05-06T00:00:00+00:00\",\"2022-05-09T00:00:00+00:00\",\"2022-05-10T00:00:00+00:00\",\"2022-05-11T00:00:00+00:00\",\"2022-05-12T00:00:00+00:00\",\"2022-05-13T00:00:00+00:00\",\"2022-05-16T00:00:00+00:00\",\"2022-05-17T00:00:00+00:00\",\"2022-05-18T00:00:00+00:00\",\"2022-05-19T00:00:00+00:00\",\"2022-05-20T00:00:00+00:00\",\"2022-05-23T00:00:00+00:00\",\"2022-05-24T00:00:00+00:00\",\"2022-05-25T00:00:00+00:00\",\"2022-05-26T00:00:00+00:00\",\"2022-05-27T00:00:00+00:00\",\"2022-05-31T00:00:00+00:00\",\"2022-06-01T00:00:00+00:00\",\"2022-06-02T00:00:00+00:00\",\"2022-06-03T00:00:00+00:00\",\"2022-06-06T00:00:00+00:00\",\"2022-06-07T00:00:00+00:00\",\"2022-06-08T00:00:00+00:00\",\"2022-06-09T00:00:00+00:00\",\"2022-06-10T00:00:00+00:00\",\"2022-06-13T00:00:00+00:00\",\"2022-06-14T00:00:00+00:00\",\"2022-06-15T00:00:00+00:00\",\"2022-06-16T00:00:00+00:00\",\"2022-06-17T00:00:00+00:00\",\"2022-06-21T00:00:00+00:00\",\"2022-06-22T00:00:00+00:00\",\"2022-06-23T00:00:00+00:00\",\"2022-06-24T00:00:00+00:00\",\"2022-06-27T00:00:00+00:00\",\"2022-06-28T00:00:00+00:00\",\"2022-06-29T00:00:00+00:00\",\"2022-06-30T00:00:00+00:00\",\"2022-07-01T00:00:00+00:00\",\"2022-07-05T00:00:00+00:00\",\"2022-07-06T00:00:00+00:00\",\"2022-07-07T00:00:00+00:00\",\"2022-07-08T00:00:00+00:00\",\"2022-07-11T00:00:00+00:00\",\"2022-07-12T00:00:00+00:00\",\"2022-07-13T00:00:00+00:00\",\"2022-07-14T00:00:00+00:00\",\"2022-07-15T00:00:00+00:00\",\"2022-07-18T00:00:00+00:00\",\"2022-07-19T00:00:00+00:00\",\"2022-07-20T00:00:00+00:00\",\"2022-07-21T00:00:00+00:00\",\"2022-07-22T00:00:00+00:00\",\"2022-07-25T00:00:00+00:00\",\"2022-07-26T00:00:00+00:00\",\"2022-07-27T00:00:00+00:00\",\"2022-07-28T00:00:00+00:00\",\"2022-07-29T00:00:00+00:00\",\"2022-08-01T00:00:00+00:00\",\"2022-08-02T00:00:00+00:00\",\"2022-08-03T00:00:00+00:00\",\"2022-08-04T00:00:00+00:00\",\"2022-08-05T00:00:00+00:00\",\"2022-08-08T00:00:00+00:00\",\"2022-08-09T00:00:00+00:00\",\"2022-08-10T00:00:00+00:00\",\"2022-08-11T00:00:00+00:00\",\"2022-08-12T00:00:00+00:00\",\"2022-08-15T00:00:00+00:00\",\"2022-08-16T00:00:00+00:00\",\"2022-08-17T00:00:00+00:00\",\"2022-08-18T00:00:00+00:00\",\"2022-08-19T00:00:00+00:00\",\"2022-08-22T00:00:00+00:00\",\"2022-08-23T00:00:00+00:00\",\"2022-08-24T00:00:00+00:00\",\"2022-08-25T00:00:00+00:00\",\"2022-08-26T00:00:00+00:00\",\"2022-08-29T00:00:00+00:00\",\"2022-08-30T00:00:00+00:00\",\"2022-08-31T00:00:00+00:00\",\"2022-09-01T00:00:00+00:00\",\"2022-09-02T00:00:00+00:00\",\"2022-09-06T00:00:00+00:00\",\"2022-09-07T00:00:00+00:00\",\"2022-09-08T00:00:00+00:00\",\"2022-09-09T00:00:00+00:00\",\"2022-09-12T00:00:00+00:00\",\"2022-09-13T00:00:00+00:00\",\"2022-09-14T00:00:00+00:00\",\"2022-09-15T00:00:00+00:00\",\"2022-09-16T00:00:00+00:00\",\"2022-09-19T00:00:00+00:00\",\"2022-09-20T00:00:00+00:00\",\"2022-09-21T00:00:00+00:00\",\"2022-09-22T00:00:00+00:00\",\"2022-09-23T00:00:00+00:00\",\"2022-09-26T00:00:00+00:00\",\"2022-09-27T00:00:00+00:00\",\"2022-09-28T00:00:00+00:00\",\"2022-09-29T00:00:00+00:00\",\"2022-09-30T00:00:00+00:00\",\"2022-10-03T00:00:00+00:00\",\"2022-10-04T00:00:00+00:00\",\"2022-10-05T00:00:00+00:00\",\"2022-10-06T00:00:00+00:00\",\"2022-10-07T00:00:00+00:00\",\"2022-10-10T00:00:00+00:00\",\"2022-10-11T00:00:00+00:00\",\"2022-10-12T00:00:00+00:00\",\"2022-10-13T00:00:00+00:00\",\"2022-10-14T00:00:00+00:00\",\"2022-10-17T00:00:00+00:00\",\"2022-10-18T00:00:00+00:00\",\"2022-10-19T00:00:00+00:00\",\"2022-10-20T00:00:00+00:00\",\"2022-10-21T00:00:00+00:00\",\"2022-10-24T00:00:00+00:00\",\"2022-10-25T00:00:00+00:00\",\"2022-10-26T00:00:00+00:00\",\"2022-10-27T00:00:00+00:00\",\"2022-10-28T00:00:00+00:00\",\"2022-10-31T00:00:00+00:00\",\"2022-11-01T00:00:00+00:00\",\"2022-11-02T00:00:00+00:00\",\"2022-11-03T00:00:00+00:00\",\"2022-11-04T00:00:00+00:00\",\"2022-11-07T00:00:00+00:00\",\"2022-11-08T00:00:00+00:00\",\"2022-11-09T00:00:00+00:00\",\"2022-11-10T00:00:00+00:00\",\"2022-11-11T00:00:00+00:00\",\"2022-11-14T00:00:00+00:00\",\"2022-11-15T00:00:00+00:00\",\"2022-11-16T00:00:00+00:00\",\"2022-11-17T00:00:00+00:00\",\"2022-11-18T00:00:00+00:00\",\"2022-11-21T00:00:00+00:00\",\"2022-11-22T00:00:00+00:00\",\"2022-11-23T00:00:00+00:00\",\"2022-11-25T00:00:00+00:00\",\"2022-11-28T00:00:00+00:00\",\"2022-11-29T00:00:00+00:00\",\"2022-11-30T00:00:00+00:00\",\"2022-12-01T00:00:00+00:00\",\"2022-12-02T00:00:00+00:00\",\"2022-12-05T00:00:00+00:00\",\"2022-12-06T00:00:00+00:00\",\"2022-12-07T00:00:00+00:00\",\"2022-12-08T00:00:00+00:00\",\"2022-12-09T00:00:00+00:00\",\"2022-12-12T00:00:00+00:00\",\"2022-12-13T00:00:00+00:00\",\"2022-12-14T00:00:00+00:00\",\"2022-12-15T00:00:00+00:00\",\"2022-12-16T00:00:00+00:00\",\"2022-12-19T00:00:00+00:00\",\"2022-12-20T00:00:00+00:00\",\"2022-12-21T00:00:00+00:00\",\"2022-12-22T00:00:00+00:00\",\"2022-12-23T00:00:00+00:00\",\"2022-12-27T00:00:00+00:00\",\"2022-12-28T00:00:00+00:00\",\"2022-12-29T00:00:00+00:00\",\"2022-12-30T00:00:00+00:00\",\"2023-01-03T00:00:00+00:00\",\"2023-01-04T00:00:00+00:00\",\"2023-01-05T00:00:00+00:00\",\"2023-01-06T00:00:00+00:00\",\"2023-01-09T00:00:00+00:00\",\"2023-01-10T00:00:00+00:00\",\"2023-01-11T00:00:00+00:00\",\"2023-01-12T00:00:00+00:00\",\"2023-01-13T00:00:00+00:00\",\"2023-01-17T00:00:00+00:00\",\"2023-01-18T00:00:00+00:00\",\"2023-01-19T00:00:00+00:00\",\"2023-01-20T00:00:00+00:00\",\"2023-01-23T00:00:00+00:00\",\"2023-01-24T00:00:00+00:00\",\"2023-01-25T00:00:00+00:00\",\"2023-01-26T00:00:00+00:00\",\"2023-01-27T00:00:00+00:00\",\"2023-01-30T00:00:00+00:00\",\"2023-01-31T00:00:00+00:00\",\"2023-02-01T00:00:00+00:00\",\"2023-02-02T00:00:00+00:00\",\"2023-02-03T00:00:00+00:00\",\"2023-02-06T00:00:00+00:00\",\"2023-02-07T00:00:00+00:00\",\"2023-02-08T00:00:00+00:00\",\"2023-02-09T00:00:00+00:00\",\"2023-02-10T00:00:00+00:00\",\"2023-02-13T00:00:00+00:00\",\"2023-02-14T00:00:00+00:00\",\"2023-02-15T00:00:00+00:00\",\"2023-02-16T00:00:00+00:00\",\"2023-02-17T00:00:00+00:00\",\"2023-02-21T00:00:00+00:00\",\"2023-02-22T00:00:00+00:00\",\"2023-02-23T00:00:00+00:00\",\"2023-02-24T00:00:00+00:00\",\"2023-02-27T00:00:00+00:00\",\"2023-02-28T00:00:00+00:00\",\"2023-03-01T00:00:00+00:00\",\"2023-03-02T00:00:00+00:00\",\"2023-03-03T00:00:00+00:00\",\"2023-03-06T00:00:00+00:00\",\"2023-03-07T00:00:00+00:00\",\"2023-03-08T00:00:00+00:00\",\"2023-03-09T00:00:00+00:00\",\"2023-03-10T00:00:00+00:00\",\"2023-03-13T00:00:00+00:00\",\"2023-03-14T00:00:00+00:00\",\"2023-03-15T00:00:00+00:00\",\"2023-03-16T00:00:00+00:00\",\"2023-03-17T00:00:00+00:00\",\"2023-03-20T00:00:00+00:00\",\"2023-03-21T00:00:00+00:00\",\"2023-03-22T00:00:00+00:00\",\"2023-03-23T00:00:00+00:00\",\"2023-03-24T00:00:00+00:00\",\"2023-03-27T00:00:00+00:00\",\"2023-03-28T00:00:00+00:00\",\"2023-03-29T00:00:00+00:00\",\"2023-03-30T00:00:00+00:00\",\"2023-03-31T00:00:00+00:00\",\"2023-04-03T00:00:00+00:00\",\"2023-04-04T00:00:00+00:00\",\"2023-04-05T00:00:00+00:00\",\"2023-04-06T00:00:00+00:00\",\"2023-04-10T00:00:00+00:00\",\"2023-04-11T00:00:00+00:00\"],\"xaxis\":\"x\",\"y\":[113.370003,110.300003,110.209999,110.209999,109.32,111.720001,111.470001,110.93,110.410004,109.989998,110.099998,109.400002,108.779999,108.779999,107.919998,107.239998,108.43,109.370003,110.989998,113.410004,114.290001,113.860001,113.900002,113.029999,113.339996,112.959999,111.129997,112.150002,113.010002,112.489998,111.230003,110.660004,105.93,108.349998,107.010002,108.400002,108.449997,107.839996,110.360001,110.800003,111.110001,110.830002,110.190002,109.970001,108.029999,107.900002,108.18,107.550003,107.540001,107.510002,105.75,104.790001,104.860001,103.239998,104.93,104.199997,105.080002,103.610001,103.720001,104.059998,107.279999,106.620003,106.389999,106.849998,106.360001,110.580002,110.5,111.529999,109.889999,111.279999,113.349998,114.150002,115.18,114.849998,116.029999,116.730003,114.949997,115.660004,116.150002,117.089996,117.120003,117.550003,117.790001,116.879997,115.730003,113.889999,114.650002,113.699997,114.769997,114.769997,114.620003,115.32,114.970001,114.730003,114.68,116.709999,116.139999,115.760002,115.190002,114.580002,115.150002,114.589996,114.099998,114.32,113.709999,114.43,113.080002,113.519997,113.5,113.839996,114.300003,117.620003,118.629997,117.849998,116.720001,116.389999,115.019997,114.519997,112.839996,113.5,113.970001,115.040001,115.269997,114.620003,115.32,114.519997,111.470001,108.129997,106.949997,106.339996,108.620003,109.830002,108.089996,107.910004,106.360001,105.25,103.290001,104.860001,103.419998,104.849998,106.699997,109.019997,108.980003,108.379997,109.089996,109.599998,111.480003,112.379997,111.290001,108.949997,109.589996,107.330002,110.07,109.989998,110.830002,108.449997,107.639999,106.650002,109.260002,109.720001,110.940002,110.059998,111.190002,112.239998,107.230003,105.190002,103.290001,101.360001,100.370003,101.019997,101.120003,100.290001,99.010002,98.540001,97.290001,96.449997,94.169998,92.139999,95.959999,97.040001,96.830002,97.620003,99.309998,97.110001,100.690002,100.760002,100.57,100.400002,100.389999,99.910004,100.940002,101.68,102.5,102.919998,104.589996,102.940002,102.68,102.739998,103.389999,103.879997,104.169998,104.410004,103.5,103.879997,104.25,103.790001,103.739998,102.379997,101.360001,100.879997,102.599998,103.089996,102.419998,105.550003,105.18,105.690002,105.470001,105.0,106.099998,105.290001,105.160004,104.360001,104.43,104.190002,104.110001,103.720001,102.970001,103.010002,104.349998,104.040001,104.389999,105.339996,106.550003,107.190002,106.800003,104.519997,102.870003,99.760002,98.93,99.919998,99.580002,100.709999,101.230003,104.639999,105.139999,105.349998,105.559998,105.309998,105.650002,104.870003,105.339996,106.230003,111.209999,109.940002,111.099998,114.300003,113.459999,113.599998,113.739998,113.550003,113.610001,114.470001,116.120003,116.050003,115.160004,115.410004,116.120003,115.089996,113.209999,112.610001,112.519997,112.510002,109.449997,110.32,109.900002,111.309998,110.769997,111.349998,111.730003,110.82,108.639999,109.709999,108.519997,108.220001,107.059998,105.959999,106.459999,109.739998,110.129997,110.370003,109.160004,110.339996,110.68,109.269997,109.540001,109.82,109.220001,110.709999,109.910004,110.190002,109.440002,108.660004,107.760002,108.480003,108.839996,111.800003,113.68,113.800003,112.82,113.489998,112.870003,113.349998,113.019997,114.099998,115.300003,113.900002,115.120003,113.989998,114.669998,113.540001,114.269997,116.360001,116.830002,115.709999,116.220001,115.849998,115.589996,116.0,112.940002,112.93,109.57,110.43,108.029999,109.860001,109.739998,107.68,109.339996,104.800003,105.199997,107.720001,108.690002,107.309998,107.610001,108.720001,106.019997,106.870003,105.739998,106.800003,109.220001,109.860001,108.559998,109.870003,112.370003,112.610001,115.400002,116.870003,117.190002,117.910004,120.230003,119.160004,118.57,119.760002,119.379997,118.900002,118.879997,117.330002,118.0,117.029999,117.720001,117.690002,115.550003,113.25,112.190002,114.620003,114.370003,111.82,112.629997,114.209999,116.139999,116.449997,119.959999,119.68,120.349998,120.559998,123.550003,124.790001,125.120003,125.029999,126.029999,126.510002,126.43,125.730003,124.919998,127.800003,128.820007,129.100006,129.300003,130.0,130.380005,129.919998,129.160004,128.479996,128.600006,129.529999,130.619995,130.580002,129.630005,129.929993,130.789993,131.490005,131.669998,132.059998,131.759995,131.470001,129.779999,132.339996,133.059998,135.039993,134.410004,134.5,134.179993,138.020004,136.809998,137.339996,138.179993,138.039993,137.350006,137.240005,137.199997,137.580002,139.039993,139.139999,138.630005,139.399994,141.089996,138.339996,138.229996,135.880005,136.940002,137.440002,136.070007,137.199997,138.800003,136.720001,137.25,138.199997,136.839996,136.679993,136.539993,133.149994,132.029999,134.429993,134.229996,135.889999,132.360001,133.369995,135.289993,137.589996,137.610001,137.169998,137.740005,138.0,138.0,137.880005,137.460007,135.639999,137.490005,137.490005,135.809998,132.160004,126.260002,126.639999,121.370003,116.110001,121.519997,116.959999,119.849998,113.970001,108.080002,93.440002,100.699997,95.959999,88.050003,103.910004,88.360001,93.760002,83.889999,85.300003,83.5,79.029999,88.43,91.730003,98.120003,91.129997,93.5,90.029999,84.360001,87.510002,84.050003,89.459999,90.639999,94.300003,102.760002,98.190002,95.5,90.790001,87.330002,95.18,91.709999,89.050003,89.339996,89.389999,90.709999,94.620003,95.290001,97.860001,95.760002,93.25,92.139999,92.0,90.269997,91.209999,92.699997,89.970001,87.029999,84.029999,87.519997,85.900002,90.449997,88.669998,91.330002,90.169998,89.470001,95.82,101.370003,99.860001,97.309998,98.599998,98.93,104.269997,106.440002,111.230003,113.449997,110.540001,106.059998,97.209999,99.870003,101.25,102.059998,99.480003,98.940002,97.809998,96.75,97.93,94.660004,97.959999,92.589996,93.0,94.059998,93.260002,92.660004,95.0,92.32,93.300003,91.279999,96.269997,97.650002,98.209999,99.730003,100.010002,98.160004,97.300003,99.410004,98.690002,98.980003,98.279999,96.900002,97.32,99.68,97.019997,96.639999,96.099998,95.550003,97.209999,97.239998,99.379997,100.639999,103.82,102.940002,102.370003,102.410004,99.709999,98.32,98.550003,97.370003,97.32,100.059998,100.5,99.089996,102.349998,102.769997,100.190002,100.139999,101.650002,101.330002,103.519997,99.919998,100.870003,99.830002,101.07,102.470001,99.279999,99.699997,98.559998,98.349998,95.309998,94.269997,92.739998,92.660004,93.470001,96.160004,95.349998,96.269997,96.970001,97.889999,99.040001,98.019997,99.730003,101.779999,101.199997,102.440002,100.779999,100.220001,101.720001,101.510002,99.800003,100.370003,99.370003,102.879997,103.809998,101.239998,99.330002,96.540001,97.169998,98.040001,100.25,103.410004,100.25,104.349998,102.959999,116.900002,116.519997,114.779999,113.370003,114.080002,117.300003,116.110001,115.25,115.559998,114.57,117.870003,123.32,122.029999,121.220001,117.879997,119.739998,122.040001,121.239998,122.339996,121.879997,122.0,121.050003,120.269997,119.559998,118.300003,120.32,120.669998,119.669998,119.080002,123.550003,121.669998,125.07,124.519997,125.339996,125.010002,125.360001,127.07,125.870003,125.650002,131.550003,135.869995,136.020004,138.050003,140.220001,140.350006,141.169998,138.639999,138.039993,135.970001,134.830002,133.789993,132.119995,131.580002,127.860001,130.110001,128.669998,129.619995,133.610001,135.139999,138.25,137.979996,140.139999,139.580002,139.660004,139.270004,141.25,144.649994,145.100006,145.589996,148.020004,149.410004,150.610001,153.259995,151.179993,147.169998,150.5,150.009995,152.910004,150.559998,150.910004,152.910004,151.830002,155.130005,154.320007,156.149994,155.369995,153.509995,155.089996,157.649994,155.139999,150.970001,149.460007,150.619995,152.550003,155.089996,152.679993,154.479996,152.229996,153.710007,153.619995,152.539993,154.929993,155.119995,156.279999,155.949997,154.089996,151.210007,152.169998,153.300003,152.649994,149.270004,150.539993,147.369995,150.190002,150.559998,151.25,152.229996,155.190002,153.809998,153.360001,155.479996,157.520004,160.690002,161.240005,161.220001,158.539993,157.449997,161.5,164.009995,164.669998,162.350006,161.110001,160.830002,162.660004,163.539993,161.850006,161.830002,164.350006,164.240005,166.050003,166.059998,166.169998,166.440002,165.660004,165.0,162.940002,160.399994,160.289993,157.570007,155.179993,156.270004,151.759995,147.919998,150.429993,150.210007,151.119995,152.509995,154.050003,154.330002,154.139999,155.539993,157.080002,156.029999,153.410004,153.589996,150.940002,155.770004,158.0,155.649994,155.119995,155.460007,151.910004,146.970001,149.710007,152.860001,150.929993,150.639999,151.649994,151.449997,151.699997,153.0,151.779999,151.169998,152.889999,151.240005,153.149994,157.5,157.330002,159.259995,161.160004,161.789993,159.979996,158.929993,157.009995,155.580002,154.279999,154.720001,156.699997,157.669998,160.919998,161.75,163.050003,160.440002,159.949997,159.720001,160.460007,159.490005,159.210007,158.5,159.190002,157.360001,159.860001,157.070007,158.160004,158.089996,157.679993,152.960007,152.979996,155.910004,161.179993,163.039993,166.979996,166.080002,165.949997,163.690002,167.130005,166.949997,168.660004,169.020004,170.089996,170.220001,166.639999,165.360001,161.0,163.470001,166.610001,166.550003,168.570007,170.839996,169.5,171.779999,170.940002,171.399994,167.830002,170.360001,169.889999,169.800003,170.470001,170.529999,168.289993,168.050003,169.059998,167.779999,167.619995,167.610001,166.860001,166.559998,165.360001,164.470001,163.050003,160.919998,164.350006,168.279999,166.960007,161.929993,161.229996,158.830002,157.889999,161.210007,158.289993,160.160004,162.570007,160.710007,160.460007,159.820007,157.919998,159.130005,157.940002,160.410004,156.759995,153.940002,156.089996,156.699997,157.259995,158.160004,158.639999,158.559998,158.479996,158.350006,161.699997,167.830002,163.779999,165.520004,167.160004,167.320007,167.490005,168.440002,168.229996,157.889999,151.270004,148.929993,147.660004,145.080002,144.949997,146.529999,147.919998,145.309998,146.610001,148.600006,151.149994,149.940002,148.699997,152.559998,153.070007,155.949997,156.600006,155.949997,153.919998,152.490005,154.720001,155.0,151.429993,152.139999,151.869995,148.690002,144.550003,147.970001,141.800003,136.449997,139.279999,138.289993,134.399994,129.210007,128.300003,133.440002,131.860001,128.889999,130.169998,132.479996,138.399994,140.149994,140.100006,139.649994,142.619995,139.779999,140.690002,141.919998,140.869995,141.179993,140.539993,136.320007,135.309998,135.910004,133.339996,131.490005,131.089996,133.490005,133.0,131.539993,127.300003,126.120003,128.460007,131.119995,131.580002,130.559998,126.809998,126.769997,123.019997,121.419998,123.339996,119.360001,120.449997,123.029999,127.099998,123.919998,123.720001,121.860001,118.889999,118.139999,118.040001,119.089996,118.260002,122.18,120.089996,118.309998,117.339996,124.599998,126.360001,127.239998,129.440002,131.270004,132.229996,129.910004,132.0,130.160004,129.729996,130.070007,128.0,125.309998,119.550003,115.989998,114.059998,115.410004,113.43,113.029999,115.830002,115.18,113.919998,117.32,116.379997,115.82,115.300003,112.610001,114.050003,112.620003,111.889999,114.720001,114.360001,112.860001,112.970001,111.910004,108.0,112.949997,111.790001,114.559998,114.540001,115.32,114.760002,115.220001,113.419998,115.239998,114.809998,115.360001,114.209999,112.43,113.610001,112.360001,115.760002,114.349998,115.379997,118.389999,120.139999,122.129997,122.459999,123.629997,122.589996,121.639999,118.629997,116.669998,115.519997,115.800003,118.550003,114.669998,114.389999,114.410004,113.730003,114.510002,113.709999,113.739998,115.900002,118.599998,119.169998,120.580002,116.389999,116.120003,117.870003,117.080002,118.160004,115.830002,112.489998,111.209999,109.139999,106.790001,105.849998,107.989998,106.160004,104.5,107.730003,112.769997,110.389999,108.139999,105.980003,104.989998,101.959999,103.610001,109.370003,111.190002,115.860001,118.839996,116.510002,116.129997,122.230003,122.379997,122.699997,124.110001,124.599998,126.080002,125.879997,128.149994,126.970001,127.199997,130.679993,131.369995,131.449997,129.740005,135.080002,135.300003,133.910004,132.940002,133.119995,132.539993,133.839996,133.050003,135.039993,136.479996,136.740005,134.350006,136.559998,138.179993,136.240005,135.160004,131.369995,131.589996,131.5,132.880005,132.160004,134.210007,134.080002,133.410004,130.100006,129.289993,130.059998,130.690002,132.160004,130.660004,131.279999,131.740005,132.460007,133.220001,134.100006,135.119995,136.380005,135.350006,137.940002,137.369995,138.600006,139.630005,139.490005,143.009995,140.800003,136.570007,134.75,135.080002,137.270004,138.449997,139.119995,139.979996,140.320007,139.130005,139.960007,139.589996,138.940002,141.089996,141.919998,143.649994,142.639999,140.419998,141.039993,142.570007,143.199997,143.800003,141.820007,142.240005,139.630005,138.559998,139.669998,140.929993,142.160004,143.350006,142.550003,141.070007,143.660004,142.820007,138.619995,137.800003,130.339996,133.649994,131.25,134.619995,128.259995,130.75,125.809998,127.139999,130.550003,127.18,126.839996,124.910004,128.490005,128.880005,129.139999,128.75,130.309998,130.160004,128.419998,127.610001,127.470001,127.889999,128.520004],\"yaxis\":\"y\",\"type\":\"scattergl\"},{\"hovertemplate\":\"variable=high<br>Date=%{x}<br>Stock Value=%{y}<extra></extra>\",\"legendgroup\":\"high\",\"line\":{\"color\":\"#00cc96\",\"dash\":\"solid\"},\"marker\":{\"symbol\":\"circle\"},\"mode\":\"lines\",\"name\":\"High Price\",\"showlegend\":true,\"x\":[\"2018-04-12T00:00:00+00:00\",\"2018-04-13T00:00:00+00:00\",\"2018-04-16T00:00:00+00:00\",\"2018-04-17T00:00:00+00:00\",\"2018-04-18T00:00:00+00:00\",\"2018-04-19T00:00:00+00:00\",\"2018-04-20T00:00:00+00:00\",\"2018-04-23T00:00:00+00:00\",\"2018-04-24T00:00:00+00:00\",\"2018-04-25T00:00:00+00:00\",\"2018-04-26T00:00:00+00:00\",\"2018-04-27T00:00:00+00:00\",\"2018-04-30T00:00:00+00:00\",\"2018-05-01T00:00:00+00:00\",\"2018-05-02T00:00:00+00:00\",\"2018-05-03T00:00:00+00:00\",\"2018-05-04T00:00:00+00:00\",\"2018-05-07T00:00:00+00:00\",\"2018-05-08T00:00:00+00:00\",\"2018-05-09T00:00:00+00:00\",\"2018-05-10T00:00:00+00:00\",\"2018-05-11T00:00:00+00:00\",\"2018-05-14T00:00:00+00:00\",\"2018-05-15T00:00:00+00:00\",\"2018-05-16T00:00:00+00:00\",\"2018-05-17T00:00:00+00:00\",\"2018-05-18T00:00:00+00:00\",\"2018-05-21T00:00:00+00:00\",\"2018-05-22T00:00:00+00:00\",\"2018-05-23T00:00:00+00:00\",\"2018-05-24T00:00:00+00:00\",\"2018-05-25T00:00:00+00:00\",\"2018-05-29T00:00:00+00:00\",\"2018-05-30T00:00:00+00:00\",\"2018-05-31T00:00:00+00:00\",\"2018-06-01T00:00:00+00:00\",\"2018-06-04T00:00:00+00:00\",\"2018-06-05T00:00:00+00:00\",\"2018-06-06T00:00:00+00:00\",\"2018-06-07T00:00:00+00:00\",\"2018-06-08T00:00:00+00:00\",\"2018-06-11T00:00:00+00:00\",\"2018-06-12T00:00:00+00:00\",\"2018-06-13T00:00:00+00:00\",\"2018-06-14T00:00:00+00:00\",\"2018-06-15T00:00:00+00:00\",\"2018-06-18T00:00:00+00:00\",\"2018-06-19T00:00:00+00:00\",\"2018-06-20T00:00:00+00:00\",\"2018-06-21T00:00:00+00:00\",\"2018-06-22T00:00:00+00:00\",\"2018-06-25T00:00:00+00:00\",\"2018-06-26T00:00:00+00:00\",\"2018-06-27T00:00:00+00:00\",\"2018-06-28T00:00:00+00:00\",\"2018-06-29T00:00:00+00:00\",\"2018-07-02T00:00:00+00:00\",\"2018-07-03T00:00:00+00:00\",\"2018-07-05T00:00:00+00:00\",\"2018-07-06T00:00:00+00:00\",\"2018-07-09T00:00:00+00:00\",\"2018-07-10T00:00:00+00:00\",\"2018-07-11T00:00:00+00:00\",\"2018-07-12T00:00:00+00:00\",\"2018-07-13T00:00:00+00:00\",\"2018-07-16T00:00:00+00:00\",\"2018-07-17T00:00:00+00:00\",\"2018-07-18T00:00:00+00:00\",\"2018-07-19T00:00:00+00:00\",\"2018-07-20T00:00:00+00:00\",\"2018-07-23T00:00:00+00:00\",\"2018-07-24T00:00:00+00:00\",\"2018-07-25T00:00:00+00:00\",\"2018-07-26T00:00:00+00:00\",\"2018-07-27T00:00:00+00:00\",\"2018-07-30T00:00:00+00:00\",\"2018-07-31T00:00:00+00:00\",\"2018-08-01T00:00:00+00:00\",\"2018-08-02T00:00:00+00:00\",\"2018-08-03T00:00:00+00:00\",\"2018-08-06T00:00:00+00:00\",\"2018-08-07T00:00:00+00:00\",\"2018-08-08T00:00:00+00:00\",\"2018-08-09T00:00:00+00:00\",\"2018-08-10T00:00:00+00:00\",\"2018-08-13T00:00:00+00:00\",\"2018-08-14T00:00:00+00:00\",\"2018-08-15T00:00:00+00:00\",\"2018-08-16T00:00:00+00:00\",\"2018-08-17T00:00:00+00:00\",\"2018-08-20T00:00:00+00:00\",\"2018-08-21T00:00:00+00:00\",\"2018-08-22T00:00:00+00:00\",\"2018-08-23T00:00:00+00:00\",\"2018-08-24T00:00:00+00:00\",\"2018-08-27T00:00:00+00:00\",\"2018-08-28T00:00:00+00:00\",\"2018-08-29T00:00:00+00:00\",\"2018-08-30T00:00:00+00:00\",\"2018-08-31T00:00:00+00:00\",\"2018-09-04T00:00:00+00:00\",\"2018-09-05T00:00:00+00:00\",\"2018-09-06T00:00:00+00:00\",\"2018-09-07T00:00:00+00:00\",\"2018-09-10T00:00:00+00:00\",\"2018-09-11T00:00:00+00:00\",\"2018-09-12T00:00:00+00:00\",\"2018-09-13T00:00:00+00:00\",\"2018-09-14T00:00:00+00:00\",\"2018-09-17T00:00:00+00:00\",\"2018-09-18T00:00:00+00:00\",\"2018-09-19T00:00:00+00:00\",\"2018-09-20T00:00:00+00:00\",\"2018-09-21T00:00:00+00:00\",\"2018-09-24T00:00:00+00:00\",\"2018-09-25T00:00:00+00:00\",\"2018-09-26T00:00:00+00:00\",\"2018-09-27T00:00:00+00:00\",\"2018-09-28T00:00:00+00:00\",\"2018-10-01T00:00:00+00:00\",\"2018-10-02T00:00:00+00:00\",\"2018-10-03T00:00:00+00:00\",\"2018-10-04T00:00:00+00:00\",\"2018-10-05T00:00:00+00:00\",\"2018-10-08T00:00:00+00:00\",\"2018-10-09T00:00:00+00:00\",\"2018-10-10T00:00:00+00:00\",\"2018-10-11T00:00:00+00:00\",\"2018-10-12T00:00:00+00:00\",\"2018-10-15T00:00:00+00:00\",\"2018-10-16T00:00:00+00:00\",\"2018-10-17T00:00:00+00:00\",\"2018-10-18T00:00:00+00:00\",\"2018-10-19T00:00:00+00:00\",\"2018-10-22T00:00:00+00:00\",\"2018-10-23T00:00:00+00:00\",\"2018-10-24T00:00:00+00:00\",\"2018-10-25T00:00:00+00:00\",\"2018-10-26T00:00:00+00:00\",\"2018-10-29T00:00:00+00:00\",\"2018-10-30T00:00:00+00:00\",\"2018-10-31T00:00:00+00:00\",\"2018-11-01T00:00:00+00:00\",\"2018-11-02T00:00:00+00:00\",\"2018-11-05T00:00:00+00:00\",\"2018-11-06T00:00:00+00:00\",\"2018-11-07T00:00:00+00:00\",\"2018-11-08T00:00:00+00:00\",\"2018-11-09T00:00:00+00:00\",\"2018-11-12T00:00:00+00:00\",\"2018-11-13T00:00:00+00:00\",\"2018-11-14T00:00:00+00:00\",\"2018-11-15T00:00:00+00:00\",\"2018-11-16T00:00:00+00:00\",\"2018-11-19T00:00:00+00:00\",\"2018-11-20T00:00:00+00:00\",\"2018-11-21T00:00:00+00:00\",\"2018-11-23T00:00:00+00:00\",\"2018-11-26T00:00:00+00:00\",\"2018-11-27T00:00:00+00:00\",\"2018-11-28T00:00:00+00:00\",\"2018-11-29T00:00:00+00:00\",\"2018-11-30T00:00:00+00:00\",\"2018-12-03T00:00:00+00:00\",\"2018-12-04T00:00:00+00:00\",\"2018-12-06T00:00:00+00:00\",\"2018-12-07T00:00:00+00:00\",\"2018-12-10T00:00:00+00:00\",\"2018-12-11T00:00:00+00:00\",\"2018-12-12T00:00:00+00:00\",\"2018-12-13T00:00:00+00:00\",\"2018-12-14T00:00:00+00:00\",\"2018-12-17T00:00:00+00:00\",\"2018-12-18T00:00:00+00:00\",\"2018-12-19T00:00:00+00:00\",\"2018-12-20T00:00:00+00:00\",\"2018-12-21T00:00:00+00:00\",\"2018-12-24T00:00:00+00:00\",\"2018-12-26T00:00:00+00:00\",\"2018-12-27T00:00:00+00:00\",\"2018-12-28T00:00:00+00:00\",\"2018-12-31T00:00:00+00:00\",\"2019-01-02T00:00:00+00:00\",\"2019-01-03T00:00:00+00:00\",\"2019-01-04T00:00:00+00:00\",\"2019-01-07T00:00:00+00:00\",\"2019-01-08T00:00:00+00:00\",\"2019-01-09T00:00:00+00:00\",\"2019-01-10T00:00:00+00:00\",\"2019-01-11T00:00:00+00:00\",\"2019-01-14T00:00:00+00:00\",\"2019-01-15T00:00:00+00:00\",\"2019-01-16T00:00:00+00:00\",\"2019-01-17T00:00:00+00:00\",\"2019-01-18T00:00:00+00:00\",\"2019-01-22T00:00:00+00:00\",\"2019-01-23T00:00:00+00:00\",\"2019-01-24T00:00:00+00:00\",\"2019-01-25T00:00:00+00:00\",\"2019-01-28T00:00:00+00:00\",\"2019-01-29T00:00:00+00:00\",\"2019-01-30T00:00:00+00:00\",\"2019-01-31T00:00:00+00:00\",\"2019-02-01T00:00:00+00:00\",\"2019-02-04T00:00:00+00:00\",\"2019-02-05T00:00:00+00:00\",\"2019-02-06T00:00:00+00:00\",\"2019-02-07T00:00:00+00:00\",\"2019-02-08T00:00:00+00:00\",\"2019-02-11T00:00:00+00:00\",\"2019-02-12T00:00:00+00:00\",\"2019-02-13T00:00:00+00:00\",\"2019-02-14T00:00:00+00:00\",\"2019-02-15T00:00:00+00:00\",\"2019-02-19T00:00:00+00:00\",\"2019-02-20T00:00:00+00:00\",\"2019-02-21T00:00:00+00:00\",\"2019-02-22T00:00:00+00:00\",\"2019-02-25T00:00:00+00:00\",\"2019-02-26T00:00:00+00:00\",\"2019-02-27T00:00:00+00:00\",\"2019-02-28T00:00:00+00:00\",\"2019-03-01T00:00:00+00:00\",\"2019-03-04T00:00:00+00:00\",\"2019-03-05T00:00:00+00:00\",\"2019-03-06T00:00:00+00:00\",\"2019-03-07T00:00:00+00:00\",\"2019-03-08T00:00:00+00:00\",\"2019-03-11T00:00:00+00:00\",\"2019-03-12T00:00:00+00:00\",\"2019-03-13T00:00:00+00:00\",\"2019-03-14T00:00:00+00:00\",\"2019-03-15T00:00:00+00:00\",\"2019-03-18T00:00:00+00:00\",\"2019-03-19T00:00:00+00:00\",\"2019-03-20T00:00:00+00:00\",\"2019-03-21T00:00:00+00:00\",\"2019-03-22T00:00:00+00:00\",\"2019-03-25T00:00:00+00:00\",\"2019-03-26T00:00:00+00:00\",\"2019-03-27T00:00:00+00:00\",\"2019-03-28T00:00:00+00:00\",\"2019-03-29T00:00:00+00:00\",\"2019-04-01T00:00:00+00:00\",\"2019-04-02T00:00:00+00:00\",\"2019-04-03T00:00:00+00:00\",\"2019-04-04T00:00:00+00:00\",\"2019-04-05T00:00:00+00:00\",\"2019-04-08T00:00:00+00:00\",\"2019-04-09T00:00:00+00:00\",\"2019-04-10T00:00:00+00:00\",\"2019-04-11T00:00:00+00:00\",\"2019-04-12T00:00:00+00:00\",\"2019-04-15T00:00:00+00:00\",\"2019-04-16T00:00:00+00:00\",\"2019-04-17T00:00:00+00:00\",\"2019-04-18T00:00:00+00:00\",\"2019-04-22T00:00:00+00:00\",\"2019-04-23T00:00:00+00:00\",\"2019-04-24T00:00:00+00:00\",\"2019-04-25T00:00:00+00:00\",\"2019-04-26T00:00:00+00:00\",\"2019-04-29T00:00:00+00:00\",\"2019-04-30T00:00:00+00:00\",\"2019-05-01T00:00:00+00:00\",\"2019-05-02T00:00:00+00:00\",\"2019-05-03T00:00:00+00:00\",\"2019-05-06T00:00:00+00:00\",\"2019-05-07T00:00:00+00:00\",\"2019-05-08T00:00:00+00:00\",\"2019-05-09T00:00:00+00:00\",\"2019-05-10T00:00:00+00:00\",\"2019-05-13T00:00:00+00:00\",\"2019-05-14T00:00:00+00:00\",\"2019-05-15T00:00:00+00:00\",\"2019-05-16T00:00:00+00:00\",\"2019-05-17T00:00:00+00:00\",\"2019-05-20T00:00:00+00:00\",\"2019-05-21T00:00:00+00:00\",\"2019-05-22T00:00:00+00:00\",\"2019-05-23T00:00:00+00:00\",\"2019-05-24T00:00:00+00:00\",\"2019-05-28T00:00:00+00:00\",\"2019-05-29T00:00:00+00:00\",\"2019-05-30T00:00:00+00:00\",\"2019-05-31T00:00:00+00:00\",\"2019-06-03T00:00:00+00:00\",\"2019-06-04T00:00:00+00:00\",\"2019-06-05T00:00:00+00:00\",\"2019-06-06T00:00:00+00:00\",\"2019-06-07T00:00:00+00:00\",\"2019-06-10T00:00:00+00:00\",\"2019-06-11T00:00:00+00:00\",\"2019-06-12T00:00:00+00:00\",\"2019-06-13T00:00:00+00:00\",\"2019-06-14T00:00:00+00:00\",\"2019-06-17T00:00:00+00:00\",\"2019-06-18T00:00:00+00:00\",\"2019-06-19T00:00:00+00:00\",\"2019-06-20T00:00:00+00:00\",\"2019-06-21T00:00:00+00:00\",\"2019-06-24T00:00:00+00:00\",\"2019-06-25T00:00:00+00:00\",\"2019-06-26T00:00:00+00:00\",\"2019-06-27T00:00:00+00:00\",\"2019-06-28T00:00:00+00:00\",\"2019-07-01T00:00:00+00:00\",\"2019-07-02T00:00:00+00:00\",\"2019-07-03T00:00:00+00:00\",\"2019-07-05T00:00:00+00:00\",\"2019-07-08T00:00:00+00:00\",\"2019-07-09T00:00:00+00:00\",\"2019-07-10T00:00:00+00:00\",\"2019-07-11T00:00:00+00:00\",\"2019-07-12T00:00:00+00:00\",\"2019-07-15T00:00:00+00:00\",\"2019-07-16T00:00:00+00:00\",\"2019-07-17T00:00:00+00:00\",\"2019-07-18T00:00:00+00:00\",\"2019-07-19T00:00:00+00:00\",\"2019-07-22T00:00:00+00:00\",\"2019-07-23T00:00:00+00:00\",\"2019-07-24T00:00:00+00:00\",\"2019-07-25T00:00:00+00:00\",\"2019-07-26T00:00:00+00:00\",\"2019-07-29T00:00:00+00:00\",\"2019-07-30T00:00:00+00:00\",\"2019-07-31T00:00:00+00:00\",\"2019-08-01T00:00:00+00:00\",\"2019-08-02T00:00:00+00:00\",\"2019-08-05T00:00:00+00:00\",\"2019-08-06T00:00:00+00:00\",\"2019-08-07T00:00:00+00:00\",\"2019-08-08T00:00:00+00:00\",\"2019-08-09T00:00:00+00:00\",\"2019-08-12T00:00:00+00:00\",\"2019-08-13T00:00:00+00:00\",\"2019-08-14T00:00:00+00:00\",\"2019-08-15T00:00:00+00:00\",\"2019-08-16T00:00:00+00:00\",\"2019-08-19T00:00:00+00:00\",\"2019-08-20T00:00:00+00:00\",\"2019-08-21T00:00:00+00:00\",\"2019-08-22T00:00:00+00:00\",\"2019-08-23T00:00:00+00:00\",\"2019-08-26T00:00:00+00:00\",\"2019-08-27T00:00:00+00:00\",\"2019-08-28T00:00:00+00:00\",\"2019-08-29T00:00:00+00:00\",\"2019-08-30T00:00:00+00:00\",\"2019-09-03T00:00:00+00:00\",\"2019-09-04T00:00:00+00:00\",\"2019-09-05T00:00:00+00:00\",\"2019-09-06T00:00:00+00:00\",\"2019-09-09T00:00:00+00:00\",\"2019-09-10T00:00:00+00:00\",\"2019-09-11T00:00:00+00:00\",\"2019-09-12T00:00:00+00:00\",\"2019-09-13T00:00:00+00:00\",\"2019-09-16T00:00:00+00:00\",\"2019-09-17T00:00:00+00:00\",\"2019-09-18T00:00:00+00:00\",\"2019-09-19T00:00:00+00:00\",\"2019-09-20T00:00:00+00:00\",\"2019-09-23T00:00:00+00:00\",\"2019-09-24T00:00:00+00:00\",\"2019-09-25T00:00:00+00:00\",\"2019-09-26T00:00:00+00:00\",\"2019-09-27T00:00:00+00:00\",\"2019-09-30T00:00:00+00:00\",\"2019-10-01T00:00:00+00:00\",\"2019-10-02T00:00:00+00:00\",\"2019-10-03T00:00:00+00:00\",\"2019-10-04T00:00:00+00:00\",\"2019-10-07T00:00:00+00:00\",\"2019-10-08T00:00:00+00:00\",\"2019-10-09T00:00:00+00:00\",\"2019-10-10T00:00:00+00:00\",\"2019-10-11T00:00:00+00:00\",\"2019-10-14T00:00:00+00:00\",\"2019-10-15T00:00:00+00:00\",\"2019-10-16T00:00:00+00:00\",\"2019-10-17T00:00:00+00:00\",\"2019-10-18T00:00:00+00:00\",\"2019-10-21T00:00:00+00:00\",\"2019-10-22T00:00:00+00:00\",\"2019-10-23T00:00:00+00:00\",\"2019-10-24T00:00:00+00:00\",\"2019-10-25T00:00:00+00:00\",\"2019-10-28T00:00:00+00:00\",\"2019-10-29T00:00:00+00:00\",\"2019-10-30T00:00:00+00:00\",\"2019-10-31T00:00:00+00:00\",\"2019-11-01T00:00:00+00:00\",\"2019-11-04T00:00:00+00:00\",\"2019-11-05T00:00:00+00:00\",\"2019-11-06T00:00:00+00:00\",\"2019-11-07T00:00:00+00:00\",\"2019-11-08T00:00:00+00:00\",\"2019-11-11T00:00:00+00:00\",\"2019-11-12T00:00:00+00:00\",\"2019-11-13T00:00:00+00:00\",\"2019-11-14T00:00:00+00:00\",\"2019-11-15T00:00:00+00:00\",\"2019-11-18T00:00:00+00:00\",\"2019-11-19T00:00:00+00:00\",\"2019-11-20T00:00:00+00:00\",\"2019-11-21T00:00:00+00:00\",\"2019-11-22T00:00:00+00:00\",\"2019-11-25T00:00:00+00:00\",\"2019-11-26T00:00:00+00:00\",\"2019-11-27T00:00:00+00:00\",\"2019-11-29T00:00:00+00:00\",\"2019-12-02T00:00:00+00:00\",\"2019-12-03T00:00:00+00:00\",\"2019-12-04T00:00:00+00:00\",\"2019-12-05T00:00:00+00:00\",\"2019-12-06T00:00:00+00:00\",\"2019-12-09T00:00:00+00:00\",\"2019-12-10T00:00:00+00:00\",\"2019-12-11T00:00:00+00:00\",\"2019-12-12T00:00:00+00:00\",\"2019-12-13T00:00:00+00:00\",\"2019-12-16T00:00:00+00:00\",\"2019-12-17T00:00:00+00:00\",\"2019-12-18T00:00:00+00:00\",\"2019-12-19T00:00:00+00:00\",\"2019-12-20T00:00:00+00:00\",\"2019-12-23T00:00:00+00:00\",\"2019-12-24T00:00:00+00:00\",\"2019-12-26T00:00:00+00:00\",\"2019-12-27T00:00:00+00:00\",\"2019-12-30T00:00:00+00:00\",\"2019-12-31T00:00:00+00:00\",\"2020-01-02T00:00:00+00:00\",\"2020-01-03T00:00:00+00:00\",\"2020-01-06T00:00:00+00:00\",\"2020-01-07T00:00:00+00:00\",\"2020-01-08T00:00:00+00:00\",\"2020-01-09T00:00:00+00:00\",\"2020-01-10T00:00:00+00:00\",\"2020-01-13T00:00:00+00:00\",\"2020-01-14T00:00:00+00:00\",\"2020-01-15T00:00:00+00:00\",\"2020-01-16T00:00:00+00:00\",\"2020-01-17T00:00:00+00:00\",\"2020-01-21T00:00:00+00:00\",\"2020-01-22T00:00:00+00:00\",\"2020-01-23T00:00:00+00:00\",\"2020-01-24T00:00:00+00:00\",\"2020-01-27T00:00:00+00:00\",\"2020-01-28T00:00:00+00:00\",\"2020-01-29T00:00:00+00:00\",\"2020-01-30T00:00:00+00:00\",\"2020-01-31T00:00:00+00:00\",\"2020-02-03T00:00:00+00:00\",\"2020-02-04T00:00:00+00:00\",\"2020-02-05T00:00:00+00:00\",\"2020-02-06T00:00:00+00:00\",\"2020-02-07T00:00:00+00:00\",\"2020-02-10T00:00:00+00:00\",\"2020-02-11T00:00:00+00:00\",\"2020-02-12T00:00:00+00:00\",\"2020-02-13T00:00:00+00:00\",\"2020-02-14T00:00:00+00:00\",\"2020-02-18T00:00:00+00:00\",\"2020-02-19T00:00:00+00:00\",\"2020-02-20T00:00:00+00:00\",\"2020-02-21T00:00:00+00:00\",\"2020-02-24T00:00:00+00:00\",\"2020-02-25T00:00:00+00:00\",\"2020-02-26T00:00:00+00:00\",\"2020-02-27T00:00:00+00:00\",\"2020-02-28T00:00:00+00:00\",\"2020-03-02T00:00:00+00:00\",\"2020-03-03T00:00:00+00:00\",\"2020-03-04T00:00:00+00:00\",\"2020-03-05T00:00:00+00:00\",\"2020-03-06T00:00:00+00:00\",\"2020-03-09T00:00:00+00:00\",\"2020-03-10T00:00:00+00:00\",\"2020-03-11T00:00:00+00:00\",\"2020-03-12T00:00:00+00:00\",\"2020-03-13T00:00:00+00:00\",\"2020-03-16T00:00:00+00:00\",\"2020-03-17T00:00:00+00:00\",\"2020-03-18T00:00:00+00:00\",\"2020-03-19T00:00:00+00:00\",\"2020-03-20T00:00:00+00:00\",\"2020-03-23T00:00:00+00:00\",\"2020-03-24T00:00:00+00:00\",\"2020-03-25T00:00:00+00:00\",\"2020-03-26T00:00:00+00:00\",\"2020-03-27T00:00:00+00:00\",\"2020-03-30T00:00:00+00:00\",\"2020-03-31T00:00:00+00:00\",\"2020-04-01T00:00:00+00:00\",\"2020-04-02T00:00:00+00:00\",\"2020-04-03T00:00:00+00:00\",\"2020-04-06T00:00:00+00:00\",\"2020-04-07T00:00:00+00:00\",\"2020-04-08T00:00:00+00:00\",\"2020-04-09T00:00:00+00:00\",\"2020-04-13T00:00:00+00:00\",\"2020-04-14T00:00:00+00:00\",\"2020-04-15T00:00:00+00:00\",\"2020-04-16T00:00:00+00:00\",\"2020-04-17T00:00:00+00:00\",\"2020-04-20T00:00:00+00:00\",\"2020-04-21T00:00:00+00:00\",\"2020-04-22T00:00:00+00:00\",\"2020-04-23T00:00:00+00:00\",\"2020-04-24T00:00:00+00:00\",\"2020-04-27T00:00:00+00:00\",\"2020-04-28T00:00:00+00:00\",\"2020-04-29T00:00:00+00:00\",\"2020-04-30T00:00:00+00:00\",\"2020-05-01T00:00:00+00:00\",\"2020-05-04T00:00:00+00:00\",\"2020-05-05T00:00:00+00:00\",\"2020-05-06T00:00:00+00:00\",\"2020-05-07T00:00:00+00:00\",\"2020-05-08T00:00:00+00:00\",\"2020-05-11T00:00:00+00:00\",\"2020-05-12T00:00:00+00:00\",\"2020-05-13T00:00:00+00:00\",\"2020-05-14T00:00:00+00:00\",\"2020-05-15T00:00:00+00:00\",\"2020-05-18T00:00:00+00:00\",\"2020-05-19T00:00:00+00:00\",\"2020-05-20T00:00:00+00:00\",\"2020-05-21T00:00:00+00:00\",\"2020-05-22T00:00:00+00:00\",\"2020-05-26T00:00:00+00:00\",\"2020-05-27T00:00:00+00:00\",\"2020-05-28T00:00:00+00:00\",\"2020-05-29T00:00:00+00:00\",\"2020-06-01T00:00:00+00:00\",\"2020-06-02T00:00:00+00:00\",\"2020-06-03T00:00:00+00:00\",\"2020-06-04T00:00:00+00:00\",\"2020-06-05T00:00:00+00:00\",\"2020-06-08T00:00:00+00:00\",\"2020-06-09T00:00:00+00:00\",\"2020-06-10T00:00:00+00:00\",\"2020-06-11T00:00:00+00:00\",\"2020-06-12T00:00:00+00:00\",\"2020-06-15T00:00:00+00:00\",\"2020-06-16T00:00:00+00:00\",\"2020-06-17T00:00:00+00:00\",\"2020-06-18T00:00:00+00:00\",\"2020-06-19T00:00:00+00:00\",\"2020-06-22T00:00:00+00:00\",\"2020-06-23T00:00:00+00:00\",\"2020-06-24T00:00:00+00:00\",\"2020-06-25T00:00:00+00:00\",\"2020-06-26T00:00:00+00:00\",\"2020-06-29T00:00:00+00:00\",\"2020-06-30T00:00:00+00:00\",\"2020-07-01T00:00:00+00:00\",\"2020-07-02T00:00:00+00:00\",\"2020-07-06T00:00:00+00:00\",\"2020-07-07T00:00:00+00:00\",\"2020-07-08T00:00:00+00:00\",\"2020-07-09T00:00:00+00:00\",\"2020-07-10T00:00:00+00:00\",\"2020-07-13T00:00:00+00:00\",\"2020-07-14T00:00:00+00:00\",\"2020-07-15T00:00:00+00:00\",\"2020-07-16T00:00:00+00:00\",\"2020-07-17T00:00:00+00:00\",\"2020-07-20T00:00:00+00:00\",\"2020-07-21T00:00:00+00:00\",\"2020-07-22T00:00:00+00:00\",\"2020-07-23T00:00:00+00:00\",\"2020-07-24T00:00:00+00:00\",\"2020-07-27T00:00:00+00:00\",\"2020-07-28T00:00:00+00:00\",\"2020-07-29T00:00:00+00:00\",\"2020-07-30T00:00:00+00:00\",\"2020-07-31T00:00:00+00:00\",\"2020-08-03T00:00:00+00:00\",\"2020-08-04T00:00:00+00:00\",\"2020-08-05T00:00:00+00:00\",\"2020-08-06T00:00:00+00:00\",\"2020-08-07T00:00:00+00:00\",\"2020-08-10T00:00:00+00:00\",\"2020-08-11T00:00:00+00:00\",\"2020-08-12T00:00:00+00:00\",\"2020-08-13T00:00:00+00:00\",\"2020-08-14T00:00:00+00:00\",\"2020-08-17T00:00:00+00:00\",\"2020-08-18T00:00:00+00:00\",\"2020-08-19T00:00:00+00:00\",\"2020-08-20T00:00:00+00:00\",\"2020-08-21T00:00:00+00:00\",\"2020-08-24T00:00:00+00:00\",\"2020-08-25T00:00:00+00:00\",\"2020-08-26T00:00:00+00:00\",\"2020-08-27T00:00:00+00:00\",\"2020-08-28T00:00:00+00:00\",\"2020-08-31T00:00:00+00:00\",\"2020-09-01T00:00:00+00:00\",\"2020-09-02T00:00:00+00:00\",\"2020-09-03T00:00:00+00:00\",\"2020-09-04T00:00:00+00:00\",\"2020-09-08T00:00:00+00:00\",\"2020-09-09T00:00:00+00:00\",\"2020-09-10T00:00:00+00:00\",\"2020-09-11T00:00:00+00:00\",\"2020-09-14T00:00:00+00:00\",\"2020-09-15T00:00:00+00:00\",\"2020-09-16T00:00:00+00:00\",\"2020-09-17T00:00:00+00:00\",\"2020-09-18T00:00:00+00:00\",\"2020-09-21T00:00:00+00:00\",\"2020-09-22T00:00:00+00:00\",\"2020-09-23T00:00:00+00:00\",\"2020-09-24T00:00:00+00:00\",\"2020-09-25T00:00:00+00:00\",\"2020-09-28T00:00:00+00:00\",\"2020-09-29T00:00:00+00:00\",\"2020-09-30T00:00:00+00:00\",\"2020-10-01T00:00:00+00:00\",\"2020-10-02T00:00:00+00:00\",\"2020-10-05T00:00:00+00:00\",\"2020-10-06T00:00:00+00:00\",\"2020-10-07T00:00:00+00:00\",\"2020-10-08T00:00:00+00:00\",\"2020-10-09T00:00:00+00:00\",\"2020-10-12T00:00:00+00:00\",\"2020-10-13T00:00:00+00:00\",\"2020-10-14T00:00:00+00:00\",\"2020-10-15T00:00:00+00:00\",\"2020-10-16T00:00:00+00:00\",\"2020-10-19T00:00:00+00:00\",\"2020-10-20T00:00:00+00:00\",\"2020-10-21T00:00:00+00:00\",\"2020-10-22T00:00:00+00:00\",\"2020-10-23T00:00:00+00:00\",\"2020-10-26T00:00:00+00:00\",\"2020-10-27T00:00:00+00:00\",\"2020-10-28T00:00:00+00:00\",\"2020-10-29T00:00:00+00:00\",\"2020-10-30T00:00:00+00:00\",\"2020-11-02T00:00:00+00:00\",\"2020-11-03T00:00:00+00:00\",\"2020-11-04T00:00:00+00:00\",\"2020-11-05T00:00:00+00:00\",\"2020-11-06T00:00:00+00:00\",\"2020-11-09T00:00:00+00:00\",\"2020-11-10T00:00:00+00:00\",\"2020-11-11T00:00:00+00:00\",\"2020-11-12T00:00:00+00:00\",\"2020-11-13T00:00:00+00:00\",\"2020-11-16T00:00:00+00:00\",\"2020-11-17T00:00:00+00:00\",\"2020-11-18T00:00:00+00:00\",\"2020-11-19T00:00:00+00:00\",\"2020-11-20T00:00:00+00:00\",\"2020-11-23T00:00:00+00:00\",\"2020-11-24T00:00:00+00:00\",\"2020-11-25T00:00:00+00:00\",\"2020-11-27T00:00:00+00:00\",\"2020-11-30T00:00:00+00:00\",\"2020-12-01T00:00:00+00:00\",\"2020-12-02T00:00:00+00:00\",\"2020-12-03T00:00:00+00:00\",\"2020-12-04T00:00:00+00:00\",\"2020-12-07T00:00:00+00:00\",\"2020-12-08T00:00:00+00:00\",\"2020-12-09T00:00:00+00:00\",\"2020-12-10T00:00:00+00:00\",\"2020-12-11T00:00:00+00:00\",\"2020-12-14T00:00:00+00:00\",\"2020-12-15T00:00:00+00:00\",\"2020-12-16T00:00:00+00:00\",\"2020-12-17T00:00:00+00:00\",\"2020-12-18T00:00:00+00:00\",\"2020-12-21T00:00:00+00:00\",\"2020-12-22T00:00:00+00:00\",\"2020-12-23T00:00:00+00:00\",\"2020-12-24T00:00:00+00:00\",\"2020-12-28T00:00:00+00:00\",\"2020-12-29T00:00:00+00:00\",\"2020-12-30T00:00:00+00:00\",\"2020-12-31T00:00:00+00:00\",\"2021-01-04T00:00:00+00:00\",\"2021-01-05T00:00:00+00:00\",\"2021-01-06T00:00:00+00:00\",\"2021-01-07T00:00:00+00:00\",\"2021-01-08T00:00:00+00:00\",\"2021-01-11T00:00:00+00:00\",\"2021-01-12T00:00:00+00:00\",\"2021-01-13T00:00:00+00:00\",\"2021-01-14T00:00:00+00:00\",\"2021-01-15T00:00:00+00:00\",\"2021-01-19T00:00:00+00:00\",\"2021-01-20T00:00:00+00:00\",\"2021-01-21T00:00:00+00:00\",\"2021-01-22T00:00:00+00:00\",\"2021-01-25T00:00:00+00:00\",\"2021-01-26T00:00:00+00:00\",\"2021-01-27T00:00:00+00:00\",\"2021-01-28T00:00:00+00:00\",\"2021-01-29T00:00:00+00:00\",\"2021-02-01T00:00:00+00:00\",\"2021-02-02T00:00:00+00:00\",\"2021-02-03T00:00:00+00:00\",\"2021-02-04T00:00:00+00:00\",\"2021-02-05T00:00:00+00:00\",\"2021-02-08T00:00:00+00:00\",\"2021-02-09T00:00:00+00:00\",\"2021-02-10T00:00:00+00:00\",\"2021-02-11T00:00:00+00:00\",\"2021-02-12T00:00:00+00:00\",\"2021-02-16T00:00:00+00:00\",\"2021-02-17T00:00:00+00:00\",\"2021-02-18T00:00:00+00:00\",\"2021-02-19T00:00:00+00:00\",\"2021-02-22T00:00:00+00:00\",\"2021-02-23T00:00:00+00:00\",\"2021-02-24T00:00:00+00:00\",\"2021-02-25T00:00:00+00:00\",\"2021-02-26T00:00:00+00:00\",\"2021-03-01T00:00:00+00:00\",\"2021-03-02T00:00:00+00:00\",\"2021-03-03T00:00:00+00:00\",\"2021-03-04T00:00:00+00:00\",\"2021-03-05T00:00:00+00:00\",\"2021-03-08T00:00:00+00:00\",\"2021-03-09T00:00:00+00:00\",\"2021-03-10T00:00:00+00:00\",\"2021-03-11T00:00:00+00:00\",\"2021-03-12T00:00:00+00:00\",\"2021-03-15T00:00:00+00:00\",\"2021-03-16T00:00:00+00:00\",\"2021-03-17T00:00:00+00:00\",\"2021-03-18T00:00:00+00:00\",\"2021-03-19T00:00:00+00:00\",\"2021-03-22T00:00:00+00:00\",\"2021-03-23T00:00:00+00:00\",\"2021-03-24T00:00:00+00:00\",\"2021-03-25T00:00:00+00:00\",\"2021-03-26T00:00:00+00:00\",\"2021-03-29T00:00:00+00:00\",\"2021-03-30T00:00:00+00:00\",\"2021-03-31T00:00:00+00:00\",\"2021-04-01T00:00:00+00:00\",\"2021-04-05T00:00:00+00:00\",\"2021-04-06T00:00:00+00:00\",\"2021-04-07T00:00:00+00:00\",\"2021-04-08T00:00:00+00:00\",\"2021-04-09T00:00:00+00:00\",\"2021-04-12T00:00:00+00:00\",\"2021-04-13T00:00:00+00:00\",\"2021-04-14T00:00:00+00:00\",\"2021-04-15T00:00:00+00:00\",\"2021-04-16T00:00:00+00:00\",\"2021-04-19T00:00:00+00:00\",\"2021-04-20T00:00:00+00:00\",\"2021-04-21T00:00:00+00:00\",\"2021-04-22T00:00:00+00:00\",\"2021-04-23T00:00:00+00:00\",\"2021-04-26T00:00:00+00:00\",\"2021-04-27T00:00:00+00:00\",\"2021-04-28T00:00:00+00:00\",\"2021-04-29T00:00:00+00:00\",\"2021-04-30T00:00:00+00:00\",\"2021-05-03T00:00:00+00:00\",\"2021-05-04T00:00:00+00:00\",\"2021-05-05T00:00:00+00:00\",\"2021-05-06T00:00:00+00:00\",\"2021-05-07T00:00:00+00:00\",\"2021-05-10T00:00:00+00:00\",\"2021-05-11T00:00:00+00:00\",\"2021-05-12T00:00:00+00:00\",\"2021-05-13T00:00:00+00:00\",\"2021-05-14T00:00:00+00:00\",\"2021-05-17T00:00:00+00:00\",\"2021-05-18T00:00:00+00:00\",\"2021-05-19T00:00:00+00:00\",\"2021-05-20T00:00:00+00:00\",\"2021-05-21T00:00:00+00:00\",\"2021-05-24T00:00:00+00:00\",\"2021-05-25T00:00:00+00:00\",\"2021-05-26T00:00:00+00:00\",\"2021-05-27T00:00:00+00:00\",\"2021-05-28T00:00:00+00:00\",\"2021-06-01T00:00:00+00:00\",\"2021-06-02T00:00:00+00:00\",\"2021-06-03T00:00:00+00:00\",\"2021-06-04T00:00:00+00:00\",\"2021-06-07T00:00:00+00:00\",\"2021-06-08T00:00:00+00:00\",\"2021-06-09T00:00:00+00:00\",\"2021-06-10T00:00:00+00:00\",\"2021-06-11T00:00:00+00:00\",\"2021-06-14T00:00:00+00:00\",\"2021-06-15T00:00:00+00:00\",\"2021-06-16T00:00:00+00:00\",\"2021-06-17T00:00:00+00:00\",\"2021-06-18T00:00:00+00:00\",\"2021-06-21T00:00:00+00:00\",\"2021-06-22T00:00:00+00:00\",\"2021-06-23T00:00:00+00:00\",\"2021-06-24T00:00:00+00:00\",\"2021-06-25T00:00:00+00:00\",\"2021-06-28T00:00:00+00:00\",\"2021-06-29T00:00:00+00:00\",\"2021-06-30T00:00:00+00:00\",\"2021-07-01T00:00:00+00:00\",\"2021-07-02T00:00:00+00:00\",\"2021-07-06T00:00:00+00:00\",\"2021-07-07T00:00:00+00:00\",\"2021-07-08T00:00:00+00:00\",\"2021-07-09T00:00:00+00:00\",\"2021-07-12T00:00:00+00:00\",\"2021-07-13T00:00:00+00:00\",\"2021-07-14T00:00:00+00:00\",\"2021-07-15T00:00:00+00:00\",\"2021-07-16T00:00:00+00:00\",\"2021-07-19T00:00:00+00:00\",\"2021-07-20T00:00:00+00:00\",\"2021-07-21T00:00:00+00:00\",\"2021-07-22T00:00:00+00:00\",\"2021-07-23T00:00:00+00:00\",\"2021-07-26T00:00:00+00:00\",\"2021-07-27T00:00:00+00:00\",\"2021-07-28T00:00:00+00:00\",\"2021-07-29T00:00:00+00:00\",\"2021-07-30T00:00:00+00:00\",\"2021-08-02T00:00:00+00:00\",\"2021-08-03T00:00:00+00:00\",\"2021-08-04T00:00:00+00:00\",\"2021-08-05T00:00:00+00:00\",\"2021-08-06T00:00:00+00:00\",\"2021-08-09T00:00:00+00:00\",\"2021-08-10T00:00:00+00:00\",\"2021-08-11T00:00:00+00:00\",\"2021-08-12T00:00:00+00:00\",\"2021-08-13T00:00:00+00:00\",\"2021-08-16T00:00:00+00:00\",\"2021-08-17T00:00:00+00:00\",\"2021-08-18T00:00:00+00:00\",\"2021-08-19T00:00:00+00:00\",\"2021-08-20T00:00:00+00:00\",\"2021-08-23T00:00:00+00:00\",\"2021-08-24T00:00:00+00:00\",\"2021-08-25T00:00:00+00:00\",\"2021-08-26T00:00:00+00:00\",\"2021-08-27T00:00:00+00:00\",\"2021-08-30T00:00:00+00:00\",\"2021-08-31T00:00:00+00:00\",\"2021-09-01T00:00:00+00:00\",\"2021-09-02T00:00:00+00:00\",\"2021-09-03T00:00:00+00:00\",\"2021-09-07T00:00:00+00:00\",\"2021-09-08T00:00:00+00:00\",\"2021-09-09T00:00:00+00:00\",\"2021-09-10T00:00:00+00:00\",\"2021-09-13T00:00:00+00:00\",\"2021-09-14T00:00:00+00:00\",\"2021-09-15T00:00:00+00:00\",\"2021-09-16T00:00:00+00:00\",\"2021-09-17T00:00:00+00:00\",\"2021-09-20T00:00:00+00:00\",\"2021-09-21T00:00:00+00:00\",\"2021-09-22T00:00:00+00:00\",\"2021-09-23T00:00:00+00:00\",\"2021-09-24T00:00:00+00:00\",\"2021-09-27T00:00:00+00:00\",\"2021-09-28T00:00:00+00:00\",\"2021-09-29T00:00:00+00:00\",\"2021-09-30T00:00:00+00:00\",\"2021-10-01T00:00:00+00:00\",\"2021-10-04T00:00:00+00:00\",\"2021-10-05T00:00:00+00:00\",\"2021-10-06T00:00:00+00:00\",\"2021-10-07T00:00:00+00:00\",\"2021-10-08T00:00:00+00:00\",\"2021-10-11T00:00:00+00:00\",\"2021-10-12T00:00:00+00:00\",\"2021-10-13T00:00:00+00:00\",\"2021-10-14T00:00:00+00:00\",\"2021-10-15T00:00:00+00:00\",\"2021-10-18T00:00:00+00:00\",\"2021-10-19T00:00:00+00:00\",\"2021-10-20T00:00:00+00:00\",\"2021-10-21T00:00:00+00:00\",\"2021-10-22T00:00:00+00:00\",\"2021-10-25T00:00:00+00:00\",\"2021-10-26T00:00:00+00:00\",\"2021-10-27T00:00:00+00:00\",\"2021-10-28T00:00:00+00:00\",\"2021-10-29T00:00:00+00:00\",\"2021-11-01T00:00:00+00:00\",\"2021-11-02T00:00:00+00:00\",\"2021-11-03T00:00:00+00:00\",\"2021-11-04T00:00:00+00:00\",\"2021-11-05T00:00:00+00:00\",\"2021-11-08T00:00:00+00:00\",\"2021-11-09T00:00:00+00:00\",\"2021-11-10T00:00:00+00:00\",\"2021-11-11T00:00:00+00:00\",\"2021-11-12T00:00:00+00:00\",\"2021-11-15T00:00:00+00:00\",\"2021-11-16T00:00:00+00:00\",\"2021-11-17T00:00:00+00:00\",\"2021-11-18T00:00:00+00:00\",\"2021-11-19T00:00:00+00:00\",\"2021-11-22T00:00:00+00:00\",\"2021-11-23T00:00:00+00:00\",\"2021-11-24T00:00:00+00:00\",\"2021-11-26T00:00:00+00:00\",\"2021-11-29T00:00:00+00:00\",\"2021-11-30T00:00:00+00:00\",\"2021-12-01T00:00:00+00:00\",\"2021-12-02T00:00:00+00:00\",\"2021-12-03T00:00:00+00:00\",\"2021-12-06T00:00:00+00:00\",\"2021-12-07T00:00:00+00:00\",\"2021-12-08T00:00:00+00:00\",\"2021-12-09T00:00:00+00:00\",\"2021-12-10T00:00:00+00:00\",\"2021-12-13T00:00:00+00:00\",\"2021-12-14T00:00:00+00:00\",\"2021-12-15T00:00:00+00:00\",\"2021-12-16T00:00:00+00:00\",\"2021-12-17T00:00:00+00:00\",\"2021-12-20T00:00:00+00:00\",\"2021-12-21T00:00:00+00:00\",\"2021-12-22T00:00:00+00:00\",\"2021-12-23T00:00:00+00:00\",\"2021-12-27T00:00:00+00:00\",\"2021-12-28T00:00:00+00:00\",\"2021-12-29T00:00:00+00:00\",\"2021-12-30T00:00:00+00:00\",\"2021-12-31T00:00:00+00:00\",\"2022-01-03T00:00:00+00:00\",\"2022-01-04T00:00:00+00:00\",\"2022-01-05T00:00:00+00:00\",\"2022-01-06T00:00:00+00:00\",\"2022-01-07T00:00:00+00:00\",\"2022-01-10T00:00:00+00:00\",\"2022-01-11T00:00:00+00:00\",\"2022-01-12T00:00:00+00:00\",\"2022-01-13T00:00:00+00:00\",\"2022-01-14T00:00:00+00:00\",\"2022-01-18T00:00:00+00:00\",\"2022-01-19T00:00:00+00:00\",\"2022-01-20T00:00:00+00:00\",\"2022-01-21T00:00:00+00:00\",\"2022-01-24T00:00:00+00:00\",\"2022-01-25T00:00:00+00:00\",\"2022-01-26T00:00:00+00:00\",\"2022-01-27T00:00:00+00:00\",\"2022-01-28T00:00:00+00:00\",\"2022-01-31T00:00:00+00:00\",\"2022-02-01T00:00:00+00:00\",\"2022-02-02T00:00:00+00:00\",\"2022-02-03T00:00:00+00:00\",\"2022-02-04T00:00:00+00:00\",\"2022-02-07T00:00:00+00:00\",\"2022-02-08T00:00:00+00:00\",\"2022-02-09T00:00:00+00:00\",\"2022-02-10T00:00:00+00:00\",\"2022-02-11T00:00:00+00:00\",\"2022-02-14T00:00:00+00:00\",\"2022-02-15T00:00:00+00:00\",\"2022-02-16T00:00:00+00:00\",\"2022-02-17T00:00:00+00:00\",\"2022-02-18T00:00:00+00:00\",\"2022-02-22T00:00:00+00:00\",\"2022-02-23T00:00:00+00:00\",\"2022-02-24T00:00:00+00:00\",\"2022-02-25T00:00:00+00:00\",\"2022-02-28T00:00:00+00:00\",\"2022-03-01T00:00:00+00:00\",\"2022-03-02T00:00:00+00:00\",\"2022-03-03T00:00:00+00:00\",\"2022-03-04T00:00:00+00:00\",\"2022-03-07T00:00:00+00:00\",\"2022-03-08T00:00:00+00:00\",\"2022-03-09T00:00:00+00:00\",\"2022-03-10T00:00:00+00:00\",\"2022-03-11T00:00:00+00:00\",\"2022-03-14T00:00:00+00:00\",\"2022-03-15T00:00:00+00:00\",\"2022-03-16T00:00:00+00:00\",\"2022-03-17T00:00:00+00:00\",\"2022-03-18T00:00:00+00:00\",\"2022-03-21T00:00:00+00:00\",\"2022-03-22T00:00:00+00:00\",\"2022-03-23T00:00:00+00:00\",\"2022-03-24T00:00:00+00:00\",\"2022-03-25T00:00:00+00:00\",\"2022-03-28T00:00:00+00:00\",\"2022-03-29T00:00:00+00:00\",\"2022-03-30T00:00:00+00:00\",\"2022-03-31T00:00:00+00:00\",\"2022-04-01T00:00:00+00:00\",\"2022-04-04T00:00:00+00:00\",\"2022-04-05T00:00:00+00:00\",\"2022-04-06T00:00:00+00:00\",\"2022-04-07T00:00:00+00:00\",\"2022-04-08T00:00:00+00:00\",\"2022-04-11T00:00:00+00:00\",\"2022-04-12T00:00:00+00:00\",\"2022-04-13T00:00:00+00:00\",\"2022-04-14T00:00:00+00:00\",\"2022-04-18T00:00:00+00:00\",\"2022-04-19T00:00:00+00:00\",\"2022-04-20T00:00:00+00:00\",\"2022-04-21T00:00:00+00:00\",\"2022-04-22T00:00:00+00:00\",\"2022-04-25T00:00:00+00:00\",\"2022-04-26T00:00:00+00:00\",\"2022-04-27T00:00:00+00:00\",\"2022-04-28T00:00:00+00:00\",\"2022-04-29T00:00:00+00:00\",\"2022-05-02T00:00:00+00:00\",\"2022-05-03T00:00:00+00:00\",\"2022-05-04T00:00:00+00:00\",\"2022-05-05T00:00:00+00:00\",\"2022-05-06T00:00:00+00:00\",\"2022-05-09T00:00:00+00:00\",\"2022-05-10T00:00:00+00:00\",\"2022-05-11T00:00:00+00:00\",\"2022-05-12T00:00:00+00:00\",\"2022-05-13T00:00:00+00:00\",\"2022-05-16T00:00:00+00:00\",\"2022-05-17T00:00:00+00:00\",\"2022-05-18T00:00:00+00:00\",\"2022-05-19T00:00:00+00:00\",\"2022-05-20T00:00:00+00:00\",\"2022-05-23T00:00:00+00:00\",\"2022-05-24T00:00:00+00:00\",\"2022-05-25T00:00:00+00:00\",\"2022-05-26T00:00:00+00:00\",\"2022-05-27T00:00:00+00:00\",\"2022-05-31T00:00:00+00:00\",\"2022-06-01T00:00:00+00:00\",\"2022-06-02T00:00:00+00:00\",\"2022-06-03T00:00:00+00:00\",\"2022-06-06T00:00:00+00:00\",\"2022-06-07T00:00:00+00:00\",\"2022-06-08T00:00:00+00:00\",\"2022-06-09T00:00:00+00:00\",\"2022-06-10T00:00:00+00:00\",\"2022-06-13T00:00:00+00:00\",\"2022-06-14T00:00:00+00:00\",\"2022-06-15T00:00:00+00:00\",\"2022-06-16T00:00:00+00:00\",\"2022-06-17T00:00:00+00:00\",\"2022-06-21T00:00:00+00:00\",\"2022-06-22T00:00:00+00:00\",\"2022-06-23T00:00:00+00:00\",\"2022-06-24T00:00:00+00:00\",\"2022-06-27T00:00:00+00:00\",\"2022-06-28T00:00:00+00:00\",\"2022-06-29T00:00:00+00:00\",\"2022-06-30T00:00:00+00:00\",\"2022-07-01T00:00:00+00:00\",\"2022-07-05T00:00:00+00:00\",\"2022-07-06T00:00:00+00:00\",\"2022-07-07T00:00:00+00:00\",\"2022-07-08T00:00:00+00:00\",\"2022-07-11T00:00:00+00:00\",\"2022-07-12T00:00:00+00:00\",\"2022-07-13T00:00:00+00:00\",\"2022-07-14T00:00:00+00:00\",\"2022-07-15T00:00:00+00:00\",\"2022-07-18T00:00:00+00:00\",\"2022-07-19T00:00:00+00:00\",\"2022-07-20T00:00:00+00:00\",\"2022-07-21T00:00:00+00:00\",\"2022-07-22T00:00:00+00:00\",\"2022-07-25T00:00:00+00:00\",\"2022-07-26T00:00:00+00:00\",\"2022-07-27T00:00:00+00:00\",\"2022-07-28T00:00:00+00:00\",\"2022-07-29T00:00:00+00:00\",\"2022-08-01T00:00:00+00:00\",\"2022-08-02T00:00:00+00:00\",\"2022-08-03T00:00:00+00:00\",\"2022-08-04T00:00:00+00:00\",\"2022-08-05T00:00:00+00:00\",\"2022-08-08T00:00:00+00:00\",\"2022-08-09T00:00:00+00:00\",\"2022-08-10T00:00:00+00:00\",\"2022-08-11T00:00:00+00:00\",\"2022-08-12T00:00:00+00:00\",\"2022-08-15T00:00:00+00:00\",\"2022-08-16T00:00:00+00:00\",\"2022-08-17T00:00:00+00:00\",\"2022-08-18T00:00:00+00:00\",\"2022-08-19T00:00:00+00:00\",\"2022-08-22T00:00:00+00:00\",\"2022-08-23T00:00:00+00:00\",\"2022-08-24T00:00:00+00:00\",\"2022-08-25T00:00:00+00:00\",\"2022-08-26T00:00:00+00:00\",\"2022-08-29T00:00:00+00:00\",\"2022-08-30T00:00:00+00:00\",\"2022-08-31T00:00:00+00:00\",\"2022-09-01T00:00:00+00:00\",\"2022-09-02T00:00:00+00:00\",\"2022-09-06T00:00:00+00:00\",\"2022-09-07T00:00:00+00:00\",\"2022-09-08T00:00:00+00:00\",\"2022-09-09T00:00:00+00:00\",\"2022-09-12T00:00:00+00:00\",\"2022-09-13T00:00:00+00:00\",\"2022-09-14T00:00:00+00:00\",\"2022-09-15T00:00:00+00:00\",\"2022-09-16T00:00:00+00:00\",\"2022-09-19T00:00:00+00:00\",\"2022-09-20T00:00:00+00:00\",\"2022-09-21T00:00:00+00:00\",\"2022-09-22T00:00:00+00:00\",\"2022-09-23T00:00:00+00:00\",\"2022-09-26T00:00:00+00:00\",\"2022-09-27T00:00:00+00:00\",\"2022-09-28T00:00:00+00:00\",\"2022-09-29T00:00:00+00:00\",\"2022-09-30T00:00:00+00:00\",\"2022-10-03T00:00:00+00:00\",\"2022-10-04T00:00:00+00:00\",\"2022-10-05T00:00:00+00:00\",\"2022-10-06T00:00:00+00:00\",\"2022-10-07T00:00:00+00:00\",\"2022-10-10T00:00:00+00:00\",\"2022-10-11T00:00:00+00:00\",\"2022-10-12T00:00:00+00:00\",\"2022-10-13T00:00:00+00:00\",\"2022-10-14T00:00:00+00:00\",\"2022-10-17T00:00:00+00:00\",\"2022-10-18T00:00:00+00:00\",\"2022-10-19T00:00:00+00:00\",\"2022-10-20T00:00:00+00:00\",\"2022-10-21T00:00:00+00:00\",\"2022-10-24T00:00:00+00:00\",\"2022-10-25T00:00:00+00:00\",\"2022-10-26T00:00:00+00:00\",\"2022-10-27T00:00:00+00:00\",\"2022-10-28T00:00:00+00:00\",\"2022-10-31T00:00:00+00:00\",\"2022-11-01T00:00:00+00:00\",\"2022-11-02T00:00:00+00:00\",\"2022-11-03T00:00:00+00:00\",\"2022-11-04T00:00:00+00:00\",\"2022-11-07T00:00:00+00:00\",\"2022-11-08T00:00:00+00:00\",\"2022-11-09T00:00:00+00:00\",\"2022-11-10T00:00:00+00:00\",\"2022-11-11T00:00:00+00:00\",\"2022-11-14T00:00:00+00:00\",\"2022-11-15T00:00:00+00:00\",\"2022-11-16T00:00:00+00:00\",\"2022-11-17T00:00:00+00:00\",\"2022-11-18T00:00:00+00:00\",\"2022-11-21T00:00:00+00:00\",\"2022-11-22T00:00:00+00:00\",\"2022-11-23T00:00:00+00:00\",\"2022-11-25T00:00:00+00:00\",\"2022-11-28T00:00:00+00:00\",\"2022-11-29T00:00:00+00:00\",\"2022-11-30T00:00:00+00:00\",\"2022-12-01T00:00:00+00:00\",\"2022-12-02T00:00:00+00:00\",\"2022-12-05T00:00:00+00:00\",\"2022-12-06T00:00:00+00:00\",\"2022-12-07T00:00:00+00:00\",\"2022-12-08T00:00:00+00:00\",\"2022-12-09T00:00:00+00:00\",\"2022-12-12T00:00:00+00:00\",\"2022-12-13T00:00:00+00:00\",\"2022-12-14T00:00:00+00:00\",\"2022-12-15T00:00:00+00:00\",\"2022-12-16T00:00:00+00:00\",\"2022-12-19T00:00:00+00:00\",\"2022-12-20T00:00:00+00:00\",\"2022-12-21T00:00:00+00:00\",\"2022-12-22T00:00:00+00:00\",\"2022-12-23T00:00:00+00:00\",\"2022-12-27T00:00:00+00:00\",\"2022-12-28T00:00:00+00:00\",\"2022-12-29T00:00:00+00:00\",\"2022-12-30T00:00:00+00:00\",\"2023-01-03T00:00:00+00:00\",\"2023-01-04T00:00:00+00:00\",\"2023-01-05T00:00:00+00:00\",\"2023-01-06T00:00:00+00:00\",\"2023-01-09T00:00:00+00:00\",\"2023-01-10T00:00:00+00:00\",\"2023-01-11T00:00:00+00:00\",\"2023-01-12T00:00:00+00:00\",\"2023-01-13T00:00:00+00:00\",\"2023-01-17T00:00:00+00:00\",\"2023-01-18T00:00:00+00:00\",\"2023-01-19T00:00:00+00:00\",\"2023-01-20T00:00:00+00:00\",\"2023-01-23T00:00:00+00:00\",\"2023-01-24T00:00:00+00:00\",\"2023-01-25T00:00:00+00:00\",\"2023-01-26T00:00:00+00:00\",\"2023-01-27T00:00:00+00:00\",\"2023-01-30T00:00:00+00:00\",\"2023-01-31T00:00:00+00:00\",\"2023-02-01T00:00:00+00:00\",\"2023-02-02T00:00:00+00:00\",\"2023-02-03T00:00:00+00:00\",\"2023-02-06T00:00:00+00:00\",\"2023-02-07T00:00:00+00:00\",\"2023-02-08T00:00:00+00:00\",\"2023-02-09T00:00:00+00:00\",\"2023-02-10T00:00:00+00:00\",\"2023-02-13T00:00:00+00:00\",\"2023-02-14T00:00:00+00:00\",\"2023-02-15T00:00:00+00:00\",\"2023-02-16T00:00:00+00:00\",\"2023-02-17T00:00:00+00:00\",\"2023-02-21T00:00:00+00:00\",\"2023-02-22T00:00:00+00:00\",\"2023-02-23T00:00:00+00:00\",\"2023-02-24T00:00:00+00:00\",\"2023-02-27T00:00:00+00:00\",\"2023-02-28T00:00:00+00:00\",\"2023-03-01T00:00:00+00:00\",\"2023-03-02T00:00:00+00:00\",\"2023-03-03T00:00:00+00:00\",\"2023-03-06T00:00:00+00:00\",\"2023-03-07T00:00:00+00:00\",\"2023-03-08T00:00:00+00:00\",\"2023-03-09T00:00:00+00:00\",\"2023-03-10T00:00:00+00:00\",\"2023-03-13T00:00:00+00:00\",\"2023-03-14T00:00:00+00:00\",\"2023-03-15T00:00:00+00:00\",\"2023-03-16T00:00:00+00:00\",\"2023-03-17T00:00:00+00:00\",\"2023-03-20T00:00:00+00:00\",\"2023-03-21T00:00:00+00:00\",\"2023-03-22T00:00:00+00:00\",\"2023-03-23T00:00:00+00:00\",\"2023-03-24T00:00:00+00:00\",\"2023-03-27T00:00:00+00:00\",\"2023-03-28T00:00:00+00:00\",\"2023-03-29T00:00:00+00:00\",\"2023-03-30T00:00:00+00:00\",\"2023-03-31T00:00:00+00:00\",\"2023-04-03T00:00:00+00:00\",\"2023-04-04T00:00:00+00:00\",\"2023-04-05T00:00:00+00:00\",\"2023-04-06T00:00:00+00:00\",\"2023-04-10T00:00:00+00:00\",\"2023-04-11T00:00:00+00:00\"],\"xaxis\":\"x\",\"y\":[114.389999,115.150002,111.470001,111.919998,111.07,111.870003,112.739998,111.949997,112.900002,110.529999,110.82,110.160004,110.300003,108.970001,109.489998,107.769997,108.739998,109.68,111.339996,113.639999,114.440002,114.730003,114.699997,113.910004,113.690002,113.410004,112.800003,112.540001,114.290001,112.769997,112.150002,111.080002,109.199997,108.599998,108.190002,108.940002,109.260002,108.309998,110.739998,111.5,111.139999,111.910004,111.529999,111.449997,110.360001,108.379997,108.400002,107.879997,108.639999,108.209999,108.370003,105.699997,105.209999,105.919998,105.459999,106.900002,105.089996,105.779999,104.379997,104.5,107.459999,108.400002,107.059998,107.559998,107.800003,110.769997,110.93,112.120003,111.089996,111.739998,114.239998,114.779999,115.519997,115.589996,116.300003,117.610001,117.080002,116.690002,116.25,117.129997,117.529999,118.290001,118.269997,117.720001,115.949997,115.879997,115.040001,114.330002,115.309998,115.07,115.050003,116.389999,115.410004,115.150002,115.220001,117.279999,117.029999,116.370003,116.040001,114.839996,115.239998,115.699997,114.699997,114.769997,114.970001,114.580002,114.879997,114.129997,114.489998,114.43,114.660004,118.059998,119.239998,119.230003,118.459999,117.970001,116.870003,115.760002,114.239998,114.610001,114.120003,115.660004,116.809998,116.099998,115.779999,115.029999,114.949997,111.470001,110.830002,108.849998,108.779999,110.800003,109.839996,109.220001,108.339996,106.160004,105.029999,105.900002,104.559998,106.629997,106.980003,110.480003,110.220001,110.809998,109.290001,109.669998,111.730003,112.93,112.360001,111.940002,111.120003,110.709999,110.080002,110.760002,111.199997,110.489998,109.610001,107.389999,109.980003,110.029999,111.400002,110.800003,111.32,112.889999,111.599998,105.360001,106.980003,103.489998,103.660004,102.900002,101.970001,101.940002,100.559998,100.889999,100.580002,98.279999,98.43,94.220001,95.959999,97.150002,98.32,98.809998,99.779999,98.889999,100.93,101.470001,101.82,101.489998,100.730003,100.169998,101.360001,102.470001,103.449997,103.5,104.900002,103.589996,103.699997,103.089996,104.309998,104.239998,105.110001,105.239998,103.800003,104.849998,104.25,104.550003,104.620003,103.5,102.339996,102.010002,102.919998,103.849998,103.099998,105.699997,105.370003,105.800003,105.989998,106.089996,107.269997,105.470001,105.379997,105.209999,105.910004,105.919998,104.550003,104.57,103.470001,103.230003,104.550003,104.790001,104.980003,105.870003,106.800003,107.790001,108.400002,106.650002,103.489998,102.32,100.57,100.400002,100.449997,100.800003,101.989998,104.68,105.440002,106.360001,105.730003,106.110001,105.650002,105.199997,105.720001,106.730003,111.849998,111.0,111.389999,114.660004,114.949997,113.93,114.370003,114.150002,114.150002,114.580002,117.160004,116.720001,117.0,115.779999,116.68,115.470001,114.029999,113.669998,112.739998,112.839996,110.449997,111.720001,110.900002,112.169998,111.75,111.809998,111.919998,111.790001,109.790001,109.959999,109.830002,108.400002,109.18,106.589996,106.860001,109.900002,110.379997,110.870003,110.019997,111.209999,111.57,110.900002,110.160004,110.300003,110.370003,111.410004,111.589996,111.089996,111.669998,109.769997,108.980003,109.309998,109.550003,112.43,114.519997,114.199997,113.870003,114.269997,113.480003,113.489998,113.830002,114.360001,115.349998,115.57,115.5,114.940002,115.07,115.120003,114.449997,116.449997,116.879997,117.239998,116.510002,117.18,116.080002,116.18,116.800003,113.43,110.980003,110.5,108.279999,110.080002,110.449997,108.510002,110.330002,106.910004,106.379997,107.980003,109.75,108.440002,108.43,109.269997,108.779999,106.989998,107.559998,107.209999,109.889999,110.559998,108.989998,110.220001,113.720001,112.980003,116.059998,117.269997,117.199997,118.470001,120.400002,119.870003,118.610001,120.080002,120.339996,120.339996,119.120003,119.260002,118.360001,118.050003,118.639999,118.769997,119.0,114.900002,112.910004,114.940002,115.5,113.059998,113.160004,115.400002,117.989998,116.870003,121.589996,120.620003,121.57,121.019997,123.769997,125.099998,125.150002,125.660004,126.650002,127.209999,127.419998,126.260002,125.730003,127.989998,129.419998,130.300003,129.839996,131.289993,130.399994,130.100006,130.619995,128.820007,128.839996,129.529999,130.649994,131.25,130.619995,130.720001,131.220001,132.070007,131.820007,132.429993,132.410004,132.740005,129.960007,132.470001,133.309998,135.779999,135.460007,134.770004,135.020004,138.470001,138.830002,138.839996,138.669998,139.020004,138.220001,138.880005,137.910004,137.630005,139.100006,139.770004,140.080002,139.479996,141.100006,139.229996,138.270004,137.860001,137.580002,138.229996,137.25,137.199997,140.759995,138.600006,137.899994,138.289993,138.070007,137.399994,136.740005,136.429993,132.940002,134.970001,135.539993,136.130005,134.830002,134.240005,136.600006,137.729996,138.289993,137.669998,137.850006,138.820007,139.289993,138.339996,138.190002,137.710007,138.389999,138.360001,136.919998,133.199997,132.229996,128.949997,125.620003,118.489998,121.580002,122.949997,120.190002,116.43,110.32,99.230003,101.279999,100.050003,96.959999,103.989998,93.980003,97.440002,90.790001,88.110001,89.459999,83.75,90.099998,95.150002,98.57,94.839996,94.089996,94.169998,86.559998,87.910004,87.480003,90.989998,94.5,94.860001,104.389999,103.110001,102.0,92.029999,90.57,95.699997,94.709999,91.379997,91.870003,91.279999,91.099998,95.629997,98.360001,99.449997,96.839996,93.739998,92.669998,94.209999,92.760002,92.910004,94.080002,91.110001,90.790001,86.860001,88.110001,87.279999,91.150002,91.199997,92.389999,91.760002,90.360001,97.5,102.580002,102.949997,99.18,99.510002,100.419998,104.919998,106.610001,115.769997,114.190002,111.629997,110.510002,101.580002,101.129997,101.43,105.68,102.540001,100.519997,100.599998,97.949997,99.970001,96.839996,98.209999,95.370003,94.489998,94.660004,95.709999,94.959999,95.199997,94.099998,93.339996,94.120003,96.839996,99.269997,99.949997,101.290001,101.220001,100.080002,98.389999,100.050003,100.129997,99.349998,99.800003,97.629997,97.889999,99.709999,97.739998,96.93,97.57,95.949997,98.470001,98.099998,99.489998,102.040001,106.160004,106.43,103.360001,103.309998,102.0,99.910004,100.589996,98.029999,98.57,100.209999,101.980003,100.269997,102.650002,103.25,102.18,100.870003,101.940002,104.989998,105.209999,103.57,101.690002,102.419998,101.360001,103.459999,102.849998,101.129997,99.339996,99.489998,96.050003,95.660004,95.349998,94.300003,93.720001,96.93,96.029999,97.199997,97.769997,98.589996,99.25,100.860001,100.349998,101.919998,102.110001,103.0,103.220001,101.93,101.779999,102.330002,101.870003,101.769997,100.989998,103.239998,104.449997,102.699997,100.919998,98.300003,97.980003,98.419998,100.879997,104.739998,102.07,105.099998,105.099998,118.900002,117.449997,116.959999,113.959999,114.860001,118.610001,116.440002,118.610001,115.82,115.650002,118.169998,123.5,122.379997,122.349998,120.720001,121.580002,122.309998,121.889999,123.290001,122.169998,122.330002,123.300003,120.779999,120.019997,121.419998,120.900002,121.080002,121.449997,119.879997,125.0,123.519997,126.519997,125.550003,126.650002,126.279999,125.849998,127.330002,127.860001,126.300003,132.770004,138.190002,136.350006,138.199997,141.660004,140.789993,142.75,141.649994,140.699997,138.169998,136.160004,134.399994,133.169998,133.169998,129.850006,132.169998,131.720001,130.070007,134.389999,135.759995,138.660004,139.490005,140.300003,139.979996,140.869995,140.550003,141.610001,145.320007,145.380005,145.789993,148.839996,150.190002,152.309998,153.759995,154.899994,150.869995,151.380005,151.779999,154.979996,154.380005,153.490005,155.460007,154.25,156.160004,156.149994,157.630005,156.919998,154.600006,156.880005,161.690002,155.940002,153.970001,152.119995,153.179993,152.970001,155.449997,153.729996,155.869995,154.490005,153.789993,154.940002,154.279999,155.229996,155.509995,157.039993,157.25,155.199997,153.830002,152.199997,154.509995,153.880005,151.75,150.610001,150.300003,151.130005,152.460007,151.570007,152.889999,155.279999,154.490005,155.479996,155.639999,158.279999,160.820007,161.5,163.729996,162.389999,160.779999,162.449997,164.449997,164.850006,165.5,161.179993,161.860001,163.220001,164.229996,165.699997,163.740005,164.75,164.940002,166.910004,167.440002,167.25,166.669998,167.100006,165.759995,164.220001,165.240005,161.199997,160.330002,156.919998,157.619995,157.460007,149.699997,151.199997,150.970001,152.039993,153.119995,154.5,154.479996,156.309998,156.080002,157.139999,156.320007,155.779999,154.279999,152.529999,156.149994,159.160004,157.389999,157.279999,156.529999,156.279999,149.820007,151.119995,153.649994,153.440002,152.839996,151.960007,152.490005,152.770004,153.869995,153.669998,154.449997,153.320007,153.369995,153.690002,157.820007,158.550003,159.979996,161.5,162.369995,162.160004,159.029999,158.860001,158.009995,155.559998,154.899994,157.089996,158.550003,161.779999,163.830002,163.160004,163.490005,161.369995,160.759995,161.610001,160.889999,161.380005,159.580002,160.830002,160.720001,160.050003,161.339996,158.690002,160.850006,159.009995,154.559998,154.550003,157.25,161.710007,163.589996,167.399994,169.300003,166.899994,166.990005,168.300003,170.440002,170.139999,169.100006,171.509995,171.339996,171.289993,166.690002,165.410004,164.009995,167.169998,168.610001,168.649994,170.869995,171.330002,172.089996,172.960007,172.490005,170.699997,170.509995,172.240005,172.330002,171.690002,171.130005,170.199997,170.089996,170.919998,168.470001,168.949997,168.679993,167.740005,167.789993,167.070007,165.559998,164.850006,162.110001,165.979996,168.559998,169.440002,162.649994,164.779999,160.630005,163.270004,163.25,161.830002,162.610001,163.389999,163.270004,160.929993,161.699997,159.789993,160.889999,159.850006,161.820007,159.380005,154.699997,157.179993,157.059998,159.119995,158.199997,160.149994,159.630005,160.240005,159.289993,162.639999,168.580002,168.360001,167.369995,167.529999,169.309998,168.520004,169.589996,169.809998,161.029999,155.779999,152.229996,150.610001,147.509995,145.479996,146.850006,150.570007,150.380005,146.759995,148.789993,151.470001,150.940002,151.649994,153.5,153.619995,158.479996,157.429993,159.029999,158.190002,153.679993,155.940002,156.100006,153.729996,154.139999,153.240005,153.300003,144.990005,150.130005,145.059998,140.479996,140.039993,140.979996,135.419998,132.690002,131.789993,135.240005,133.449997,134.080002,132.919998,133.550003,138.490005,140.190002,140.850006,140.759995,143.929993,141.589996,140.710007,143.179993,140.970001,143.600006,142.119995,140.350006,137.410004,136.940002,135.399994,132.559998,131.919998,133.899994,134.899994,134.580002,129.25,128.300003,129.240005,131.320007,133.509995,132.809998,130.520004,127.120003,126.410004,123.559998,123.650002,123.610001,120.709999,124.169998,127.400002,126.099998,124.290001,123.330002,123.779999,122.889999,118.32,120.25,119.459999,122.970001,121.970001,119.650002,119.669998,126.57,127.489998,127.860001,130.190002,131.270004,133.149994,132.869995,132.009995,131.770004,132.389999,130.320007,129.449997,128.100006,123.400002,117.949997,117.32,116.949997,114.260002,114.629997,117.029999,116.199997,115.18,117.82,118.5,119.290001,116.82,114.080002,114.419998,112.709999,112.989998,114.900002,115.650002,114.230003,115.18,112.480003,108.230003,113.879997,115.839996,114.940002,114.739998,115.529999,116.25,116.459999,115.580002,115.739998,115.980003,116.5,115.110001,114.400002,114.099998,113.32,116.190002,116.699997,115.989998,119.370003,121.199997,122.25,122.720001,124.239998,123.160004,122.470001,120.989998,117.160004,117.290001,116.410004,118.739998,119.989998,114.860001,115.580002,115.029999,114.629997,117.449997,114.75,116.110001,118.790001,120.050003,121.550003,118.919998,117.839996,119.379997,117.400002,118.730003,117.690002,116.599998,113.599998,110.339996,109.610001,108.169998,108.730003,107.279999,107.620003,108.360001,112.989998,110.949997,110.190002,107.709999,107.309998,104.540001,104.730003,109.900002,115.239998,117.010002,120.139999,118.830002,118.709999,122.389999,123.099998,123.269997,125.199997,126.199997,126.279999,127.43,128.279999,130.360001,128.179993,130.830002,132.289993,132.059998,131.429993,135.25,136.169998,135.729996,135.710007,133.559998,132.889999,134.669998,134.559998,135.270004,136.5,137.139999,136.710007,136.639999,138.179993,138.660004,135.350006,134.570007,135.110001,133.080002,132.979996,133.759995,134.649994,137.089996,135.710007,132.080002,129.899994,131.330002,132.050003,132.979996,131.300003,131.440002,132.220001,133.410004,133.270004,134.330002,136.740005,137.679993,135.710007,138.380005,138.880005,138.720001,139.75,140.860001,143.490005,141.539993,140.729996,135.899994,135.490005,137.960007,140.289993,139.119995,140.059998,141.259995,140.089996,140.070007,140.880005,140.460007,142.330002,142.240005,144.339996,144.039993,143.339996,141.279999,142.729996,143.809998,143.889999,143.389999,142.830002,141.339996,139.429993,140.169998,141.360001,143.309998,143.759995,143.460007,142.429993,143.740005,144.039993,142.309998,138.589996,137.350006,135.259995,133.880005,135.529999,130.990005,131.949997,128.479996,129.470001,131.729996,130.660004,129.529999,125.68,129.380005,129.339996,130.220001,130.119995,130.339996,131.440002,130.589996,128.149994,128.080002,128.229996,128.940002],\"yaxis\":\"y\",\"type\":\"scattergl\"},{\"hovertemplate\":\"variable=low<br>Date=%{x}<br>Stock Value=%{y}<extra></extra>\",\"legendgroup\":\"low\",\"line\":{\"color\":\"#ab63fa\",\"dash\":\"solid\"},\"marker\":{\"symbol\":\"circle\"},\"mode\":\"lines\",\"name\":\"Low Price\",\"showlegend\":true,\"x\":[\"2018-04-12T00:00:00+00:00\",\"2018-04-13T00:00:00+00:00\",\"2018-04-16T00:00:00+00:00\",\"2018-04-17T00:00:00+00:00\",\"2018-04-18T00:00:00+00:00\",\"2018-04-19T00:00:00+00:00\",\"2018-04-20T00:00:00+00:00\",\"2018-04-23T00:00:00+00:00\",\"2018-04-24T00:00:00+00:00\",\"2018-04-25T00:00:00+00:00\",\"2018-04-26T00:00:00+00:00\",\"2018-04-27T00:00:00+00:00\",\"2018-04-30T00:00:00+00:00\",\"2018-05-01T00:00:00+00:00\",\"2018-05-02T00:00:00+00:00\",\"2018-05-03T00:00:00+00:00\",\"2018-05-04T00:00:00+00:00\",\"2018-05-07T00:00:00+00:00\",\"2018-05-08T00:00:00+00:00\",\"2018-05-09T00:00:00+00:00\",\"2018-05-10T00:00:00+00:00\",\"2018-05-11T00:00:00+00:00\",\"2018-05-14T00:00:00+00:00\",\"2018-05-15T00:00:00+00:00\",\"2018-05-16T00:00:00+00:00\",\"2018-05-17T00:00:00+00:00\",\"2018-05-18T00:00:00+00:00\",\"2018-05-21T00:00:00+00:00\",\"2018-05-22T00:00:00+00:00\",\"2018-05-23T00:00:00+00:00\",\"2018-05-24T00:00:00+00:00\",\"2018-05-25T00:00:00+00:00\",\"2018-05-29T00:00:00+00:00\",\"2018-05-30T00:00:00+00:00\",\"2018-05-31T00:00:00+00:00\",\"2018-06-01T00:00:00+00:00\",\"2018-06-04T00:00:00+00:00\",\"2018-06-05T00:00:00+00:00\",\"2018-06-06T00:00:00+00:00\",\"2018-06-07T00:00:00+00:00\",\"2018-06-08T00:00:00+00:00\",\"2018-06-11T00:00:00+00:00\",\"2018-06-12T00:00:00+00:00\",\"2018-06-13T00:00:00+00:00\",\"2018-06-14T00:00:00+00:00\",\"2018-06-15T00:00:00+00:00\",\"2018-06-18T00:00:00+00:00\",\"2018-06-19T00:00:00+00:00\",\"2018-06-20T00:00:00+00:00\",\"2018-06-21T00:00:00+00:00\",\"2018-06-22T00:00:00+00:00\",\"2018-06-25T00:00:00+00:00\",\"2018-06-26T00:00:00+00:00\",\"2018-06-27T00:00:00+00:00\",\"2018-06-28T00:00:00+00:00\",\"2018-06-29T00:00:00+00:00\",\"2018-07-02T00:00:00+00:00\",\"2018-07-03T00:00:00+00:00\",\"2018-07-05T00:00:00+00:00\",\"2018-07-06T00:00:00+00:00\",\"2018-07-09T00:00:00+00:00\",\"2018-07-10T00:00:00+00:00\",\"2018-07-11T00:00:00+00:00\",\"2018-07-12T00:00:00+00:00\",\"2018-07-13T00:00:00+00:00\",\"2018-07-16T00:00:00+00:00\",\"2018-07-17T00:00:00+00:00\",\"2018-07-18T00:00:00+00:00\",\"2018-07-19T00:00:00+00:00\",\"2018-07-20T00:00:00+00:00\",\"2018-07-23T00:00:00+00:00\",\"2018-07-24T00:00:00+00:00\",\"2018-07-25T00:00:00+00:00\",\"2018-07-26T00:00:00+00:00\",\"2018-07-27T00:00:00+00:00\",\"2018-07-30T00:00:00+00:00\",\"2018-07-31T00:00:00+00:00\",\"2018-08-01T00:00:00+00:00\",\"2018-08-02T00:00:00+00:00\",\"2018-08-03T00:00:00+00:00\",\"2018-08-06T00:00:00+00:00\",\"2018-08-07T00:00:00+00:00\",\"2018-08-08T00:00:00+00:00\",\"2018-08-09T00:00:00+00:00\",\"2018-08-10T00:00:00+00:00\",\"2018-08-13T00:00:00+00:00\",\"2018-08-14T00:00:00+00:00\",\"2018-08-15T00:00:00+00:00\",\"2018-08-16T00:00:00+00:00\",\"2018-08-17T00:00:00+00:00\",\"2018-08-20T00:00:00+00:00\",\"2018-08-21T00:00:00+00:00\",\"2018-08-22T00:00:00+00:00\",\"2018-08-23T00:00:00+00:00\",\"2018-08-24T00:00:00+00:00\",\"2018-08-27T00:00:00+00:00\",\"2018-08-28T00:00:00+00:00\",\"2018-08-29T00:00:00+00:00\",\"2018-08-30T00:00:00+00:00\",\"2018-08-31T00:00:00+00:00\",\"2018-09-04T00:00:00+00:00\",\"2018-09-05T00:00:00+00:00\",\"2018-09-06T00:00:00+00:00\",\"2018-09-07T00:00:00+00:00\",\"2018-09-10T00:00:00+00:00\",\"2018-09-11T00:00:00+00:00\",\"2018-09-12T00:00:00+00:00\",\"2018-09-13T00:00:00+00:00\",\"2018-09-14T00:00:00+00:00\",\"2018-09-17T00:00:00+00:00\",\"2018-09-18T00:00:00+00:00\",\"2018-09-19T00:00:00+00:00\",\"2018-09-20T00:00:00+00:00\",\"2018-09-21T00:00:00+00:00\",\"2018-09-24T00:00:00+00:00\",\"2018-09-25T00:00:00+00:00\",\"2018-09-26T00:00:00+00:00\",\"2018-09-27T00:00:00+00:00\",\"2018-09-28T00:00:00+00:00\",\"2018-10-01T00:00:00+00:00\",\"2018-10-02T00:00:00+00:00\",\"2018-10-03T00:00:00+00:00\",\"2018-10-04T00:00:00+00:00\",\"2018-10-05T00:00:00+00:00\",\"2018-10-08T00:00:00+00:00\",\"2018-10-09T00:00:00+00:00\",\"2018-10-10T00:00:00+00:00\",\"2018-10-11T00:00:00+00:00\",\"2018-10-12T00:00:00+00:00\",\"2018-10-15T00:00:00+00:00\",\"2018-10-16T00:00:00+00:00\",\"2018-10-17T00:00:00+00:00\",\"2018-10-18T00:00:00+00:00\",\"2018-10-19T00:00:00+00:00\",\"2018-10-22T00:00:00+00:00\",\"2018-10-23T00:00:00+00:00\",\"2018-10-24T00:00:00+00:00\",\"2018-10-25T00:00:00+00:00\",\"2018-10-26T00:00:00+00:00\",\"2018-10-29T00:00:00+00:00\",\"2018-10-30T00:00:00+00:00\",\"2018-10-31T00:00:00+00:00\",\"2018-11-01T00:00:00+00:00\",\"2018-11-02T00:00:00+00:00\",\"2018-11-05T00:00:00+00:00\",\"2018-11-06T00:00:00+00:00\",\"2018-11-07T00:00:00+00:00\",\"2018-11-08T00:00:00+00:00\",\"2018-11-09T00:00:00+00:00\",\"2018-11-12T00:00:00+00:00\",\"2018-11-13T00:00:00+00:00\",\"2018-11-14T00:00:00+00:00\",\"2018-11-15T00:00:00+00:00\",\"2018-11-16T00:00:00+00:00\",\"2018-11-19T00:00:00+00:00\",\"2018-11-20T00:00:00+00:00\",\"2018-11-21T00:00:00+00:00\",\"2018-11-23T00:00:00+00:00\",\"2018-11-26T00:00:00+00:00\",\"2018-11-27T00:00:00+00:00\",\"2018-11-28T00:00:00+00:00\",\"2018-11-29T00:00:00+00:00\",\"2018-11-30T00:00:00+00:00\",\"2018-12-03T00:00:00+00:00\",\"2018-12-04T00:00:00+00:00\",\"2018-12-06T00:00:00+00:00\",\"2018-12-07T00:00:00+00:00\",\"2018-12-10T00:00:00+00:00\",\"2018-12-11T00:00:00+00:00\",\"2018-12-12T00:00:00+00:00\",\"2018-12-13T00:00:00+00:00\",\"2018-12-14T00:00:00+00:00\",\"2018-12-17T00:00:00+00:00\",\"2018-12-18T00:00:00+00:00\",\"2018-12-19T00:00:00+00:00\",\"2018-12-20T00:00:00+00:00\",\"2018-12-21T00:00:00+00:00\",\"2018-12-24T00:00:00+00:00\",\"2018-12-26T00:00:00+00:00\",\"2018-12-27T00:00:00+00:00\",\"2018-12-28T00:00:00+00:00\",\"2018-12-31T00:00:00+00:00\",\"2019-01-02T00:00:00+00:00\",\"2019-01-03T00:00:00+00:00\",\"2019-01-04T00:00:00+00:00\",\"2019-01-07T00:00:00+00:00\",\"2019-01-08T00:00:00+00:00\",\"2019-01-09T00:00:00+00:00\",\"2019-01-10T00:00:00+00:00\",\"2019-01-11T00:00:00+00:00\",\"2019-01-14T00:00:00+00:00\",\"2019-01-15T00:00:00+00:00\",\"2019-01-16T00:00:00+00:00\",\"2019-01-17T00:00:00+00:00\",\"2019-01-18T00:00:00+00:00\",\"2019-01-22T00:00:00+00:00\",\"2019-01-23T00:00:00+00:00\",\"2019-01-24T00:00:00+00:00\",\"2019-01-25T00:00:00+00:00\",\"2019-01-28T00:00:00+00:00\",\"2019-01-29T00:00:00+00:00\",\"2019-01-30T00:00:00+00:00\",\"2019-01-31T00:00:00+00:00\",\"2019-02-01T00:00:00+00:00\",\"2019-02-04T00:00:00+00:00\",\"2019-02-05T00:00:00+00:00\",\"2019-02-06T00:00:00+00:00\",\"2019-02-07T00:00:00+00:00\",\"2019-02-08T00:00:00+00:00\",\"2019-02-11T00:00:00+00:00\",\"2019-02-12T00:00:00+00:00\",\"2019-02-13T00:00:00+00:00\",\"2019-02-14T00:00:00+00:00\",\"2019-02-15T00:00:00+00:00\",\"2019-02-19T00:00:00+00:00\",\"2019-02-20T00:00:00+00:00\",\"2019-02-21T00:00:00+00:00\",\"2019-02-22T00:00:00+00:00\",\"2019-02-25T00:00:00+00:00\",\"2019-02-26T00:00:00+00:00\",\"2019-02-27T00:00:00+00:00\",\"2019-02-28T00:00:00+00:00\",\"2019-03-01T00:00:00+00:00\",\"2019-03-04T00:00:00+00:00\",\"2019-03-05T00:00:00+00:00\",\"2019-03-06T00:00:00+00:00\",\"2019-03-07T00:00:00+00:00\",\"2019-03-08T00:00:00+00:00\",\"2019-03-11T00:00:00+00:00\",\"2019-03-12T00:00:00+00:00\",\"2019-03-13T00:00:00+00:00\",\"2019-03-14T00:00:00+00:00\",\"2019-03-15T00:00:00+00:00\",\"2019-03-18T00:00:00+00:00\",\"2019-03-19T00:00:00+00:00\",\"2019-03-20T00:00:00+00:00\",\"2019-03-21T00:00:00+00:00\",\"2019-03-22T00:00:00+00:00\",\"2019-03-25T00:00:00+00:00\",\"2019-03-26T00:00:00+00:00\",\"2019-03-27T00:00:00+00:00\",\"2019-03-28T00:00:00+00:00\",\"2019-03-29T00:00:00+00:00\",\"2019-04-01T00:00:00+00:00\",\"2019-04-02T00:00:00+00:00\",\"2019-04-03T00:00:00+00:00\",\"2019-04-04T00:00:00+00:00\",\"2019-04-05T00:00:00+00:00\",\"2019-04-08T00:00:00+00:00\",\"2019-04-09T00:00:00+00:00\",\"2019-04-10T00:00:00+00:00\",\"2019-04-11T00:00:00+00:00\",\"2019-04-12T00:00:00+00:00\",\"2019-04-15T00:00:00+00:00\",\"2019-04-16T00:00:00+00:00\",\"2019-04-17T00:00:00+00:00\",\"2019-04-18T00:00:00+00:00\",\"2019-04-22T00:00:00+00:00\",\"2019-04-23T00:00:00+00:00\",\"2019-04-24T00:00:00+00:00\",\"2019-04-25T00:00:00+00:00\",\"2019-04-26T00:00:00+00:00\",\"2019-04-29T00:00:00+00:00\",\"2019-04-30T00:00:00+00:00\",\"2019-05-01T00:00:00+00:00\",\"2019-05-02T00:00:00+00:00\",\"2019-05-03T00:00:00+00:00\",\"2019-05-06T00:00:00+00:00\",\"2019-05-07T00:00:00+00:00\",\"2019-05-08T00:00:00+00:00\",\"2019-05-09T00:00:00+00:00\",\"2019-05-10T00:00:00+00:00\",\"2019-05-13T00:00:00+00:00\",\"2019-05-14T00:00:00+00:00\",\"2019-05-15T00:00:00+00:00\",\"2019-05-16T00:00:00+00:00\",\"2019-05-17T00:00:00+00:00\",\"2019-05-20T00:00:00+00:00\",\"2019-05-21T00:00:00+00:00\",\"2019-05-22T00:00:00+00:00\",\"2019-05-23T00:00:00+00:00\",\"2019-05-24T00:00:00+00:00\",\"2019-05-28T00:00:00+00:00\",\"2019-05-29T00:00:00+00:00\",\"2019-05-30T00:00:00+00:00\",\"2019-05-31T00:00:00+00:00\",\"2019-06-03T00:00:00+00:00\",\"2019-06-04T00:00:00+00:00\",\"2019-06-05T00:00:00+00:00\",\"2019-06-06T00:00:00+00:00\",\"2019-06-07T00:00:00+00:00\",\"2019-06-10T00:00:00+00:00\",\"2019-06-11T00:00:00+00:00\",\"2019-06-12T00:00:00+00:00\",\"2019-06-13T00:00:00+00:00\",\"2019-06-14T00:00:00+00:00\",\"2019-06-17T00:00:00+00:00\",\"2019-06-18T00:00:00+00:00\",\"2019-06-19T00:00:00+00:00\",\"2019-06-20T00:00:00+00:00\",\"2019-06-21T00:00:00+00:00\",\"2019-06-24T00:00:00+00:00\",\"2019-06-25T00:00:00+00:00\",\"2019-06-26T00:00:00+00:00\",\"2019-06-27T00:00:00+00:00\",\"2019-06-28T00:00:00+00:00\",\"2019-07-01T00:00:00+00:00\",\"2019-07-02T00:00:00+00:00\",\"2019-07-03T00:00:00+00:00\",\"2019-07-05T00:00:00+00:00\",\"2019-07-08T00:00:00+00:00\",\"2019-07-09T00:00:00+00:00\",\"2019-07-10T00:00:00+00:00\",\"2019-07-11T00:00:00+00:00\",\"2019-07-12T00:00:00+00:00\",\"2019-07-15T00:00:00+00:00\",\"2019-07-16T00:00:00+00:00\",\"2019-07-17T00:00:00+00:00\",\"2019-07-18T00:00:00+00:00\",\"2019-07-19T00:00:00+00:00\",\"2019-07-22T00:00:00+00:00\",\"2019-07-23T00:00:00+00:00\",\"2019-07-24T00:00:00+00:00\",\"2019-07-25T00:00:00+00:00\",\"2019-07-26T00:00:00+00:00\",\"2019-07-29T00:00:00+00:00\",\"2019-07-30T00:00:00+00:00\",\"2019-07-31T00:00:00+00:00\",\"2019-08-01T00:00:00+00:00\",\"2019-08-02T00:00:00+00:00\",\"2019-08-05T00:00:00+00:00\",\"2019-08-06T00:00:00+00:00\",\"2019-08-07T00:00:00+00:00\",\"2019-08-08T00:00:00+00:00\",\"2019-08-09T00:00:00+00:00\",\"2019-08-12T00:00:00+00:00\",\"2019-08-13T00:00:00+00:00\",\"2019-08-14T00:00:00+00:00\",\"2019-08-15T00:00:00+00:00\",\"2019-08-16T00:00:00+00:00\",\"2019-08-19T00:00:00+00:00\",\"2019-08-20T00:00:00+00:00\",\"2019-08-21T00:00:00+00:00\",\"2019-08-22T00:00:00+00:00\",\"2019-08-23T00:00:00+00:00\",\"2019-08-26T00:00:00+00:00\",\"2019-08-27T00:00:00+00:00\",\"2019-08-28T00:00:00+00:00\",\"2019-08-29T00:00:00+00:00\",\"2019-08-30T00:00:00+00:00\",\"2019-09-03T00:00:00+00:00\",\"2019-09-04T00:00:00+00:00\",\"2019-09-05T00:00:00+00:00\",\"2019-09-06T00:00:00+00:00\",\"2019-09-09T00:00:00+00:00\",\"2019-09-10T00:00:00+00:00\",\"2019-09-11T00:00:00+00:00\",\"2019-09-12T00:00:00+00:00\",\"2019-09-13T00:00:00+00:00\",\"2019-09-16T00:00:00+00:00\",\"2019-09-17T00:00:00+00:00\",\"2019-09-18T00:00:00+00:00\",\"2019-09-19T00:00:00+00:00\",\"2019-09-20T00:00:00+00:00\",\"2019-09-23T00:00:00+00:00\",\"2019-09-24T00:00:00+00:00\",\"2019-09-25T00:00:00+00:00\",\"2019-09-26T00:00:00+00:00\",\"2019-09-27T00:00:00+00:00\",\"2019-09-30T00:00:00+00:00\",\"2019-10-01T00:00:00+00:00\",\"2019-10-02T00:00:00+00:00\",\"2019-10-03T00:00:00+00:00\",\"2019-10-04T00:00:00+00:00\",\"2019-10-07T00:00:00+00:00\",\"2019-10-08T00:00:00+00:00\",\"2019-10-09T00:00:00+00:00\",\"2019-10-10T00:00:00+00:00\",\"2019-10-11T00:00:00+00:00\",\"2019-10-14T00:00:00+00:00\",\"2019-10-15T00:00:00+00:00\",\"2019-10-16T00:00:00+00:00\",\"2019-10-17T00:00:00+00:00\",\"2019-10-18T00:00:00+00:00\",\"2019-10-21T00:00:00+00:00\",\"2019-10-22T00:00:00+00:00\",\"2019-10-23T00:00:00+00:00\",\"2019-10-24T00:00:00+00:00\",\"2019-10-25T00:00:00+00:00\",\"2019-10-28T00:00:00+00:00\",\"2019-10-29T00:00:00+00:00\",\"2019-10-30T00:00:00+00:00\",\"2019-10-31T00:00:00+00:00\",\"2019-11-01T00:00:00+00:00\",\"2019-11-04T00:00:00+00:00\",\"2019-11-05T00:00:00+00:00\",\"2019-11-06T00:00:00+00:00\",\"2019-11-07T00:00:00+00:00\",\"2019-11-08T00:00:00+00:00\",\"2019-11-11T00:00:00+00:00\",\"2019-11-12T00:00:00+00:00\",\"2019-11-13T00:00:00+00:00\",\"2019-11-14T00:00:00+00:00\",\"2019-11-15T00:00:00+00:00\",\"2019-11-18T00:00:00+00:00\",\"2019-11-19T00:00:00+00:00\",\"2019-11-20T00:00:00+00:00\",\"2019-11-21T00:00:00+00:00\",\"2019-11-22T00:00:00+00:00\",\"2019-11-25T00:00:00+00:00\",\"2019-11-26T00:00:00+00:00\",\"2019-11-27T00:00:00+00:00\",\"2019-11-29T00:00:00+00:00\",\"2019-12-02T00:00:00+00:00\",\"2019-12-03T00:00:00+00:00\",\"2019-12-04T00:00:00+00:00\",\"2019-12-05T00:00:00+00:00\",\"2019-12-06T00:00:00+00:00\",\"2019-12-09T00:00:00+00:00\",\"2019-12-10T00:00:00+00:00\",\"2019-12-11T00:00:00+00:00\",\"2019-12-12T00:00:00+00:00\",\"2019-12-13T00:00:00+00:00\",\"2019-12-16T00:00:00+00:00\",\"2019-12-17T00:00:00+00:00\",\"2019-12-18T00:00:00+00:00\",\"2019-12-19T00:00:00+00:00\",\"2019-12-20T00:00:00+00:00\",\"2019-12-23T00:00:00+00:00\",\"2019-12-24T00:00:00+00:00\",\"2019-12-26T00:00:00+00:00\",\"2019-12-27T00:00:00+00:00\",\"2019-12-30T00:00:00+00:00\",\"2019-12-31T00:00:00+00:00\",\"2020-01-02T00:00:00+00:00\",\"2020-01-03T00:00:00+00:00\",\"2020-01-06T00:00:00+00:00\",\"2020-01-07T00:00:00+00:00\",\"2020-01-08T00:00:00+00:00\",\"2020-01-09T00:00:00+00:00\",\"2020-01-10T00:00:00+00:00\",\"2020-01-13T00:00:00+00:00\",\"2020-01-14T00:00:00+00:00\",\"2020-01-15T00:00:00+00:00\",\"2020-01-16T00:00:00+00:00\",\"2020-01-17T00:00:00+00:00\",\"2020-01-21T00:00:00+00:00\",\"2020-01-22T00:00:00+00:00\",\"2020-01-23T00:00:00+00:00\",\"2020-01-24T00:00:00+00:00\",\"2020-01-27T00:00:00+00:00\",\"2020-01-28T00:00:00+00:00\",\"2020-01-29T00:00:00+00:00\",\"2020-01-30T00:00:00+00:00\",\"2020-01-31T00:00:00+00:00\",\"2020-02-03T00:00:00+00:00\",\"2020-02-04T00:00:00+00:00\",\"2020-02-05T00:00:00+00:00\",\"2020-02-06T00:00:00+00:00\",\"2020-02-07T00:00:00+00:00\",\"2020-02-10T00:00:00+00:00\",\"2020-02-11T00:00:00+00:00\",\"2020-02-12T00:00:00+00:00\",\"2020-02-13T00:00:00+00:00\",\"2020-02-14T00:00:00+00:00\",\"2020-02-18T00:00:00+00:00\",\"2020-02-19T00:00:00+00:00\",\"2020-02-20T00:00:00+00:00\",\"2020-02-21T00:00:00+00:00\",\"2020-02-24T00:00:00+00:00\",\"2020-02-25T00:00:00+00:00\",\"2020-02-26T00:00:00+00:00\",\"2020-02-27T00:00:00+00:00\",\"2020-02-28T00:00:00+00:00\",\"2020-03-02T00:00:00+00:00\",\"2020-03-03T00:00:00+00:00\",\"2020-03-04T00:00:00+00:00\",\"2020-03-05T00:00:00+00:00\",\"2020-03-06T00:00:00+00:00\",\"2020-03-09T00:00:00+00:00\",\"2020-03-10T00:00:00+00:00\",\"2020-03-11T00:00:00+00:00\",\"2020-03-12T00:00:00+00:00\",\"2020-03-13T00:00:00+00:00\",\"2020-03-16T00:00:00+00:00\",\"2020-03-17T00:00:00+00:00\",\"2020-03-18T00:00:00+00:00\",\"2020-03-19T00:00:00+00:00\",\"2020-03-20T00:00:00+00:00\",\"2020-03-23T00:00:00+00:00\",\"2020-03-24T00:00:00+00:00\",\"2020-03-25T00:00:00+00:00\",\"2020-03-26T00:00:00+00:00\",\"2020-03-27T00:00:00+00:00\",\"2020-03-30T00:00:00+00:00\",\"2020-03-31T00:00:00+00:00\",\"2020-04-01T00:00:00+00:00\",\"2020-04-02T00:00:00+00:00\",\"2020-04-03T00:00:00+00:00\",\"2020-04-06T00:00:00+00:00\",\"2020-04-07T00:00:00+00:00\",\"2020-04-08T00:00:00+00:00\",\"2020-04-09T00:00:00+00:00\",\"2020-04-13T00:00:00+00:00\",\"2020-04-14T00:00:00+00:00\",\"2020-04-15T00:00:00+00:00\",\"2020-04-16T00:00:00+00:00\",\"2020-04-17T00:00:00+00:00\",\"2020-04-20T00:00:00+00:00\",\"2020-04-21T00:00:00+00:00\",\"2020-04-22T00:00:00+00:00\",\"2020-04-23T00:00:00+00:00\",\"2020-04-24T00:00:00+00:00\",\"2020-04-27T00:00:00+00:00\",\"2020-04-28T00:00:00+00:00\",\"2020-04-29T00:00:00+00:00\",\"2020-04-30T00:00:00+00:00\",\"2020-05-01T00:00:00+00:00\",\"2020-05-04T00:00:00+00:00\",\"2020-05-05T00:00:00+00:00\",\"2020-05-06T00:00:00+00:00\",\"2020-05-07T00:00:00+00:00\",\"2020-05-08T00:00:00+00:00\",\"2020-05-11T00:00:00+00:00\",\"2020-05-12T00:00:00+00:00\",\"2020-05-13T00:00:00+00:00\",\"2020-05-14T00:00:00+00:00\",\"2020-05-15T00:00:00+00:00\",\"2020-05-18T00:00:00+00:00\",\"2020-05-19T00:00:00+00:00\",\"2020-05-20T00:00:00+00:00\",\"2020-05-21T00:00:00+00:00\",\"2020-05-22T00:00:00+00:00\",\"2020-05-26T00:00:00+00:00\",\"2020-05-27T00:00:00+00:00\",\"2020-05-28T00:00:00+00:00\",\"2020-05-29T00:00:00+00:00\",\"2020-06-01T00:00:00+00:00\",\"2020-06-02T00:00:00+00:00\",\"2020-06-03T00:00:00+00:00\",\"2020-06-04T00:00:00+00:00\",\"2020-06-05T00:00:00+00:00\",\"2020-06-08T00:00:00+00:00\",\"2020-06-09T00:00:00+00:00\",\"2020-06-10T00:00:00+00:00\",\"2020-06-11T00:00:00+00:00\",\"2020-06-12T00:00:00+00:00\",\"2020-06-15T00:00:00+00:00\",\"2020-06-16T00:00:00+00:00\",\"2020-06-17T00:00:00+00:00\",\"2020-06-18T00:00:00+00:00\",\"2020-06-19T00:00:00+00:00\",\"2020-06-22T00:00:00+00:00\",\"2020-06-23T00:00:00+00:00\",\"2020-06-24T00:00:00+00:00\",\"2020-06-25T00:00:00+00:00\",\"2020-06-26T00:00:00+00:00\",\"2020-06-29T00:00:00+00:00\",\"2020-06-30T00:00:00+00:00\",\"2020-07-01T00:00:00+00:00\",\"2020-07-02T00:00:00+00:00\",\"2020-07-06T00:00:00+00:00\",\"2020-07-07T00:00:00+00:00\",\"2020-07-08T00:00:00+00:00\",\"2020-07-09T00:00:00+00:00\",\"2020-07-10T00:00:00+00:00\",\"2020-07-13T00:00:00+00:00\",\"2020-07-14T00:00:00+00:00\",\"2020-07-15T00:00:00+00:00\",\"2020-07-16T00:00:00+00:00\",\"2020-07-17T00:00:00+00:00\",\"2020-07-20T00:00:00+00:00\",\"2020-07-21T00:00:00+00:00\",\"2020-07-22T00:00:00+00:00\",\"2020-07-23T00:00:00+00:00\",\"2020-07-24T00:00:00+00:00\",\"2020-07-27T00:00:00+00:00\",\"2020-07-28T00:00:00+00:00\",\"2020-07-29T00:00:00+00:00\",\"2020-07-30T00:00:00+00:00\",\"2020-07-31T00:00:00+00:00\",\"2020-08-03T00:00:00+00:00\",\"2020-08-04T00:00:00+00:00\",\"2020-08-05T00:00:00+00:00\",\"2020-08-06T00:00:00+00:00\",\"2020-08-07T00:00:00+00:00\",\"2020-08-10T00:00:00+00:00\",\"2020-08-11T00:00:00+00:00\",\"2020-08-12T00:00:00+00:00\",\"2020-08-13T00:00:00+00:00\",\"2020-08-14T00:00:00+00:00\",\"2020-08-17T00:00:00+00:00\",\"2020-08-18T00:00:00+00:00\",\"2020-08-19T00:00:00+00:00\",\"2020-08-20T00:00:00+00:00\",\"2020-08-21T00:00:00+00:00\",\"2020-08-24T00:00:00+00:00\",\"2020-08-25T00:00:00+00:00\",\"2020-08-26T00:00:00+00:00\",\"2020-08-27T00:00:00+00:00\",\"2020-08-28T00:00:00+00:00\",\"2020-08-31T00:00:00+00:00\",\"2020-09-01T00:00:00+00:00\",\"2020-09-02T00:00:00+00:00\",\"2020-09-03T00:00:00+00:00\",\"2020-09-04T00:00:00+00:00\",\"2020-09-08T00:00:00+00:00\",\"2020-09-09T00:00:00+00:00\",\"2020-09-10T00:00:00+00:00\",\"2020-09-11T00:00:00+00:00\",\"2020-09-14T00:00:00+00:00\",\"2020-09-15T00:00:00+00:00\",\"2020-09-16T00:00:00+00:00\",\"2020-09-17T00:00:00+00:00\",\"2020-09-18T00:00:00+00:00\",\"2020-09-21T00:00:00+00:00\",\"2020-09-22T00:00:00+00:00\",\"2020-09-23T00:00:00+00:00\",\"2020-09-24T00:00:00+00:00\",\"2020-09-25T00:00:00+00:00\",\"2020-09-28T00:00:00+00:00\",\"2020-09-29T00:00:00+00:00\",\"2020-09-30T00:00:00+00:00\",\"2020-10-01T00:00:00+00:00\",\"2020-10-02T00:00:00+00:00\",\"2020-10-05T00:00:00+00:00\",\"2020-10-06T00:00:00+00:00\",\"2020-10-07T00:00:00+00:00\",\"2020-10-08T00:00:00+00:00\",\"2020-10-09T00:00:00+00:00\",\"2020-10-12T00:00:00+00:00\",\"2020-10-13T00:00:00+00:00\",\"2020-10-14T00:00:00+00:00\",\"2020-10-15T00:00:00+00:00\",\"2020-10-16T00:00:00+00:00\",\"2020-10-19T00:00:00+00:00\",\"2020-10-20T00:00:00+00:00\",\"2020-10-21T00:00:00+00:00\",\"2020-10-22T00:00:00+00:00\",\"2020-10-23T00:00:00+00:00\",\"2020-10-26T00:00:00+00:00\",\"2020-10-27T00:00:00+00:00\",\"2020-10-28T00:00:00+00:00\",\"2020-10-29T00:00:00+00:00\",\"2020-10-30T00:00:00+00:00\",\"2020-11-02T00:00:00+00:00\",\"2020-11-03T00:00:00+00:00\",\"2020-11-04T00:00:00+00:00\",\"2020-11-05T00:00:00+00:00\",\"2020-11-06T00:00:00+00:00\",\"2020-11-09T00:00:00+00:00\",\"2020-11-10T00:00:00+00:00\",\"2020-11-11T00:00:00+00:00\",\"2020-11-12T00:00:00+00:00\",\"2020-11-13T00:00:00+00:00\",\"2020-11-16T00:00:00+00:00\",\"2020-11-17T00:00:00+00:00\",\"2020-11-18T00:00:00+00:00\",\"2020-11-19T00:00:00+00:00\",\"2020-11-20T00:00:00+00:00\",\"2020-11-23T00:00:00+00:00\",\"2020-11-24T00:00:00+00:00\",\"2020-11-25T00:00:00+00:00\",\"2020-11-27T00:00:00+00:00\",\"2020-11-30T00:00:00+00:00\",\"2020-12-01T00:00:00+00:00\",\"2020-12-02T00:00:00+00:00\",\"2020-12-03T00:00:00+00:00\",\"2020-12-04T00:00:00+00:00\",\"2020-12-07T00:00:00+00:00\",\"2020-12-08T00:00:00+00:00\",\"2020-12-09T00:00:00+00:00\",\"2020-12-10T00:00:00+00:00\",\"2020-12-11T00:00:00+00:00\",\"2020-12-14T00:00:00+00:00\",\"2020-12-15T00:00:00+00:00\",\"2020-12-16T00:00:00+00:00\",\"2020-12-17T00:00:00+00:00\",\"2020-12-18T00:00:00+00:00\",\"2020-12-21T00:00:00+00:00\",\"2020-12-22T00:00:00+00:00\",\"2020-12-23T00:00:00+00:00\",\"2020-12-24T00:00:00+00:00\",\"2020-12-28T00:00:00+00:00\",\"2020-12-29T00:00:00+00:00\",\"2020-12-30T00:00:00+00:00\",\"2020-12-31T00:00:00+00:00\",\"2021-01-04T00:00:00+00:00\",\"2021-01-05T00:00:00+00:00\",\"2021-01-06T00:00:00+00:00\",\"2021-01-07T00:00:00+00:00\",\"2021-01-08T00:00:00+00:00\",\"2021-01-11T00:00:00+00:00\",\"2021-01-12T00:00:00+00:00\",\"2021-01-13T00:00:00+00:00\",\"2021-01-14T00:00:00+00:00\",\"2021-01-15T00:00:00+00:00\",\"2021-01-19T00:00:00+00:00\",\"2021-01-20T00:00:00+00:00\",\"2021-01-21T00:00:00+00:00\",\"2021-01-22T00:00:00+00:00\",\"2021-01-25T00:00:00+00:00\",\"2021-01-26T00:00:00+00:00\",\"2021-01-27T00:00:00+00:00\",\"2021-01-28T00:00:00+00:00\",\"2021-01-29T00:00:00+00:00\",\"2021-02-01T00:00:00+00:00\",\"2021-02-02T00:00:00+00:00\",\"2021-02-03T00:00:00+00:00\",\"2021-02-04T00:00:00+00:00\",\"2021-02-05T00:00:00+00:00\",\"2021-02-08T00:00:00+00:00\",\"2021-02-09T00:00:00+00:00\",\"2021-02-10T00:00:00+00:00\",\"2021-02-11T00:00:00+00:00\",\"2021-02-12T00:00:00+00:00\",\"2021-02-16T00:00:00+00:00\",\"2021-02-17T00:00:00+00:00\",\"2021-02-18T00:00:00+00:00\",\"2021-02-19T00:00:00+00:00\",\"2021-02-22T00:00:00+00:00\",\"2021-02-23T00:00:00+00:00\",\"2021-02-24T00:00:00+00:00\",\"2021-02-25T00:00:00+00:00\",\"2021-02-26T00:00:00+00:00\",\"2021-03-01T00:00:00+00:00\",\"2021-03-02T00:00:00+00:00\",\"2021-03-03T00:00:00+00:00\",\"2021-03-04T00:00:00+00:00\",\"2021-03-05T00:00:00+00:00\",\"2021-03-08T00:00:00+00:00\",\"2021-03-09T00:00:00+00:00\",\"2021-03-10T00:00:00+00:00\",\"2021-03-11T00:00:00+00:00\",\"2021-03-12T00:00:00+00:00\",\"2021-03-15T00:00:00+00:00\",\"2021-03-16T00:00:00+00:00\",\"2021-03-17T00:00:00+00:00\",\"2021-03-18T00:00:00+00:00\",\"2021-03-19T00:00:00+00:00\",\"2021-03-22T00:00:00+00:00\",\"2021-03-23T00:00:00+00:00\",\"2021-03-24T00:00:00+00:00\",\"2021-03-25T00:00:00+00:00\",\"2021-03-26T00:00:00+00:00\",\"2021-03-29T00:00:00+00:00\",\"2021-03-30T00:00:00+00:00\",\"2021-03-31T00:00:00+00:00\",\"2021-04-01T00:00:00+00:00\",\"2021-04-05T00:00:00+00:00\",\"2021-04-06T00:00:00+00:00\",\"2021-04-07T00:00:00+00:00\",\"2021-04-08T00:00:00+00:00\",\"2021-04-09T00:00:00+00:00\",\"2021-04-12T00:00:00+00:00\",\"2021-04-13T00:00:00+00:00\",\"2021-04-14T00:00:00+00:00\",\"2021-04-15T00:00:00+00:00\",\"2021-04-16T00:00:00+00:00\",\"2021-04-19T00:00:00+00:00\",\"2021-04-20T00:00:00+00:00\",\"2021-04-21T00:00:00+00:00\",\"2021-04-22T00:00:00+00:00\",\"2021-04-23T00:00:00+00:00\",\"2021-04-26T00:00:00+00:00\",\"2021-04-27T00:00:00+00:00\",\"2021-04-28T00:00:00+00:00\",\"2021-04-29T00:00:00+00:00\",\"2021-04-30T00:00:00+00:00\",\"2021-05-03T00:00:00+00:00\",\"2021-05-04T00:00:00+00:00\",\"2021-05-05T00:00:00+00:00\",\"2021-05-06T00:00:00+00:00\",\"2021-05-07T00:00:00+00:00\",\"2021-05-10T00:00:00+00:00\",\"2021-05-11T00:00:00+00:00\",\"2021-05-12T00:00:00+00:00\",\"2021-05-13T00:00:00+00:00\",\"2021-05-14T00:00:00+00:00\",\"2021-05-17T00:00:00+00:00\",\"2021-05-18T00:00:00+00:00\",\"2021-05-19T00:00:00+00:00\",\"2021-05-20T00:00:00+00:00\",\"2021-05-21T00:00:00+00:00\",\"2021-05-24T00:00:00+00:00\",\"2021-05-25T00:00:00+00:00\",\"2021-05-26T00:00:00+00:00\",\"2021-05-27T00:00:00+00:00\",\"2021-05-28T00:00:00+00:00\",\"2021-06-01T00:00:00+00:00\",\"2021-06-02T00:00:00+00:00\",\"2021-06-03T00:00:00+00:00\",\"2021-06-04T00:00:00+00:00\",\"2021-06-07T00:00:00+00:00\",\"2021-06-08T00:00:00+00:00\",\"2021-06-09T00:00:00+00:00\",\"2021-06-10T00:00:00+00:00\",\"2021-06-11T00:00:00+00:00\",\"2021-06-14T00:00:00+00:00\",\"2021-06-15T00:00:00+00:00\",\"2021-06-16T00:00:00+00:00\",\"2021-06-17T00:00:00+00:00\",\"2021-06-18T00:00:00+00:00\",\"2021-06-21T00:00:00+00:00\",\"2021-06-22T00:00:00+00:00\",\"2021-06-23T00:00:00+00:00\",\"2021-06-24T00:00:00+00:00\",\"2021-06-25T00:00:00+00:00\",\"2021-06-28T00:00:00+00:00\",\"2021-06-29T00:00:00+00:00\",\"2021-06-30T00:00:00+00:00\",\"2021-07-01T00:00:00+00:00\",\"2021-07-02T00:00:00+00:00\",\"2021-07-06T00:00:00+00:00\",\"2021-07-07T00:00:00+00:00\",\"2021-07-08T00:00:00+00:00\",\"2021-07-09T00:00:00+00:00\",\"2021-07-12T00:00:00+00:00\",\"2021-07-13T00:00:00+00:00\",\"2021-07-14T00:00:00+00:00\",\"2021-07-15T00:00:00+00:00\",\"2021-07-16T00:00:00+00:00\",\"2021-07-19T00:00:00+00:00\",\"2021-07-20T00:00:00+00:00\",\"2021-07-21T00:00:00+00:00\",\"2021-07-22T00:00:00+00:00\",\"2021-07-23T00:00:00+00:00\",\"2021-07-26T00:00:00+00:00\",\"2021-07-27T00:00:00+00:00\",\"2021-07-28T00:00:00+00:00\",\"2021-07-29T00:00:00+00:00\",\"2021-07-30T00:00:00+00:00\",\"2021-08-02T00:00:00+00:00\",\"2021-08-03T00:00:00+00:00\",\"2021-08-04T00:00:00+00:00\",\"2021-08-05T00:00:00+00:00\",\"2021-08-06T00:00:00+00:00\",\"2021-08-09T00:00:00+00:00\",\"2021-08-10T00:00:00+00:00\",\"2021-08-11T00:00:00+00:00\",\"2021-08-12T00:00:00+00:00\",\"2021-08-13T00:00:00+00:00\",\"2021-08-16T00:00:00+00:00\",\"2021-08-17T00:00:00+00:00\",\"2021-08-18T00:00:00+00:00\",\"2021-08-19T00:00:00+00:00\",\"2021-08-20T00:00:00+00:00\",\"2021-08-23T00:00:00+00:00\",\"2021-08-24T00:00:00+00:00\",\"2021-08-25T00:00:00+00:00\",\"2021-08-26T00:00:00+00:00\",\"2021-08-27T00:00:00+00:00\",\"2021-08-30T00:00:00+00:00\",\"2021-08-31T00:00:00+00:00\",\"2021-09-01T00:00:00+00:00\",\"2021-09-02T00:00:00+00:00\",\"2021-09-03T00:00:00+00:00\",\"2021-09-07T00:00:00+00:00\",\"2021-09-08T00:00:00+00:00\",\"2021-09-09T00:00:00+00:00\",\"2021-09-10T00:00:00+00:00\",\"2021-09-13T00:00:00+00:00\",\"2021-09-14T00:00:00+00:00\",\"2021-09-15T00:00:00+00:00\",\"2021-09-16T00:00:00+00:00\",\"2021-09-17T00:00:00+00:00\",\"2021-09-20T00:00:00+00:00\",\"2021-09-21T00:00:00+00:00\",\"2021-09-22T00:00:00+00:00\",\"2021-09-23T00:00:00+00:00\",\"2021-09-24T00:00:00+00:00\",\"2021-09-27T00:00:00+00:00\",\"2021-09-28T00:00:00+00:00\",\"2021-09-29T00:00:00+00:00\",\"2021-09-30T00:00:00+00:00\",\"2021-10-01T00:00:00+00:00\",\"2021-10-04T00:00:00+00:00\",\"2021-10-05T00:00:00+00:00\",\"2021-10-06T00:00:00+00:00\",\"2021-10-07T00:00:00+00:00\",\"2021-10-08T00:00:00+00:00\",\"2021-10-11T00:00:00+00:00\",\"2021-10-12T00:00:00+00:00\",\"2021-10-13T00:00:00+00:00\",\"2021-10-14T00:00:00+00:00\",\"2021-10-15T00:00:00+00:00\",\"2021-10-18T00:00:00+00:00\",\"2021-10-19T00:00:00+00:00\",\"2021-10-20T00:00:00+00:00\",\"2021-10-21T00:00:00+00:00\",\"2021-10-22T00:00:00+00:00\",\"2021-10-25T00:00:00+00:00\",\"2021-10-26T00:00:00+00:00\",\"2021-10-27T00:00:00+00:00\",\"2021-10-28T00:00:00+00:00\",\"2021-10-29T00:00:00+00:00\",\"2021-11-01T00:00:00+00:00\",\"2021-11-02T00:00:00+00:00\",\"2021-11-03T00:00:00+00:00\",\"2021-11-04T00:00:00+00:00\",\"2021-11-05T00:00:00+00:00\",\"2021-11-08T00:00:00+00:00\",\"2021-11-09T00:00:00+00:00\",\"2021-11-10T00:00:00+00:00\",\"2021-11-11T00:00:00+00:00\",\"2021-11-12T00:00:00+00:00\",\"2021-11-15T00:00:00+00:00\",\"2021-11-16T00:00:00+00:00\",\"2021-11-17T00:00:00+00:00\",\"2021-11-18T00:00:00+00:00\",\"2021-11-19T00:00:00+00:00\",\"2021-11-22T00:00:00+00:00\",\"2021-11-23T00:00:00+00:00\",\"2021-11-24T00:00:00+00:00\",\"2021-11-26T00:00:00+00:00\",\"2021-11-29T00:00:00+00:00\",\"2021-11-30T00:00:00+00:00\",\"2021-12-01T00:00:00+00:00\",\"2021-12-02T00:00:00+00:00\",\"2021-12-03T00:00:00+00:00\",\"2021-12-06T00:00:00+00:00\",\"2021-12-07T00:00:00+00:00\",\"2021-12-08T00:00:00+00:00\",\"2021-12-09T00:00:00+00:00\",\"2021-12-10T00:00:00+00:00\",\"2021-12-13T00:00:00+00:00\",\"2021-12-14T00:00:00+00:00\",\"2021-12-15T00:00:00+00:00\",\"2021-12-16T00:00:00+00:00\",\"2021-12-17T00:00:00+00:00\",\"2021-12-20T00:00:00+00:00\",\"2021-12-21T00:00:00+00:00\",\"2021-12-22T00:00:00+00:00\",\"2021-12-23T00:00:00+00:00\",\"2021-12-27T00:00:00+00:00\",\"2021-12-28T00:00:00+00:00\",\"2021-12-29T00:00:00+00:00\",\"2021-12-30T00:00:00+00:00\",\"2021-12-31T00:00:00+00:00\",\"2022-01-03T00:00:00+00:00\",\"2022-01-04T00:00:00+00:00\",\"2022-01-05T00:00:00+00:00\",\"2022-01-06T00:00:00+00:00\",\"2022-01-07T00:00:00+00:00\",\"2022-01-10T00:00:00+00:00\",\"2022-01-11T00:00:00+00:00\",\"2022-01-12T00:00:00+00:00\",\"2022-01-13T00:00:00+00:00\",\"2022-01-14T00:00:00+00:00\",\"2022-01-18T00:00:00+00:00\",\"2022-01-19T00:00:00+00:00\",\"2022-01-20T00:00:00+00:00\",\"2022-01-21T00:00:00+00:00\",\"2022-01-24T00:00:00+00:00\",\"2022-01-25T00:00:00+00:00\",\"2022-01-26T00:00:00+00:00\",\"2022-01-27T00:00:00+00:00\",\"2022-01-28T00:00:00+00:00\",\"2022-01-31T00:00:00+00:00\",\"2022-02-01T00:00:00+00:00\",\"2022-02-02T00:00:00+00:00\",\"2022-02-03T00:00:00+00:00\",\"2022-02-04T00:00:00+00:00\",\"2022-02-07T00:00:00+00:00\",\"2022-02-08T00:00:00+00:00\",\"2022-02-09T00:00:00+00:00\",\"2022-02-10T00:00:00+00:00\",\"2022-02-11T00:00:00+00:00\",\"2022-02-14T00:00:00+00:00\",\"2022-02-15T00:00:00+00:00\",\"2022-02-16T00:00:00+00:00\",\"2022-02-17T00:00:00+00:00\",\"2022-02-18T00:00:00+00:00\",\"2022-02-22T00:00:00+00:00\",\"2022-02-23T00:00:00+00:00\",\"2022-02-24T00:00:00+00:00\",\"2022-02-25T00:00:00+00:00\",\"2022-02-28T00:00:00+00:00\",\"2022-03-01T00:00:00+00:00\",\"2022-03-02T00:00:00+00:00\",\"2022-03-03T00:00:00+00:00\",\"2022-03-04T00:00:00+00:00\",\"2022-03-07T00:00:00+00:00\",\"2022-03-08T00:00:00+00:00\",\"2022-03-09T00:00:00+00:00\",\"2022-03-10T00:00:00+00:00\",\"2022-03-11T00:00:00+00:00\",\"2022-03-14T00:00:00+00:00\",\"2022-03-15T00:00:00+00:00\",\"2022-03-16T00:00:00+00:00\",\"2022-03-17T00:00:00+00:00\",\"2022-03-18T00:00:00+00:00\",\"2022-03-21T00:00:00+00:00\",\"2022-03-22T00:00:00+00:00\",\"2022-03-23T00:00:00+00:00\",\"2022-03-24T00:00:00+00:00\",\"2022-03-25T00:00:00+00:00\",\"2022-03-28T00:00:00+00:00\",\"2022-03-29T00:00:00+00:00\",\"2022-03-30T00:00:00+00:00\",\"2022-03-31T00:00:00+00:00\",\"2022-04-01T00:00:00+00:00\",\"2022-04-04T00:00:00+00:00\",\"2022-04-05T00:00:00+00:00\",\"2022-04-06T00:00:00+00:00\",\"2022-04-07T00:00:00+00:00\",\"2022-04-08T00:00:00+00:00\",\"2022-04-11T00:00:00+00:00\",\"2022-04-12T00:00:00+00:00\",\"2022-04-13T00:00:00+00:00\",\"2022-04-14T00:00:00+00:00\",\"2022-04-18T00:00:00+00:00\",\"2022-04-19T00:00:00+00:00\",\"2022-04-20T00:00:00+00:00\",\"2022-04-21T00:00:00+00:00\",\"2022-04-22T00:00:00+00:00\",\"2022-04-25T00:00:00+00:00\",\"2022-04-26T00:00:00+00:00\",\"2022-04-27T00:00:00+00:00\",\"2022-04-28T00:00:00+00:00\",\"2022-04-29T00:00:00+00:00\",\"2022-05-02T00:00:00+00:00\",\"2022-05-03T00:00:00+00:00\",\"2022-05-04T00:00:00+00:00\",\"2022-05-05T00:00:00+00:00\",\"2022-05-06T00:00:00+00:00\",\"2022-05-09T00:00:00+00:00\",\"2022-05-10T00:00:00+00:00\",\"2022-05-11T00:00:00+00:00\",\"2022-05-12T00:00:00+00:00\",\"2022-05-13T00:00:00+00:00\",\"2022-05-16T00:00:00+00:00\",\"2022-05-17T00:00:00+00:00\",\"2022-05-18T00:00:00+00:00\",\"2022-05-19T00:00:00+00:00\",\"2022-05-20T00:00:00+00:00\",\"2022-05-23T00:00:00+00:00\",\"2022-05-24T00:00:00+00:00\",\"2022-05-25T00:00:00+00:00\",\"2022-05-26T00:00:00+00:00\",\"2022-05-27T00:00:00+00:00\",\"2022-05-31T00:00:00+00:00\",\"2022-06-01T00:00:00+00:00\",\"2022-06-02T00:00:00+00:00\",\"2022-06-03T00:00:00+00:00\",\"2022-06-06T00:00:00+00:00\",\"2022-06-07T00:00:00+00:00\",\"2022-06-08T00:00:00+00:00\",\"2022-06-09T00:00:00+00:00\",\"2022-06-10T00:00:00+00:00\",\"2022-06-13T00:00:00+00:00\",\"2022-06-14T00:00:00+00:00\",\"2022-06-15T00:00:00+00:00\",\"2022-06-16T00:00:00+00:00\",\"2022-06-17T00:00:00+00:00\",\"2022-06-21T00:00:00+00:00\",\"2022-06-22T00:00:00+00:00\",\"2022-06-23T00:00:00+00:00\",\"2022-06-24T00:00:00+00:00\",\"2022-06-27T00:00:00+00:00\",\"2022-06-28T00:00:00+00:00\",\"2022-06-29T00:00:00+00:00\",\"2022-06-30T00:00:00+00:00\",\"2022-07-01T00:00:00+00:00\",\"2022-07-05T00:00:00+00:00\",\"2022-07-06T00:00:00+00:00\",\"2022-07-07T00:00:00+00:00\",\"2022-07-08T00:00:00+00:00\",\"2022-07-11T00:00:00+00:00\",\"2022-07-12T00:00:00+00:00\",\"2022-07-13T00:00:00+00:00\",\"2022-07-14T00:00:00+00:00\",\"2022-07-15T00:00:00+00:00\",\"2022-07-18T00:00:00+00:00\",\"2022-07-19T00:00:00+00:00\",\"2022-07-20T00:00:00+00:00\",\"2022-07-21T00:00:00+00:00\",\"2022-07-22T00:00:00+00:00\",\"2022-07-25T00:00:00+00:00\",\"2022-07-26T00:00:00+00:00\",\"2022-07-27T00:00:00+00:00\",\"2022-07-28T00:00:00+00:00\",\"2022-07-29T00:00:00+00:00\",\"2022-08-01T00:00:00+00:00\",\"2022-08-02T00:00:00+00:00\",\"2022-08-03T00:00:00+00:00\",\"2022-08-04T00:00:00+00:00\",\"2022-08-05T00:00:00+00:00\",\"2022-08-08T00:00:00+00:00\",\"2022-08-09T00:00:00+00:00\",\"2022-08-10T00:00:00+00:00\",\"2022-08-11T00:00:00+00:00\",\"2022-08-12T00:00:00+00:00\",\"2022-08-15T00:00:00+00:00\",\"2022-08-16T00:00:00+00:00\",\"2022-08-17T00:00:00+00:00\",\"2022-08-18T00:00:00+00:00\",\"2022-08-19T00:00:00+00:00\",\"2022-08-22T00:00:00+00:00\",\"2022-08-23T00:00:00+00:00\",\"2022-08-24T00:00:00+00:00\",\"2022-08-25T00:00:00+00:00\",\"2022-08-26T00:00:00+00:00\",\"2022-08-29T00:00:00+00:00\",\"2022-08-30T00:00:00+00:00\",\"2022-08-31T00:00:00+00:00\",\"2022-09-01T00:00:00+00:00\",\"2022-09-02T00:00:00+00:00\",\"2022-09-06T00:00:00+00:00\",\"2022-09-07T00:00:00+00:00\",\"2022-09-08T00:00:00+00:00\",\"2022-09-09T00:00:00+00:00\",\"2022-09-12T00:00:00+00:00\",\"2022-09-13T00:00:00+00:00\",\"2022-09-14T00:00:00+00:00\",\"2022-09-15T00:00:00+00:00\",\"2022-09-16T00:00:00+00:00\",\"2022-09-19T00:00:00+00:00\",\"2022-09-20T00:00:00+00:00\",\"2022-09-21T00:00:00+00:00\",\"2022-09-22T00:00:00+00:00\",\"2022-09-23T00:00:00+00:00\",\"2022-09-26T00:00:00+00:00\",\"2022-09-27T00:00:00+00:00\",\"2022-09-28T00:00:00+00:00\",\"2022-09-29T00:00:00+00:00\",\"2022-09-30T00:00:00+00:00\",\"2022-10-03T00:00:00+00:00\",\"2022-10-04T00:00:00+00:00\",\"2022-10-05T00:00:00+00:00\",\"2022-10-06T00:00:00+00:00\",\"2022-10-07T00:00:00+00:00\",\"2022-10-10T00:00:00+00:00\",\"2022-10-11T00:00:00+00:00\",\"2022-10-12T00:00:00+00:00\",\"2022-10-13T00:00:00+00:00\",\"2022-10-14T00:00:00+00:00\",\"2022-10-17T00:00:00+00:00\",\"2022-10-18T00:00:00+00:00\",\"2022-10-19T00:00:00+00:00\",\"2022-10-20T00:00:00+00:00\",\"2022-10-21T00:00:00+00:00\",\"2022-10-24T00:00:00+00:00\",\"2022-10-25T00:00:00+00:00\",\"2022-10-26T00:00:00+00:00\",\"2022-10-27T00:00:00+00:00\",\"2022-10-28T00:00:00+00:00\",\"2022-10-31T00:00:00+00:00\",\"2022-11-01T00:00:00+00:00\",\"2022-11-02T00:00:00+00:00\",\"2022-11-03T00:00:00+00:00\",\"2022-11-04T00:00:00+00:00\",\"2022-11-07T00:00:00+00:00\",\"2022-11-08T00:00:00+00:00\",\"2022-11-09T00:00:00+00:00\",\"2022-11-10T00:00:00+00:00\",\"2022-11-11T00:00:00+00:00\",\"2022-11-14T00:00:00+00:00\",\"2022-11-15T00:00:00+00:00\",\"2022-11-16T00:00:00+00:00\",\"2022-11-17T00:00:00+00:00\",\"2022-11-18T00:00:00+00:00\",\"2022-11-21T00:00:00+00:00\",\"2022-11-22T00:00:00+00:00\",\"2022-11-23T00:00:00+00:00\",\"2022-11-25T00:00:00+00:00\",\"2022-11-28T00:00:00+00:00\",\"2022-11-29T00:00:00+00:00\",\"2022-11-30T00:00:00+00:00\",\"2022-12-01T00:00:00+00:00\",\"2022-12-02T00:00:00+00:00\",\"2022-12-05T00:00:00+00:00\",\"2022-12-06T00:00:00+00:00\",\"2022-12-07T00:00:00+00:00\",\"2022-12-08T00:00:00+00:00\",\"2022-12-09T00:00:00+00:00\",\"2022-12-12T00:00:00+00:00\",\"2022-12-13T00:00:00+00:00\",\"2022-12-14T00:00:00+00:00\",\"2022-12-15T00:00:00+00:00\",\"2022-12-16T00:00:00+00:00\",\"2022-12-19T00:00:00+00:00\",\"2022-12-20T00:00:00+00:00\",\"2022-12-21T00:00:00+00:00\",\"2022-12-22T00:00:00+00:00\",\"2022-12-23T00:00:00+00:00\",\"2022-12-27T00:00:00+00:00\",\"2022-12-28T00:00:00+00:00\",\"2022-12-29T00:00:00+00:00\",\"2022-12-30T00:00:00+00:00\",\"2023-01-03T00:00:00+00:00\",\"2023-01-04T00:00:00+00:00\",\"2023-01-05T00:00:00+00:00\",\"2023-01-06T00:00:00+00:00\",\"2023-01-09T00:00:00+00:00\",\"2023-01-10T00:00:00+00:00\",\"2023-01-11T00:00:00+00:00\",\"2023-01-12T00:00:00+00:00\",\"2023-01-13T00:00:00+00:00\",\"2023-01-17T00:00:00+00:00\",\"2023-01-18T00:00:00+00:00\",\"2023-01-19T00:00:00+00:00\",\"2023-01-20T00:00:00+00:00\",\"2023-01-23T00:00:00+00:00\",\"2023-01-24T00:00:00+00:00\",\"2023-01-25T00:00:00+00:00\",\"2023-01-26T00:00:00+00:00\",\"2023-01-27T00:00:00+00:00\",\"2023-01-30T00:00:00+00:00\",\"2023-01-31T00:00:00+00:00\",\"2023-02-01T00:00:00+00:00\",\"2023-02-02T00:00:00+00:00\",\"2023-02-03T00:00:00+00:00\",\"2023-02-06T00:00:00+00:00\",\"2023-02-07T00:00:00+00:00\",\"2023-02-08T00:00:00+00:00\",\"2023-02-09T00:00:00+00:00\",\"2023-02-10T00:00:00+00:00\",\"2023-02-13T00:00:00+00:00\",\"2023-02-14T00:00:00+00:00\",\"2023-02-15T00:00:00+00:00\",\"2023-02-16T00:00:00+00:00\",\"2023-02-17T00:00:00+00:00\",\"2023-02-21T00:00:00+00:00\",\"2023-02-22T00:00:00+00:00\",\"2023-02-23T00:00:00+00:00\",\"2023-02-24T00:00:00+00:00\",\"2023-02-27T00:00:00+00:00\",\"2023-02-28T00:00:00+00:00\",\"2023-03-01T00:00:00+00:00\",\"2023-03-02T00:00:00+00:00\",\"2023-03-03T00:00:00+00:00\",\"2023-03-06T00:00:00+00:00\",\"2023-03-07T00:00:00+00:00\",\"2023-03-08T00:00:00+00:00\",\"2023-03-09T00:00:00+00:00\",\"2023-03-10T00:00:00+00:00\",\"2023-03-13T00:00:00+00:00\",\"2023-03-14T00:00:00+00:00\",\"2023-03-15T00:00:00+00:00\",\"2023-03-16T00:00:00+00:00\",\"2023-03-17T00:00:00+00:00\",\"2023-03-20T00:00:00+00:00\",\"2023-03-21T00:00:00+00:00\",\"2023-03-22T00:00:00+00:00\",\"2023-03-23T00:00:00+00:00\",\"2023-03-24T00:00:00+00:00\",\"2023-03-27T00:00:00+00:00\",\"2023-03-28T00:00:00+00:00\",\"2023-03-29T00:00:00+00:00\",\"2023-03-30T00:00:00+00:00\",\"2023-03-31T00:00:00+00:00\",\"2023-04-03T00:00:00+00:00\",\"2023-04-04T00:00:00+00:00\",\"2023-04-05T00:00:00+00:00\",\"2023-04-06T00:00:00+00:00\",\"2023-04-10T00:00:00+00:00\",\"2023-04-11T00:00:00+00:00\"],\"xaxis\":\"x\",\"y\":[111.5,109.050003,109.790001,109.989998,108.889999,109.5,110.879997,110.629997,109.589996,108.599998,109.339996,109.129997,108.75,107.540001,107.730003,105.18,105.980003,108.360001,109.279999,111.029999,112.75,113.669998,113.739998,112.57,112.629997,112.199997,110.839996,111.919998,112.290001,111.120003,110.120003,110.199997,104.959999,106.650002,106.419998,107.800003,108.269997,107.07,108.480003,110.029999,110.059998,110.769997,109.519997,109.580002,107.779999,106.269997,106.690002,106.599998,107.440002,106.529999,105.510002,103.959999,103.110001,103.230003,103.510002,104.150002,103.379997,103.519997,103.529999,102.199997,104.709999,106.529999,106.209999,105.970001,105.139999,106.980003,109.75,110.199997,109.730003,109.779999,110.93,113.419998,113.379997,114.580002,114.809998,116.059998,114.82,115.279999,114.330002,115.940002,116.18,117.330002,117.279999,116.699997,114.68,113.82,113.650002,112.970001,114.300003,114.300003,114.110001,114.879997,114.779999,114.43,114.449997,115.169998,115.970001,115.360001,114.980003,113.82,113.629997,114.25,113.5,113.629997,113.660004,113.18,112.849998,112.669998,113.230003,113.300003,113.559998,114.440002,118.080002,117.739998,116.43,116.32,114.660004,114.160004,112.519997,113.040001,112.809998,114.480003,114.209999,114.019997,113.349998,113.669998,111.470001,107.379997,105.599998,106.32,106.730003,108.230003,107.809998,107.269997,106.110001,103.699997,102.910004,103.720001,102.730003,103.699997,104.860001,107.790001,108.32,107.489998,108.419998,107.760002,109.349998,111.0,110.830002,108.599998,109.099998,105.980003,106.809998,108.550003,109.529999,107.980003,107.639999,106.059998,107.449997,108.629997,108.870003,109.639999,109.580002,111.739998,106.730003,102.879997,102.910004,99.279999,100.209999,100.059998,100.669998,99.860001,98.440002,98.120003,96.599998,95.690002,93.690002,92.139999,91.110001,93.550003,96.440002,96.769997,95.940002,96.690002,98.279999,99.709999,99.550003,99.93,99.269997,98.949997,98.660004,98.599998,101.800003,101.919998,102.830002,102.129997,101.970001,101.940002,102.739998,102.589996,103.730003,103.779999,102.730003,103.519997,103.010002,103.290001,103.470001,101.440002,100.059998,100.769997,101.889999,102.900002,101.349998,103.660004,103.809998,104.879997,104.959999,104.779999,105.690002,103.940002,104.510002,104.18,104.199997,103.269997,103.260002,103.550003,102.160004,101.989998,103.660004,103.75,103.949997,104.459999,105.230003,106.5,106.550003,104.410004,102.279999,99.519997,98.089996,98.82,99.080002,99.739998,100.589996,102.120003,104.330002,104.790001,104.449997,104.989998,104.910004,104.25,104.470001,105.559998,108.879997,109.120003,109.860001,111.010002,113.330002,112.660004,112.849998,112.809998,112.5,113.599998,114.449997,115.260002,115.110001,114.580002,115.669998,113.720001,112.290001,112.459999,110.580002,110.540001,108.980003,109.5,108.610001,110.589996,109.830002,110.370003,111.220001,110.75,107.5,109.190002,108.440002,107.059998,106.540001,104.839996,105.300003,107.129997,108.639999,108.93,108.959999,110.220001,110.370003,108.889999,109.050003,108.629997,109.059998,108.980003,109.699997,109.029999,109.089996,108.540001,107.669998,108.160004,108.440002,110.900002,113.080002,113.220001,112.260002,112.919998,112.5,112.150002,112.739998,113.120003,113.93,113.529999,112.919998,113.730003,113.550003,113.400002,112.769997,114.82,115.519997,115.32,115.529999,115.790001,114.760002,114.860001,112.599998,111.400002,108.269997,108.339996,105.940002,108.720001,108.290001,107.209999,107.029999,104.449997,104.339996,105.870003,108.419998,107.239998,107.449997,107.93,105.110001,106.010002,104.839996,105.040001,108.019997,109.470001,107.32,108.559998,111.199997,111.959999,113.599998,115.730003,115.379997,115.919998,118.75,118.379997,117.239998,117.75,119.089996,118.870003,117.68,117.040001,117.120003,116.949997,117.279999,117.220001,115.410004,112.93,110.519997,112.269997,114.07,111.660004,112.07,113.0,115.870003,115.660004,117.870003,119.379997,119.879997,119.860001,121.989998,123.120003,124.169998,124.07,124.75,126.400002,125.940002,124.919998,123.860001,126.019997,128.559998,128.839996,128.580002,129.919998,129.25,129.350006,129.009995,127.419998,127.589996,128.399994,128.990005,130.179993,128.940002,129.389999,130.100006,130.869995,130.360001,131.649994,131.449997,131.350006,128.589996,129.990005,132.179993,134.649994,134.410004,132.880005,134.009995,134.210007,136.220001,137.320007,137.229996,137.720001,137.100006,136.899994,136.880005,137.059998,137.779999,138.669998,138.470001,138.289993,139.259995,137.080002,136.5,135.820007,135.600006,137.039993,135.809998,135.759995,137.690002,136.149994,136.839996,137.320007,136.690002,136.380005,134.720001,132.320007,129.710007,132.479996,133.690002,132.690002,131.470001,132.660004,135.080002,136.009995,137.110001,136.300003,136.75,137.779999,137.800003,136.399994,136.940002,135.050003,136.339996,136.529999,134.919998,130.800003,125.589996,126.339996,121.300003,112.660004,114.459999,116.239998,114.699997,112.580002,105.019997,93.0,94.580002,94.550003,86.32,92.0,84.550003,87.5,80.360001,76.910004,82.480003,78.089996,82.900002,84.540001,93.540001,90.550003,89.300003,89.339996,83.25,82.959999,82.769997,87.699997,90.379997,90.550003,96.889999,97.300003,93.639999,90.129997,87.050003,90.959999,90.459999,88.330002,89.18,89.260002,88.489998,91.540001,95.029999,97.269997,94.550003,91.839996,90.800003,91.900002,89.93,90.580002,92.110001,89.330002,86.900002,83.400002,82.400002,85.300003,87.879997,88.589996,90.370003,89.669998,88.720001,92.610001,98.800003,99.400002,96.779999,97.379997,97.93,101.059998,102.790001,109.529999,111.940002,109.010002,105.849998,96.540001,97.330002,95.870003,99.309998,99.209999,98.129997,96.730003,96.540001,97.849998,94.309998,94.260002,92.0,92.18,92.57,93.029999,91.93,93.480003,92.0,91.800003,90.779999,91.870003,96.230003,96.639999,98.650002,98.550003,98.139999,97.260002,97.639999,97.529999,97.970001,97.940002,96.169998,96.5,97.0,96.050003,95.25,95.849998,95.029999,95.720001,96.540001,96.559998,100.029999,103.510002,101.709999,101.639999,101.419998,99.529999,98.120003,98.339996,96.800003,96.940002,97.419998,99.800003,99.050003,99.0,101.809998,100.019997,99.040001,99.559998,100.639999,101.370003,99.480003,99.559998,99.639999,99.589996,101.370003,99.139999,98.760002,97.709999,97.440002,93.82,93.669998,92.660004,91.379997,91.870003,94.349998,94.330002,95.260002,96.029999,95.089996,97.529999,97.510002,98.669998,99.900002,100.110001,100.849998,100.260002,100.099998,99.040001,100.720001,99.559998,100.120003,99.330002,99.309998,102.93,100.25,99.160004,96.07,95.239998,96.230003,97.860001,102.690002,98.93,101.0,102.389999,110.349998,114.690002,113.959999,112.059998,113.57,115.730003,114.580002,115.199997,113.559998,114.089996,115.57,119.709999,120.470001,121.080002,117.769997,119.629997,119.269997,120.360001,121.690002,120.209999,120.760002,120.440002,119.559998,118.370003,118.110001,118.620003,119.860001,119.580002,118.269997,121.089996,121.610001,122.349998,123.57,124.790001,124.889999,124.900002,124.82,124.779999,123.769997,127.879997,134.919998,134.119995,134.110001,138.830002,138.100006,140.0,137.009995,137.820007,135.440002,134.320007,132.199997,130.059998,131.339996,127.349998,128.990005,128.190002,128.479996,131.220001,133.509995,135.470001,137.380005,138.179993,138.539993,139.039993,138.220001,139.0,142.399994,143.119995,143.399994,145.860001,146.789993,149.589996,150.110001,150.589996,146.509995,148.479996,149.839996,150.820007,148.619995,147.970001,150.75,149.820007,151.509995,153.360001,155.070007,153.960007,152.190002,153.050003,157.110001,151.190002,150.610001,148.960007,149.860001,149.330002,152.550003,151.039993,153.880005,152.119995,151.550003,152.600006,151.860001,152.649994,152.309998,154.970001,155.570007,152.429993,150.929993,149.320007,152.690002,152.220001,148.649994,146.789993,147.259995,146.690002,150.380005,150.110001,151.399994,153.199997,153.009995,153.130005,152.139999,154.630005,157.160004,157.020004,161.119995,158.039993,157.029999,157.679993,161.990005,163.029999,162.240005,158.639999,159.520004,160.940002,162.119995,161.559998,161.309998,162.570007,163.259995,165.479996,165.529999,164.660004,165.029999,165.139999,163.160004,162.279999,160.309998,159.059998,156.660004,154.130005,153.110001,151.25,147.559998,149.020004,148.660004,150.089996,151.220001,151.669998,152.119995,153.610001,153.710007,155.419998,155.119995,152.350006,151.550003,150.039993,152.580002,153.940002,153.5,152.949997,153.699997,151.020004,145.710007,146.330002,151.360001,149.970001,150.25,150.169998,149.800003,150.880005,151.910004,151.199997,151.070007,149.520004,150.910004,152.009995,155.110001,155.899994,156.309998,159.080002,160.550003,159.570007,156.779999,155.270004,155.339996,153.009995,153.160004,155.240005,156.869995,157.800003,161.149994,161.259995,159.880005,159.350006,158.970001,159.429993,159.149994,158.960007,158.039993,158.080002,157.220001,158.070007,156.259995,156.470001,157.220001,157.0,150.490005,152.580002,155.100006,157.669998,160.820007,164.610001,165.660004,165.039993,162.789993,163.600006,165.729996,166.669998,166.0,169.539993,169.300003,166.460007,164.770004,160.600006,160.059998,164.139999,165.910004,166.580002,167.460007,168.679993,169.699997,170.479996,170.539993,167.339996,167.960007,169.389999,169.009995,168.919998,169.149994,166.490005,167.410004,168.740005,166.600006,167.089996,166.899994,165.720001,166.0,165.119995,163.389999,162.559998,159.449997,162.990005,165.369995,166.440002,158.820007,159.820007,158.289993,157.800003,158.800003,157.190002,159.460007,161.160004,160.169998,158.649994,159.130005,157.279999,157.300003,157.350006,158.699997,155.179993,151.839996,155.089996,155.240005,157.210007,156.339996,158.080002,158.149994,158.369995,157.960007,159.509995,164.229996,163.729996,163.869995,165.059998,165.529999,166.309998,167.179993,167.889999,156.899994,150.539993,148.550003,147.360001,144.270004,139.570007,140.789993,145.960007,144.130005,142.169998,144.669998,148.300003,148.070007,148.289993,148.770004,150.850006,154.800003,155.820007,155.220001,152.970001,150.320007,153.850006,153.740005,150.669998,151.130005,150.410004,147.970001,139.779999,144.910004,140.880005,133.580002,136.610001,137.059998,132.399994,128.949997,127.269997,132.440002,130.320007,128.419998,129.229996,131.130005,134.429993,135.919998,138.460007,138.729996,141.720001,139.199997,139.110001,140.800003,137.899994,140.240005,139.910004,136.259995,133.800003,132.889999,133.009995,130.960007,128.729996,131.490005,132.570007,130.699997,126.010002,125.019997,125.540001,128.229996,131.339996,129.960007,126.690002,123.110001,122.870003,121.220001,121.139999,118.900002,118.220001,120.779999,122.739998,122.160004,121.18,120.5,117.559998,117.940002,115.370003,117.959999,117.230003,120.809998,119.529999,117.629997,115.019997,120.449997,123.110001,125.169998,128.210007,129.139999,129.710007,128.669998,128.669998,129.990005,129.460007,128.619995,126.900002,125.269997,119.32,115.059998,113.220001,113.169998,111.870003,112.160004,115.040001,114.389999,111.480003,112.830002,115.639999,115.599998,114.730003,110.93,111.160004,109.300003,110.790001,113.400002,113.610001,112.220001,112.260002,110.379997,106.059998,107.669998,111.290001,112.669998,113.480003,113.370003,113.669998,114.769997,113.029999,113.300003,113.529999,114.790001,113.07,112.269997,111.709999,111.019997,112.050003,114.18,114.370003,117.5,119.309998,119.440002,120.599998,121.870003,121.690002,120.550003,118.110001,115.5,115.379997,114.449997,115.68,114.599998,113.459999,113.360001,113.339996,111.910004,113.190002,112.07,112.760002,114.629997,118.669998,119.790001,115.779999,114.879997,115.760002,115.370003,115.510002,114.639999,112.419998,111.07,107.160004,106.059998,104.650002,105.639999,104.400002,104.400002,104.459999,109.860001,108.830002,107.940002,105.269997,104.519997,101.849998,101.279999,101.760002,110.720001,114.32,116.959999,115.669998,115.650002,116.330002,121.330002,120.889999,122.879997,124.209999,124.050003,125.589996,126.330002,126.639999,125.910004,128.460007,130.479996,130.139999,129.220001,132.529999,133.779999,133.910004,131.600006,132.029999,131.279999,132.279999,132.75,133.690002,134.860001,136.059998,134.190002,134.410004,133.190002,135.429993,133.339996,130.600006,129.869995,130.330002,131.429993,132.0,131.600006,133.080002,132.759995,129.050003,128.429993,129.089996,130.199997,131.770004,128.410004,129.639999,130.550003,131.009995,132.309998,132.440002,133.889999,135.570007,133.699997,134.490005,136.880005,137.309998,138.100006,139.220001,134.800003,139.229996,136.410004,133.589996,133.550003,134.820007,135.0,137.25,138.360001,139.75,138.910004,138.25,138.119995,138.0,138.130005,140.029999,141.179993,142.279999,139.869995,138.589996,140.740005,141.600006,141.300003,141.679993,140.070007,138.75,137.440002,137.940002,138.929993,141.720001,141.899994,141.800003,139.539993,141.080002,142.660004,137.809998,136.889999,129.220001,127.82,129.410004,131.289993,126.730003,126.019997,125.449997,126.010002,130.190002,127.080002,126.019997,123.110001,126.290001,127.739998,127.769997,127.650002,128.850006,129.410004,127.410004,126.459999,126.860001,126.220001,127.540001],\"yaxis\":\"y\",\"type\":\"scattergl\"}],                        {\"template\":{\"data\":{\"histogram2dcontour\":[{\"type\":\"histogram2dcontour\",\"colorbar\":{\"outlinewidth\":0,\"ticks\":\"\"},\"colorscale\":[[0.0,\"#0d0887\"],[0.1111111111111111,\"#46039f\"],[0.2222222222222222,\"#7201a8\"],[0.3333333333333333,\"#9c179e\"],[0.4444444444444444,\"#bd3786\"],[0.5555555555555556,\"#d8576b\"],[0.6666666666666666,\"#ed7953\"],[0.7777777777777778,\"#fb9f3a\"],[0.8888888888888888,\"#fdca26\"],[1.0,\"#f0f921\"]]}],\"choropleth\":[{\"type\":\"choropleth\",\"colorbar\":{\"outlinewidth\":0,\"ticks\":\"\"}}],\"histogram2d\":[{\"type\":\"histogram2d\",\"colorbar\":{\"outlinewidth\":0,\"ticks\":\"\"},\"colorscale\":[[0.0,\"#0d0887\"],[0.1111111111111111,\"#46039f\"],[0.2222222222222222,\"#7201a8\"],[0.3333333333333333,\"#9c179e\"],[0.4444444444444444,\"#bd3786\"],[0.5555555555555556,\"#d8576b\"],[0.6666666666666666,\"#ed7953\"],[0.7777777777777778,\"#fb9f3a\"],[0.8888888888888888,\"#fdca26\"],[1.0,\"#f0f921\"]]}],\"heatmap\":[{\"type\":\"heatmap\",\"colorbar\":{\"outlinewidth\":0,\"ticks\":\"\"},\"colorscale\":[[0.0,\"#0d0887\"],[0.1111111111111111,\"#46039f\"],[0.2222222222222222,\"#7201a8\"],[0.3333333333333333,\"#9c179e\"],[0.4444444444444444,\"#bd3786\"],[0.5555555555555556,\"#d8576b\"],[0.6666666666666666,\"#ed7953\"],[0.7777777777777778,\"#fb9f3a\"],[0.8888888888888888,\"#fdca26\"],[1.0,\"#f0f921\"]]}],\"heatmapgl\":[{\"type\":\"heatmapgl\",\"colorbar\":{\"outlinewidth\":0,\"ticks\":\"\"},\"colorscale\":[[0.0,\"#0d0887\"],[0.1111111111111111,\"#46039f\"],[0.2222222222222222,\"#7201a8\"],[0.3333333333333333,\"#9c179e\"],[0.4444444444444444,\"#bd3786\"],[0.5555555555555556,\"#d8576b\"],[0.6666666666666666,\"#ed7953\"],[0.7777777777777778,\"#fb9f3a\"],[0.8888888888888888,\"#fdca26\"],[1.0,\"#f0f921\"]]}],\"contourcarpet\":[{\"type\":\"contourcarpet\",\"colorbar\":{\"outlinewidth\":0,\"ticks\":\"\"}}],\"contour\":[{\"type\":\"contour\",\"colorbar\":{\"outlinewidth\":0,\"ticks\":\"\"},\"colorscale\":[[0.0,\"#0d0887\"],[0.1111111111111111,\"#46039f\"],[0.2222222222222222,\"#7201a8\"],[0.3333333333333333,\"#9c179e\"],[0.4444444444444444,\"#bd3786\"],[0.5555555555555556,\"#d8576b\"],[0.6666666666666666,\"#ed7953\"],[0.7777777777777778,\"#fb9f3a\"],[0.8888888888888888,\"#fdca26\"],[1.0,\"#f0f921\"]]}],\"surface\":[{\"type\":\"surface\",\"colorbar\":{\"outlinewidth\":0,\"ticks\":\"\"},\"colorscale\":[[0.0,\"#0d0887\"],[0.1111111111111111,\"#46039f\"],[0.2222222222222222,\"#7201a8\"],[0.3333333333333333,\"#9c179e\"],[0.4444444444444444,\"#bd3786\"],[0.5555555555555556,\"#d8576b\"],[0.6666666666666666,\"#ed7953\"],[0.7777777777777778,\"#fb9f3a\"],[0.8888888888888888,\"#fdca26\"],[1.0,\"#f0f921\"]]}],\"mesh3d\":[{\"type\":\"mesh3d\",\"colorbar\":{\"outlinewidth\":0,\"ticks\":\"\"}}],\"scatter\":[{\"fillpattern\":{\"fillmode\":\"overlay\",\"size\":10,\"solidity\":0.2},\"type\":\"scatter\"}],\"parcoords\":[{\"type\":\"parcoords\",\"line\":{\"colorbar\":{\"outlinewidth\":0,\"ticks\":\"\"}}}],\"scatterpolargl\":[{\"type\":\"scatterpolargl\",\"marker\":{\"colorbar\":{\"outlinewidth\":0,\"ticks\":\"\"}}}],\"bar\":[{\"error_x\":{\"color\":\"#2a3f5f\"},\"error_y\":{\"color\":\"#2a3f5f\"},\"marker\":{\"line\":{\"color\":\"#E5ECF6\",\"width\":0.5},\"pattern\":{\"fillmode\":\"overlay\",\"size\":10,\"solidity\":0.2}},\"type\":\"bar\"}],\"scattergeo\":[{\"type\":\"scattergeo\",\"marker\":{\"colorbar\":{\"outlinewidth\":0,\"ticks\":\"\"}}}],\"scatterpolar\":[{\"type\":\"scatterpolar\",\"marker\":{\"colorbar\":{\"outlinewidth\":0,\"ticks\":\"\"}}}],\"histogram\":[{\"marker\":{\"pattern\":{\"fillmode\":\"overlay\",\"size\":10,\"solidity\":0.2}},\"type\":\"histogram\"}],\"scattergl\":[{\"type\":\"scattergl\",\"marker\":{\"colorbar\":{\"outlinewidth\":0,\"ticks\":\"\"}}}],\"scatter3d\":[{\"type\":\"scatter3d\",\"line\":{\"colorbar\":{\"outlinewidth\":0,\"ticks\":\"\"}},\"marker\":{\"colorbar\":{\"outlinewidth\":0,\"ticks\":\"\"}}}],\"scattermapbox\":[{\"type\":\"scattermapbox\",\"marker\":{\"colorbar\":{\"outlinewidth\":0,\"ticks\":\"\"}}}],\"scatterternary\":[{\"type\":\"scatterternary\",\"marker\":{\"colorbar\":{\"outlinewidth\":0,\"ticks\":\"\"}}}],\"scattercarpet\":[{\"type\":\"scattercarpet\",\"marker\":{\"colorbar\":{\"outlinewidth\":0,\"ticks\":\"\"}}}],\"carpet\":[{\"aaxis\":{\"endlinecolor\":\"#2a3f5f\",\"gridcolor\":\"white\",\"linecolor\":\"white\",\"minorgridcolor\":\"white\",\"startlinecolor\":\"#2a3f5f\"},\"baxis\":{\"endlinecolor\":\"#2a3f5f\",\"gridcolor\":\"white\",\"linecolor\":\"white\",\"minorgridcolor\":\"white\",\"startlinecolor\":\"#2a3f5f\"},\"type\":\"carpet\"}],\"table\":[{\"cells\":{\"fill\":{\"color\":\"#EBF0F8\"},\"line\":{\"color\":\"white\"}},\"header\":{\"fill\":{\"color\":\"#C8D4E3\"},\"line\":{\"color\":\"white\"}},\"type\":\"table\"}],\"barpolar\":[{\"marker\":{\"line\":{\"color\":\"#E5ECF6\",\"width\":0.5},\"pattern\":{\"fillmode\":\"overlay\",\"size\":10,\"solidity\":0.2}},\"type\":\"barpolar\"}],\"pie\":[{\"automargin\":true,\"type\":\"pie\"}]},\"layout\":{\"autotypenumbers\":\"strict\",\"colorway\":[\"#636efa\",\"#EF553B\",\"#00cc96\",\"#ab63fa\",\"#FFA15A\",\"#19d3f3\",\"#FF6692\",\"#B6E880\",\"#FF97FF\",\"#FECB52\"],\"font\":{\"color\":\"#2a3f5f\"},\"hovermode\":\"closest\",\"hoverlabel\":{\"align\":\"left\"},\"paper_bgcolor\":\"white\",\"plot_bgcolor\":\"#E5ECF6\",\"polar\":{\"bgcolor\":\"#E5ECF6\",\"angularaxis\":{\"gridcolor\":\"white\",\"linecolor\":\"white\",\"ticks\":\"\"},\"radialaxis\":{\"gridcolor\":\"white\",\"linecolor\":\"white\",\"ticks\":\"\"}},\"ternary\":{\"bgcolor\":\"#E5ECF6\",\"aaxis\":{\"gridcolor\":\"white\",\"linecolor\":\"white\",\"ticks\":\"\"},\"baxis\":{\"gridcolor\":\"white\",\"linecolor\":\"white\",\"ticks\":\"\"},\"caxis\":{\"gridcolor\":\"white\",\"linecolor\":\"white\",\"ticks\":\"\"}},\"coloraxis\":{\"colorbar\":{\"outlinewidth\":0,\"ticks\":\"\"}},\"colorscale\":{\"sequential\":[[0.0,\"#0d0887\"],[0.1111111111111111,\"#46039f\"],[0.2222222222222222,\"#7201a8\"],[0.3333333333333333,\"#9c179e\"],[0.4444444444444444,\"#bd3786\"],[0.5555555555555556,\"#d8576b\"],[0.6666666666666666,\"#ed7953\"],[0.7777777777777778,\"#fb9f3a\"],[0.8888888888888888,\"#fdca26\"],[1.0,\"#f0f921\"]],\"sequentialminus\":[[0.0,\"#0d0887\"],[0.1111111111111111,\"#46039f\"],[0.2222222222222222,\"#7201a8\"],[0.3333333333333333,\"#9c179e\"],[0.4444444444444444,\"#bd3786\"],[0.5555555555555556,\"#d8576b\"],[0.6666666666666666,\"#ed7953\"],[0.7777777777777778,\"#fb9f3a\"],[0.8888888888888888,\"#fdca26\"],[1.0,\"#f0f921\"]],\"diverging\":[[0,\"#8e0152\"],[0.1,\"#c51b7d\"],[0.2,\"#de77ae\"],[0.3,\"#f1b6da\"],[0.4,\"#fde0ef\"],[0.5,\"#f7f7f7\"],[0.6,\"#e6f5d0\"],[0.7,\"#b8e186\"],[0.8,\"#7fbc41\"],[0.9,\"#4d9221\"],[1,\"#276419\"]]},\"xaxis\":{\"gridcolor\":\"white\",\"linecolor\":\"white\",\"ticks\":\"\",\"title\":{\"standoff\":15},\"zerolinecolor\":\"white\",\"automargin\":true,\"zerolinewidth\":2},\"yaxis\":{\"gridcolor\":\"white\",\"linecolor\":\"white\",\"ticks\":\"\",\"title\":{\"standoff\":15},\"zerolinecolor\":\"white\",\"automargin\":true,\"zerolinewidth\":2},\"scene\":{\"xaxis\":{\"backgroundcolor\":\"#E5ECF6\",\"gridcolor\":\"white\",\"linecolor\":\"white\",\"showbackground\":true,\"ticks\":\"\",\"zerolinecolor\":\"white\",\"gridwidth\":2},\"yaxis\":{\"backgroundcolor\":\"#E5ECF6\",\"gridcolor\":\"white\",\"linecolor\":\"white\",\"showbackground\":true,\"ticks\":\"\",\"zerolinecolor\":\"white\",\"gridwidth\":2},\"zaxis\":{\"backgroundcolor\":\"#E5ECF6\",\"gridcolor\":\"white\",\"linecolor\":\"white\",\"showbackground\":true,\"ticks\":\"\",\"zerolinecolor\":\"white\",\"gridwidth\":2}},\"shapedefaults\":{\"line\":{\"color\":\"#2a3f5f\"}},\"annotationdefaults\":{\"arrowcolor\":\"#2a3f5f\",\"arrowhead\":0,\"arrowwidth\":1},\"geo\":{\"bgcolor\":\"white\",\"landcolor\":\"#E5ECF6\",\"subunitcolor\":\"white\",\"showland\":true,\"showlakes\":true,\"lakecolor\":\"white\"},\"title\":{\"x\":0.05},\"mapbox\":{\"style\":\"light\"}}},\"xaxis\":{\"anchor\":\"y\",\"domain\":[0.0,1.0],\"title\":{\"text\":\"Date\"},\"showgrid\":false},\"yaxis\":{\"anchor\":\"x\",\"domain\":[0.0,1.0],\"title\":{\"text\":\"Stock Value\"},\"showgrid\":false},\"legend\":{\"title\":{\"text\":\"Stock Parameters\"},\"tracegroupgap\":0},\"margin\":{\"t\":60},\"title\":{\"text\":\"Stock Analysis Chart\"},\"font\":{\"size\":15,\"color\":\"black\"}},                        {\"responsive\": true}                    ).then(function(){\n",
              "                            \n",
              "var gd = document.getElementById('51a86397-a58f-48dc-a15d-57c3c0cc8fcd');\n",
              "var x = new MutationObserver(function (mutations, observer) {{\n",
              "        var display = window.getComputedStyle(gd).display;\n",
              "        if (!display || display === 'none') {{\n",
              "            console.log([gd, 'removed!']);\n",
              "            Plotly.purge(gd);\n",
              "            observer.disconnect();\n",
              "        }}\n",
              "}});\n",
              "\n",
              "// Listen for the removal of the full notebook cells\n",
              "var notebookContainer = gd.closest('#notebook-container');\n",
              "if (notebookContainer) {{\n",
              "    x.observe(notebookContainer, {childList: true});\n",
              "}}\n",
              "\n",
              "// Listen for the clearing of the current output cell\n",
              "var outputEl = gd.closest('.output');\n",
              "if (outputEl) {{\n",
              "    x.observe(outputEl, {childList: true});\n",
              "}}\n",
              "\n",
              "                        })                };                            </script>        </div>\n",
              "</body>\n",
              "</html>"
            ]
          },
          "metadata": {}
        }
      ]
    },
    {
      "cell_type": "markdown",
      "source": [
        "#Data Preparation\n"
      ],
      "metadata": {
        "id": "lFz154BtDWTX"
      }
    },
    {
      "cell_type": "markdown",
      "source": [
        "#Seperating Stock Close as a seperate dataframe "
      ],
      "metadata": {
        "id": "tSyPjdzBBjHe"
      }
    },
    {
      "cell_type": "code",
      "source": [
        "\n",
        "stock_df_close = stock_df[['date','close']]\n",
        "print(\"The shape of the closed dataframe is\",stock_df_close.shape)"
      ],
      "metadata": {
        "colab": {
          "base_uri": "https://localhost:8080/"
        },
        "id": "zmxoPSrsDYp2",
        "outputId": "dbdefcfa-f578-493a-a4e3-c67767c464ea"
      },
      "execution_count": 16,
      "outputs": [
        {
          "output_type": "stream",
          "name": "stdout",
          "text": [
            "The shape of the closed dataframe is (1258, 2)\n"
          ]
        }
      ]
    },
    {
      "cell_type": "markdown",
      "source": [
        "#Taking the Data only from 2021 due to post pandemic market volatality"
      ],
      "metadata": {
        "id": "sh7jVEYpBxh8"
      }
    },
    {
      "cell_type": "code",
      "source": [
        "stock_df_closel1y = stock_df_close[stock_df_close['date']>'2021-10-03']\n",
        "stock_df_close1ly_original_gt = stock_df_closel1y.copy()\n",
        "print(\"Total data for production : \",stock_df_closel1y.shape[0])"
      ],
      "metadata": {
        "colab": {
          "base_uri": "https://localhost:8080/"
        },
        "id": "CadnvLxBBqHx",
        "outputId": "0a9b17bd-1dbe-4238-8029-b50bc01ed152"
      },
      "execution_count": 17,
      "outputs": [
        {
          "output_type": "stream",
          "name": "stdout",
          "text": [
            "Total data for production :  382\n"
          ]
        }
      ]
    },
    {
      "cell_type": "markdown",
      "source": [
        "#Train Test Split of the data"
      ],
      "metadata": {
        "id": "qm1grzanB8A1"
      }
    },
    {
      "cell_type": "code",
      "source": [
        "\n",
        "training_size=int(len(stock_df_closel1y)*0.80)\n",
        "test_size=len(stock_df_closel1y)-training_size\n",
        "train_data, test_data = stock_df_closel1y[0:training_size], stock_df_closel1y[training_size:len(stock_df_closel1y)]\n",
        "print(\"Training data: \", train_data.shape)\n",
        "print(\"Test data: \", test_data.shape)\n"
      ],
      "metadata": {
        "colab": {
          "base_uri": "https://localhost:8080/"
        },
        "id": "L8aLyinBB6A-",
        "outputId": "d013c3bb-88f4-4556-afdd-6e9810f4ab40"
      },
      "execution_count": 18,
      "outputs": [
        {
          "output_type": "stream",
          "name": "stdout",
          "text": [
            "Training data:  (305, 2)\n",
            "Test data:  (77, 2)\n"
          ]
        }
      ]
    },
    {
      "cell_type": "markdown",
      "source": [
        "#Normalising the Close Price"
      ],
      "metadata": {
        "id": "keT49oXVCKkN"
      }
    },
    {
      "cell_type": "code",
      "source": [
        "print(train_data['date'])"
      ],
      "metadata": {
        "colab": {
          "base_uri": "https://localhost:8080/"
        },
        "id": "VdOToKZyDQ28",
        "outputId": "46d16cc9-752b-4e2c-89ba-7eeb4b84a902"
      },
      "execution_count": 19,
      "outputs": [
        {
          "output_type": "stream",
          "name": "stdout",
          "text": [
            "876    2021-10-04 00:00:00+00:00\n",
            "877    2021-10-05 00:00:00+00:00\n",
            "878    2021-10-06 00:00:00+00:00\n",
            "879    2021-10-07 00:00:00+00:00\n",
            "880    2021-10-08 00:00:00+00:00\n",
            "                  ...           \n",
            "1176   2022-12-12 00:00:00+00:00\n",
            "1177   2022-12-13 00:00:00+00:00\n",
            "1178   2022-12-14 00:00:00+00:00\n",
            "1179   2022-12-15 00:00:00+00:00\n",
            "1180   2022-12-16 00:00:00+00:00\n",
            "Name: date, Length: 305, dtype: datetime64[ns, UTC]\n"
          ]
        }
      ]
    },
    {
      "cell_type": "code",
      "source": [
        "fig = px.scatter(train_data['date'],train_data['close'])\n",
        "fig.show()"
      ],
      "metadata": {
        "colab": {
          "base_uri": "https://localhost:8080/",
          "height": 542
        },
        "id": "geRjKn56CkeF",
        "outputId": "eb7a417c-28b8-49e2-a2fb-d96537969657"
      },
      "execution_count": 20,
      "outputs": [
        {
          "output_type": "display_data",
          "data": {
            "text/html": [
              "<html>\n",
              "<head><meta charset=\"utf-8\" /></head>\n",
              "<body>\n",
              "    <div>            <script src=\"https://cdnjs.cloudflare.com/ajax/libs/mathjax/2.7.5/MathJax.js?config=TeX-AMS-MML_SVG\"></script><script type=\"text/javascript\">if (window.MathJax && window.MathJax.Hub && window.MathJax.Hub.Config) {window.MathJax.Hub.Config({SVG: {font: \"STIX-Web\"}});}</script>                <script type=\"text/javascript\">window.PlotlyConfig = {MathJaxConfig: 'local'};</script>\n",
              "        <script src=\"https://cdn.plot.ly/plotly-2.18.2.min.js\"></script>                <div id=\"cd7c41a1-0d2b-4205-b5cc-1c9205b1b33b\" class=\"plotly-graph-div\" style=\"height:525px; width:100%;\"></div>            <script type=\"text/javascript\">                                    window.PLOTLYENV=window.PLOTLYENV || {};                                    if (document.getElementById(\"cd7c41a1-0d2b-4205-b5cc-1c9205b1b33b\")) {                    Plotly.newPlot(                        \"cd7c41a1-0d2b-4205-b5cc-1c9205b1b33b\",                        [{\"hovertemplate\":\"x=%{x}<br>index=%{y}<extra></extra>\",\"legendgroup\":\"\",\"marker\":{\"color\":\"#636efa\",\"symbol\":\"circle\"},\"mode\":\"markers\",\"name\":\"\",\"orientation\":\"h\",\"showlegend\":false,\"x\":[166.949997,168.660004,169.020004,170.089996,170.220001,166.639999,165.360001,161.0,163.470001,166.610001,166.550003,168.570007,170.839996,169.5,171.779999,170.940002,171.399994,167.830002,170.360001,169.889999,169.800003,170.470001,170.529999,168.289993,168.050003,169.059998,167.779999,167.619995,167.610001,166.860001,166.559998,165.360001,164.470001,163.050003,160.919998,164.350006,168.279999,166.960007,161.929993,161.229996,158.830002,157.889999,161.210007,158.289993,160.160004,162.570007,160.710007,160.460007,159.820007,157.919998,159.130005,157.940002,160.410004,156.759995,153.940002,156.089996,156.699997,157.259995,158.160004,158.639999,158.559998,158.479996,158.350006,161.699997,167.830002,163.779999,165.520004,167.160004,167.320007,167.490005,168.440002,168.229996,157.889999,151.270004,148.929993,147.660004,145.080002,144.949997,146.529999,147.919998,145.309998,146.610001,148.600006,151.149994,149.940002,148.699997,152.559998,153.070007,155.949997,156.600006,155.949997,153.919998,152.490005,154.720001,155.0,151.429993,152.139999,151.869995,148.690002,144.550003,147.970001,141.800003,136.449997,139.279999,138.289993,134.399994,129.210007,128.300003,133.440002,131.860001,128.889999,130.169998,132.479996,138.399994,140.149994,140.100006,139.649994,142.619995,139.779999,140.690002,141.919998,140.869995,141.179993,140.539993,136.320007,135.309998,135.910004,133.339996,131.490005,131.089996,133.490005,133.0,131.539993,127.300003,126.120003,128.460007,131.119995,131.580002,130.559998,126.809998,126.769997,123.019997,121.419998,123.339996,119.360001,120.449997,123.029999,127.099998,123.919998,123.720001,121.860001,118.889999,118.139999,118.040001,119.089996,118.260002,122.18,120.089996,118.309998,117.339996,124.599998,126.360001,127.239998,129.440002,131.270004,132.229996,129.910004,132.0,130.160004,129.729996,130.070007,128.0,125.309998,119.550003,115.989998,114.059998,115.410004,113.43,113.029999,115.830002,115.18,113.919998,117.32,116.379997,115.82,115.300003,112.610001,114.050003,112.620003,111.889999,114.720001,114.360001,112.860001,112.970001,111.910004,108.0,112.949997,111.790001,114.559998,114.540001,115.32,114.760002,115.220001,113.419998,115.239998,114.809998,115.360001,114.209999,112.43,113.610001,112.360001,115.760002,114.349998,115.379997,118.389999,120.139999,122.129997,122.459999,123.629997,122.589996,121.639999,118.629997,116.669998,115.519997,115.800003,118.550003,114.669998,114.389999,114.410004,113.730003,114.510002,113.709999,113.739998,115.900002,118.599998,119.169998,120.580002,116.389999,116.120003,117.870003,117.080002,118.160004,115.830002,112.489998,111.209999,109.139999,106.790001,105.849998,107.989998,106.160004,104.5,107.730003,112.769997,110.389999,108.139999,105.980003,104.989998,101.959999,103.610001,109.370003,111.190002,115.860001,118.839996,116.510002,116.129997,122.230003,122.379997,122.699997,124.110001,124.599998,126.080002,125.879997,128.149994,126.970001,127.199997,130.679993,131.369995,131.449997,129.740005,135.080002,135.300003,133.910004,132.940002,133.119995,132.539993,133.839996,133.050003,135.039993,136.479996,136.740005,134.350006,136.559998,138.179993,136.240005,135.160004,131.369995,131.589996,131.5,132.880005,132.160004,134.210007,134.080002,133.410004,130.100006,129.289993],\"xaxis\":\"x\",\"y\":[876,877,878,879,880,881,882,883,884,885,886,887,888,889,890,891,892,893,894,895,896,897,898,899,900,901,902,903,904,905,906,907,908,909,910,911,912,913,914,915,916,917,918,919,920,921,922,923,924,925,926,927,928,929,930,931,932,933,934,935,936,937,938,939,940,941,942,943,944,945,946,947,948,949,950,951,952,953,954,955,956,957,958,959,960,961,962,963,964,965,966,967,968,969,970,971,972,973,974,975,976,977,978,979,980,981,982,983,984,985,986,987,988,989,990,991,992,993,994,995,996,997,998,999,1000,1001,1002,1003,1004,1005,1006,1007,1008,1009,1010,1011,1012,1013,1014,1015,1016,1017,1018,1019,1020,1021,1022,1023,1024,1025,1026,1027,1028,1029,1030,1031,1032,1033,1034,1035,1036,1037,1038,1039,1040,1041,1042,1043,1044,1045,1046,1047,1048,1049,1050,1051,1052,1053,1054,1055,1056,1057,1058,1059,1060,1061,1062,1063,1064,1065,1066,1067,1068,1069,1070,1071,1072,1073,1074,1075,1076,1077,1078,1079,1080,1081,1082,1083,1084,1085,1086,1087,1088,1089,1090,1091,1092,1093,1094,1095,1096,1097,1098,1099,1100,1101,1102,1103,1104,1105,1106,1107,1108,1109,1110,1111,1112,1113,1114,1115,1116,1117,1118,1119,1120,1121,1122,1123,1124,1125,1126,1127,1128,1129,1130,1131,1132,1133,1134,1135,1136,1137,1138,1139,1140,1141,1142,1143,1144,1145,1146,1147,1148,1149,1150,1151,1152,1153,1154,1155,1156,1157,1158,1159,1160,1161,1162,1163,1164,1165,1166,1167,1168,1169,1170,1171,1172,1173,1174,1175,1176,1177,1178,1179,1180],\"yaxis\":\"y\",\"type\":\"scatter\"}],                        {\"template\":{\"data\":{\"histogram2dcontour\":[{\"type\":\"histogram2dcontour\",\"colorbar\":{\"outlinewidth\":0,\"ticks\":\"\"},\"colorscale\":[[0.0,\"#0d0887\"],[0.1111111111111111,\"#46039f\"],[0.2222222222222222,\"#7201a8\"],[0.3333333333333333,\"#9c179e\"],[0.4444444444444444,\"#bd3786\"],[0.5555555555555556,\"#d8576b\"],[0.6666666666666666,\"#ed7953\"],[0.7777777777777778,\"#fb9f3a\"],[0.8888888888888888,\"#fdca26\"],[1.0,\"#f0f921\"]]}],\"choropleth\":[{\"type\":\"choropleth\",\"colorbar\":{\"outlinewidth\":0,\"ticks\":\"\"}}],\"histogram2d\":[{\"type\":\"histogram2d\",\"colorbar\":{\"outlinewidth\":0,\"ticks\":\"\"},\"colorscale\":[[0.0,\"#0d0887\"],[0.1111111111111111,\"#46039f\"],[0.2222222222222222,\"#7201a8\"],[0.3333333333333333,\"#9c179e\"],[0.4444444444444444,\"#bd3786\"],[0.5555555555555556,\"#d8576b\"],[0.6666666666666666,\"#ed7953\"],[0.7777777777777778,\"#fb9f3a\"],[0.8888888888888888,\"#fdca26\"],[1.0,\"#f0f921\"]]}],\"heatmap\":[{\"type\":\"heatmap\",\"colorbar\":{\"outlinewidth\":0,\"ticks\":\"\"},\"colorscale\":[[0.0,\"#0d0887\"],[0.1111111111111111,\"#46039f\"],[0.2222222222222222,\"#7201a8\"],[0.3333333333333333,\"#9c179e\"],[0.4444444444444444,\"#bd3786\"],[0.5555555555555556,\"#d8576b\"],[0.6666666666666666,\"#ed7953\"],[0.7777777777777778,\"#fb9f3a\"],[0.8888888888888888,\"#fdca26\"],[1.0,\"#f0f921\"]]}],\"heatmapgl\":[{\"type\":\"heatmapgl\",\"colorbar\":{\"outlinewidth\":0,\"ticks\":\"\"},\"colorscale\":[[0.0,\"#0d0887\"],[0.1111111111111111,\"#46039f\"],[0.2222222222222222,\"#7201a8\"],[0.3333333333333333,\"#9c179e\"],[0.4444444444444444,\"#bd3786\"],[0.5555555555555556,\"#d8576b\"],[0.6666666666666666,\"#ed7953\"],[0.7777777777777778,\"#fb9f3a\"],[0.8888888888888888,\"#fdca26\"],[1.0,\"#f0f921\"]]}],\"contourcarpet\":[{\"type\":\"contourcarpet\",\"colorbar\":{\"outlinewidth\":0,\"ticks\":\"\"}}],\"contour\":[{\"type\":\"contour\",\"colorbar\":{\"outlinewidth\":0,\"ticks\":\"\"},\"colorscale\":[[0.0,\"#0d0887\"],[0.1111111111111111,\"#46039f\"],[0.2222222222222222,\"#7201a8\"],[0.3333333333333333,\"#9c179e\"],[0.4444444444444444,\"#bd3786\"],[0.5555555555555556,\"#d8576b\"],[0.6666666666666666,\"#ed7953\"],[0.7777777777777778,\"#fb9f3a\"],[0.8888888888888888,\"#fdca26\"],[1.0,\"#f0f921\"]]}],\"surface\":[{\"type\":\"surface\",\"colorbar\":{\"outlinewidth\":0,\"ticks\":\"\"},\"colorscale\":[[0.0,\"#0d0887\"],[0.1111111111111111,\"#46039f\"],[0.2222222222222222,\"#7201a8\"],[0.3333333333333333,\"#9c179e\"],[0.4444444444444444,\"#bd3786\"],[0.5555555555555556,\"#d8576b\"],[0.6666666666666666,\"#ed7953\"],[0.7777777777777778,\"#fb9f3a\"],[0.8888888888888888,\"#fdca26\"],[1.0,\"#f0f921\"]]}],\"mesh3d\":[{\"type\":\"mesh3d\",\"colorbar\":{\"outlinewidth\":0,\"ticks\":\"\"}}],\"scatter\":[{\"fillpattern\":{\"fillmode\":\"overlay\",\"size\":10,\"solidity\":0.2},\"type\":\"scatter\"}],\"parcoords\":[{\"type\":\"parcoords\",\"line\":{\"colorbar\":{\"outlinewidth\":0,\"ticks\":\"\"}}}],\"scatterpolargl\":[{\"type\":\"scatterpolargl\",\"marker\":{\"colorbar\":{\"outlinewidth\":0,\"ticks\":\"\"}}}],\"bar\":[{\"error_x\":{\"color\":\"#2a3f5f\"},\"error_y\":{\"color\":\"#2a3f5f\"},\"marker\":{\"line\":{\"color\":\"#E5ECF6\",\"width\":0.5},\"pattern\":{\"fillmode\":\"overlay\",\"size\":10,\"solidity\":0.2}},\"type\":\"bar\"}],\"scattergeo\":[{\"type\":\"scattergeo\",\"marker\":{\"colorbar\":{\"outlinewidth\":0,\"ticks\":\"\"}}}],\"scatterpolar\":[{\"type\":\"scatterpolar\",\"marker\":{\"colorbar\":{\"outlinewidth\":0,\"ticks\":\"\"}}}],\"histogram\":[{\"marker\":{\"pattern\":{\"fillmode\":\"overlay\",\"size\":10,\"solidity\":0.2}},\"type\":\"histogram\"}],\"scattergl\":[{\"type\":\"scattergl\",\"marker\":{\"colorbar\":{\"outlinewidth\":0,\"ticks\":\"\"}}}],\"scatter3d\":[{\"type\":\"scatter3d\",\"line\":{\"colorbar\":{\"outlinewidth\":0,\"ticks\":\"\"}},\"marker\":{\"colorbar\":{\"outlinewidth\":0,\"ticks\":\"\"}}}],\"scattermapbox\":[{\"type\":\"scattermapbox\",\"marker\":{\"colorbar\":{\"outlinewidth\":0,\"ticks\":\"\"}}}],\"scatterternary\":[{\"type\":\"scatterternary\",\"marker\":{\"colorbar\":{\"outlinewidth\":0,\"ticks\":\"\"}}}],\"scattercarpet\":[{\"type\":\"scattercarpet\",\"marker\":{\"colorbar\":{\"outlinewidth\":0,\"ticks\":\"\"}}}],\"carpet\":[{\"aaxis\":{\"endlinecolor\":\"#2a3f5f\",\"gridcolor\":\"white\",\"linecolor\":\"white\",\"minorgridcolor\":\"white\",\"startlinecolor\":\"#2a3f5f\"},\"baxis\":{\"endlinecolor\":\"#2a3f5f\",\"gridcolor\":\"white\",\"linecolor\":\"white\",\"minorgridcolor\":\"white\",\"startlinecolor\":\"#2a3f5f\"},\"type\":\"carpet\"}],\"table\":[{\"cells\":{\"fill\":{\"color\":\"#EBF0F8\"},\"line\":{\"color\":\"white\"}},\"header\":{\"fill\":{\"color\":\"#C8D4E3\"},\"line\":{\"color\":\"white\"}},\"type\":\"table\"}],\"barpolar\":[{\"marker\":{\"line\":{\"color\":\"#E5ECF6\",\"width\":0.5},\"pattern\":{\"fillmode\":\"overlay\",\"size\":10,\"solidity\":0.2}},\"type\":\"barpolar\"}],\"pie\":[{\"automargin\":true,\"type\":\"pie\"}]},\"layout\":{\"autotypenumbers\":\"strict\",\"colorway\":[\"#636efa\",\"#EF553B\",\"#00cc96\",\"#ab63fa\",\"#FFA15A\",\"#19d3f3\",\"#FF6692\",\"#B6E880\",\"#FF97FF\",\"#FECB52\"],\"font\":{\"color\":\"#2a3f5f\"},\"hovermode\":\"closest\",\"hoverlabel\":{\"align\":\"left\"},\"paper_bgcolor\":\"white\",\"plot_bgcolor\":\"#E5ECF6\",\"polar\":{\"bgcolor\":\"#E5ECF6\",\"angularaxis\":{\"gridcolor\":\"white\",\"linecolor\":\"white\",\"ticks\":\"\"},\"radialaxis\":{\"gridcolor\":\"white\",\"linecolor\":\"white\",\"ticks\":\"\"}},\"ternary\":{\"bgcolor\":\"#E5ECF6\",\"aaxis\":{\"gridcolor\":\"white\",\"linecolor\":\"white\",\"ticks\":\"\"},\"baxis\":{\"gridcolor\":\"white\",\"linecolor\":\"white\",\"ticks\":\"\"},\"caxis\":{\"gridcolor\":\"white\",\"linecolor\":\"white\",\"ticks\":\"\"}},\"coloraxis\":{\"colorbar\":{\"outlinewidth\":0,\"ticks\":\"\"}},\"colorscale\":{\"sequential\":[[0.0,\"#0d0887\"],[0.1111111111111111,\"#46039f\"],[0.2222222222222222,\"#7201a8\"],[0.3333333333333333,\"#9c179e\"],[0.4444444444444444,\"#bd3786\"],[0.5555555555555556,\"#d8576b\"],[0.6666666666666666,\"#ed7953\"],[0.7777777777777778,\"#fb9f3a\"],[0.8888888888888888,\"#fdca26\"],[1.0,\"#f0f921\"]],\"sequentialminus\":[[0.0,\"#0d0887\"],[0.1111111111111111,\"#46039f\"],[0.2222222222222222,\"#7201a8\"],[0.3333333333333333,\"#9c179e\"],[0.4444444444444444,\"#bd3786\"],[0.5555555555555556,\"#d8576b\"],[0.6666666666666666,\"#ed7953\"],[0.7777777777777778,\"#fb9f3a\"],[0.8888888888888888,\"#fdca26\"],[1.0,\"#f0f921\"]],\"diverging\":[[0,\"#8e0152\"],[0.1,\"#c51b7d\"],[0.2,\"#de77ae\"],[0.3,\"#f1b6da\"],[0.4,\"#fde0ef\"],[0.5,\"#f7f7f7\"],[0.6,\"#e6f5d0\"],[0.7,\"#b8e186\"],[0.8,\"#7fbc41\"],[0.9,\"#4d9221\"],[1,\"#276419\"]]},\"xaxis\":{\"gridcolor\":\"white\",\"linecolor\":\"white\",\"ticks\":\"\",\"title\":{\"standoff\":15},\"zerolinecolor\":\"white\",\"automargin\":true,\"zerolinewidth\":2},\"yaxis\":{\"gridcolor\":\"white\",\"linecolor\":\"white\",\"ticks\":\"\",\"title\":{\"standoff\":15},\"zerolinecolor\":\"white\",\"automargin\":true,\"zerolinewidth\":2},\"scene\":{\"xaxis\":{\"backgroundcolor\":\"#E5ECF6\",\"gridcolor\":\"white\",\"linecolor\":\"white\",\"showbackground\":true,\"ticks\":\"\",\"zerolinecolor\":\"white\",\"gridwidth\":2},\"yaxis\":{\"backgroundcolor\":\"#E5ECF6\",\"gridcolor\":\"white\",\"linecolor\":\"white\",\"showbackground\":true,\"ticks\":\"\",\"zerolinecolor\":\"white\",\"gridwidth\":2},\"zaxis\":{\"backgroundcolor\":\"#E5ECF6\",\"gridcolor\":\"white\",\"linecolor\":\"white\",\"showbackground\":true,\"ticks\":\"\",\"zerolinecolor\":\"white\",\"gridwidth\":2}},\"shapedefaults\":{\"line\":{\"color\":\"#2a3f5f\"}},\"annotationdefaults\":{\"arrowcolor\":\"#2a3f5f\",\"arrowhead\":0,\"arrowwidth\":1},\"geo\":{\"bgcolor\":\"white\",\"landcolor\":\"#E5ECF6\",\"subunitcolor\":\"white\",\"showland\":true,\"showlakes\":true,\"lakecolor\":\"white\"},\"title\":{\"x\":0.05},\"mapbox\":{\"style\":\"light\"}}},\"xaxis\":{\"anchor\":\"y\",\"domain\":[0.0,1.0],\"title\":{\"text\":\"x\"}},\"yaxis\":{\"anchor\":\"x\",\"domain\":[0.0,1.0],\"title\":{\"text\":\"index\"}},\"legend\":{\"tracegroupgap\":0},\"margin\":{\"t\":60}},                        {\"responsive\": true}                    ).then(function(){\n",
              "                            \n",
              "var gd = document.getElementById('cd7c41a1-0d2b-4205-b5cc-1c9205b1b33b');\n",
              "var x = new MutationObserver(function (mutations, observer) {{\n",
              "        var display = window.getComputedStyle(gd).display;\n",
              "        if (!display || display === 'none') {{\n",
              "            console.log([gd, 'removed!']);\n",
              "            Plotly.purge(gd);\n",
              "            observer.disconnect();\n",
              "        }}\n",
              "}});\n",
              "\n",
              "// Listen for the removal of the full notebook cells\n",
              "var notebookContainer = gd.closest('#notebook-container');\n",
              "if (notebookContainer) {{\n",
              "    x.observe(notebookContainer, {childList: true});\n",
              "}}\n",
              "\n",
              "// Listen for the clearing of the current output cell\n",
              "var outputEl = gd.closest('.output');\n",
              "if (outputEl) {{\n",
              "    x.observe(outputEl, {childList: true});\n",
              "}}\n",
              "\n",
              "                        })                };                            </script>        </div>\n",
              "</body>\n",
              "</html>"
            ]
          },
          "metadata": {}
        }
      ]
    },
    {
      "cell_type": "code",
      "source": [
        "fig = px.box(train_data,train_data[\"close\"])\n",
        "fig.show()"
      ],
      "metadata": {
        "colab": {
          "base_uri": "https://localhost:8080/",
          "height": 542
        },
        "id": "zJJ5TfvhEVtO",
        "outputId": "c45d7be3-a308-44d8-d821-6a06de83889d"
      },
      "execution_count": 21,
      "outputs": [
        {
          "output_type": "display_data",
          "data": {
            "text/html": [
              "<html>\n",
              "<head><meta charset=\"utf-8\" /></head>\n",
              "<body>\n",
              "    <div>            <script src=\"https://cdnjs.cloudflare.com/ajax/libs/mathjax/2.7.5/MathJax.js?config=TeX-AMS-MML_SVG\"></script><script type=\"text/javascript\">if (window.MathJax && window.MathJax.Hub && window.MathJax.Hub.Config) {window.MathJax.Hub.Config({SVG: {font: \"STIX-Web\"}});}</script>                <script type=\"text/javascript\">window.PlotlyConfig = {MathJaxConfig: 'local'};</script>\n",
              "        <script src=\"https://cdn.plot.ly/plotly-2.18.2.min.js\"></script>                <div id=\"55298606-fdd9-4dc4-a169-e500031b1d7f\" class=\"plotly-graph-div\" style=\"height:525px; width:100%;\"></div>            <script type=\"text/javascript\">                                    window.PLOTLYENV=window.PLOTLYENV || {};                                    if (document.getElementById(\"55298606-fdd9-4dc4-a169-e500031b1d7f\")) {                    Plotly.newPlot(                        \"55298606-fdd9-4dc4-a169-e500031b1d7f\",                        [{\"alignmentgroup\":\"True\",\"hovertemplate\":\"close=%{x}<extra></extra>\",\"legendgroup\":\"\",\"marker\":{\"color\":\"#636efa\"},\"name\":\"\",\"notched\":false,\"offsetgroup\":\"\",\"orientation\":\"h\",\"showlegend\":false,\"x\":[166.949997,168.660004,169.020004,170.089996,170.220001,166.639999,165.360001,161.0,163.470001,166.610001,166.550003,168.570007,170.839996,169.5,171.779999,170.940002,171.399994,167.830002,170.360001,169.889999,169.800003,170.470001,170.529999,168.289993,168.050003,169.059998,167.779999,167.619995,167.610001,166.860001,166.559998,165.360001,164.470001,163.050003,160.919998,164.350006,168.279999,166.960007,161.929993,161.229996,158.830002,157.889999,161.210007,158.289993,160.160004,162.570007,160.710007,160.460007,159.820007,157.919998,159.130005,157.940002,160.410004,156.759995,153.940002,156.089996,156.699997,157.259995,158.160004,158.639999,158.559998,158.479996,158.350006,161.699997,167.830002,163.779999,165.520004,167.160004,167.320007,167.490005,168.440002,168.229996,157.889999,151.270004,148.929993,147.660004,145.080002,144.949997,146.529999,147.919998,145.309998,146.610001,148.600006,151.149994,149.940002,148.699997,152.559998,153.070007,155.949997,156.600006,155.949997,153.919998,152.490005,154.720001,155.0,151.429993,152.139999,151.869995,148.690002,144.550003,147.970001,141.800003,136.449997,139.279999,138.289993,134.399994,129.210007,128.300003,133.440002,131.860001,128.889999,130.169998,132.479996,138.399994,140.149994,140.100006,139.649994,142.619995,139.779999,140.690002,141.919998,140.869995,141.179993,140.539993,136.320007,135.309998,135.910004,133.339996,131.490005,131.089996,133.490005,133.0,131.539993,127.300003,126.120003,128.460007,131.119995,131.580002,130.559998,126.809998,126.769997,123.019997,121.419998,123.339996,119.360001,120.449997,123.029999,127.099998,123.919998,123.720001,121.860001,118.889999,118.139999,118.040001,119.089996,118.260002,122.18,120.089996,118.309998,117.339996,124.599998,126.360001,127.239998,129.440002,131.270004,132.229996,129.910004,132.0,130.160004,129.729996,130.070007,128.0,125.309998,119.550003,115.989998,114.059998,115.410004,113.43,113.029999,115.830002,115.18,113.919998,117.32,116.379997,115.82,115.300003,112.610001,114.050003,112.620003,111.889999,114.720001,114.360001,112.860001,112.970001,111.910004,108.0,112.949997,111.790001,114.559998,114.540001,115.32,114.760002,115.220001,113.419998,115.239998,114.809998,115.360001,114.209999,112.43,113.610001,112.360001,115.760002,114.349998,115.379997,118.389999,120.139999,122.129997,122.459999,123.629997,122.589996,121.639999,118.629997,116.669998,115.519997,115.800003,118.550003,114.669998,114.389999,114.410004,113.730003,114.510002,113.709999,113.739998,115.900002,118.599998,119.169998,120.580002,116.389999,116.120003,117.870003,117.080002,118.160004,115.830002,112.489998,111.209999,109.139999,106.790001,105.849998,107.989998,106.160004,104.5,107.730003,112.769997,110.389999,108.139999,105.980003,104.989998,101.959999,103.610001,109.370003,111.190002,115.860001,118.839996,116.510002,116.129997,122.230003,122.379997,122.699997,124.110001,124.599998,126.080002,125.879997,128.149994,126.970001,127.199997,130.679993,131.369995,131.449997,129.740005,135.080002,135.300003,133.910004,132.940002,133.119995,132.539993,133.839996,133.050003,135.039993,136.479996,136.740005,134.350006,136.559998,138.179993,136.240005,135.160004,131.369995,131.589996,131.5,132.880005,132.160004,134.210007,134.080002,133.410004,130.100006,129.289993],\"x0\":\" \",\"xaxis\":\"x\",\"y0\":\" \",\"yaxis\":\"y\",\"type\":\"box\"}],                        {\"template\":{\"data\":{\"histogram2dcontour\":[{\"type\":\"histogram2dcontour\",\"colorbar\":{\"outlinewidth\":0,\"ticks\":\"\"},\"colorscale\":[[0.0,\"#0d0887\"],[0.1111111111111111,\"#46039f\"],[0.2222222222222222,\"#7201a8\"],[0.3333333333333333,\"#9c179e\"],[0.4444444444444444,\"#bd3786\"],[0.5555555555555556,\"#d8576b\"],[0.6666666666666666,\"#ed7953\"],[0.7777777777777778,\"#fb9f3a\"],[0.8888888888888888,\"#fdca26\"],[1.0,\"#f0f921\"]]}],\"choropleth\":[{\"type\":\"choropleth\",\"colorbar\":{\"outlinewidth\":0,\"ticks\":\"\"}}],\"histogram2d\":[{\"type\":\"histogram2d\",\"colorbar\":{\"outlinewidth\":0,\"ticks\":\"\"},\"colorscale\":[[0.0,\"#0d0887\"],[0.1111111111111111,\"#46039f\"],[0.2222222222222222,\"#7201a8\"],[0.3333333333333333,\"#9c179e\"],[0.4444444444444444,\"#bd3786\"],[0.5555555555555556,\"#d8576b\"],[0.6666666666666666,\"#ed7953\"],[0.7777777777777778,\"#fb9f3a\"],[0.8888888888888888,\"#fdca26\"],[1.0,\"#f0f921\"]]}],\"heatmap\":[{\"type\":\"heatmap\",\"colorbar\":{\"outlinewidth\":0,\"ticks\":\"\"},\"colorscale\":[[0.0,\"#0d0887\"],[0.1111111111111111,\"#46039f\"],[0.2222222222222222,\"#7201a8\"],[0.3333333333333333,\"#9c179e\"],[0.4444444444444444,\"#bd3786\"],[0.5555555555555556,\"#d8576b\"],[0.6666666666666666,\"#ed7953\"],[0.7777777777777778,\"#fb9f3a\"],[0.8888888888888888,\"#fdca26\"],[1.0,\"#f0f921\"]]}],\"heatmapgl\":[{\"type\":\"heatmapgl\",\"colorbar\":{\"outlinewidth\":0,\"ticks\":\"\"},\"colorscale\":[[0.0,\"#0d0887\"],[0.1111111111111111,\"#46039f\"],[0.2222222222222222,\"#7201a8\"],[0.3333333333333333,\"#9c179e\"],[0.4444444444444444,\"#bd3786\"],[0.5555555555555556,\"#d8576b\"],[0.6666666666666666,\"#ed7953\"],[0.7777777777777778,\"#fb9f3a\"],[0.8888888888888888,\"#fdca26\"],[1.0,\"#f0f921\"]]}],\"contourcarpet\":[{\"type\":\"contourcarpet\",\"colorbar\":{\"outlinewidth\":0,\"ticks\":\"\"}}],\"contour\":[{\"type\":\"contour\",\"colorbar\":{\"outlinewidth\":0,\"ticks\":\"\"},\"colorscale\":[[0.0,\"#0d0887\"],[0.1111111111111111,\"#46039f\"],[0.2222222222222222,\"#7201a8\"],[0.3333333333333333,\"#9c179e\"],[0.4444444444444444,\"#bd3786\"],[0.5555555555555556,\"#d8576b\"],[0.6666666666666666,\"#ed7953\"],[0.7777777777777778,\"#fb9f3a\"],[0.8888888888888888,\"#fdca26\"],[1.0,\"#f0f921\"]]}],\"surface\":[{\"type\":\"surface\",\"colorbar\":{\"outlinewidth\":0,\"ticks\":\"\"},\"colorscale\":[[0.0,\"#0d0887\"],[0.1111111111111111,\"#46039f\"],[0.2222222222222222,\"#7201a8\"],[0.3333333333333333,\"#9c179e\"],[0.4444444444444444,\"#bd3786\"],[0.5555555555555556,\"#d8576b\"],[0.6666666666666666,\"#ed7953\"],[0.7777777777777778,\"#fb9f3a\"],[0.8888888888888888,\"#fdca26\"],[1.0,\"#f0f921\"]]}],\"mesh3d\":[{\"type\":\"mesh3d\",\"colorbar\":{\"outlinewidth\":0,\"ticks\":\"\"}}],\"scatter\":[{\"fillpattern\":{\"fillmode\":\"overlay\",\"size\":10,\"solidity\":0.2},\"type\":\"scatter\"}],\"parcoords\":[{\"type\":\"parcoords\",\"line\":{\"colorbar\":{\"outlinewidth\":0,\"ticks\":\"\"}}}],\"scatterpolargl\":[{\"type\":\"scatterpolargl\",\"marker\":{\"colorbar\":{\"outlinewidth\":0,\"ticks\":\"\"}}}],\"bar\":[{\"error_x\":{\"color\":\"#2a3f5f\"},\"error_y\":{\"color\":\"#2a3f5f\"},\"marker\":{\"line\":{\"color\":\"#E5ECF6\",\"width\":0.5},\"pattern\":{\"fillmode\":\"overlay\",\"size\":10,\"solidity\":0.2}},\"type\":\"bar\"}],\"scattergeo\":[{\"type\":\"scattergeo\",\"marker\":{\"colorbar\":{\"outlinewidth\":0,\"ticks\":\"\"}}}],\"scatterpolar\":[{\"type\":\"scatterpolar\",\"marker\":{\"colorbar\":{\"outlinewidth\":0,\"ticks\":\"\"}}}],\"histogram\":[{\"marker\":{\"pattern\":{\"fillmode\":\"overlay\",\"size\":10,\"solidity\":0.2}},\"type\":\"histogram\"}],\"scattergl\":[{\"type\":\"scattergl\",\"marker\":{\"colorbar\":{\"outlinewidth\":0,\"ticks\":\"\"}}}],\"scatter3d\":[{\"type\":\"scatter3d\",\"line\":{\"colorbar\":{\"outlinewidth\":0,\"ticks\":\"\"}},\"marker\":{\"colorbar\":{\"outlinewidth\":0,\"ticks\":\"\"}}}],\"scattermapbox\":[{\"type\":\"scattermapbox\",\"marker\":{\"colorbar\":{\"outlinewidth\":0,\"ticks\":\"\"}}}],\"scatterternary\":[{\"type\":\"scatterternary\",\"marker\":{\"colorbar\":{\"outlinewidth\":0,\"ticks\":\"\"}}}],\"scattercarpet\":[{\"type\":\"scattercarpet\",\"marker\":{\"colorbar\":{\"outlinewidth\":0,\"ticks\":\"\"}}}],\"carpet\":[{\"aaxis\":{\"endlinecolor\":\"#2a3f5f\",\"gridcolor\":\"white\",\"linecolor\":\"white\",\"minorgridcolor\":\"white\",\"startlinecolor\":\"#2a3f5f\"},\"baxis\":{\"endlinecolor\":\"#2a3f5f\",\"gridcolor\":\"white\",\"linecolor\":\"white\",\"minorgridcolor\":\"white\",\"startlinecolor\":\"#2a3f5f\"},\"type\":\"carpet\"}],\"table\":[{\"cells\":{\"fill\":{\"color\":\"#EBF0F8\"},\"line\":{\"color\":\"white\"}},\"header\":{\"fill\":{\"color\":\"#C8D4E3\"},\"line\":{\"color\":\"white\"}},\"type\":\"table\"}],\"barpolar\":[{\"marker\":{\"line\":{\"color\":\"#E5ECF6\",\"width\":0.5},\"pattern\":{\"fillmode\":\"overlay\",\"size\":10,\"solidity\":0.2}},\"type\":\"barpolar\"}],\"pie\":[{\"automargin\":true,\"type\":\"pie\"}]},\"layout\":{\"autotypenumbers\":\"strict\",\"colorway\":[\"#636efa\",\"#EF553B\",\"#00cc96\",\"#ab63fa\",\"#FFA15A\",\"#19d3f3\",\"#FF6692\",\"#B6E880\",\"#FF97FF\",\"#FECB52\"],\"font\":{\"color\":\"#2a3f5f\"},\"hovermode\":\"closest\",\"hoverlabel\":{\"align\":\"left\"},\"paper_bgcolor\":\"white\",\"plot_bgcolor\":\"#E5ECF6\",\"polar\":{\"bgcolor\":\"#E5ECF6\",\"angularaxis\":{\"gridcolor\":\"white\",\"linecolor\":\"white\",\"ticks\":\"\"},\"radialaxis\":{\"gridcolor\":\"white\",\"linecolor\":\"white\",\"ticks\":\"\"}},\"ternary\":{\"bgcolor\":\"#E5ECF6\",\"aaxis\":{\"gridcolor\":\"white\",\"linecolor\":\"white\",\"ticks\":\"\"},\"baxis\":{\"gridcolor\":\"white\",\"linecolor\":\"white\",\"ticks\":\"\"},\"caxis\":{\"gridcolor\":\"white\",\"linecolor\":\"white\",\"ticks\":\"\"}},\"coloraxis\":{\"colorbar\":{\"outlinewidth\":0,\"ticks\":\"\"}},\"colorscale\":{\"sequential\":[[0.0,\"#0d0887\"],[0.1111111111111111,\"#46039f\"],[0.2222222222222222,\"#7201a8\"],[0.3333333333333333,\"#9c179e\"],[0.4444444444444444,\"#bd3786\"],[0.5555555555555556,\"#d8576b\"],[0.6666666666666666,\"#ed7953\"],[0.7777777777777778,\"#fb9f3a\"],[0.8888888888888888,\"#fdca26\"],[1.0,\"#f0f921\"]],\"sequentialminus\":[[0.0,\"#0d0887\"],[0.1111111111111111,\"#46039f\"],[0.2222222222222222,\"#7201a8\"],[0.3333333333333333,\"#9c179e\"],[0.4444444444444444,\"#bd3786\"],[0.5555555555555556,\"#d8576b\"],[0.6666666666666666,\"#ed7953\"],[0.7777777777777778,\"#fb9f3a\"],[0.8888888888888888,\"#fdca26\"],[1.0,\"#f0f921\"]],\"diverging\":[[0,\"#8e0152\"],[0.1,\"#c51b7d\"],[0.2,\"#de77ae\"],[0.3,\"#f1b6da\"],[0.4,\"#fde0ef\"],[0.5,\"#f7f7f7\"],[0.6,\"#e6f5d0\"],[0.7,\"#b8e186\"],[0.8,\"#7fbc41\"],[0.9,\"#4d9221\"],[1,\"#276419\"]]},\"xaxis\":{\"gridcolor\":\"white\",\"linecolor\":\"white\",\"ticks\":\"\",\"title\":{\"standoff\":15},\"zerolinecolor\":\"white\",\"automargin\":true,\"zerolinewidth\":2},\"yaxis\":{\"gridcolor\":\"white\",\"linecolor\":\"white\",\"ticks\":\"\",\"title\":{\"standoff\":15},\"zerolinecolor\":\"white\",\"automargin\":true,\"zerolinewidth\":2},\"scene\":{\"xaxis\":{\"backgroundcolor\":\"#E5ECF6\",\"gridcolor\":\"white\",\"linecolor\":\"white\",\"showbackground\":true,\"ticks\":\"\",\"zerolinecolor\":\"white\",\"gridwidth\":2},\"yaxis\":{\"backgroundcolor\":\"#E5ECF6\",\"gridcolor\":\"white\",\"linecolor\":\"white\",\"showbackground\":true,\"ticks\":\"\",\"zerolinecolor\":\"white\",\"gridwidth\":2},\"zaxis\":{\"backgroundcolor\":\"#E5ECF6\",\"gridcolor\":\"white\",\"linecolor\":\"white\",\"showbackground\":true,\"ticks\":\"\",\"zerolinecolor\":\"white\",\"gridwidth\":2}},\"shapedefaults\":{\"line\":{\"color\":\"#2a3f5f\"}},\"annotationdefaults\":{\"arrowcolor\":\"#2a3f5f\",\"arrowhead\":0,\"arrowwidth\":1},\"geo\":{\"bgcolor\":\"white\",\"landcolor\":\"#E5ECF6\",\"subunitcolor\":\"white\",\"showland\":true,\"showlakes\":true,\"lakecolor\":\"white\"},\"title\":{\"x\":0.05},\"mapbox\":{\"style\":\"light\"}}},\"xaxis\":{\"anchor\":\"y\",\"domain\":[0.0,1.0],\"title\":{\"text\":\"close\"}},\"yaxis\":{\"anchor\":\"x\",\"domain\":[0.0,1.0]},\"legend\":{\"tracegroupgap\":0},\"margin\":{\"t\":60},\"boxmode\":\"group\"},                        {\"responsive\": true}                    ).then(function(){\n",
              "                            \n",
              "var gd = document.getElementById('55298606-fdd9-4dc4-a169-e500031b1d7f');\n",
              "var x = new MutationObserver(function (mutations, observer) {{\n",
              "        var display = window.getComputedStyle(gd).display;\n",
              "        if (!display || display === 'none') {{\n",
              "            console.log([gd, 'removed!']);\n",
              "            Plotly.purge(gd);\n",
              "            observer.disconnect();\n",
              "        }}\n",
              "}});\n",
              "\n",
              "// Listen for the removal of the full notebook cells\n",
              "var notebookContainer = gd.closest('#notebook-container');\n",
              "if (notebookContainer) {{\n",
              "    x.observe(notebookContainer, {childList: true});\n",
              "}}\n",
              "\n",
              "// Listen for the clearing of the current output cell\n",
              "var outputEl = gd.closest('.output');\n",
              "if (outputEl) {{\n",
              "    x.observe(outputEl, {childList: true});\n",
              "}}\n",
              "\n",
              "                        })                };                            </script>        </div>\n",
              "</body>\n",
              "</html>"
            ]
          },
          "metadata": {}
        }
      ]
    },
    {
      "cell_type": "code",
      "source": [
        "fig = px.scatter(test_data['date'],test_data['close'])\n",
        "fig.show()"
      ],
      "metadata": {
        "colab": {
          "base_uri": "https://localhost:8080/",
          "height": 542
        },
        "id": "1W6VgNfrFrzU",
        "outputId": "edc15ac3-3f10-4075-dd36-e2d12a05c574"
      },
      "execution_count": 22,
      "outputs": [
        {
          "output_type": "display_data",
          "data": {
            "text/html": [
              "<html>\n",
              "<head><meta charset=\"utf-8\" /></head>\n",
              "<body>\n",
              "    <div>            <script src=\"https://cdnjs.cloudflare.com/ajax/libs/mathjax/2.7.5/MathJax.js?config=TeX-AMS-MML_SVG\"></script><script type=\"text/javascript\">if (window.MathJax && window.MathJax.Hub && window.MathJax.Hub.Config) {window.MathJax.Hub.Config({SVG: {font: \"STIX-Web\"}});}</script>                <script type=\"text/javascript\">window.PlotlyConfig = {MathJaxConfig: 'local'};</script>\n",
              "        <script src=\"https://cdn.plot.ly/plotly-2.18.2.min.js\"></script>                <div id=\"7dc0d6b1-761f-4c55-a991-ded1860c7c6e\" class=\"plotly-graph-div\" style=\"height:525px; width:100%;\"></div>            <script type=\"text/javascript\">                                    window.PLOTLYENV=window.PLOTLYENV || {};                                    if (document.getElementById(\"7dc0d6b1-761f-4c55-a991-ded1860c7c6e\")) {                    Plotly.newPlot(                        \"7dc0d6b1-761f-4c55-a991-ded1860c7c6e\",                        [{\"hovertemplate\":\"x=%{x}<br>index=%{y}<extra></extra>\",\"legendgroup\":\"\",\"marker\":{\"color\":\"#636efa\",\"symbol\":\"circle\"},\"mode\":\"markers\",\"name\":\"\",\"orientation\":\"h\",\"showlegend\":false,\"x\":[130.059998,130.690002,132.160004,130.660004,131.279999,131.740005,132.460007,133.220001,134.100006,135.119995,136.380005,135.350006,137.940002,137.369995,138.600006,139.630005,139.490005,143.009995,140.800003,136.570007,134.75,135.080002,137.270004,138.449997,139.119995,139.979996,140.320007,139.130005,139.960007,139.589996,138.940002,141.089996,141.919998,143.649994,142.639999,140.419998,141.039993,142.570007,143.199997,143.800003,141.820007,142.240005,139.630005,138.559998,139.669998,140.929993,142.160004,143.350006,142.550003,141.070007,143.660004,142.820007,138.619995,137.800003,130.339996,133.649994,131.25,134.619995,128.259995,130.75,125.809998,127.139999,130.550003,127.18,126.839996,124.910004,128.490005,128.880005,129.139999,128.75,130.309998,130.160004,128.419998,127.610001,127.470001,127.889999,128.520004],\"xaxis\":\"x\",\"y\":[1181,1182,1183,1184,1185,1186,1187,1188,1189,1190,1191,1192,1193,1194,1195,1196,1197,1198,1199,1200,1201,1202,1203,1204,1205,1206,1207,1208,1209,1210,1211,1212,1213,1214,1215,1216,1217,1218,1219,1220,1221,1222,1223,1224,1225,1226,1227,1228,1229,1230,1231,1232,1233,1234,1235,1236,1237,1238,1239,1240,1241,1242,1243,1244,1245,1246,1247,1248,1249,1250,1251,1252,1253,1254,1255,1256,1257],\"yaxis\":\"y\",\"type\":\"scatter\"}],                        {\"template\":{\"data\":{\"histogram2dcontour\":[{\"type\":\"histogram2dcontour\",\"colorbar\":{\"outlinewidth\":0,\"ticks\":\"\"},\"colorscale\":[[0.0,\"#0d0887\"],[0.1111111111111111,\"#46039f\"],[0.2222222222222222,\"#7201a8\"],[0.3333333333333333,\"#9c179e\"],[0.4444444444444444,\"#bd3786\"],[0.5555555555555556,\"#d8576b\"],[0.6666666666666666,\"#ed7953\"],[0.7777777777777778,\"#fb9f3a\"],[0.8888888888888888,\"#fdca26\"],[1.0,\"#f0f921\"]]}],\"choropleth\":[{\"type\":\"choropleth\",\"colorbar\":{\"outlinewidth\":0,\"ticks\":\"\"}}],\"histogram2d\":[{\"type\":\"histogram2d\",\"colorbar\":{\"outlinewidth\":0,\"ticks\":\"\"},\"colorscale\":[[0.0,\"#0d0887\"],[0.1111111111111111,\"#46039f\"],[0.2222222222222222,\"#7201a8\"],[0.3333333333333333,\"#9c179e\"],[0.4444444444444444,\"#bd3786\"],[0.5555555555555556,\"#d8576b\"],[0.6666666666666666,\"#ed7953\"],[0.7777777777777778,\"#fb9f3a\"],[0.8888888888888888,\"#fdca26\"],[1.0,\"#f0f921\"]]}],\"heatmap\":[{\"type\":\"heatmap\",\"colorbar\":{\"outlinewidth\":0,\"ticks\":\"\"},\"colorscale\":[[0.0,\"#0d0887\"],[0.1111111111111111,\"#46039f\"],[0.2222222222222222,\"#7201a8\"],[0.3333333333333333,\"#9c179e\"],[0.4444444444444444,\"#bd3786\"],[0.5555555555555556,\"#d8576b\"],[0.6666666666666666,\"#ed7953\"],[0.7777777777777778,\"#fb9f3a\"],[0.8888888888888888,\"#fdca26\"],[1.0,\"#f0f921\"]]}],\"heatmapgl\":[{\"type\":\"heatmapgl\",\"colorbar\":{\"outlinewidth\":0,\"ticks\":\"\"},\"colorscale\":[[0.0,\"#0d0887\"],[0.1111111111111111,\"#46039f\"],[0.2222222222222222,\"#7201a8\"],[0.3333333333333333,\"#9c179e\"],[0.4444444444444444,\"#bd3786\"],[0.5555555555555556,\"#d8576b\"],[0.6666666666666666,\"#ed7953\"],[0.7777777777777778,\"#fb9f3a\"],[0.8888888888888888,\"#fdca26\"],[1.0,\"#f0f921\"]]}],\"contourcarpet\":[{\"type\":\"contourcarpet\",\"colorbar\":{\"outlinewidth\":0,\"ticks\":\"\"}}],\"contour\":[{\"type\":\"contour\",\"colorbar\":{\"outlinewidth\":0,\"ticks\":\"\"},\"colorscale\":[[0.0,\"#0d0887\"],[0.1111111111111111,\"#46039f\"],[0.2222222222222222,\"#7201a8\"],[0.3333333333333333,\"#9c179e\"],[0.4444444444444444,\"#bd3786\"],[0.5555555555555556,\"#d8576b\"],[0.6666666666666666,\"#ed7953\"],[0.7777777777777778,\"#fb9f3a\"],[0.8888888888888888,\"#fdca26\"],[1.0,\"#f0f921\"]]}],\"surface\":[{\"type\":\"surface\",\"colorbar\":{\"outlinewidth\":0,\"ticks\":\"\"},\"colorscale\":[[0.0,\"#0d0887\"],[0.1111111111111111,\"#46039f\"],[0.2222222222222222,\"#7201a8\"],[0.3333333333333333,\"#9c179e\"],[0.4444444444444444,\"#bd3786\"],[0.5555555555555556,\"#d8576b\"],[0.6666666666666666,\"#ed7953\"],[0.7777777777777778,\"#fb9f3a\"],[0.8888888888888888,\"#fdca26\"],[1.0,\"#f0f921\"]]}],\"mesh3d\":[{\"type\":\"mesh3d\",\"colorbar\":{\"outlinewidth\":0,\"ticks\":\"\"}}],\"scatter\":[{\"fillpattern\":{\"fillmode\":\"overlay\",\"size\":10,\"solidity\":0.2},\"type\":\"scatter\"}],\"parcoords\":[{\"type\":\"parcoords\",\"line\":{\"colorbar\":{\"outlinewidth\":0,\"ticks\":\"\"}}}],\"scatterpolargl\":[{\"type\":\"scatterpolargl\",\"marker\":{\"colorbar\":{\"outlinewidth\":0,\"ticks\":\"\"}}}],\"bar\":[{\"error_x\":{\"color\":\"#2a3f5f\"},\"error_y\":{\"color\":\"#2a3f5f\"},\"marker\":{\"line\":{\"color\":\"#E5ECF6\",\"width\":0.5},\"pattern\":{\"fillmode\":\"overlay\",\"size\":10,\"solidity\":0.2}},\"type\":\"bar\"}],\"scattergeo\":[{\"type\":\"scattergeo\",\"marker\":{\"colorbar\":{\"outlinewidth\":0,\"ticks\":\"\"}}}],\"scatterpolar\":[{\"type\":\"scatterpolar\",\"marker\":{\"colorbar\":{\"outlinewidth\":0,\"ticks\":\"\"}}}],\"histogram\":[{\"marker\":{\"pattern\":{\"fillmode\":\"overlay\",\"size\":10,\"solidity\":0.2}},\"type\":\"histogram\"}],\"scattergl\":[{\"type\":\"scattergl\",\"marker\":{\"colorbar\":{\"outlinewidth\":0,\"ticks\":\"\"}}}],\"scatter3d\":[{\"type\":\"scatter3d\",\"line\":{\"colorbar\":{\"outlinewidth\":0,\"ticks\":\"\"}},\"marker\":{\"colorbar\":{\"outlinewidth\":0,\"ticks\":\"\"}}}],\"scattermapbox\":[{\"type\":\"scattermapbox\",\"marker\":{\"colorbar\":{\"outlinewidth\":0,\"ticks\":\"\"}}}],\"scatterternary\":[{\"type\":\"scatterternary\",\"marker\":{\"colorbar\":{\"outlinewidth\":0,\"ticks\":\"\"}}}],\"scattercarpet\":[{\"type\":\"scattercarpet\",\"marker\":{\"colorbar\":{\"outlinewidth\":0,\"ticks\":\"\"}}}],\"carpet\":[{\"aaxis\":{\"endlinecolor\":\"#2a3f5f\",\"gridcolor\":\"white\",\"linecolor\":\"white\",\"minorgridcolor\":\"white\",\"startlinecolor\":\"#2a3f5f\"},\"baxis\":{\"endlinecolor\":\"#2a3f5f\",\"gridcolor\":\"white\",\"linecolor\":\"white\",\"minorgridcolor\":\"white\",\"startlinecolor\":\"#2a3f5f\"},\"type\":\"carpet\"}],\"table\":[{\"cells\":{\"fill\":{\"color\":\"#EBF0F8\"},\"line\":{\"color\":\"white\"}},\"header\":{\"fill\":{\"color\":\"#C8D4E3\"},\"line\":{\"color\":\"white\"}},\"type\":\"table\"}],\"barpolar\":[{\"marker\":{\"line\":{\"color\":\"#E5ECF6\",\"width\":0.5},\"pattern\":{\"fillmode\":\"overlay\",\"size\":10,\"solidity\":0.2}},\"type\":\"barpolar\"}],\"pie\":[{\"automargin\":true,\"type\":\"pie\"}]},\"layout\":{\"autotypenumbers\":\"strict\",\"colorway\":[\"#636efa\",\"#EF553B\",\"#00cc96\",\"#ab63fa\",\"#FFA15A\",\"#19d3f3\",\"#FF6692\",\"#B6E880\",\"#FF97FF\",\"#FECB52\"],\"font\":{\"color\":\"#2a3f5f\"},\"hovermode\":\"closest\",\"hoverlabel\":{\"align\":\"left\"},\"paper_bgcolor\":\"white\",\"plot_bgcolor\":\"#E5ECF6\",\"polar\":{\"bgcolor\":\"#E5ECF6\",\"angularaxis\":{\"gridcolor\":\"white\",\"linecolor\":\"white\",\"ticks\":\"\"},\"radialaxis\":{\"gridcolor\":\"white\",\"linecolor\":\"white\",\"ticks\":\"\"}},\"ternary\":{\"bgcolor\":\"#E5ECF6\",\"aaxis\":{\"gridcolor\":\"white\",\"linecolor\":\"white\",\"ticks\":\"\"},\"baxis\":{\"gridcolor\":\"white\",\"linecolor\":\"white\",\"ticks\":\"\"},\"caxis\":{\"gridcolor\":\"white\",\"linecolor\":\"white\",\"ticks\":\"\"}},\"coloraxis\":{\"colorbar\":{\"outlinewidth\":0,\"ticks\":\"\"}},\"colorscale\":{\"sequential\":[[0.0,\"#0d0887\"],[0.1111111111111111,\"#46039f\"],[0.2222222222222222,\"#7201a8\"],[0.3333333333333333,\"#9c179e\"],[0.4444444444444444,\"#bd3786\"],[0.5555555555555556,\"#d8576b\"],[0.6666666666666666,\"#ed7953\"],[0.7777777777777778,\"#fb9f3a\"],[0.8888888888888888,\"#fdca26\"],[1.0,\"#f0f921\"]],\"sequentialminus\":[[0.0,\"#0d0887\"],[0.1111111111111111,\"#46039f\"],[0.2222222222222222,\"#7201a8\"],[0.3333333333333333,\"#9c179e\"],[0.4444444444444444,\"#bd3786\"],[0.5555555555555556,\"#d8576b\"],[0.6666666666666666,\"#ed7953\"],[0.7777777777777778,\"#fb9f3a\"],[0.8888888888888888,\"#fdca26\"],[1.0,\"#f0f921\"]],\"diverging\":[[0,\"#8e0152\"],[0.1,\"#c51b7d\"],[0.2,\"#de77ae\"],[0.3,\"#f1b6da\"],[0.4,\"#fde0ef\"],[0.5,\"#f7f7f7\"],[0.6,\"#e6f5d0\"],[0.7,\"#b8e186\"],[0.8,\"#7fbc41\"],[0.9,\"#4d9221\"],[1,\"#276419\"]]},\"xaxis\":{\"gridcolor\":\"white\",\"linecolor\":\"white\",\"ticks\":\"\",\"title\":{\"standoff\":15},\"zerolinecolor\":\"white\",\"automargin\":true,\"zerolinewidth\":2},\"yaxis\":{\"gridcolor\":\"white\",\"linecolor\":\"white\",\"ticks\":\"\",\"title\":{\"standoff\":15},\"zerolinecolor\":\"white\",\"automargin\":true,\"zerolinewidth\":2},\"scene\":{\"xaxis\":{\"backgroundcolor\":\"#E5ECF6\",\"gridcolor\":\"white\",\"linecolor\":\"white\",\"showbackground\":true,\"ticks\":\"\",\"zerolinecolor\":\"white\",\"gridwidth\":2},\"yaxis\":{\"backgroundcolor\":\"#E5ECF6\",\"gridcolor\":\"white\",\"linecolor\":\"white\",\"showbackground\":true,\"ticks\":\"\",\"zerolinecolor\":\"white\",\"gridwidth\":2},\"zaxis\":{\"backgroundcolor\":\"#E5ECF6\",\"gridcolor\":\"white\",\"linecolor\":\"white\",\"showbackground\":true,\"ticks\":\"\",\"zerolinecolor\":\"white\",\"gridwidth\":2}},\"shapedefaults\":{\"line\":{\"color\":\"#2a3f5f\"}},\"annotationdefaults\":{\"arrowcolor\":\"#2a3f5f\",\"arrowhead\":0,\"arrowwidth\":1},\"geo\":{\"bgcolor\":\"white\",\"landcolor\":\"#E5ECF6\",\"subunitcolor\":\"white\",\"showland\":true,\"showlakes\":true,\"lakecolor\":\"white\"},\"title\":{\"x\":0.05},\"mapbox\":{\"style\":\"light\"}}},\"xaxis\":{\"anchor\":\"y\",\"domain\":[0.0,1.0],\"title\":{\"text\":\"x\"}},\"yaxis\":{\"anchor\":\"x\",\"domain\":[0.0,1.0],\"title\":{\"text\":\"index\"}},\"legend\":{\"tracegroupgap\":0},\"margin\":{\"t\":60}},                        {\"responsive\": true}                    ).then(function(){\n",
              "                            \n",
              "var gd = document.getElementById('7dc0d6b1-761f-4c55-a991-ded1860c7c6e');\n",
              "var x = new MutationObserver(function (mutations, observer) {{\n",
              "        var display = window.getComputedStyle(gd).display;\n",
              "        if (!display || display === 'none') {{\n",
              "            console.log([gd, 'removed!']);\n",
              "            Plotly.purge(gd);\n",
              "            observer.disconnect();\n",
              "        }}\n",
              "}});\n",
              "\n",
              "// Listen for the removal of the full notebook cells\n",
              "var notebookContainer = gd.closest('#notebook-container');\n",
              "if (notebookContainer) {{\n",
              "    x.observe(notebookContainer, {childList: true});\n",
              "}}\n",
              "\n",
              "// Listen for the clearing of the current output cell\n",
              "var outputEl = gd.closest('.output');\n",
              "if (outputEl) {{\n",
              "    x.observe(outputEl, {childList: true});\n",
              "}}\n",
              "\n",
              "                        })                };                            </script>        </div>\n",
              "</body>\n",
              "</html>"
            ]
          },
          "metadata": {}
        }
      ]
    },
    {
      "cell_type": "code",
      "source": [
        "del train_data['date']\n",
        "del test_data['date']"
      ],
      "metadata": {
        "id": "v3A71kg9CM_O"
      },
      "execution_count": 23,
      "outputs": []
    },
    {
      "cell_type": "code",
      "source": [
        "scaler = MinMaxScaler(feature_range=(0,1))\n",
        "train_data = scaler.fit_transform(np.array(train_data).reshape(-1,1))\n",
        "test_data = scaler.transform(np.array(test_data).reshape(-1,1))\n",
        "print(train_data.shape)\n",
        "print(test_data.shape)"
      ],
      "metadata": {
        "colab": {
          "base_uri": "https://localhost:8080/"
        },
        "id": "VoHQux5uCWEc",
        "outputId": "342f99cd-b9fc-4ad6-b505-dbfb3685b0c6"
      },
      "execution_count": 24,
      "outputs": [
        {
          "output_type": "stream",
          "name": "stdout",
          "text": [
            "(305, 1)\n",
            "(77, 1)\n"
          ]
        }
      ]
    },
    {
      "cell_type": "code",
      "source": [
        "import matplotlib.pyplot as plt\n"
      ],
      "metadata": {
        "id": "RysIgjpHDa9l"
      },
      "execution_count": 25,
      "outputs": []
    },
    {
      "cell_type": "code",
      "source": [
        "train_data"
      ],
      "metadata": {
        "colab": {
          "base_uri": "https://localhost:8080/"
        },
        "id": "XccAZ0rVDpwH",
        "outputId": "29728206-9118-410e-a7ec-e4a0dd0e0c8a"
      },
      "execution_count": 26,
      "outputs": [
        {
          "output_type": "execute_result",
          "data": {
            "text/plain": [
              "array([[0.93082209],\n",
              "       [0.95531374],\n",
              "       [0.96046985],\n",
              "       [0.97579486],\n",
              "       [0.97765686],\n",
              "       [0.92638213],\n",
              "       [0.9080493 ],\n",
              "       [0.84560299],\n",
              "       [0.88097969],\n",
              "       [0.92595248],\n",
              "       [0.92509315],\n",
              "       [0.95402475],\n",
              "       [0.98653677],\n",
              "       [0.96734461],\n",
              "       [1.        ],\n",
              "       [0.98796911],\n",
              "       [0.99455736],\n",
              "       [0.943426  ],\n",
              "       [0.97966202],\n",
              "       [0.97293039],\n",
              "       [0.97164142],\n",
              "       [0.9812375 ],\n",
              "       [0.98209682],\n",
              "       [0.95001424],\n",
              "       [0.94657697],\n",
              "       [0.96104267],\n",
              "       [0.94270983],\n",
              "       [0.94041816],\n",
              "       [0.94027502],\n",
              "       [0.92953311],\n",
              "       [0.92523631],\n",
              "       [0.9080493 ],\n",
              "       [0.89530223],\n",
              "       [0.87496425],\n",
              "       [0.84445716],\n",
              "       [0.8935836 ],\n",
              "       [0.9498711 ],\n",
              "       [0.93096545],\n",
              "       [0.85892286],\n",
              "       [0.84889712],\n",
              "       [0.8145231 ],\n",
              "       [0.80105987],\n",
              "       [0.84861083],\n",
              "       [0.8067888 ],\n",
              "       [0.83357211],\n",
              "       [0.86808949],\n",
              "       [0.84144956],\n",
              "       [0.83786892],\n",
              "       [0.82870249],\n",
              "       [0.80148953],\n",
              "       [0.81881991],\n",
              "       [0.80177604],\n",
              "       [0.83715275],\n",
              "       [0.78487534],\n",
              "       [0.74448586],\n",
              "       [0.77527925],\n",
              "       [0.78401601],\n",
              "       [0.79203661],\n",
              "       [0.80492703],\n",
              "       [0.81180178],\n",
              "       [0.81065596],\n",
              "       [0.80951013],\n",
              "       [0.80764834],\n",
              "       [0.85562873],\n",
              "       [0.943426  ],\n",
              "       [0.88541965],\n",
              "       [0.91034095],\n",
              "       [0.93382992],\n",
              "       [0.93612157],\n",
              "       [0.93855637],\n",
              "       [0.95216275],\n",
              "       [0.94915493],\n",
              "       [0.80105987],\n",
              "       [0.7062447 ],\n",
              "       [0.67272979],\n",
              "       [0.65454032],\n",
              "       [0.61758813],\n",
              "       [0.61572612],\n",
              "       [0.63835577],\n",
              "       [0.65826409],\n",
              "       [0.62088225],\n",
              "       [0.6395016 ],\n",
              "       [0.66800354],\n",
              "       [0.70452585],\n",
              "       [0.68719569],\n",
              "       [0.66943566],\n",
              "       [0.7247207 ],\n",
              "       [0.73202532],\n",
              "       [0.7732741 ],\n",
              "       [0.78258389],\n",
              "       [0.7732741 ],\n",
              "       [0.74419936],\n",
              "       [0.72371822],\n",
              "       [0.75565743],\n",
              "       [0.75966773],\n",
              "       [0.70853615],\n",
              "       [0.71870524],\n",
              "       [0.7148381 ],\n",
              "       [0.66929251],\n",
              "       [0.60999719],\n",
              "       [0.65898026],\n",
              "       [0.5706102 ],\n",
              "       [0.4939845 ],\n",
              "       [0.53451733],\n",
              "       [0.52033793],\n",
              "       [0.46462325],\n",
              "       [0.39028943],\n",
              "       [0.37725586],\n",
              "       [0.45087372],\n",
              "       [0.42824408],\n",
              "       [0.3857061 ],\n",
              "       [0.40403894],\n",
              "       [0.43712399],\n",
              "       [0.52191342],\n",
              "       [0.54697787],\n",
              "       [0.54626192],\n",
              "       [0.5398166 ],\n",
              "       [0.58235457],\n",
              "       [0.5416786 ],\n",
              "       [0.55471216],\n",
              "       [0.57232883],\n",
              "       [0.55729012],\n",
              "       [0.56173008],\n",
              "       [0.55256365],\n",
              "       [0.49212272],\n",
              "       [0.47765682],\n",
              "       [0.48625043],\n",
              "       [0.44944138],\n",
              "       [0.4229448 ],\n",
              "       [0.41721565],\n",
              "       [0.45158989],\n",
              "       [0.44457177],\n",
              "       [0.42366076],\n",
              "       [0.36293331],\n",
              "       [0.34603271],\n",
              "       [0.37954752],\n",
              "       [0.41764532],\n",
              "       [0.42423379],\n",
              "       [0.40962474],\n",
              "       [0.3559152 ],\n",
              "       [0.35534228],\n",
              "       [0.30163274],\n",
              "       [0.27871669],\n",
              "       [0.30621594],\n",
              "       [0.24921229],\n",
              "       [0.2648238 ],\n",
              "       [0.301776  ],\n",
              "       [0.36006873],\n",
              "       [0.31452304],\n",
              "       [0.31165858],\n",
              "       [0.28501865],\n",
              "       [0.24248066],\n",
              "       [0.23173876],\n",
              "       [0.23030653],\n",
              "       [0.24534513],\n",
              "       [0.23345751],\n",
              "       [0.28960185],\n",
              "       [0.25966767],\n",
              "       [0.23417357],\n",
              "       [0.22028068],\n",
              "       [0.32426237],\n",
              "       [0.34947009],\n",
              "       [0.36207389],\n",
              "       [0.39358354],\n",
              "       [0.41979383],\n",
              "       [0.43354335],\n",
              "       [0.40031517],\n",
              "       [0.43024923],\n",
              "       [0.4038958 ],\n",
              "       [0.397737  ],\n",
              "       [0.40260682],\n",
              "       [0.37295905],\n",
              "       [0.33443138],\n",
              "       [0.2519336 ],\n",
              "       [0.20094527],\n",
              "       [0.17330276],\n",
              "       [0.19263828],\n",
              "       [0.16427959],\n",
              "       [0.15855056],\n",
              "       [0.19865372],\n",
              "       [0.18934404],\n",
              "       [0.17129761],\n",
              "       [0.21999429],\n",
              "       [0.20653105],\n",
              "       [0.19851047],\n",
              "       [0.19106279],\n",
              "       [0.15253512],\n",
              "       [0.17315961],\n",
              "       [0.15267837],\n",
              "       [0.14222286],\n",
              "       [0.18275569],\n",
              "       [0.17759957],\n",
              "       [0.15611575],\n",
              "       [0.15769123],\n",
              "       [0.14250938],\n",
              "       [0.08650818],\n",
              "       [0.15740473],\n",
              "       [0.14079063],\n",
              "       [0.18046404],\n",
              "       [0.18017763],\n",
              "       [0.1913492 ],\n",
              "       [0.1833286 ],\n",
              "       [0.18991696],\n",
              "       [0.16413634],\n",
              "       [0.19020337],\n",
              "       [0.18404467],\n",
              "       [0.19192211],\n",
              "       [0.17545116],\n",
              "       [0.14995705],\n",
              "       [0.16685766],\n",
              "       [0.14895448],\n",
              "       [0.19765115],\n",
              "       [0.1774563 ],\n",
              "       [0.19220851],\n",
              "       [0.23531939],\n",
              "       [0.26038384],\n",
              "       [0.28888568],\n",
              "       [0.29361215],\n",
              "       [0.31036949],\n",
              "       [0.29547403],\n",
              "       [0.28186766],\n",
              "       [0.23875677],\n",
              "       [0.2106846 ],\n",
              "       [0.19421366],\n",
              "       [0.19822406],\n",
              "       [0.23761106],\n",
              "       [0.18203952],\n",
              "       [0.17802922],\n",
              "       [0.17831574],\n",
              "       [0.1685764 ],\n",
              "       [0.17974797],\n",
              "       [0.16828989],\n",
              "       [0.16871955],\n",
              "       [0.1996563 ],\n",
              "       [0.23832711],\n",
              "       [0.24649096],\n",
              "       [0.26668581],\n",
              "       [0.20667431],\n",
              "       [0.20280728],\n",
              "       [0.22787173],\n",
              "       [0.2165569 ],\n",
              "       [0.23202528],\n",
              "       [0.19865372],\n",
              "       [0.15081637],\n",
              "       [0.13248353],\n",
              "       [0.10283586],\n",
              "       [0.06917791],\n",
              "       [0.05571468],\n",
              "       [0.08636492],\n",
              "       [0.06015476],\n",
              "       [0.03637928],\n",
              "       [0.08264113],\n",
              "       [0.15482667],\n",
              "       [0.12073904],\n",
              "       [0.08851332],\n",
              "       [0.05757668],\n",
              "       [0.04339729],\n",
              "       [0.        ],\n",
              "       [0.02363223],\n",
              "       [0.10613011],\n",
              "       [0.13219712],\n",
              "       [0.19908339],\n",
              "       [0.24176449],\n",
              "       [0.20839305],\n",
              "       [0.20295042],\n",
              "       [0.29031802],\n",
              "       [0.29246631],\n",
              "       [0.29704953],\n",
              "       [0.31724437],\n",
              "       [0.32426237],\n",
              "       [0.3454598 ],\n",
              "       [0.34259522],\n",
              "       [0.37510735],\n",
              "       [0.35820685],\n",
              "       [0.36150097],\n",
              "       [0.41134337],\n",
              "       [0.42122595],\n",
              "       [0.42237178],\n",
              "       [0.39788035],\n",
              "       [0.47436269],\n",
              "       [0.47751366],\n",
              "       [0.45760534],\n",
              "       [0.44371245],\n",
              "       [0.4462904 ],\n",
              "       [0.4379833 ],\n",
              "       [0.45660265],\n",
              "       [0.44528794],\n",
              "       [0.47378966],\n",
              "       [0.49441416],\n",
              "       [0.49813816],\n",
              "       [0.46390729],\n",
              "       [0.49556   ],\n",
              "       [0.51876245],\n",
              "       [0.49097688],\n",
              "       [0.47550852],\n",
              "       [0.42122595],\n",
              "       [0.42437693],\n",
              "       [0.42308795],\n",
              "       [0.44285314],\n",
              "       [0.43254089],\n",
              "       [0.46190215],\n",
              "       [0.46004015],\n",
              "       [0.45044407],\n",
              "       [0.40303648],\n",
              "       [0.39143503]])"
            ]
          },
          "metadata": {},
          "execution_count": 26
        }
      ]
    },
    {
      "cell_type": "markdown",
      "source": [
        "#Modifying the Close Price of a dataset in order to perform Time-Series Analysis\n"
      ],
      "metadata": {
        "id": "JZjP_akdF1wO"
      }
    },
    {
      "cell_type": "markdown",
      "source": [
        "##We are considering the previous 3 timestamps and trying to predict the next timestamp"
      ],
      "metadata": {
        "id": "itlV6nxpGFJz"
      }
    },
    {
      "cell_type": "code",
      "source": [
        "def create_sliding_window(dataset, time_step=1):\n",
        "  dataX, dataY = [], []\n",
        "  for i in range(len(dataset)-time_step-1):\n",
        "    a = dataset[i:(i+time_step),0]\n",
        "    dataX.append(a)\n",
        "    dataY.append(dataset[i+time_step,0])\n",
        "  return np.array(dataX), np.array(dataY)"
      ],
      "metadata": {
        "id": "QH-bNri0F1eV"
      },
      "execution_count": 27,
      "outputs": []
    },
    {
      "cell_type": "code",
      "source": [
        "time_step =15\n",
        "X_train, y_train = create_sliding_window(train_data,time_step)\n",
        "X_test, y_test = create_sliding_window(test_data, time_step)\n",
        "print(\"X_train: \", X_train.shape)\n",
        "print(\"y_train: \", y_train.shape)\n",
        "print(\"X_test: \",X_test.shape)\n",
        "print(\"y_test: \", y_test.shape)"
      ],
      "metadata": {
        "colab": {
          "base_uri": "https://localhost:8080/"
        },
        "id": "zUA6E4ogGLw3",
        "outputId": "3112507e-51c9-4f20-b064-7d090ce75dc5"
      },
      "execution_count": 28,
      "outputs": [
        {
          "output_type": "stream",
          "name": "stdout",
          "text": [
            "X_train:  (289, 15)\n",
            "y_train:  (289,)\n",
            "X_test:  (61, 15)\n",
            "y_test:  (61,)\n"
          ]
        }
      ]
    },
    {
      "cell_type": "markdown",
      "source": [
        "#Model Building "
      ],
      "metadata": {
        "id": "3jmtyJ8rbQg2"
      }
    },
    {
      "cell_type": "markdown",
      "source": [
        "For building the model and implementing Gated Recurrent Network we need to reshape the data into 3D tensor format "
      ],
      "metadata": {
        "id": "HjpOw-XtbTRw"
      }
    },
    {
      "cell_type": "code",
      "source": [
        "X_train = X_train.reshape(X_train.shape[0],X_train.shape[1],1)\n",
        "X_test = X_test.reshape(X_test.shape[0],X_test.shape[1],1)\n"
      ],
      "metadata": {
        "id": "Ga5JiiRjbkin"
      },
      "execution_count": 29,
      "outputs": []
    },
    {
      "cell_type": "code",
      "source": [
        "#converting them into 3d vectors\n",
        "print(\"X train: \",X_train.shape)\n",
        "print(\"X_test: \", X_test.shape)"
      ],
      "metadata": {
        "colab": {
          "base_uri": "https://localhost:8080/"
        },
        "id": "ZWLl6sQJbn9q",
        "outputId": "c0e5e7a4-0ea9-448a-dcfe-8db070a500d7"
      },
      "execution_count": 30,
      "outputs": [
        {
          "output_type": "stream",
          "name": "stdout",
          "text": [
            "X train:  (289, 15, 1)\n",
            "X_test:  (61, 15, 1)\n"
          ]
        }
      ]
    },
    {
      "cell_type": "markdown",
      "source": [
        "Since we got 3 parameters ie, Samples,Time_steps and features that means our reshape was successful"
      ],
      "metadata": {
        "id": "JioSxVPxbsJu"
      }
    },
    {
      "cell_type": "markdown",
      "source": [
        "##Using keras.backend.clearsession to prevent memory leaks which occur over time due to accumulation of unused resources."
      ],
      "metadata": {
        "id": "9Uv7NVgjcFKI"
      }
    },
    {
      "cell_type": "code",
      "source": [
        "tf.keras.backend.clear_session()\n",
        "model = Sequential()\n",
        "model.add(GRU(32,return_sequences=True,input_shape=(time_step,1)))\n",
        "model.add(GRU(32,return_sequences=True))\n",
        "model.add(GRU(32))\n",
        "model.add(Dropout(0.20))\n",
        "model.add(Dense(1))\n",
        "model.compile(loss='mean_squared_error',optimizer='adam')"
      ],
      "metadata": {
        "id": "tKVlQpQjb1xR"
      },
      "execution_count": 31,
      "outputs": []
    },
    {
      "cell_type": "code",
      "source": [
        "model.summary()"
      ],
      "metadata": {
        "colab": {
          "base_uri": "https://localhost:8080/"
        },
        "id": "_1_Mcd0_cWeU",
        "outputId": "d9149d9c-3ef0-4585-99d8-89e4359359f8"
      },
      "execution_count": 32,
      "outputs": [
        {
          "output_type": "stream",
          "name": "stdout",
          "text": [
            "Model: \"sequential\"\n",
            "_________________________________________________________________\n",
            " Layer (type)                Output Shape              Param #   \n",
            "=================================================================\n",
            " gru (GRU)                   (None, 15, 32)            3360      \n",
            "                                                                 \n",
            " gru_1 (GRU)                 (None, 15, 32)            6336      \n",
            "                                                                 \n",
            " gru_2 (GRU)                 (None, 32)                6336      \n",
            "                                                                 \n",
            " dropout (Dropout)           (None, 32)                0         \n",
            "                                                                 \n",
            " dense (Dense)               (None, 1)                 33        \n",
            "                                                                 \n",
            "=================================================================\n",
            "Total params: 16,065\n",
            "Trainable params: 16,065\n",
            "Non-trainable params: 0\n",
            "_________________________________________________________________\n"
          ]
        }
      ]
    },
    {
      "cell_type": "code",
      "source": [
        "history = model.fit(X_train, y_train, validation_data=(X_test,y_test), epochs=200, batch_size=32, verbose=1)"
      ],
      "metadata": {
        "colab": {
          "base_uri": "https://localhost:8080/"
        },
        "id": "R0a5vcFTcbjV",
        "outputId": "f8f9abec-80a7-4a4e-c391-39e45ca342d1"
      },
      "execution_count": 33,
      "outputs": [
        {
          "output_type": "stream",
          "name": "stdout",
          "text": [
            "Epoch 1/200\n",
            "10/10 [==============================] - 11s 339ms/step - loss: 0.1226 - val_loss: 0.0179\n",
            "Epoch 2/200\n",
            "10/10 [==============================] - 1s 76ms/step - loss: 0.0335 - val_loss: 0.0029\n",
            "Epoch 3/200\n",
            "10/10 [==============================] - 1s 68ms/step - loss: 0.0194 - val_loss: 0.0043\n",
            "Epoch 4/200\n",
            "10/10 [==============================] - 1s 59ms/step - loss: 0.0131 - val_loss: 0.0033\n",
            "Epoch 5/200\n",
            "10/10 [==============================] - 1s 63ms/step - loss: 0.0113 - val_loss: 0.0026\n",
            "Epoch 6/200\n",
            "10/10 [==============================] - 1s 70ms/step - loss: 0.0092 - val_loss: 0.0022\n",
            "Epoch 7/200\n",
            "10/10 [==============================] - 1s 64ms/step - loss: 0.0075 - val_loss: 0.0033\n",
            "Epoch 8/200\n",
            "10/10 [==============================] - 1s 64ms/step - loss: 0.0085 - val_loss: 0.0024\n",
            "Epoch 9/200\n",
            "10/10 [==============================] - 1s 61ms/step - loss: 0.0083 - val_loss: 0.0020\n",
            "Epoch 10/200\n",
            "10/10 [==============================] - 1s 64ms/step - loss: 0.0076 - val_loss: 0.0024\n",
            "Epoch 11/200\n",
            "10/10 [==============================] - 1s 51ms/step - loss: 0.0086 - val_loss: 0.0025\n",
            "Epoch 12/200\n",
            "10/10 [==============================] - 1s 104ms/step - loss: 0.0078 - val_loss: 0.0025\n",
            "Epoch 13/200\n",
            "10/10 [==============================] - 1s 106ms/step - loss: 0.0066 - val_loss: 0.0019\n",
            "Epoch 14/200\n",
            "10/10 [==============================] - 1s 86ms/step - loss: 0.0062 - val_loss: 0.0017\n",
            "Epoch 15/200\n",
            "10/10 [==============================] - 1s 102ms/step - loss: 0.0062 - val_loss: 0.0017\n",
            "Epoch 16/200\n",
            "10/10 [==============================] - 1s 97ms/step - loss: 0.0061 - val_loss: 0.0018\n",
            "Epoch 17/200\n",
            "10/10 [==============================] - 1s 65ms/step - loss: 0.0064 - val_loss: 0.0025\n",
            "Epoch 18/200\n",
            "10/10 [==============================] - 1s 87ms/step - loss: 0.0083 - val_loss: 0.0025\n",
            "Epoch 19/200\n",
            "10/10 [==============================] - 1s 62ms/step - loss: 0.0059 - val_loss: 0.0016\n",
            "Epoch 20/200\n",
            "10/10 [==============================] - 1s 78ms/step - loss: 0.0060 - val_loss: 0.0016\n",
            "Epoch 21/200\n",
            "10/10 [==============================] - 1s 72ms/step - loss: 0.0061 - val_loss: 0.0015\n",
            "Epoch 22/200\n",
            "10/10 [==============================] - 1s 62ms/step - loss: 0.0073 - val_loss: 0.0015\n",
            "Epoch 23/200\n",
            "10/10 [==============================] - 1s 79ms/step - loss: 0.0059 - val_loss: 0.0017\n",
            "Epoch 24/200\n",
            "10/10 [==============================] - 1s 58ms/step - loss: 0.0062 - val_loss: 0.0016\n",
            "Epoch 25/200\n",
            "10/10 [==============================] - 1s 56ms/step - loss: 0.0049 - val_loss: 0.0016\n",
            "Epoch 26/200\n",
            "10/10 [==============================] - 1s 72ms/step - loss: 0.0059 - val_loss: 0.0033\n",
            "Epoch 27/200\n",
            "10/10 [==============================] - 1s 79ms/step - loss: 0.0069 - val_loss: 0.0017\n",
            "Epoch 28/200\n",
            "10/10 [==============================] - 1s 53ms/step - loss: 0.0058 - val_loss: 0.0016\n",
            "Epoch 29/200\n",
            "10/10 [==============================] - 1s 72ms/step - loss: 0.0057 - val_loss: 0.0014\n",
            "Epoch 30/200\n",
            "10/10 [==============================] - 1s 91ms/step - loss: 0.0047 - val_loss: 0.0015\n",
            "Epoch 31/200\n",
            "10/10 [==============================] - 1s 123ms/step - loss: 0.0057 - val_loss: 0.0022\n",
            "Epoch 32/200\n",
            "10/10 [==============================] - 1s 90ms/step - loss: 0.0061 - val_loss: 0.0019\n",
            "Epoch 33/200\n",
            "10/10 [==============================] - 1s 91ms/step - loss: 0.0061 - val_loss: 0.0015\n",
            "Epoch 34/200\n",
            "10/10 [==============================] - 1s 102ms/step - loss: 0.0052 - val_loss: 0.0012\n",
            "Epoch 35/200\n",
            "10/10 [==============================] - 1s 95ms/step - loss: 0.0064 - val_loss: 0.0029\n",
            "Epoch 36/200\n",
            "10/10 [==============================] - 1s 61ms/step - loss: 0.0070 - val_loss: 0.0015\n",
            "Epoch 37/200\n",
            "10/10 [==============================] - 1s 85ms/step - loss: 0.0059 - val_loss: 0.0014\n",
            "Epoch 38/200\n",
            "10/10 [==============================] - 1s 65ms/step - loss: 0.0052 - val_loss: 0.0013\n",
            "Epoch 39/200\n",
            "10/10 [==============================] - 1s 60ms/step - loss: 0.0050 - val_loss: 0.0014\n",
            "Epoch 40/200\n",
            "10/10 [==============================] - 1s 80ms/step - loss: 0.0046 - val_loss: 0.0019\n",
            "Epoch 41/200\n",
            "10/10 [==============================] - 0s 45ms/step - loss: 0.0047 - val_loss: 0.0012\n",
            "Epoch 42/200\n",
            "10/10 [==============================] - 0s 35ms/step - loss: 0.0049 - val_loss: 0.0012\n",
            "Epoch 43/200\n",
            "10/10 [==============================] - 0s 34ms/step - loss: 0.0043 - val_loss: 0.0011\n",
            "Epoch 44/200\n",
            "10/10 [==============================] - 0s 32ms/step - loss: 0.0040 - val_loss: 0.0014\n",
            "Epoch 45/200\n",
            "10/10 [==============================] - 0s 32ms/step - loss: 0.0042 - val_loss: 0.0017\n",
            "Epoch 46/200\n",
            "10/10 [==============================] - 0s 31ms/step - loss: 0.0054 - val_loss: 0.0014\n",
            "Epoch 47/200\n",
            "10/10 [==============================] - 0s 32ms/step - loss: 0.0049 - val_loss: 0.0011\n",
            "Epoch 48/200\n",
            "10/10 [==============================] - 0s 34ms/step - loss: 0.0042 - val_loss: 0.0011\n",
            "Epoch 49/200\n",
            "10/10 [==============================] - 0s 34ms/step - loss: 0.0044 - val_loss: 0.0012\n",
            "Epoch 50/200\n",
            "10/10 [==============================] - 0s 35ms/step - loss: 0.0044 - val_loss: 0.0011\n",
            "Epoch 51/200\n",
            "10/10 [==============================] - 0s 35ms/step - loss: 0.0039 - val_loss: 0.0012\n",
            "Epoch 52/200\n",
            "10/10 [==============================] - 0s 34ms/step - loss: 0.0043 - val_loss: 0.0014\n",
            "Epoch 53/200\n",
            "10/10 [==============================] - 0s 34ms/step - loss: 0.0036 - val_loss: 0.0011\n",
            "Epoch 54/200\n",
            "10/10 [==============================] - 0s 36ms/step - loss: 0.0046 - val_loss: 0.0013\n",
            "Epoch 55/200\n",
            "10/10 [==============================] - 0s 36ms/step - loss: 0.0037 - val_loss: 0.0011\n",
            "Epoch 56/200\n",
            "10/10 [==============================] - 0s 34ms/step - loss: 0.0037 - val_loss: 0.0011\n",
            "Epoch 57/200\n",
            "10/10 [==============================] - 0s 36ms/step - loss: 0.0039 - val_loss: 0.0017\n",
            "Epoch 58/200\n",
            "10/10 [==============================] - 0s 34ms/step - loss: 0.0041 - val_loss: 0.0010\n",
            "Epoch 59/200\n",
            "10/10 [==============================] - 0s 33ms/step - loss: 0.0040 - val_loss: 0.0010\n",
            "Epoch 60/200\n",
            "10/10 [==============================] - 0s 49ms/step - loss: 0.0039 - val_loss: 0.0011\n",
            "Epoch 61/200\n",
            "10/10 [==============================] - 0s 48ms/step - loss: 0.0037 - val_loss: 0.0013\n",
            "Epoch 62/200\n",
            "10/10 [==============================] - 0s 46ms/step - loss: 0.0039 - val_loss: 0.0011\n",
            "Epoch 63/200\n",
            "10/10 [==============================] - 0s 45ms/step - loss: 0.0046 - val_loss: 0.0011\n",
            "Epoch 64/200\n",
            "10/10 [==============================] - 0s 46ms/step - loss: 0.0034 - val_loss: 0.0010\n",
            "Epoch 65/200\n",
            "10/10 [==============================] - 1s 61ms/step - loss: 0.0033 - val_loss: 0.0011\n",
            "Epoch 66/200\n",
            "10/10 [==============================] - 0s 49ms/step - loss: 0.0030 - val_loss: 0.0013\n",
            "Epoch 67/200\n",
            "10/10 [==============================] - 1s 56ms/step - loss: 0.0035 - val_loss: 0.0016\n",
            "Epoch 68/200\n",
            "10/10 [==============================] - 1s 50ms/step - loss: 0.0042 - val_loss: 0.0010\n",
            "Epoch 69/200\n",
            "10/10 [==============================] - 0s 46ms/step - loss: 0.0038 - val_loss: 0.0010\n",
            "Epoch 70/200\n",
            "10/10 [==============================] - 0s 33ms/step - loss: 0.0033 - val_loss: 0.0018\n",
            "Epoch 71/200\n",
            "10/10 [==============================] - 0s 35ms/step - loss: 0.0041 - val_loss: 0.0019\n",
            "Epoch 72/200\n",
            "10/10 [==============================] - 0s 34ms/step - loss: 0.0039 - val_loss: 0.0016\n",
            "Epoch 73/200\n",
            "10/10 [==============================] - 0s 36ms/step - loss: 0.0038 - val_loss: 0.0011\n",
            "Epoch 74/200\n",
            "10/10 [==============================] - 0s 36ms/step - loss: 0.0044 - val_loss: 0.0012\n",
            "Epoch 75/200\n",
            "10/10 [==============================] - 0s 34ms/step - loss: 0.0037 - val_loss: 0.0010\n",
            "Epoch 76/200\n",
            "10/10 [==============================] - 0s 33ms/step - loss: 0.0039 - val_loss: 0.0012\n",
            "Epoch 77/200\n",
            "10/10 [==============================] - 0s 30ms/step - loss: 0.0036 - val_loss: 0.0011\n",
            "Epoch 78/200\n",
            "10/10 [==============================] - 0s 32ms/step - loss: 0.0039 - val_loss: 0.0010\n",
            "Epoch 79/200\n",
            "10/10 [==============================] - 0s 35ms/step - loss: 0.0037 - val_loss: 0.0016\n",
            "Epoch 80/200\n",
            "10/10 [==============================] - 0s 34ms/step - loss: 0.0040 - val_loss: 0.0025\n",
            "Epoch 81/200\n",
            "10/10 [==============================] - 0s 34ms/step - loss: 0.0044 - val_loss: 0.0023\n",
            "Epoch 82/200\n",
            "10/10 [==============================] - 0s 34ms/step - loss: 0.0041 - val_loss: 0.0010\n",
            "Epoch 83/200\n",
            "10/10 [==============================] - 0s 36ms/step - loss: 0.0032 - val_loss: 0.0010\n",
            "Epoch 84/200\n",
            "10/10 [==============================] - 0s 31ms/step - loss: 0.0033 - val_loss: 0.0011\n",
            "Epoch 85/200\n",
            "10/10 [==============================] - 0s 31ms/step - loss: 0.0037 - val_loss: 0.0032\n",
            "Epoch 86/200\n",
            "10/10 [==============================] - 0s 34ms/step - loss: 0.0053 - val_loss: 0.0025\n",
            "Epoch 87/200\n",
            "10/10 [==============================] - 0s 30ms/step - loss: 0.0039 - val_loss: 0.0012\n",
            "Epoch 88/200\n",
            "10/10 [==============================] - 0s 31ms/step - loss: 0.0033 - val_loss: 0.0010\n",
            "Epoch 89/200\n",
            "10/10 [==============================] - 0s 36ms/step - loss: 0.0032 - val_loss: 9.9143e-04\n",
            "Epoch 90/200\n",
            "10/10 [==============================] - 0s 30ms/step - loss: 0.0034 - val_loss: 0.0011\n",
            "Epoch 91/200\n",
            "10/10 [==============================] - 0s 31ms/step - loss: 0.0040 - val_loss: 9.9020e-04\n",
            "Epoch 92/200\n",
            "10/10 [==============================] - 0s 35ms/step - loss: 0.0036 - val_loss: 0.0018\n",
            "Epoch 93/200\n",
            "10/10 [==============================] - 0s 31ms/step - loss: 0.0039 - val_loss: 0.0010\n",
            "Epoch 94/200\n",
            "10/10 [==============================] - 0s 32ms/step - loss: 0.0036 - val_loss: 0.0010\n",
            "Epoch 95/200\n",
            "10/10 [==============================] - 0s 32ms/step - loss: 0.0038 - val_loss: 0.0011\n",
            "Epoch 96/200\n",
            "10/10 [==============================] - 0s 30ms/step - loss: 0.0032 - val_loss: 0.0015\n",
            "Epoch 97/200\n",
            "10/10 [==============================] - 0s 32ms/step - loss: 0.0055 - val_loss: 0.0031\n",
            "Epoch 98/200\n",
            "10/10 [==============================] - 0s 32ms/step - loss: 0.0035 - val_loss: 0.0013\n",
            "Epoch 99/200\n",
            "10/10 [==============================] - 0s 43ms/step - loss: 0.0036 - val_loss: 0.0012\n",
            "Epoch 100/200\n",
            "10/10 [==============================] - 0s 46ms/step - loss: 0.0032 - val_loss: 0.0014\n",
            "Epoch 101/200\n",
            "10/10 [==============================] - 0s 46ms/step - loss: 0.0041 - val_loss: 0.0010\n",
            "Epoch 102/200\n",
            "10/10 [==============================] - 0s 44ms/step - loss: 0.0048 - val_loss: 0.0016\n",
            "Epoch 103/200\n",
            "10/10 [==============================] - 0s 48ms/step - loss: 0.0046 - val_loss: 0.0013\n",
            "Epoch 104/200\n",
            "10/10 [==============================] - 0s 48ms/step - loss: 0.0036 - val_loss: 0.0010\n",
            "Epoch 105/200\n",
            "10/10 [==============================] - 0s 45ms/step - loss: 0.0033 - val_loss: 0.0011\n",
            "Epoch 106/200\n",
            "10/10 [==============================] - 0s 45ms/step - loss: 0.0030 - val_loss: 9.8784e-04\n",
            "Epoch 107/200\n",
            "10/10 [==============================] - 0s 44ms/step - loss: 0.0035 - val_loss: 0.0011\n",
            "Epoch 108/200\n",
            "10/10 [==============================] - 0s 47ms/step - loss: 0.0033 - val_loss: 0.0011\n",
            "Epoch 109/200\n",
            "10/10 [==============================] - 0s 47ms/step - loss: 0.0033 - val_loss: 9.7729e-04\n",
            "Epoch 110/200\n",
            "10/10 [==============================] - 0s 36ms/step - loss: 0.0028 - val_loss: 0.0012\n",
            "Epoch 111/200\n",
            "10/10 [==============================] - 0s 33ms/step - loss: 0.0028 - val_loss: 0.0018\n",
            "Epoch 112/200\n",
            "10/10 [==============================] - 0s 34ms/step - loss: 0.0058 - val_loss: 0.0030\n",
            "Epoch 113/200\n",
            "10/10 [==============================] - 0s 34ms/step - loss: 0.0047 - val_loss: 0.0035\n",
            "Epoch 114/200\n",
            "10/10 [==============================] - 0s 32ms/step - loss: 0.0032 - val_loss: 9.7846e-04\n",
            "Epoch 115/200\n",
            "10/10 [==============================] - 0s 32ms/step - loss: 0.0030 - val_loss: 0.0019\n",
            "Epoch 116/200\n",
            "10/10 [==============================] - 0s 31ms/step - loss: 0.0042 - val_loss: 0.0021\n",
            "Epoch 117/200\n",
            "10/10 [==============================] - 0s 34ms/step - loss: 0.0037 - val_loss: 0.0013\n",
            "Epoch 118/200\n",
            "10/10 [==============================] - 0s 30ms/step - loss: 0.0033 - val_loss: 0.0010\n",
            "Epoch 119/200\n",
            "10/10 [==============================] - 0s 31ms/step - loss: 0.0032 - val_loss: 0.0012\n",
            "Epoch 120/200\n",
            "10/10 [==============================] - 0s 33ms/step - loss: 0.0028 - val_loss: 9.8250e-04\n",
            "Epoch 121/200\n",
            "10/10 [==============================] - 0s 30ms/step - loss: 0.0034 - val_loss: 0.0013\n",
            "Epoch 122/200\n",
            "10/10 [==============================] - 0s 29ms/step - loss: 0.0031 - val_loss: 0.0011\n",
            "Epoch 123/200\n",
            "10/10 [==============================] - 0s 33ms/step - loss: 0.0032 - val_loss: 0.0014\n",
            "Epoch 124/200\n",
            "10/10 [==============================] - 0s 34ms/step - loss: 0.0036 - val_loss: 9.8639e-04\n",
            "Epoch 125/200\n",
            "10/10 [==============================] - 0s 34ms/step - loss: 0.0030 - val_loss: 0.0010\n",
            "Epoch 126/200\n",
            "10/10 [==============================] - 0s 36ms/step - loss: 0.0029 - val_loss: 0.0013\n",
            "Epoch 127/200\n",
            "10/10 [==============================] - 0s 34ms/step - loss: 0.0033 - val_loss: 0.0011\n",
            "Epoch 128/200\n",
            "10/10 [==============================] - 0s 36ms/step - loss: 0.0027 - val_loss: 9.9015e-04\n",
            "Epoch 129/200\n",
            "10/10 [==============================] - 0s 36ms/step - loss: 0.0028 - val_loss: 0.0010\n",
            "Epoch 130/200\n",
            "10/10 [==============================] - 0s 30ms/step - loss: 0.0031 - val_loss: 0.0012\n",
            "Epoch 131/200\n",
            "10/10 [==============================] - 0s 32ms/step - loss: 0.0030 - val_loss: 0.0023\n",
            "Epoch 132/200\n",
            "10/10 [==============================] - 0s 33ms/step - loss: 0.0039 - val_loss: 0.0011\n",
            "Epoch 133/200\n",
            "10/10 [==============================] - 0s 32ms/step - loss: 0.0037 - val_loss: 0.0020\n",
            "Epoch 134/200\n",
            "10/10 [==============================] - 0s 35ms/step - loss: 0.0047 - val_loss: 0.0030\n",
            "Epoch 135/200\n",
            "10/10 [==============================] - 0s 35ms/step - loss: 0.0040 - val_loss: 0.0010\n",
            "Epoch 136/200\n",
            "10/10 [==============================] - 0s 31ms/step - loss: 0.0030 - val_loss: 0.0015\n",
            "Epoch 137/200\n",
            "10/10 [==============================] - 0s 32ms/step - loss: 0.0040 - val_loss: 0.0018\n",
            "Epoch 138/200\n",
            "10/10 [==============================] - 0s 31ms/step - loss: 0.0043 - val_loss: 0.0012\n",
            "Epoch 139/200\n",
            "10/10 [==============================] - 0s 35ms/step - loss: 0.0031 - val_loss: 0.0011\n",
            "Epoch 140/200\n",
            "10/10 [==============================] - 0s 48ms/step - loss: 0.0033 - val_loss: 0.0011\n",
            "Epoch 141/200\n",
            "10/10 [==============================] - 1s 54ms/step - loss: 0.0034 - val_loss: 0.0018\n",
            "Epoch 142/200\n",
            "10/10 [==============================] - 1s 55ms/step - loss: 0.0034 - val_loss: 0.0012\n",
            "Epoch 143/200\n",
            "10/10 [==============================] - 1s 56ms/step - loss: 0.0029 - val_loss: 0.0019\n",
            "Epoch 144/200\n",
            "10/10 [==============================] - 0s 46ms/step - loss: 0.0034 - val_loss: 0.0010\n",
            "Epoch 145/200\n",
            "10/10 [==============================] - 1s 57ms/step - loss: 0.0034 - val_loss: 0.0010\n",
            "Epoch 146/200\n",
            "10/10 [==============================] - 1s 58ms/step - loss: 0.0030 - val_loss: 0.0018\n",
            "Epoch 147/200\n",
            "10/10 [==============================] - 1s 53ms/step - loss: 0.0033 - val_loss: 0.0012\n",
            "Epoch 148/200\n",
            "10/10 [==============================] - 0s 46ms/step - loss: 0.0030 - val_loss: 0.0013\n",
            "Epoch 149/200\n",
            "10/10 [==============================] - 0s 33ms/step - loss: 0.0025 - val_loss: 0.0013\n",
            "Epoch 150/200\n",
            "10/10 [==============================] - 0s 32ms/step - loss: 0.0026 - val_loss: 0.0010\n",
            "Epoch 151/200\n",
            "10/10 [==============================] - 0s 36ms/step - loss: 0.0026 - val_loss: 0.0013\n",
            "Epoch 152/200\n",
            "10/10 [==============================] - 0s 33ms/step - loss: 0.0029 - val_loss: 0.0010\n",
            "Epoch 153/200\n",
            "10/10 [==============================] - 0s 36ms/step - loss: 0.0029 - val_loss: 0.0010\n",
            "Epoch 154/200\n",
            "10/10 [==============================] - 0s 34ms/step - loss: 0.0031 - val_loss: 0.0019\n",
            "Epoch 155/200\n",
            "10/10 [==============================] - 0s 35ms/step - loss: 0.0036 - val_loss: 0.0023\n",
            "Epoch 156/200\n",
            "10/10 [==============================] - 0s 35ms/step - loss: 0.0044 - val_loss: 0.0013\n",
            "Epoch 157/200\n",
            "10/10 [==============================] - 0s 36ms/step - loss: 0.0048 - val_loss: 0.0020\n",
            "Epoch 158/200\n",
            "10/10 [==============================] - 0s 37ms/step - loss: 0.0034 - val_loss: 0.0017\n",
            "Epoch 159/200\n",
            "10/10 [==============================] - 0s 36ms/step - loss: 0.0029 - val_loss: 0.0015\n",
            "Epoch 160/200\n",
            "10/10 [==============================] - 0s 40ms/step - loss: 0.0036 - val_loss: 0.0011\n",
            "Epoch 161/200\n",
            "10/10 [==============================] - 0s 31ms/step - loss: 0.0031 - val_loss: 0.0010\n",
            "Epoch 162/200\n",
            "10/10 [==============================] - 0s 35ms/step - loss: 0.0026 - val_loss: 0.0013\n",
            "Epoch 163/200\n",
            "10/10 [==============================] - 0s 34ms/step - loss: 0.0043 - val_loss: 0.0019\n",
            "Epoch 164/200\n",
            "10/10 [==============================] - 0s 34ms/step - loss: 0.0037 - val_loss: 0.0011\n",
            "Epoch 165/200\n",
            "10/10 [==============================] - 0s 36ms/step - loss: 0.0027 - val_loss: 0.0010\n",
            "Epoch 166/200\n",
            "10/10 [==============================] - 0s 35ms/step - loss: 0.0028 - val_loss: 0.0011\n",
            "Epoch 167/200\n",
            "10/10 [==============================] - 0s 34ms/step - loss: 0.0026 - val_loss: 0.0013\n",
            "Epoch 168/200\n",
            "10/10 [==============================] - 0s 35ms/step - loss: 0.0026 - val_loss: 0.0011\n",
            "Epoch 169/200\n",
            "10/10 [==============================] - 0s 38ms/step - loss: 0.0034 - val_loss: 0.0015\n",
            "Epoch 170/200\n",
            "10/10 [==============================] - 0s 31ms/step - loss: 0.0031 - val_loss: 0.0011\n",
            "Epoch 171/200\n",
            "10/10 [==============================] - 0s 33ms/step - loss: 0.0026 - val_loss: 0.0011\n",
            "Epoch 172/200\n",
            "10/10 [==============================] - 0s 33ms/step - loss: 0.0031 - val_loss: 0.0014\n",
            "Epoch 173/200\n",
            "10/10 [==============================] - 0s 34ms/step - loss: 0.0029 - val_loss: 0.0012\n",
            "Epoch 174/200\n",
            "10/10 [==============================] - 0s 36ms/step - loss: 0.0024 - val_loss: 0.0011\n",
            "Epoch 175/200\n",
            "10/10 [==============================] - 0s 36ms/step - loss: 0.0024 - val_loss: 0.0013\n",
            "Epoch 176/200\n",
            "10/10 [==============================] - 0s 35ms/step - loss: 0.0025 - val_loss: 0.0010\n",
            "Epoch 177/200\n",
            "10/10 [==============================] - 0s 50ms/step - loss: 0.0032 - val_loss: 0.0011\n",
            "Epoch 178/200\n",
            "10/10 [==============================] - 1s 56ms/step - loss: 0.0030 - val_loss: 0.0020\n",
            "Epoch 179/200\n",
            "10/10 [==============================] - 1s 52ms/step - loss: 0.0029 - val_loss: 0.0011\n",
            "Epoch 180/200\n",
            "10/10 [==============================] - 1s 53ms/step - loss: 0.0028 - val_loss: 0.0012\n",
            "Epoch 181/200\n",
            "10/10 [==============================] - 0s 47ms/step - loss: 0.0030 - val_loss: 0.0012\n",
            "Epoch 182/200\n",
            "10/10 [==============================] - 1s 58ms/step - loss: 0.0031 - val_loss: 0.0010\n",
            "Epoch 183/200\n",
            "10/10 [==============================] - 0s 49ms/step - loss: 0.0027 - val_loss: 0.0011\n",
            "Epoch 184/200\n",
            "10/10 [==============================] - 1s 55ms/step - loss: 0.0021 - val_loss: 0.0012\n",
            "Epoch 185/200\n",
            "10/10 [==============================] - 1s 56ms/step - loss: 0.0030 - val_loss: 0.0011\n",
            "Epoch 186/200\n",
            "10/10 [==============================] - 0s 37ms/step - loss: 0.0022 - val_loss: 0.0012\n",
            "Epoch 187/200\n",
            "10/10 [==============================] - 0s 34ms/step - loss: 0.0028 - val_loss: 0.0011\n",
            "Epoch 188/200\n",
            "10/10 [==============================] - 0s 35ms/step - loss: 0.0025 - val_loss: 0.0015\n",
            "Epoch 189/200\n",
            "10/10 [==============================] - 0s 36ms/step - loss: 0.0026 - val_loss: 0.0015\n",
            "Epoch 190/200\n",
            "10/10 [==============================] - 0s 37ms/step - loss: 0.0032 - val_loss: 0.0015\n",
            "Epoch 191/200\n",
            "10/10 [==============================] - 0s 34ms/step - loss: 0.0026 - val_loss: 0.0011\n",
            "Epoch 192/200\n",
            "10/10 [==============================] - 0s 33ms/step - loss: 0.0026 - val_loss: 0.0011\n",
            "Epoch 193/200\n",
            "10/10 [==============================] - 0s 32ms/step - loss: 0.0030 - val_loss: 0.0014\n",
            "Epoch 194/200\n",
            "10/10 [==============================] - 0s 33ms/step - loss: 0.0026 - val_loss: 0.0011\n",
            "Epoch 195/200\n",
            "10/10 [==============================] - 0s 31ms/step - loss: 0.0025 - val_loss: 0.0012\n",
            "Epoch 196/200\n",
            "10/10 [==============================] - 0s 30ms/step - loss: 0.0028 - val_loss: 0.0015\n",
            "Epoch 197/200\n",
            "10/10 [==============================] - 0s 30ms/step - loss: 0.0032 - val_loss: 0.0016\n",
            "Epoch 198/200\n",
            "10/10 [==============================] - 0s 36ms/step - loss: 0.0031 - val_loss: 0.0015\n",
            "Epoch 199/200\n",
            "10/10 [==============================] - 0s 37ms/step - loss: 0.0031 - val_loss: 0.0011\n",
            "Epoch 200/200\n",
            "10/10 [==============================] - 0s 36ms/step - loss: 0.0027 - val_loss: 0.0011\n"
          ]
        }
      ]
    },
    {
      "cell_type": "markdown",
      "source": [
        "#Plotting Losses"
      ],
      "metadata": {
        "id": "5Th0LwxZdW1q"
      }
    },
    {
      "cell_type": "code",
      "source": [
        "loss = history.history['loss']\n",
        "val_loss = history.history['val_loss']\n",
        "epochs=range(len(loss))\n",
        "plt.plot(epochs,loss,'r',label='Training Loss')\n",
        "plt.plot(epochs,val_loss,'b',label='Validation Loss')\n",
        "plt.title(\"Training and Validation Loss\")\n",
        "plt.legend(loc=0)\n",
        "plt.figure()\n",
        "plt.show()\n",
        "     "
      ],
      "metadata": {
        "colab": {
          "base_uri": "https://localhost:8080/",
          "height": 469
        },
        "id": "p0fb9MHQc0nj",
        "outputId": "e2b95155-abd8-482d-9045-76ba033a27d5"
      },
      "execution_count": 34,
      "outputs": [
        {
          "output_type": "display_data",
          "data": {
            "text/plain": [
              "<Figure size 640x480 with 1 Axes>"
            ],
            "image/png": "[encoded data removed]"
          },
          "metadata": {}
        },
        {
          "output_type": "display_data",
          "data": {
            "text/plain": [
              "<Figure size 640x480 with 0 Axes>"
            ]
          },
          "metadata": {}
        }
      ]
    },
    {
      "cell_type": "markdown",
      "source": [
        "#Saving the Model "
      ],
      "metadata": {
        "id": "PQOCkwSAdbeV"
      }
    },
    {
      "cell_type": "code",
      "source": [
        "model.save('alpha_model.h5')"
      ],
      "metadata": {
        "id": "oED99Bc7dJZy"
      },
      "execution_count": 35,
      "outputs": []
    },
    {
      "cell_type": "markdown",
      "source": [
        "#Model Predictions"
      ],
      "metadata": {
        "id": "_ThNyqstdV9h"
      }
    },
    {
      "cell_type": "code",
      "source": [
        "train_predict = model.predict(X_train)\n",
        "test_predict = model.predict(X_test)\n",
        "train_predict.shape, test_predict.shape"
      ],
      "metadata": {
        "colab": {
          "base_uri": "https://localhost:8080/"
        },
        "id": "JzlQSsVUdUnd",
        "outputId": "5ebc5a3f-a659-4703-9796-a774711ccace"
      },
      "execution_count": 36,
      "outputs": [
        {
          "output_type": "stream",
          "name": "stdout",
          "text": [
            "10/10 [==============================] - 1s 8ms/step\n",
            "2/2 [==============================] - 0s 13ms/step\n"
          ]
        },
        {
          "output_type": "execute_result",
          "data": {
            "text/plain": [
              "((289, 1), (61, 1))"
            ]
          },
          "metadata": {},
          "execution_count": 36
        }
      ]
    },
    {
      "cell_type": "markdown",
      "source": [
        "#Model Evaluation"
      ],
      "metadata": {
        "id": "bpqco5yYd0JY"
      }
    },
    {
      "cell_type": "markdown",
      "source": [
        "##Inverse scaling the data since we have already preprocessed and normalised the data, now we want to make predictions on the original scale of the data"
      ],
      "metadata": {
        "id": "27ChzqwVd5sv"
      }
    },
    {
      "cell_type": "code",
      "source": [
        "train_predict = scaler.inverse_transform(train_predict)\n",
        "test_predict = scaler.inverse_transform(test_predict)\n",
        "original_ytrain = scaler.inverse_transform(y_train.reshape(-1,1))\n",
        "original_ytest = scaler.inverse_transform(y_test.reshape(-1,1))"
      ],
      "metadata": {
        "id": "YpE2KBMMdmMk"
      },
      "execution_count": 37,
      "outputs": []
    },
    {
      "cell_type": "code",
      "source": [
        "from sklearn.metrics import mean_absolute_error , mean_squared_error , mean_absolute_error "
      ],
      "metadata": {
        "id": "OLpY21JPeLDf"
      },
      "execution_count": 38,
      "outputs": []
    },
    {
      "cell_type": "code",
      "source": [
        "import math\n",
        "print (\"Train data RMSE: \",math.sqrt(mean_squared_error(original_ytrain,train_predict)))\n",
        "print(\"Train data MSE: \", mean_squared_error(original_ytrain,train_predict))\n",
        "print(\"Train data MAE: \", mean_absolute_error(original_ytrain, train_predict))"
      ],
      "metadata": {
        "colab": {
          "base_uri": "https://localhost:8080/"
        },
        "id": "CWaaIwCpewXn",
        "outputId": "be586272-f74a-4502-8cf2-ec05768e6322"
      },
      "execution_count": 39,
      "outputs": [
        {
          "output_type": "stream",
          "name": "stdout",
          "text": [
            "Train data RMSE:  2.378700763603434\n",
            "Train data MSE:  5.65821732276756\n",
            "Train data MAE:  1.8658582595358457\n"
          ]
        }
      ]
    },
    {
      "cell_type": "code",
      "source": [
        "print (\"Test data RMSE: \",math.sqrt(mean_squared_error(original_ytest,test_predict)))\n",
        "print(\"Test data MSE: \", mean_squared_error(original_ytest,test_predict))\n",
        "print(\"Test data MAE: \", mean_absolute_error(original_ytest, test_predict))"
      ],
      "metadata": {
        "colab": {
          "base_uri": "https://localhost:8080/"
        },
        "id": "hGfJGVFifOeA",
        "outputId": "8246ecf1-a5c1-496c-f6e8-693c00f5f68c"
      },
      "execution_count": 40,
      "outputs": [
        {
          "output_type": "stream",
          "name": "stdout",
          "text": [
            "Test data RMSE:  2.30439387394775\n",
            "Test data MSE:  5.310231126287919\n",
            "Test data MAE:  1.7573014623383052\n"
          ]
        }
      ]
    },
    {
      "cell_type": "markdown",
      "source": [
        "#Using Explained Variance Regression Score"
      ],
      "metadata": {
        "id": "3lbDcjaXfYQL"
      }
    },
    {
      "cell_type": "markdown",
      "source": [
        "###explained_variance_score tells us how much variance is explained by our model. The maximum value is 1, and higher the EVS better is our model."
      ],
      "metadata": {
        "id": "T5G33aaAfze6"
      }
    },
    {
      "cell_type": "code",
      "source": [
        "print(\"Train data explained variance regression score \", explained_variance_score(original_ytrain,train_predict))\n",
        "print(\"Test data explained variance regression score \", explained_variance_score(original_ytest,test_predict))"
      ],
      "metadata": {
        "colab": {
          "base_uri": "https://localhost:8080/"
        },
        "id": "aJbd72bpfdT7",
        "outputId": "cc015e6b-f68a-4acf-efd3-de61c64d421d"
      },
      "execution_count": 41,
      "outputs": [
        {
          "output_type": "stream",
          "name": "stdout",
          "text": [
            "Train data explained variance regression score  0.9841720323658778\n",
            "Test data explained variance regression score  0.8503041797100271\n"
          ]
        }
      ]
    },
    {
      "cell_type": "markdown",
      "source": [
        "#Using R2 Score "
      ],
      "metadata": {
        "id": "7aIGB7xUnh_K"
      }
    },
    {
      "cell_type": "code",
      "source": [
        "print(\"Train data R2 score: \", r2_score(original_ytrain,train_predict))\n",
        "print(\"Test data R2 score: \", r2_score(original_ytest,test_predict))"
      ],
      "metadata": {
        "colab": {
          "base_uri": "https://localhost:8080/"
        },
        "id": "_NX162a6nZbk",
        "outputId": "6a1b0c3d-ba6d-47d0-9cb2-73b5061b63e7"
      },
      "execution_count": 42,
      "outputs": [
        {
          "output_type": "stream",
          "name": "stdout",
          "text": [
            "Train data R2 score:  0.9841720215657431\n",
            "Test data R2 score:  0.8492738301370044\n"
          ]
        }
      ]
    },
    {
      "cell_type": "markdown",
      "source": [
        "#Comparing the Original and Prediction of the Stock Prices"
      ],
      "metadata": {
        "id": "uTIio3poo9Gm"
      }
    },
    {
      "cell_type": "code",
      "source": [
        "stock_df_closel1y.info()"
      ],
      "metadata": {
        "colab": {
          "base_uri": "https://localhost:8080/"
        },
        "id": "PpDDaW72pIaH",
        "outputId": "849a6b5e-408b-4119-8d20-87a8ccab18d8"
      },
      "execution_count": 43,
      "outputs": [
        {
          "output_type": "stream",
          "name": "stdout",
          "text": [
            "<class 'pandas.core.frame.DataFrame'>\n",
            "Int64Index: 382 entries, 876 to 1257\n",
            "Data columns (total 2 columns):\n",
            " #   Column  Non-Null Count  Dtype              \n",
            "---  ------  --------------  -----              \n",
            " 0   date    382 non-null    datetime64[ns, UTC]\n",
            " 1   close   382 non-null    float64            \n",
            "dtypes: datetime64[ns, UTC](1), float64(1)\n",
            "memory usage: 9.0 KB\n"
          ]
        }
      ]
    },
    {
      "cell_type": "code",
      "source": [
        "del stock_df_closel1y['date']\n",
        "\n",
        "look_back = time_step\n",
        "\n",
        "train_predict_look_ahead = np.empty_like(stock_df_closel1y)\n",
        "\n",
        "train_predict_look_ahead[:,:] = np.nan\n",
        "\n",
        "train_predict_look_ahead[look_back:len(train_predict)+look_back,:] = train_predict\n",
        "\n",
        "print(\"Train predicted data: \",train_predict_look_ahead.shape)\n",
        "\n",
        "test_predict_look_ahead = np.empty_like(stock_df_closel1y)\n",
        "\n",
        "train_predict_look_ahead[:,:]=np.nan\n",
        "\n",
        "test_predict_look_ahead[len(train_predict)+(look_back*2)+1:len(stock_df_closel1y)-1,:] = test_predict\n",
        "\n",
        "print(\"Test predicted data: \", test_predict_look_ahead.shape)\n",
        "\n",
        "names = cycle(['Original close price', 'Train predicted price','Test predicted close price'])\n",
        "\n",
        "plotdf = pd.DataFrame({'date':stock_df_close1ly_original_gt['date'],\n",
        "                       'original_close': stock_df_close1ly_original_gt['close'],\n",
        "                       'train_predicted_close': train_predict_look_ahead.reshape(1,-1)[0].tolist(),\n",
        "                       'test_predicted_close': test_predict_look_ahead.reshape(1,-1)[0].tolist()})\n",
        "\n",
        "\n"
      ],
      "metadata": {
        "colab": {
          "base_uri": "https://localhost:8080/"
        },
        "id": "Pmk8Bte5pEwG",
        "outputId": "4e2db1f8-2390-4437-df15-a5258f627141"
      },
      "execution_count": 44,
      "outputs": [
        {
          "output_type": "stream",
          "name": "stdout",
          "text": [
            "Train predicted data:  (382, 1)\n",
            "Test predicted data:  (382, 1)\n"
          ]
        }
      ]
    },
    {
      "cell_type": "code",
      "source": [
        "fix = px.line(plotdf, x=plotdf['date'], y=[plotdf['original_close'], plotdf['train_predicted_close'], plotdf['test_predicted_close']],\n",
        "                                           labels={'Value':'Stock Price','date':'Date'})\n",
        "\n",
        "fix.update_layout(title_text='Comparison between original close price vs predicted close price',\n",
        "                  plot_bgcolor='white',font_size=15,font_color='black',legend_title_text='Close Price')\n",
        "\n",
        "fix.for_each_trace(lambda t: t.update(name = next(names)))\n",
        "\n",
        "fix.update_xaxes(showgrid=False)\n",
        "fix.update_yaxes(showgrid=False)\n",
        "fix.show()"
      ],
      "metadata": {
        "id": "Xxe3BYOtp-VY",
        "outputId": "a05de105-234d-47b5-e9e6-ba3727b38501",
        "colab": {
          "base_uri": "https://localhost:8080/",
          "height": 542
        }
      },
      "execution_count": 45,
      "outputs": [
        {
          "output_type": "display_data",
          "data": {
            "text/html": [
              "<html>\n",
              "<head><meta charset=\"utf-8\" /></head>\n",
              "<body>\n",
              "    <div>            <script src=\"https://cdnjs.cloudflare.com/ajax/libs/mathjax/2.7.5/MathJax.js?config=TeX-AMS-MML_SVG\"></script><script type=\"text/javascript\">if (window.MathJax && window.MathJax.Hub && window.MathJax.Hub.Config) {window.MathJax.Hub.Config({SVG: {font: \"STIX-Web\"}});}</script>                <script type=\"text/javascript\">window.PlotlyConfig = {MathJaxConfig: 'local'};</script>\n",
              "        <script src=\"https://cdn.plot.ly/plotly-2.18.2.min.js\"></script>                <div id=\"17177052-eaa5-44b0-b5d6-053642e6ea85\" class=\"plotly-graph-div\" style=\"height:525px; width:100%;\"></div>            <script type=\"text/javascript\">                                    window.PLOTLYENV=window.PLOTLYENV || {};                                    if (document.getElementById(\"17177052-eaa5-44b0-b5d6-053642e6ea85\")) {                    Plotly.newPlot(                        \"17177052-eaa5-44b0-b5d6-053642e6ea85\",                        [{\"hovertemplate\":\"variable=original_close<br>Date=%{x}<br>value=%{y}<extra></extra>\",\"legendgroup\":\"original_close\",\"line\":{\"color\":\"#636efa\",\"dash\":\"solid\"},\"marker\":{\"symbol\":\"circle\"},\"mode\":\"lines\",\"name\":\"Original close price\",\"showlegend\":true,\"x\":[\"2021-10-04T00:00:00+00:00\",\"2021-10-05T00:00:00+00:00\",\"2021-10-06T00:00:00+00:00\",\"2021-10-07T00:00:00+00:00\",\"2021-10-08T00:00:00+00:00\",\"2021-10-11T00:00:00+00:00\",\"2021-10-12T00:00:00+00:00\",\"2021-10-13T00:00:00+00:00\",\"2021-10-14T00:00:00+00:00\",\"2021-10-15T00:00:00+00:00\",\"2021-10-18T00:00:00+00:00\",\"2021-10-19T00:00:00+00:00\",\"2021-10-20T00:00:00+00:00\",\"2021-10-21T00:00:00+00:00\",\"2021-10-22T00:00:00+00:00\",\"2021-10-25T00:00:00+00:00\",\"2021-10-26T00:00:00+00:00\",\"2021-10-27T00:00:00+00:00\",\"2021-10-28T00:00:00+00:00\",\"2021-10-29T00:00:00+00:00\",\"2021-11-01T00:00:00+00:00\",\"2021-11-02T00:00:00+00:00\",\"2021-11-03T00:00:00+00:00\",\"2021-11-04T00:00:00+00:00\",\"2021-11-05T00:00:00+00:00\",\"2021-11-08T00:00:00+00:00\",\"2021-11-09T00:00:00+00:00\",\"2021-11-10T00:00:00+00:00\",\"2021-11-11T00:00:00+00:00\",\"2021-11-12T00:00:00+00:00\",\"2021-11-15T00:00:00+00:00\",\"2021-11-16T00:00:00+00:00\",\"2021-11-17T00:00:00+00:00\",\"2021-11-18T00:00:00+00:00\",\"2021-11-19T00:00:00+00:00\",\"2021-11-22T00:00:00+00:00\",\"2021-11-23T00:00:00+00:00\",\"2021-11-24T00:00:00+00:00\",\"2021-11-26T00:00:00+00:00\",\"2021-11-29T00:00:00+00:00\",\"2021-11-30T00:00:00+00:00\",\"2021-12-01T00:00:00+00:00\",\"2021-12-02T00:00:00+00:00\",\"2021-12-03T00:00:00+00:00\",\"2021-12-06T00:00:00+00:00\",\"2021-12-07T00:00:00+00:00\",\"2021-12-08T00:00:00+00:00\",\"2021-12-09T00:00:00+00:00\",\"2021-12-10T00:00:00+00:00\",\"2021-12-13T00:00:00+00:00\",\"2021-12-14T00:00:00+00:00\",\"2021-12-15T00:00:00+00:00\",\"2021-12-16T00:00:00+00:00\",\"2021-12-17T00:00:00+00:00\",\"2021-12-20T00:00:00+00:00\",\"2021-12-21T00:00:00+00:00\",\"2021-12-22T00:00:00+00:00\",\"2021-12-23T00:00:00+00:00\",\"2021-12-27T00:00:00+00:00\",\"2021-12-28T00:00:00+00:00\",\"2021-12-29T00:00:00+00:00\",\"2021-12-30T00:00:00+00:00\",\"2021-12-31T00:00:00+00:00\",\"2022-01-03T00:00:00+00:00\",\"2022-01-04T00:00:00+00:00\",\"2022-01-05T00:00:00+00:00\",\"2022-01-06T00:00:00+00:00\",\"2022-01-07T00:00:00+00:00\",\"2022-01-10T00:00:00+00:00\",\"2022-01-11T00:00:00+00:00\",\"2022-01-12T00:00:00+00:00\",\"2022-01-13T00:00:00+00:00\",\"2022-01-14T00:00:00+00:00\",\"2022-01-18T00:00:00+00:00\",\"2022-01-19T00:00:00+00:00\",\"2022-01-20T00:00:00+00:00\",\"2022-01-21T00:00:00+00:00\",\"2022-01-24T00:00:00+00:00\",\"2022-01-25T00:00:00+00:00\",\"2022-01-26T00:00:00+00:00\",\"2022-01-27T00:00:00+00:00\",\"2022-01-28T00:00:00+00:00\",\"2022-01-31T00:00:00+00:00\",\"2022-02-01T00:00:00+00:00\",\"2022-02-02T00:00:00+00:00\",\"2022-02-03T00:00:00+00:00\",\"2022-02-04T00:00:00+00:00\",\"2022-02-07T00:00:00+00:00\",\"2022-02-08T00:00:00+00:00\",\"2022-02-09T00:00:00+00:00\",\"2022-02-10T00:00:00+00:00\",\"2022-02-11T00:00:00+00:00\",\"2022-02-14T00:00:00+00:00\",\"2022-02-15T00:00:00+00:00\",\"2022-02-16T00:00:00+00:00\",\"2022-02-17T00:00:00+00:00\",\"2022-02-18T00:00:00+00:00\",\"2022-02-22T00:00:00+00:00\",\"2022-02-23T00:00:00+00:00\",\"2022-02-24T00:00:00+00:00\",\"2022-02-25T00:00:00+00:00\",\"2022-02-28T00:00:00+00:00\",\"2022-03-01T00:00:00+00:00\",\"2022-03-02T00:00:00+00:00\",\"2022-03-03T00:00:00+00:00\",\"2022-03-04T00:00:00+00:00\",\"2022-03-07T00:00:00+00:00\",\"2022-03-08T00:00:00+00:00\",\"2022-03-09T00:00:00+00:00\",\"2022-03-10T00:00:00+00:00\",\"2022-03-11T00:00:00+00:00\",\"2022-03-14T00:00:00+00:00\",\"2022-03-15T00:00:00+00:00\",\"2022-03-16T00:00:00+00:00\",\"2022-03-17T00:00:00+00:00\",\"2022-03-18T00:00:00+00:00\",\"2022-03-21T00:00:00+00:00\",\"2022-03-22T00:00:00+00:00\",\"2022-03-23T00:00:00+00:00\",\"2022-03-24T00:00:00+00:00\",\"2022-03-25T00:00:00+00:00\",\"2022-03-28T00:00:00+00:00\",\"2022-03-29T00:00:00+00:00\",\"2022-03-30T00:00:00+00:00\",\"2022-03-31T00:00:00+00:00\",\"2022-04-01T00:00:00+00:00\",\"2022-04-04T00:00:00+00:00\",\"2022-04-05T00:00:00+00:00\",\"2022-04-06T00:00:00+00:00\",\"2022-04-07T00:00:00+00:00\",\"2022-04-08T00:00:00+00:00\",\"2022-04-11T00:00:00+00:00\",\"2022-04-12T00:00:00+00:00\",\"2022-04-13T00:00:00+00:00\",\"2022-04-14T00:00:00+00:00\",\"2022-04-18T00:00:00+00:00\",\"2022-04-19T00:00:00+00:00\",\"2022-04-20T00:00:00+00:00\",\"2022-04-21T00:00:00+00:00\",\"2022-04-22T00:00:00+00:00\",\"2022-04-25T00:00:00+00:00\",\"2022-04-26T00:00:00+00:00\",\"2022-04-27T00:00:00+00:00\",\"2022-04-28T00:00:00+00:00\",\"2022-04-29T00:00:00+00:00\",\"2022-05-02T00:00:00+00:00\",\"2022-05-03T00:00:00+00:00\",\"2022-05-04T00:00:00+00:00\",\"2022-05-05T00:00:00+00:00\",\"2022-05-06T00:00:00+00:00\",\"2022-05-09T00:00:00+00:00\",\"2022-05-10T00:00:00+00:00\",\"2022-05-11T00:00:00+00:00\",\"2022-05-12T00:00:00+00:00\",\"2022-05-13T00:00:00+00:00\",\"2022-05-16T00:00:00+00:00\",\"2022-05-17T00:00:00+00:00\",\"2022-05-18T00:00:00+00:00\",\"2022-05-19T00:00:00+00:00\",\"2022-05-20T00:00:00+00:00\",\"2022-05-23T00:00:00+00:00\",\"2022-05-24T00:00:00+00:00\",\"2022-05-25T00:00:00+00:00\",\"2022-05-26T00:00:00+00:00\",\"2022-05-27T00:00:00+00:00\",\"2022-05-31T00:00:00+00:00\",\"2022-06-01T00:00:00+00:00\",\"2022-06-02T00:00:00+00:00\",\"2022-06-03T00:00:00+00:00\",\"2022-06-06T00:00:00+00:00\",\"2022-06-07T00:00:00+00:00\",\"2022-06-08T00:00:00+00:00\",\"2022-06-09T00:00:00+00:00\",\"2022-06-10T00:00:00+00:00\",\"2022-06-13T00:00:00+00:00\",\"2022-06-14T00:00:00+00:00\",\"2022-06-15T00:00:00+00:00\",\"2022-06-16T00:00:00+00:00\",\"2022-06-17T00:00:00+00:00\",\"2022-06-21T00:00:00+00:00\",\"2022-06-22T00:00:00+00:00\",\"2022-06-23T00:00:00+00:00\",\"2022-06-24T00:00:00+00:00\",\"2022-06-27T00:00:00+00:00\",\"2022-06-28T00:00:00+00:00\",\"2022-06-29T00:00:00+00:00\",\"2022-06-30T00:00:00+00:00\",\"2022-07-01T00:00:00+00:00\",\"2022-07-05T00:00:00+00:00\",\"2022-07-06T00:00:00+00:00\",\"2022-07-07T00:00:00+00:00\",\"2022-07-08T00:00:00+00:00\",\"2022-07-11T00:00:00+00:00\",\"2022-07-12T00:00:00+00:00\",\"2022-07-13T00:00:00+00:00\",\"2022-07-14T00:00:00+00:00\",\"2022-07-15T00:00:00+00:00\",\"2022-07-18T00:00:00+00:00\",\"2022-07-19T00:00:00+00:00\",\"2022-07-20T00:00:00+00:00\",\"2022-07-21T00:00:00+00:00\",\"2022-07-22T00:00:00+00:00\",\"2022-07-25T00:00:00+00:00\",\"2022-07-26T00:00:00+00:00\",\"2022-07-27T00:00:00+00:00\",\"2022-07-28T00:00:00+00:00\",\"2022-07-29T00:00:00+00:00\",\"2022-08-01T00:00:00+00:00\",\"2022-08-02T00:00:00+00:00\",\"2022-08-03T00:00:00+00:00\",\"2022-08-04T00:00:00+00:00\",\"2022-08-05T00:00:00+00:00\",\"2022-08-08T00:00:00+00:00\",\"2022-08-09T00:00:00+00:00\",\"2022-08-10T00:00:00+00:00\",\"2022-08-11T00:00:00+00:00\",\"2022-08-12T00:00:00+00:00\",\"2022-08-15T00:00:00+00:00\",\"2022-08-16T00:00:00+00:00\",\"2022-08-17T00:00:00+00:00\",\"2022-08-18T00:00:00+00:00\",\"2022-08-19T00:00:00+00:00\",\"2022-08-22T00:00:00+00:00\",\"2022-08-23T00:00:00+00:00\",\"2022-08-24T00:00:00+00:00\",\"2022-08-25T00:00:00+00:00\",\"2022-08-26T00:00:00+00:00\",\"2022-08-29T00:00:00+00:00\",\"2022-08-30T00:00:00+00:00\",\"2022-08-31T00:00:00+00:00\",\"2022-09-01T00:00:00+00:00\",\"2022-09-02T00:00:00+00:00\",\"2022-09-06T00:00:00+00:00\",\"2022-09-07T00:00:00+00:00\",\"2022-09-08T00:00:00+00:00\",\"2022-09-09T00:00:00+00:00\",\"2022-09-12T00:00:00+00:00\",\"2022-09-13T00:00:00+00:00\",\"2022-09-14T00:00:00+00:00\",\"2022-09-15T00:00:00+00:00\",\"2022-09-16T00:00:00+00:00\",\"2022-09-19T00:00:00+00:00\",\"2022-09-20T00:00:00+00:00\",\"2022-09-21T00:00:00+00:00\",\"2022-09-22T00:00:00+00:00\",\"2022-09-23T00:00:00+00:00\",\"2022-09-26T00:00:00+00:00\",\"2022-09-27T00:00:00+00:00\",\"2022-09-28T00:00:00+00:00\",\"2022-09-29T00:00:00+00:00\",\"2022-09-30T00:00:00+00:00\",\"2022-10-03T00:00:00+00:00\",\"2022-10-04T00:00:00+00:00\",\"2022-10-05T00:00:00+00:00\",\"2022-10-06T00:00:00+00:00\",\"2022-10-07T00:00:00+00:00\",\"2022-10-10T00:00:00+00:00\",\"2022-10-11T00:00:00+00:00\",\"2022-10-12T00:00:00+00:00\",\"2022-10-13T00:00:00+00:00\",\"2022-10-14T00:00:00+00:00\",\"2022-10-17T00:00:00+00:00\",\"2022-10-18T00:00:00+00:00\",\"2022-10-19T00:00:00+00:00\",\"2022-10-20T00:00:00+00:00\",\"2022-10-21T00:00:00+00:00\",\"2022-10-24T00:00:00+00:00\",\"2022-10-25T00:00:00+00:00\",\"2022-10-26T00:00:00+00:00\",\"2022-10-27T00:00:00+00:00\",\"2022-10-28T00:00:00+00:00\",\"2022-10-31T00:00:00+00:00\",\"2022-11-01T00:00:00+00:00\",\"2022-11-02T00:00:00+00:00\",\"2022-11-03T00:00:00+00:00\",\"2022-11-04T00:00:00+00:00\",\"2022-11-07T00:00:00+00:00\",\"2022-11-08T00:00:00+00:00\",\"2022-11-09T00:00:00+00:00\",\"2022-11-10T00:00:00+00:00\",\"2022-11-11T00:00:00+00:00\",\"2022-11-14T00:00:00+00:00\",\"2022-11-15T00:00:00+00:00\",\"2022-11-16T00:00:00+00:00\",\"2022-11-17T00:00:00+00:00\",\"2022-11-18T00:00:00+00:00\",\"2022-11-21T00:00:00+00:00\",\"2022-11-22T00:00:00+00:00\",\"2022-11-23T00:00:00+00:00\",\"2022-11-25T00:00:00+00:00\",\"2022-11-28T00:00:00+00:00\",\"2022-11-29T00:00:00+00:00\",\"2022-11-30T00:00:00+00:00\",\"2022-12-01T00:00:00+00:00\",\"2022-12-02T00:00:00+00:00\",\"2022-12-05T00:00:00+00:00\",\"2022-12-06T00:00:00+00:00\",\"2022-12-07T00:00:00+00:00\",\"2022-12-08T00:00:00+00:00\",\"2022-12-09T00:00:00+00:00\",\"2022-12-12T00:00:00+00:00\",\"2022-12-13T00:00:00+00:00\",\"2022-12-14T00:00:00+00:00\",\"2022-12-15T00:00:00+00:00\",\"2022-12-16T00:00:00+00:00\",\"2022-12-19T00:00:00+00:00\",\"2022-12-20T00:00:00+00:00\",\"2022-12-21T00:00:00+00:00\",\"2022-12-22T00:00:00+00:00\",\"2022-12-23T00:00:00+00:00\",\"2022-12-27T00:00:00+00:00\",\"2022-12-28T00:00:00+00:00\",\"2022-12-29T00:00:00+00:00\",\"2022-12-30T00:00:00+00:00\",\"2023-01-03T00:00:00+00:00\",\"2023-01-04T00:00:00+00:00\",\"2023-01-05T00:00:00+00:00\",\"2023-01-06T00:00:00+00:00\",\"2023-01-09T00:00:00+00:00\",\"2023-01-10T00:00:00+00:00\",\"2023-01-11T00:00:00+00:00\",\"2023-01-12T00:00:00+00:00\",\"2023-01-13T00:00:00+00:00\",\"2023-01-17T00:00:00+00:00\",\"2023-01-18T00:00:00+00:00\",\"2023-01-19T00:00:00+00:00\",\"2023-01-20T00:00:00+00:00\",\"2023-01-23T00:00:00+00:00\",\"2023-01-24T00:00:00+00:00\",\"2023-01-25T00:00:00+00:00\",\"2023-01-26T00:00:00+00:00\",\"2023-01-27T00:00:00+00:00\",\"2023-01-30T00:00:00+00:00\",\"2023-01-31T00:00:00+00:00\",\"2023-02-01T00:00:00+00:00\",\"2023-02-02T00:00:00+00:00\",\"2023-02-03T00:00:00+00:00\",\"2023-02-06T00:00:00+00:00\",\"2023-02-07T00:00:00+00:00\",\"2023-02-08T00:00:00+00:00\",\"2023-02-09T00:00:00+00:00\",\"2023-02-10T00:00:00+00:00\",\"2023-02-13T00:00:00+00:00\",\"2023-02-14T00:00:00+00:00\",\"2023-02-15T00:00:00+00:00\",\"2023-02-16T00:00:00+00:00\",\"2023-02-17T00:00:00+00:00\",\"2023-02-21T00:00:00+00:00\",\"2023-02-22T00:00:00+00:00\",\"2023-02-23T00:00:00+00:00\",\"2023-02-24T00:00:00+00:00\",\"2023-02-27T00:00:00+00:00\",\"2023-02-28T00:00:00+00:00\",\"2023-03-01T00:00:00+00:00\",\"2023-03-02T00:00:00+00:00\",\"2023-03-03T00:00:00+00:00\",\"2023-03-06T00:00:00+00:00\",\"2023-03-07T00:00:00+00:00\",\"2023-03-08T00:00:00+00:00\",\"2023-03-09T00:00:00+00:00\",\"2023-03-10T00:00:00+00:00\",\"2023-03-13T00:00:00+00:00\",\"2023-03-14T00:00:00+00:00\",\"2023-03-15T00:00:00+00:00\",\"2023-03-16T00:00:00+00:00\",\"2023-03-17T00:00:00+00:00\",\"2023-03-20T00:00:00+00:00\",\"2023-03-21T00:00:00+00:00\",\"2023-03-22T00:00:00+00:00\",\"2023-03-23T00:00:00+00:00\",\"2023-03-24T00:00:00+00:00\",\"2023-03-27T00:00:00+00:00\",\"2023-03-28T00:00:00+00:00\",\"2023-03-29T00:00:00+00:00\",\"2023-03-30T00:00:00+00:00\",\"2023-03-31T00:00:00+00:00\",\"2023-04-03T00:00:00+00:00\",\"2023-04-04T00:00:00+00:00\",\"2023-04-05T00:00:00+00:00\",\"2023-04-06T00:00:00+00:00\",\"2023-04-10T00:00:00+00:00\",\"2023-04-11T00:00:00+00:00\"],\"xaxis\":\"x\",\"y\":[166.949997,168.660004,169.020004,170.089996,170.220001,166.639999,165.360001,161.0,163.470001,166.610001,166.550003,168.570007,170.839996,169.5,171.779999,170.940002,171.399994,167.830002,170.360001,169.889999,169.800003,170.470001,170.529999,168.289993,168.050003,169.059998,167.779999,167.619995,167.610001,166.860001,166.559998,165.360001,164.470001,163.050003,160.919998,164.350006,168.279999,166.960007,161.929993,161.229996,158.830002,157.889999,161.210007,158.289993,160.160004,162.570007,160.710007,160.460007,159.820007,157.919998,159.130005,157.940002,160.410004,156.759995,153.940002,156.089996,156.699997,157.259995,158.160004,158.639999,158.559998,158.479996,158.350006,161.699997,167.830002,163.779999,165.520004,167.160004,167.320007,167.490005,168.440002,168.229996,157.889999,151.270004,148.929993,147.660004,145.080002,144.949997,146.529999,147.919998,145.309998,146.610001,148.600006,151.149994,149.940002,148.699997,152.559998,153.070007,155.949997,156.600006,155.949997,153.919998,152.490005,154.720001,155.0,151.429993,152.139999,151.869995,148.690002,144.550003,147.970001,141.800003,136.449997,139.279999,138.289993,134.399994,129.210007,128.300003,133.440002,131.860001,128.889999,130.169998,132.479996,138.399994,140.149994,140.100006,139.649994,142.619995,139.779999,140.690002,141.919998,140.869995,141.179993,140.539993,136.320007,135.309998,135.910004,133.339996,131.490005,131.089996,133.490005,133.0,131.539993,127.300003,126.120003,128.460007,131.119995,131.580002,130.559998,126.809998,126.769997,123.019997,121.419998,123.339996,119.360001,120.449997,123.029999,127.099998,123.919998,123.720001,121.860001,118.889999,118.139999,118.040001,119.089996,118.260002,122.18,120.089996,118.309998,117.339996,124.599998,126.360001,127.239998,129.440002,131.270004,132.229996,129.910004,132.0,130.160004,129.729996,130.070007,128.0,125.309998,119.550003,115.989998,114.059998,115.410004,113.43,113.029999,115.830002,115.18,113.919998,117.32,116.379997,115.82,115.300003,112.610001,114.050003,112.620003,111.889999,114.720001,114.360001,112.860001,112.970001,111.910004,108.0,112.949997,111.790001,114.559998,114.540001,115.32,114.760002,115.220001,113.419998,115.239998,114.809998,115.360001,114.209999,112.43,113.610001,112.360001,115.760002,114.349998,115.379997,118.389999,120.139999,122.129997,122.459999,123.629997,122.589996,121.639999,118.629997,116.669998,115.519997,115.800003,118.550003,114.669998,114.389999,114.410004,113.730003,114.510002,113.709999,113.739998,115.900002,118.599998,119.169998,120.580002,116.389999,116.120003,117.870003,117.080002,118.160004,115.830002,112.489998,111.209999,109.139999,106.790001,105.849998,107.989998,106.160004,104.5,107.730003,112.769997,110.389999,108.139999,105.980003,104.989998,101.959999,103.610001,109.370003,111.190002,115.860001,118.839996,116.510002,116.129997,122.230003,122.379997,122.699997,124.110001,124.599998,126.080002,125.879997,128.149994,126.970001,127.199997,130.679993,131.369995,131.449997,129.740005,135.080002,135.300003,133.910004,132.940002,133.119995,132.539993,133.839996,133.050003,135.039993,136.479996,136.740005,134.350006,136.559998,138.179993,136.240005,135.160004,131.369995,131.589996,131.5,132.880005,132.160004,134.210007,134.080002,133.410004,130.100006,129.289993,130.059998,130.690002,132.160004,130.660004,131.279999,131.740005,132.460007,133.220001,134.100006,135.119995,136.380005,135.350006,137.940002,137.369995,138.600006,139.630005,139.490005,143.009995,140.800003,136.570007,134.75,135.080002,137.270004,138.449997,139.119995,139.979996,140.320007,139.130005,139.960007,139.589996,138.940002,141.089996,141.919998,143.649994,142.639999,140.419998,141.039993,142.570007,143.199997,143.800003,141.820007,142.240005,139.630005,138.559998,139.669998,140.929993,142.160004,143.350006,142.550003,141.070007,143.660004,142.820007,138.619995,137.800003,130.339996,133.649994,131.25,134.619995,128.259995,130.75,125.809998,127.139999,130.550003,127.18,126.839996,124.910004,128.490005,128.880005,129.139999,128.75,130.309998,130.160004,128.419998,127.610001,127.470001,127.889999,128.520004],\"yaxis\":\"y\",\"type\":\"scattergl\"},{\"hovertemplate\":\"variable=train_predicted_close<br>Date=%{x}<br>value=%{y}<extra></extra>\",\"legendgroup\":\"train_predicted_close\",\"line\":{\"color\":\"#EF553B\",\"dash\":\"solid\"},\"marker\":{\"symbol\":\"circle\"},\"mode\":\"lines\",\"name\":\"Train predicted price\",\"showlegend\":true,\"x\":[\"2021-10-04T00:00:00+00:00\",\"2021-10-05T00:00:00+00:00\",\"2021-10-06T00:00:00+00:00\",\"2021-10-07T00:00:00+00:00\",\"2021-10-08T00:00:00+00:00\",\"2021-10-11T00:00:00+00:00\",\"2021-10-12T00:00:00+00:00\",\"2021-10-13T00:00:00+00:00\",\"2021-10-14T00:00:00+00:00\",\"2021-10-15T00:00:00+00:00\",\"2021-10-18T00:00:00+00:00\",\"2021-10-19T00:00:00+00:00\",\"2021-10-20T00:00:00+00:00\",\"2021-10-21T00:00:00+00:00\",\"2021-10-22T00:00:00+00:00\",\"2021-10-25T00:00:00+00:00\",\"2021-10-26T00:00:00+00:00\",\"2021-10-27T00:00:00+00:00\",\"2021-10-28T00:00:00+00:00\",\"2021-10-29T00:00:00+00:00\",\"2021-11-01T00:00:00+00:00\",\"2021-11-02T00:00:00+00:00\",\"2021-11-03T00:00:00+00:00\",\"2021-11-04T00:00:00+00:00\",\"2021-11-05T00:00:00+00:00\",\"2021-11-08T00:00:00+00:00\",\"2021-11-09T00:00:00+00:00\",\"2021-11-10T00:00:00+00:00\",\"2021-11-11T00:00:00+00:00\",\"2021-11-12T00:00:00+00:00\",\"2021-11-15T00:00:00+00:00\",\"2021-11-16T00:00:00+00:00\",\"2021-11-17T00:00:00+00:00\",\"2021-11-18T00:00:00+00:00\",\"2021-11-19T00:00:00+00:00\",\"2021-11-22T00:00:00+00:00\",\"2021-11-23T00:00:00+00:00\",\"2021-11-24T00:00:00+00:00\",\"2021-11-26T00:00:00+00:00\",\"2021-11-29T00:00:00+00:00\",\"2021-11-30T00:00:00+00:00\",\"2021-12-01T00:00:00+00:00\",\"2021-12-02T00:00:00+00:00\",\"2021-12-03T00:00:00+00:00\",\"2021-12-06T00:00:00+00:00\",\"2021-12-07T00:00:00+00:00\",\"2021-12-08T00:00:00+00:00\",\"2021-12-09T00:00:00+00:00\",\"2021-12-10T00:00:00+00:00\",\"2021-12-13T00:00:00+00:00\",\"2021-12-14T00:00:00+00:00\",\"2021-12-15T00:00:00+00:00\",\"2021-12-16T00:00:00+00:00\",\"2021-12-17T00:00:00+00:00\",\"2021-12-20T00:00:00+00:00\",\"2021-12-21T00:00:00+00:00\",\"2021-12-22T00:00:00+00:00\",\"2021-12-23T00:00:00+00:00\",\"2021-12-27T00:00:00+00:00\",\"2021-12-28T00:00:00+00:00\",\"2021-12-29T00:00:00+00:00\",\"2021-12-30T00:00:00+00:00\",\"2021-12-31T00:00:00+00:00\",\"2022-01-03T00:00:00+00:00\",\"2022-01-04T00:00:00+00:00\",\"2022-01-05T00:00:00+00:00\",\"2022-01-06T00:00:00+00:00\",\"2022-01-07T00:00:00+00:00\",\"2022-01-10T00:00:00+00:00\",\"2022-01-11T00:00:00+00:00\",\"2022-01-12T00:00:00+00:00\",\"2022-01-13T00:00:00+00:00\",\"2022-01-14T00:00:00+00:00\",\"2022-01-18T00:00:00+00:00\",\"2022-01-19T00:00:00+00:00\",\"2022-01-20T00:00:00+00:00\",\"2022-01-21T00:00:00+00:00\",\"2022-01-24T00:00:00+00:00\",\"2022-01-25T00:00:00+00:00\",\"2022-01-26T00:00:00+00:00\",\"2022-01-27T00:00:00+00:00\",\"2022-01-28T00:00:00+00:00\",\"2022-01-31T00:00:00+00:00\",\"2022-02-01T00:00:00+00:00\",\"2022-02-02T00:00:00+00:00\",\"2022-02-03T00:00:00+00:00\",\"2022-02-04T00:00:00+00:00\",\"2022-02-07T00:00:00+00:00\",\"2022-02-08T00:00:00+00:00\",\"2022-02-09T00:00:00+00:00\",\"2022-02-10T00:00:00+00:00\",\"2022-02-11T00:00:00+00:00\",\"2022-02-14T00:00:00+00:00\",\"2022-02-15T00:00:00+00:00\",\"2022-02-16T00:00:00+00:00\",\"2022-02-17T00:00:00+00:00\",\"2022-02-18T00:00:00+00:00\",\"2022-02-22T00:00:00+00:00\",\"2022-02-23T00:00:00+00:00\",\"2022-02-24T00:00:00+00:00\",\"2022-02-25T00:00:00+00:00\",\"2022-02-28T00:00:00+00:00\",\"2022-03-01T00:00:00+00:00\",\"2022-03-02T00:00:00+00:00\",\"2022-03-03T00:00:00+00:00\",\"2022-03-04T00:00:00+00:00\",\"2022-03-07T00:00:00+00:00\",\"2022-03-08T00:00:00+00:00\",\"2022-03-09T00:00:00+00:00\",\"2022-03-10T00:00:00+00:00\",\"2022-03-11T00:00:00+00:00\",\"2022-03-14T00:00:00+00:00\",\"2022-03-15T00:00:00+00:00\",\"2022-03-16T00:00:00+00:00\",\"2022-03-17T00:00:00+00:00\",\"2022-03-18T00:00:00+00:00\",\"2022-03-21T00:00:00+00:00\",\"2022-03-22T00:00:00+00:00\",\"2022-03-23T00:00:00+00:00\",\"2022-03-24T00:00:00+00:00\",\"2022-03-25T00:00:00+00:00\",\"2022-03-28T00:00:00+00:00\",\"2022-03-29T00:00:00+00:00\",\"2022-03-30T00:00:00+00:00\",\"2022-03-31T00:00:00+00:00\",\"2022-04-01T00:00:00+00:00\",\"2022-04-04T00:00:00+00:00\",\"2022-04-05T00:00:00+00:00\",\"2022-04-06T00:00:00+00:00\",\"2022-04-07T00:00:00+00:00\",\"2022-04-08T00:00:00+00:00\",\"2022-04-11T00:00:00+00:00\",\"2022-04-12T00:00:00+00:00\",\"2022-04-13T00:00:00+00:00\",\"2022-04-14T00:00:00+00:00\",\"2022-04-18T00:00:00+00:00\",\"2022-04-19T00:00:00+00:00\",\"2022-04-20T00:00:00+00:00\",\"2022-04-21T00:00:00+00:00\",\"2022-04-22T00:00:00+00:00\",\"2022-04-25T00:00:00+00:00\",\"2022-04-26T00:00:00+00:00\",\"2022-04-27T00:00:00+00:00\",\"2022-04-28T00:00:00+00:00\",\"2022-04-29T00:00:00+00:00\",\"2022-05-02T00:00:00+00:00\",\"2022-05-03T00:00:00+00:00\",\"2022-05-04T00:00:00+00:00\",\"2022-05-05T00:00:00+00:00\",\"2022-05-06T00:00:00+00:00\",\"2022-05-09T00:00:00+00:00\",\"2022-05-10T00:00:00+00:00\",\"2022-05-11T00:00:00+00:00\",\"2022-05-12T00:00:00+00:00\",\"2022-05-13T00:00:00+00:00\",\"2022-05-16T00:00:00+00:00\",\"2022-05-17T00:00:00+00:00\",\"2022-05-18T00:00:00+00:00\",\"2022-05-19T00:00:00+00:00\",\"2022-05-20T00:00:00+00:00\",\"2022-05-23T00:00:00+00:00\",\"2022-05-24T00:00:00+00:00\",\"2022-05-25T00:00:00+00:00\",\"2022-05-26T00:00:00+00:00\",\"2022-05-27T00:00:00+00:00\",\"2022-05-31T00:00:00+00:00\",\"2022-06-01T00:00:00+00:00\",\"2022-06-02T00:00:00+00:00\",\"2022-06-03T00:00:00+00:00\",\"2022-06-06T00:00:00+00:00\",\"2022-06-07T00:00:00+00:00\",\"2022-06-08T00:00:00+00:00\",\"2022-06-09T00:00:00+00:00\",\"2022-06-10T00:00:00+00:00\",\"2022-06-13T00:00:00+00:00\",\"2022-06-14T00:00:00+00:00\",\"2022-06-15T00:00:00+00:00\",\"2022-06-16T00:00:00+00:00\",\"2022-06-17T00:00:00+00:00\",\"2022-06-21T00:00:00+00:00\",\"2022-06-22T00:00:00+00:00\",\"2022-06-23T00:00:00+00:00\",\"2022-06-24T00:00:00+00:00\",\"2022-06-27T00:00:00+00:00\",\"2022-06-28T00:00:00+00:00\",\"2022-06-29T00:00:00+00:00\",\"2022-06-30T00:00:00+00:00\",\"2022-07-01T00:00:00+00:00\",\"2022-07-05T00:00:00+00:00\",\"2022-07-06T00:00:00+00:00\",\"2022-07-07T00:00:00+00:00\",\"2022-07-08T00:00:00+00:00\",\"2022-07-11T00:00:00+00:00\",\"2022-07-12T00:00:00+00:00\",\"2022-07-13T00:00:00+00:00\",\"2022-07-14T00:00:00+00:00\",\"2022-07-15T00:00:00+00:00\",\"2022-07-18T00:00:00+00:00\",\"2022-07-19T00:00:00+00:00\",\"2022-07-20T00:00:00+00:00\",\"2022-07-21T00:00:00+00:00\",\"2022-07-22T00:00:00+00:00\",\"2022-07-25T00:00:00+00:00\",\"2022-07-26T00:00:00+00:00\",\"2022-07-27T00:00:00+00:00\",\"2022-07-28T00:00:00+00:00\",\"2022-07-29T00:00:00+00:00\",\"2022-08-01T00:00:00+00:00\",\"2022-08-02T00:00:00+00:00\",\"2022-08-03T00:00:00+00:00\",\"2022-08-04T00:00:00+00:00\",\"2022-08-05T00:00:00+00:00\",\"2022-08-08T00:00:00+00:00\",\"2022-08-09T00:00:00+00:00\",\"2022-08-10T00:00:00+00:00\",\"2022-08-11T00:00:00+00:00\",\"2022-08-12T00:00:00+00:00\",\"2022-08-15T00:00:00+00:00\",\"2022-08-16T00:00:00+00:00\",\"2022-08-17T00:00:00+00:00\",\"2022-08-18T00:00:00+00:00\",\"2022-08-19T00:00:00+00:00\",\"2022-08-22T00:00:00+00:00\",\"2022-08-23T00:00:00+00:00\",\"2022-08-24T00:00:00+00:00\",\"2022-08-25T00:00:00+00:00\",\"2022-08-26T00:00:00+00:00\",\"2022-08-29T00:00:00+00:00\",\"2022-08-30T00:00:00+00:00\",\"2022-08-31T00:00:00+00:00\",\"2022-09-01T00:00:00+00:00\",\"2022-09-02T00:00:00+00:00\",\"2022-09-06T00:00:00+00:00\",\"2022-09-07T00:00:00+00:00\",\"2022-09-08T00:00:00+00:00\",\"2022-09-09T00:00:00+00:00\",\"2022-09-12T00:00:00+00:00\",\"2022-09-13T00:00:00+00:00\",\"2022-09-14T00:00:00+00:00\",\"2022-09-15T00:00:00+00:00\",\"2022-09-16T00:00:00+00:00\",\"2022-09-19T00:00:00+00:00\",\"2022-09-20T00:00:00+00:00\",\"2022-09-21T00:00:00+00:00\",\"2022-09-22T00:00:00+00:00\",\"2022-09-23T00:00:00+00:00\",\"2022-09-26T00:00:00+00:00\",\"2022-09-27T00:00:00+00:00\",\"2022-09-28T00:00:00+00:00\",\"2022-09-29T00:00:00+00:00\",\"2022-09-30T00:00:00+00:00\",\"2022-10-03T00:00:00+00:00\",\"2022-10-04T00:00:00+00:00\",\"2022-10-05T00:00:00+00:00\",\"2022-10-06T00:00:00+00:00\",\"2022-10-07T00:00:00+00:00\",\"2022-10-10T00:00:00+00:00\",\"2022-10-11T00:00:00+00:00\",\"2022-10-12T00:00:00+00:00\",\"2022-10-13T00:00:00+00:00\",\"2022-10-14T00:00:00+00:00\",\"2022-10-17T00:00:00+00:00\",\"2022-10-18T00:00:00+00:00\",\"2022-10-19T00:00:00+00:00\",\"2022-10-20T00:00:00+00:00\",\"2022-10-21T00:00:00+00:00\",\"2022-10-24T00:00:00+00:00\",\"2022-10-25T00:00:00+00:00\",\"2022-10-26T00:00:00+00:00\",\"2022-10-27T00:00:00+00:00\",\"2022-10-28T00:00:00+00:00\",\"2022-10-31T00:00:00+00:00\",\"2022-11-01T00:00:00+00:00\",\"2022-11-02T00:00:00+00:00\",\"2022-11-03T00:00:00+00:00\",\"2022-11-04T00:00:00+00:00\",\"2022-11-07T00:00:00+00:00\",\"2022-11-08T00:00:00+00:00\",\"2022-11-09T00:00:00+00:00\",\"2022-11-10T00:00:00+00:00\",\"2022-11-11T00:00:00+00:00\",\"2022-11-14T00:00:00+00:00\",\"2022-11-15T00:00:00+00:00\",\"2022-11-16T00:00:00+00:00\",\"2022-11-17T00:00:00+00:00\",\"2022-11-18T00:00:00+00:00\",\"2022-11-21T00:00:00+00:00\",\"2022-11-22T00:00:00+00:00\",\"2022-11-23T00:00:00+00:00\",\"2022-11-25T00:00:00+00:00\",\"2022-11-28T00:00:00+00:00\",\"2022-11-29T00:00:00+00:00\",\"2022-11-30T00:00:00+00:00\",\"2022-12-01T00:00:00+00:00\",\"2022-12-02T00:00:00+00:00\",\"2022-12-05T00:00:00+00:00\",\"2022-12-06T00:00:00+00:00\",\"2022-12-07T00:00:00+00:00\",\"2022-12-08T00:00:00+00:00\",\"2022-12-09T00:00:00+00:00\",\"2022-12-12T00:00:00+00:00\",\"2022-12-13T00:00:00+00:00\",\"2022-12-14T00:00:00+00:00\",\"2022-12-15T00:00:00+00:00\",\"2022-12-16T00:00:00+00:00\",\"2022-12-19T00:00:00+00:00\",\"2022-12-20T00:00:00+00:00\",\"2022-12-21T00:00:00+00:00\",\"2022-12-22T00:00:00+00:00\",\"2022-12-23T00:00:00+00:00\",\"2022-12-27T00:00:00+00:00\",\"2022-12-28T00:00:00+00:00\",\"2022-12-29T00:00:00+00:00\",\"2022-12-30T00:00:00+00:00\",\"2023-01-03T00:00:00+00:00\",\"2023-01-04T00:00:00+00:00\",\"2023-01-05T00:00:00+00:00\",\"2023-01-06T00:00:00+00:00\",\"2023-01-09T00:00:00+00:00\",\"2023-01-10T00:00:00+00:00\",\"2023-01-11T00:00:00+00:00\",\"2023-01-12T00:00:00+00:00\",\"2023-01-13T00:00:00+00:00\",\"2023-01-17T00:00:00+00:00\",\"2023-01-18T00:00:00+00:00\",\"2023-01-19T00:00:00+00:00\",\"2023-01-20T00:00:00+00:00\",\"2023-01-23T00:00:00+00:00\",\"2023-01-24T00:00:00+00:00\",\"2023-01-25T00:00:00+00:00\",\"2023-01-26T00:00:00+00:00\",\"2023-01-27T00:00:00+00:00\",\"2023-01-30T00:00:00+00:00\",\"2023-01-31T00:00:00+00:00\",\"2023-02-01T00:00:00+00:00\",\"2023-02-02T00:00:00+00:00\",\"2023-02-03T00:00:00+00:00\",\"2023-02-06T00:00:00+00:00\",\"2023-02-07T00:00:00+00:00\",\"2023-02-08T00:00:00+00:00\",\"2023-02-09T00:00:00+00:00\",\"2023-02-10T00:00:00+00:00\",\"2023-02-13T00:00:00+00:00\",\"2023-02-14T00:00:00+00:00\",\"2023-02-15T00:00:00+00:00\",\"2023-02-16T00:00:00+00:00\",\"2023-02-17T00:00:00+00:00\",\"2023-02-21T00:00:00+00:00\",\"2023-02-22T00:00:00+00:00\",\"2023-02-23T00:00:00+00:00\",\"2023-02-24T00:00:00+00:00\",\"2023-02-27T00:00:00+00:00\",\"2023-02-28T00:00:00+00:00\",\"2023-03-01T00:00:00+00:00\",\"2023-03-02T00:00:00+00:00\",\"2023-03-03T00:00:00+00:00\",\"2023-03-06T00:00:00+00:00\",\"2023-03-07T00:00:00+00:00\",\"2023-03-08T00:00:00+00:00\",\"2023-03-09T00:00:00+00:00\",\"2023-03-10T00:00:00+00:00\",\"2023-03-13T00:00:00+00:00\",\"2023-03-14T00:00:00+00:00\",\"2023-03-15T00:00:00+00:00\",\"2023-03-16T00:00:00+00:00\",\"2023-03-17T00:00:00+00:00\",\"2023-03-20T00:00:00+00:00\",\"2023-03-21T00:00:00+00:00\",\"2023-03-22T00:00:00+00:00\",\"2023-03-23T00:00:00+00:00\",\"2023-03-24T00:00:00+00:00\",\"2023-03-27T00:00:00+00:00\",\"2023-03-28T00:00:00+00:00\",\"2023-03-29T00:00:00+00:00\",\"2023-03-30T00:00:00+00:00\",\"2023-03-31T00:00:00+00:00\",\"2023-04-03T00:00:00+00:00\",\"2023-04-04T00:00:00+00:00\",\"2023-04-05T00:00:00+00:00\",\"2023-04-06T00:00:00+00:00\",\"2023-04-10T00:00:00+00:00\",\"2023-04-11T00:00:00+00:00\"],\"xaxis\":\"x\",\"y\":[null,null,null,null,null,null,null,null,null,null,null,null,null,null,null,null,null,null,null,null,null,null,null,null,null,null,null,null,null,null,null,null,null,null,null,null,null,null,null,null,null,null,null,null,null,null,null,null,null,null,null,null,null,null,null,null,null,null,null,null,null,null,null,null,null,null,null,null,null,null,null,null,null,null,null,null,null,null,null,null,null,null,null,null,null,null,null,null,null,null,null,null,null,null,null,null,null,null,null,null,null,null,null,null,null,null,null,null,null,null,null,null,null,null,null,null,null,null,null,null,null,null,null,null,null,null,null,null,null,null,null,null,null,null,null,null,null,null,null,null,null,null,null,null,null,null,null,null,null,null,null,null,null,null,null,null,null,null,null,null,null,null,null,null,null,null,null,null,null,null,null,null,null,null,null,null,null,null,null,null,null,null,null,null,null,null,null,null,null,null,null,null,null,null,null,null,null,null,null,null,null,null,null,null,null,null,null,null,null,null,null,null,null,null,null,null,null,null,null,null,null,null,null,null,null,null,null,null,null,null,null,null,null,null,null,null,null,null,null,null,null,null,null,null,null,null,null,null,null,null,null,null,null,null,null,null,null,null,null,null,null,null,null,null,null,null,null,null,null,null,null,null,null,null,null,null,null,null,null,null,null,null,null,null,null,null,null,null,null,null,null,null,null,null,null,null,null,null,null,null,null,null,null,null,null,null,null,null,null,null,null,null,null,null,null,null,null,null,null,null,null,null,null,null,null,null,null,null,null,null,null,null,null,null,null,null,null,null,null,null,null,null,null,null,null,null,null,null,null,null,null,null,null,null,null,null,null,null,null,null,null,null,null,null,null,null,null,null,null,null,null,null,null,null,null,null,null,null,null,null,null,null],\"yaxis\":\"y\",\"type\":\"scattergl\"},{\"hovertemplate\":\"variable=test_predicted_close<br>Date=%{x}<br>value=%{y}<extra></extra>\",\"legendgroup\":\"test_predicted_close\",\"line\":{\"color\":\"#00cc96\",\"dash\":\"solid\"},\"marker\":{\"symbol\":\"circle\"},\"mode\":\"lines\",\"name\":\"Test predicted close price\",\"showlegend\":true,\"x\":[\"2021-10-04T00:00:00+00:00\",\"2021-10-05T00:00:00+00:00\",\"2021-10-06T00:00:00+00:00\",\"2021-10-07T00:00:00+00:00\",\"2021-10-08T00:00:00+00:00\",\"2021-10-11T00:00:00+00:00\",\"2021-10-12T00:00:00+00:00\",\"2021-10-13T00:00:00+00:00\",\"2021-10-14T00:00:00+00:00\",\"2021-10-15T00:00:00+00:00\",\"2021-10-18T00:00:00+00:00\",\"2021-10-19T00:00:00+00:00\",\"2021-10-20T00:00:00+00:00\",\"2021-10-21T00:00:00+00:00\",\"2021-10-22T00:00:00+00:00\",\"2021-10-25T00:00:00+00:00\",\"2021-10-26T00:00:00+00:00\",\"2021-10-27T00:00:00+00:00\",\"2021-10-28T00:00:00+00:00\",\"2021-10-29T00:00:00+00:00\",\"2021-11-01T00:00:00+00:00\",\"2021-11-02T00:00:00+00:00\",\"2021-11-03T00:00:00+00:00\",\"2021-11-04T00:00:00+00:00\",\"2021-11-05T00:00:00+00:00\",\"2021-11-08T00:00:00+00:00\",\"2021-11-09T00:00:00+00:00\",\"2021-11-10T00:00:00+00:00\",\"2021-11-11T00:00:00+00:00\",\"2021-11-12T00:00:00+00:00\",\"2021-11-15T00:00:00+00:00\",\"2021-11-16T00:00:00+00:00\",\"2021-11-17T00:00:00+00:00\",\"2021-11-18T00:00:00+00:00\",\"2021-11-19T00:00:00+00:00\",\"2021-11-22T00:00:00+00:00\",\"2021-11-23T00:00:00+00:00\",\"2021-11-24T00:00:00+00:00\",\"2021-11-26T00:00:00+00:00\",\"2021-11-29T00:00:00+00:00\",\"2021-11-30T00:00:00+00:00\",\"2021-12-01T00:00:00+00:00\",\"2021-12-02T00:00:00+00:00\",\"2021-12-03T00:00:00+00:00\",\"2021-12-06T00:00:00+00:00\",\"2021-12-07T00:00:00+00:00\",\"2021-12-08T00:00:00+00:00\",\"2021-12-09T00:00:00+00:00\",\"2021-12-10T00:00:00+00:00\",\"2021-12-13T00:00:00+00:00\",\"2021-12-14T00:00:00+00:00\",\"2021-12-15T00:00:00+00:00\",\"2021-12-16T00:00:00+00:00\",\"2021-12-17T00:00:00+00:00\",\"2021-12-20T00:00:00+00:00\",\"2021-12-21T00:00:00+00:00\",\"2021-12-22T00:00:00+00:00\",\"2021-12-23T00:00:00+00:00\",\"2021-12-27T00:00:00+00:00\",\"2021-12-28T00:00:00+00:00\",\"2021-12-29T00:00:00+00:00\",\"2021-12-30T00:00:00+00:00\",\"2021-12-31T00:00:00+00:00\",\"2022-01-03T00:00:00+00:00\",\"2022-01-04T00:00:00+00:00\",\"2022-01-05T00:00:00+00:00\",\"2022-01-06T00:00:00+00:00\",\"2022-01-07T00:00:00+00:00\",\"2022-01-10T00:00:00+00:00\",\"2022-01-11T00:00:00+00:00\",\"2022-01-12T00:00:00+00:00\",\"2022-01-13T00:00:00+00:00\",\"2022-01-14T00:00:00+00:00\",\"2022-01-18T00:00:00+00:00\",\"2022-01-19T00:00:00+00:00\",\"2022-01-20T00:00:00+00:00\",\"2022-01-21T00:00:00+00:00\",\"2022-01-24T00:00:00+00:00\",\"2022-01-25T00:00:00+00:00\",\"2022-01-26T00:00:00+00:00\",\"2022-01-27T00:00:00+00:00\",\"2022-01-28T00:00:00+00:00\",\"2022-01-31T00:00:00+00:00\",\"2022-02-01T00:00:00+00:00\",\"2022-02-02T00:00:00+00:00\",\"2022-02-03T00:00:00+00:00\",\"2022-02-04T00:00:00+00:00\",\"2022-02-07T00:00:00+00:00\",\"2022-02-08T00:00:00+00:00\",\"2022-02-09T00:00:00+00:00\",\"2022-02-10T00:00:00+00:00\",\"2022-02-11T00:00:00+00:00\",\"2022-02-14T00:00:00+00:00\",\"2022-02-15T00:00:00+00:00\",\"2022-02-16T00:00:00+00:00\",\"2022-02-17T00:00:00+00:00\",\"2022-02-18T00:00:00+00:00\",\"2022-02-22T00:00:00+00:00\",\"2022-02-23T00:00:00+00:00\",\"2022-02-24T00:00:00+00:00\",\"2022-02-25T00:00:00+00:00\",\"2022-02-28T00:00:00+00:00\",\"2022-03-01T00:00:00+00:00\",\"2022-03-02T00:00:00+00:00\",\"2022-03-03T00:00:00+00:00\",\"2022-03-04T00:00:00+00:00\",\"2022-03-07T00:00:00+00:00\",\"2022-03-08T00:00:00+00:00\",\"2022-03-09T00:00:00+00:00\",\"2022-03-10T00:00:00+00:00\",\"2022-03-11T00:00:00+00:00\",\"2022-03-14T00:00:00+00:00\",\"2022-03-15T00:00:00+00:00\",\"2022-03-16T00:00:00+00:00\",\"2022-03-17T00:00:00+00:00\",\"2022-03-18T00:00:00+00:00\",\"2022-03-21T00:00:00+00:00\",\"2022-03-22T00:00:00+00:00\",\"2022-03-23T00:00:00+00:00\",\"2022-03-24T00:00:00+00:00\",\"2022-03-25T00:00:00+00:00\",\"2022-03-28T00:00:00+00:00\",\"2022-03-29T00:00:00+00:00\",\"2022-03-30T00:00:00+00:00\",\"2022-03-31T00:00:00+00:00\",\"2022-04-01T00:00:00+00:00\",\"2022-04-04T00:00:00+00:00\",\"2022-04-05T00:00:00+00:00\",\"2022-04-06T00:00:00+00:00\",\"2022-04-07T00:00:00+00:00\",\"2022-04-08T00:00:00+00:00\",\"2022-04-11T00:00:00+00:00\",\"2022-04-12T00:00:00+00:00\",\"2022-04-13T00:00:00+00:00\",\"2022-04-14T00:00:00+00:00\",\"2022-04-18T00:00:00+00:00\",\"2022-04-19T00:00:00+00:00\",\"2022-04-20T00:00:00+00:00\",\"2022-04-21T00:00:00+00:00\",\"2022-04-22T00:00:00+00:00\",\"2022-04-25T00:00:00+00:00\",\"2022-04-26T00:00:00+00:00\",\"2022-04-27T00:00:00+00:00\",\"2022-04-28T00:00:00+00:00\",\"2022-04-29T00:00:00+00:00\",\"2022-05-02T00:00:00+00:00\",\"2022-05-03T00:00:00+00:00\",\"2022-05-04T00:00:00+00:00\",\"2022-05-05T00:00:00+00:00\",\"2022-05-06T00:00:00+00:00\",\"2022-05-09T00:00:00+00:00\",\"2022-05-10T00:00:00+00:00\",\"2022-05-11T00:00:00+00:00\",\"2022-05-12T00:00:00+00:00\",\"2022-05-13T00:00:00+00:00\",\"2022-05-16T00:00:00+00:00\",\"2022-05-17T00:00:00+00:00\",\"2022-05-18T00:00:00+00:00\",\"2022-05-19T00:00:00+00:00\",\"2022-05-20T00:00:00+00:00\",\"2022-05-23T00:00:00+00:00\",\"2022-05-24T00:00:00+00:00\",\"2022-05-25T00:00:00+00:00\",\"2022-05-26T00:00:00+00:00\",\"2022-05-27T00:00:00+00:00\",\"2022-05-31T00:00:00+00:00\",\"2022-06-01T00:00:00+00:00\",\"2022-06-02T00:00:00+00:00\",\"2022-06-03T00:00:00+00:00\",\"2022-06-06T00:00:00+00:00\",\"2022-06-07T00:00:00+00:00\",\"2022-06-08T00:00:00+00:00\",\"2022-06-09T00:00:00+00:00\",\"2022-06-10T00:00:00+00:00\",\"2022-06-13T00:00:00+00:00\",\"2022-06-14T00:00:00+00:00\",\"2022-06-15T00:00:00+00:00\",\"2022-06-16T00:00:00+00:00\",\"2022-06-17T00:00:00+00:00\",\"2022-06-21T00:00:00+00:00\",\"2022-06-22T00:00:00+00:00\",\"2022-06-23T00:00:00+00:00\",\"2022-06-24T00:00:00+00:00\",\"2022-06-27T00:00:00+00:00\",\"2022-06-28T00:00:00+00:00\",\"2022-06-29T00:00:00+00:00\",\"2022-06-30T00:00:00+00:00\",\"2022-07-01T00:00:00+00:00\",\"2022-07-05T00:00:00+00:00\",\"2022-07-06T00:00:00+00:00\",\"2022-07-07T00:00:00+00:00\",\"2022-07-08T00:00:00+00:00\",\"2022-07-11T00:00:00+00:00\",\"2022-07-12T00:00:00+00:00\",\"2022-07-13T00:00:00+00:00\",\"2022-07-14T00:00:00+00:00\",\"2022-07-15T00:00:00+00:00\",\"2022-07-18T00:00:00+00:00\",\"2022-07-19T00:00:00+00:00\",\"2022-07-20T00:00:00+00:00\",\"2022-07-21T00:00:00+00:00\",\"2022-07-22T00:00:00+00:00\",\"2022-07-25T00:00:00+00:00\",\"2022-07-26T00:00:00+00:00\",\"2022-07-27T00:00:00+00:00\",\"2022-07-28T00:00:00+00:00\",\"2022-07-29T00:00:00+00:00\",\"2022-08-01T00:00:00+00:00\",\"2022-08-02T00:00:00+00:00\",\"2022-08-03T00:00:00+00:00\",\"2022-08-04T00:00:00+00:00\",\"2022-08-05T00:00:00+00:00\",\"2022-08-08T00:00:00+00:00\",\"2022-08-09T00:00:00+00:00\",\"2022-08-10T00:00:00+00:00\",\"2022-08-11T00:00:00+00:00\",\"2022-08-12T00:00:00+00:00\",\"2022-08-15T00:00:00+00:00\",\"2022-08-16T00:00:00+00:00\",\"2022-08-17T00:00:00+00:00\",\"2022-08-18T00:00:00+00:00\",\"2022-08-19T00:00:00+00:00\",\"2022-08-22T00:00:00+00:00\",\"2022-08-23T00:00:00+00:00\",\"2022-08-24T00:00:00+00:00\",\"2022-08-25T00:00:00+00:00\",\"2022-08-26T00:00:00+00:00\",\"2022-08-29T00:00:00+00:00\",\"2022-08-30T00:00:00+00:00\",\"2022-08-31T00:00:00+00:00\",\"2022-09-01T00:00:00+00:00\",\"2022-09-02T00:00:00+00:00\",\"2022-09-06T00:00:00+00:00\",\"2022-09-07T00:00:00+00:00\",\"2022-09-08T00:00:00+00:00\",\"2022-09-09T00:00:00+00:00\",\"2022-09-12T00:00:00+00:00\",\"2022-09-13T00:00:00+00:00\",\"2022-09-14T00:00:00+00:00\",\"2022-09-15T00:00:00+00:00\",\"2022-09-16T00:00:00+00:00\",\"2022-09-19T00:00:00+00:00\",\"2022-09-20T00:00:00+00:00\",\"2022-09-21T00:00:00+00:00\",\"2022-09-22T00:00:00+00:00\",\"2022-09-23T00:00:00+00:00\",\"2022-09-26T00:00:00+00:00\",\"2022-09-27T00:00:00+00:00\",\"2022-09-28T00:00:00+00:00\",\"2022-09-29T00:00:00+00:00\",\"2022-09-30T00:00:00+00:00\",\"2022-10-03T00:00:00+00:00\",\"2022-10-04T00:00:00+00:00\",\"2022-10-05T00:00:00+00:00\",\"2022-10-06T00:00:00+00:00\",\"2022-10-07T00:00:00+00:00\",\"2022-10-10T00:00:00+00:00\",\"2022-10-11T00:00:00+00:00\",\"2022-10-12T00:00:00+00:00\",\"2022-10-13T00:00:00+00:00\",\"2022-10-14T00:00:00+00:00\",\"2022-10-17T00:00:00+00:00\",\"2022-10-18T00:00:00+00:00\",\"2022-10-19T00:00:00+00:00\",\"2022-10-20T00:00:00+00:00\",\"2022-10-21T00:00:00+00:00\",\"2022-10-24T00:00:00+00:00\",\"2022-10-25T00:00:00+00:00\",\"2022-10-26T00:00:00+00:00\",\"2022-10-27T00:00:00+00:00\",\"2022-10-28T00:00:00+00:00\",\"2022-10-31T00:00:00+00:00\",\"2022-11-01T00:00:00+00:00\",\"2022-11-02T00:00:00+00:00\",\"2022-11-03T00:00:00+00:00\",\"2022-11-04T00:00:00+00:00\",\"2022-11-07T00:00:00+00:00\",\"2022-11-08T00:00:00+00:00\",\"2022-11-09T00:00:00+00:00\",\"2022-11-10T00:00:00+00:00\",\"2022-11-11T00:00:00+00:00\",\"2022-11-14T00:00:00+00:00\",\"2022-11-15T00:00:00+00:00\",\"2022-11-16T00:00:00+00:00\",\"2022-11-17T00:00:00+00:00\",\"2022-11-18T00:00:00+00:00\",\"2022-11-21T00:00:00+00:00\",\"2022-11-22T00:00:00+00:00\",\"2022-11-23T00:00:00+00:00\",\"2022-11-25T00:00:00+00:00\",\"2022-11-28T00:00:00+00:00\",\"2022-11-29T00:00:00+00:00\",\"2022-11-30T00:00:00+00:00\",\"2022-12-01T00:00:00+00:00\",\"2022-12-02T00:00:00+00:00\",\"2022-12-05T00:00:00+00:00\",\"2022-12-06T00:00:00+00:00\",\"2022-12-07T00:00:00+00:00\",\"2022-12-08T00:00:00+00:00\",\"2022-12-09T00:00:00+00:00\",\"2022-12-12T00:00:00+00:00\",\"2022-12-13T00:00:00+00:00\",\"2022-12-14T00:00:00+00:00\",\"2022-12-15T00:00:00+00:00\",\"2022-12-16T00:00:00+00:00\",\"2022-12-19T00:00:00+00:00\",\"2022-12-20T00:00:00+00:00\",\"2022-12-21T00:00:00+00:00\",\"2022-12-22T00:00:00+00:00\",\"2022-12-23T00:00:00+00:00\",\"2022-12-27T00:00:00+00:00\",\"2022-12-28T00:00:00+00:00\",\"2022-12-29T00:00:00+00:00\",\"2022-12-30T00:00:00+00:00\",\"2023-01-03T00:00:00+00:00\",\"2023-01-04T00:00:00+00:00\",\"2023-01-05T00:00:00+00:00\",\"2023-01-06T00:00:00+00:00\",\"2023-01-09T00:00:00+00:00\",\"2023-01-10T00:00:00+00:00\",\"2023-01-11T00:00:00+00:00\",\"2023-01-12T00:00:00+00:00\",\"2023-01-13T00:00:00+00:00\",\"2023-01-17T00:00:00+00:00\",\"2023-01-18T00:00:00+00:00\",\"2023-01-19T00:00:00+00:00\",\"2023-01-20T00:00:00+00:00\",\"2023-01-23T00:00:00+00:00\",\"2023-01-24T00:00:00+00:00\",\"2023-01-25T00:00:00+00:00\",\"2023-01-26T00:00:00+00:00\",\"2023-01-27T00:00:00+00:00\",\"2023-01-30T00:00:00+00:00\",\"2023-01-31T00:00:00+00:00\",\"2023-02-01T00:00:00+00:00\",\"2023-02-02T00:00:00+00:00\",\"2023-02-03T00:00:00+00:00\",\"2023-02-06T00:00:00+00:00\",\"2023-02-07T00:00:00+00:00\",\"2023-02-08T00:00:00+00:00\",\"2023-02-09T00:00:00+00:00\",\"2023-02-10T00:00:00+00:00\",\"2023-02-13T00:00:00+00:00\",\"2023-02-14T00:00:00+00:00\",\"2023-02-15T00:00:00+00:00\",\"2023-02-16T00:00:00+00:00\",\"2023-02-17T00:00:00+00:00\",\"2023-02-21T00:00:00+00:00\",\"2023-02-22T00:00:00+00:00\",\"2023-02-23T00:00:00+00:00\",\"2023-02-24T00:00:00+00:00\",\"2023-02-27T00:00:00+00:00\",\"2023-02-28T00:00:00+00:00\",\"2023-03-01T00:00:00+00:00\",\"2023-03-02T00:00:00+00:00\",\"2023-03-03T00:00:00+00:00\",\"2023-03-06T00:00:00+00:00\",\"2023-03-07T00:00:00+00:00\",\"2023-03-08T00:00:00+00:00\",\"2023-03-09T00:00:00+00:00\",\"2023-03-10T00:00:00+00:00\",\"2023-03-13T00:00:00+00:00\",\"2023-03-14T00:00:00+00:00\",\"2023-03-15T00:00:00+00:00\",\"2023-03-16T00:00:00+00:00\",\"2023-03-17T00:00:00+00:00\",\"2023-03-20T00:00:00+00:00\",\"2023-03-21T00:00:00+00:00\",\"2023-03-22T00:00:00+00:00\",\"2023-03-23T00:00:00+00:00\",\"2023-03-24T00:00:00+00:00\",\"2023-03-27T00:00:00+00:00\",\"2023-03-28T00:00:00+00:00\",\"2023-03-29T00:00:00+00:00\",\"2023-03-30T00:00:00+00:00\",\"2023-03-31T00:00:00+00:00\",\"2023-04-03T00:00:00+00:00\",\"2023-04-04T00:00:00+00:00\",\"2023-04-05T00:00:00+00:00\",\"2023-04-06T00:00:00+00:00\",\"2023-04-10T00:00:00+00:00\",\"2023-04-11T00:00:00+00:00\"],\"xaxis\":\"x\",\"y\":[6.9248389217569e-310,1.207084664e-315,1.223793095e-315,1.207084664e-315,0.0,0.0,0.0,0.0,0.0,0.0,1.181010883e-315,0.0,0.0,0.0,0.0,0.0,1.18101112e-315,0.0,0.0,0.0,0.0,0.0,0.0,1.181011397e-315,0.0,0.0,0.0,0.0,0.0,1.181011634e-315,0.0,0.0,0.0,0.0,0.0,0.0,1.18101191e-315,0.0,0.0,0.0,0.0,0.0,0.0,0.0,0.0,0.0,0.0,0.0,0.0,0.0,0.0,0.0,0.0,0.0,0.0,0.0,0.0,0.0,0.0,0.0,0.0,0.0,0.0,0.0,0.0,2.1219957905e-314,2.1219957905e-314,0.0,1.181013176e-315,0.0,0.0,0.0,0.0,0.0,0.0,1.181013453e-315,0.0,0.0,0.0,0.0,0.0,1.18101369e-315,0.0,0.0,0.0,0.0,0.0,0.0,1.181013966e-315,0.0,0.0,0.0,0.0,0.0,1.181014204e-315,0.0,0.0,0.0,0.0,0.0,0.0,1.18101448e-315,0.0,0.0,0.0,0.0,0.0,0.0,0.0,0.0,0.0,0.0,0.0,0.0,0.0,0.0,0.0,0.0,0.0,0.0,0.0,0.0,0.0,0.0,0.0,0.0,0.0,0.0,0.0,0.0,1e-323,5e-324,5e-324,1.181015745e-315,4.4e-323,1.0980077366847077e+248,5.73e-322,5e-324,5e-324,5e-324,1.18101602e-315,1.5e-323,2.762374e-317,0.0,5e-324,5e-324,1.18101626e-315,4.4e-323,1.0980077366847077e+248,5.73e-322,5e-324,5e-324,5e-324,1.181016536e-315,1.5e-323,2.762374e-317,0.0,5e-324,5e-324,1.181016773e-315,4.4e-323,1.0980077366847077e+248,5.73e-322,5e-324,5e-324,5e-324,1.18101705e-315,1.5e-323,2.762374e-317,0.0,5e-324,1e-323,1.181017287e-315,1.5e-323,2.762374e-317,0.0,0.0,0.0,0.0,0.0,0.0,0.0,0.0,0.0,0.0,0.0,0.0,0.0,0.0,0.0,0.0,0.0,0.0,0.0,0.0,1.5e-323,5e-324,5e-324,1.181018314e-315,4.4e-323,1.0980077366847077e+248,5.73e-322,5e-324,5e-324,5e-324,1.18101859e-315,1.5e-323,2.762374e-317,0.0,5e-324,5e-324,1.18101883e-315,4.4e-323,1.0980077366847077e+248,5.73e-322,5e-324,5e-324,5e-324,1.181019105e-315,1.5e-323,2.762374e-317,0.0,5e-324,5e-324,1.18101934e-315,4.4e-323,1.0980077366847077e+248,5.73e-322,5e-324,5e-324,5e-324,1.18101962e-315,1.5e-323,2.762374e-317,0.0,5e-324,1e-323,1.181019856e-315,1.5e-323,2.762374e-317,0.0,0.0,0.0,0.0,0.0,0.0,0.0,0.0,0.0,0.0,0.0,0.0,0.0,0.0,0.0,0.0,0.0,0.0,0.0,0.0,2e-323,5e-324,5e-324,1.181020883e-315,4.4e-323,1.0980077366847077e+248,5.73e-322,5e-324,5e-324,5e-324,1.18102116e-315,1.5e-323,2.762374e-317,0.0,5e-324,5e-324,1.181021397e-315,4.4e-323,1.0980077366847077e+248,5.73e-322,5e-324,5e-324,5e-324,1.181021674e-315,1.5e-323,2.762374e-317,0.0,5e-324,5e-324,1.18102191e-315,4.4e-323,1.0980077366847077e+248,5.73e-322,5e-324,5e-324,5e-324,1.18102219e-315,1.5e-323,2.762374e-317,0.0,5e-324,1e-323,1.181022425e-315,1.5e-323,2.762374e-317,0.0,0.0,0.0,0.0,0.0,0.0,0.0,0.0,0.0,0.0,0.0,0.0,0.0,0.0,0.0,138.37710571289062,139.31475830078125,139.0563201904297,143.02447509765625,139.95848083496094,135.79495239257812,134.33941650390625,134.7464141845703,137.0060272216797,138.08306884765625,138.7653350830078,139.6680145263672,139.93887329101562,138.58920288085938,139.68533325195312,139.09494018554688,138.46633911132812,140.92076110839844,141.50660705566406,143.42169189453125,141.99252319335938,139.73712158203125,140.74671936035156,142.26702880859375,142.76307678222656,143.40625,141.0589599609375,141.918212890625,138.80419921875,138.08482360839844,139.3579559326172,140.5745849609375,141.8228302001953,143.0267333984375,141.9568634033203,140.46945190429688,143.59817504882812,142.12059020996094,137.66966247558594,137.41929626464844,129.37889099121094,133.59222412109375,130.675048828125,134.46253967285156,127.63613891601562,130.68194580078125,125.52229309082031,127.04867553710938,130.28321838378906,126.91033935546875,126.79029083251953,124.87635803222656,128.2977752685547,128.63523864746094,128.9720916748047,128.59930419921875,130.15992736816406,129.93804931640625,128.24095153808594,127.50342559814453,127.34003448486328,0.0],\"yaxis\":\"y\",\"type\":\"scattergl\"}],                        {\"template\":{\"data\":{\"histogram2dcontour\":[{\"type\":\"histogram2dcontour\",\"colorbar\":{\"outlinewidth\":0,\"ticks\":\"\"},\"colorscale\":[[0.0,\"#0d0887\"],[0.1111111111111111,\"#46039f\"],[0.2222222222222222,\"#7201a8\"],[0.3333333333333333,\"#9c179e\"],[0.4444444444444444,\"#bd3786\"],[0.5555555555555556,\"#d8576b\"],[0.6666666666666666,\"#ed7953\"],[0.7777777777777778,\"#fb9f3a\"],[0.8888888888888888,\"#fdca26\"],[1.0,\"#f0f921\"]]}],\"choropleth\":[{\"type\":\"choropleth\",\"colorbar\":{\"outlinewidth\":0,\"ticks\":\"\"}}],\"histogram2d\":[{\"type\":\"histogram2d\",\"colorbar\":{\"outlinewidth\":0,\"ticks\":\"\"},\"colorscale\":[[0.0,\"#0d0887\"],[0.1111111111111111,\"#46039f\"],[0.2222222222222222,\"#7201a8\"],[0.3333333333333333,\"#9c179e\"],[0.4444444444444444,\"#bd3786\"],[0.5555555555555556,\"#d8576b\"],[0.6666666666666666,\"#ed7953\"],[0.7777777777777778,\"#fb9f3a\"],[0.8888888888888888,\"#fdca26\"],[1.0,\"#f0f921\"]]}],\"heatmap\":[{\"type\":\"heatmap\",\"colorbar\":{\"outlinewidth\":0,\"ticks\":\"\"},\"colorscale\":[[0.0,\"#0d0887\"],[0.1111111111111111,\"#46039f\"],[0.2222222222222222,\"#7201a8\"],[0.3333333333333333,\"#9c179e\"],[0.4444444444444444,\"#bd3786\"],[0.5555555555555556,\"#d8576b\"],[0.6666666666666666,\"#ed7953\"],[0.7777777777777778,\"#fb9f3a\"],[0.8888888888888888,\"#fdca26\"],[1.0,\"#f0f921\"]]}],\"heatmapgl\":[{\"type\":\"heatmapgl\",\"colorbar\":{\"outlinewidth\":0,\"ticks\":\"\"},\"colorscale\":[[0.0,\"#0d0887\"],[0.1111111111111111,\"#46039f\"],[0.2222222222222222,\"#7201a8\"],[0.3333333333333333,\"#9c179e\"],[0.4444444444444444,\"#bd3786\"],[0.5555555555555556,\"#d8576b\"],[0.6666666666666666,\"#ed7953\"],[0.7777777777777778,\"#fb9f3a\"],[0.8888888888888888,\"#fdca26\"],[1.0,\"#f0f921\"]]}],\"contourcarpet\":[{\"type\":\"contourcarpet\",\"colorbar\":{\"outlinewidth\":0,\"ticks\":\"\"}}],\"contour\":[{\"type\":\"contour\",\"colorbar\":{\"outlinewidth\":0,\"ticks\":\"\"},\"colorscale\":[[0.0,\"#0d0887\"],[0.1111111111111111,\"#46039f\"],[0.2222222222222222,\"#7201a8\"],[0.3333333333333333,\"#9c179e\"],[0.4444444444444444,\"#bd3786\"],[0.5555555555555556,\"#d8576b\"],[0.6666666666666666,\"#ed7953\"],[0.7777777777777778,\"#fb9f3a\"],[0.8888888888888888,\"#fdca26\"],[1.0,\"#f0f921\"]]}],\"surface\":[{\"type\":\"surface\",\"colorbar\":{\"outlinewidth\":0,\"ticks\":\"\"},\"colorscale\":[[0.0,\"#0d0887\"],[0.1111111111111111,\"#46039f\"],[0.2222222222222222,\"#7201a8\"],[0.3333333333333333,\"#9c179e\"],[0.4444444444444444,\"#bd3786\"],[0.5555555555555556,\"#d8576b\"],[0.6666666666666666,\"#ed7953\"],[0.7777777777777778,\"#fb9f3a\"],[0.8888888888888888,\"#fdca26\"],[1.0,\"#f0f921\"]]}],\"mesh3d\":[{\"type\":\"mesh3d\",\"colorbar\":{\"outlinewidth\":0,\"ticks\":\"\"}}],\"scatter\":[{\"fillpattern\":{\"fillmode\":\"overlay\",\"size\":10,\"solidity\":0.2},\"type\":\"scatter\"}],\"parcoords\":[{\"type\":\"parcoords\",\"line\":{\"colorbar\":{\"outlinewidth\":0,\"ticks\":\"\"}}}],\"scatterpolargl\":[{\"type\":\"scatterpolargl\",\"marker\":{\"colorbar\":{\"outlinewidth\":0,\"ticks\":\"\"}}}],\"bar\":[{\"error_x\":{\"color\":\"#2a3f5f\"},\"error_y\":{\"color\":\"#2a3f5f\"},\"marker\":{\"line\":{\"color\":\"#E5ECF6\",\"width\":0.5},\"pattern\":{\"fillmode\":\"overlay\",\"size\":10,\"solidity\":0.2}},\"type\":\"bar\"}],\"scattergeo\":[{\"type\":\"scattergeo\",\"marker\":{\"colorbar\":{\"outlinewidth\":0,\"ticks\":\"\"}}}],\"scatterpolar\":[{\"type\":\"scatterpolar\",\"marker\":{\"colorbar\":{\"outlinewidth\":0,\"ticks\":\"\"}}}],\"histogram\":[{\"marker\":{\"pattern\":{\"fillmode\":\"overlay\",\"size\":10,\"solidity\":0.2}},\"type\":\"histogram\"}],\"scattergl\":[{\"type\":\"scattergl\",\"marker\":{\"colorbar\":{\"outlinewidth\":0,\"ticks\":\"\"}}}],\"scatter3d\":[{\"type\":\"scatter3d\",\"line\":{\"colorbar\":{\"outlinewidth\":0,\"ticks\":\"\"}},\"marker\":{\"colorbar\":{\"outlinewidth\":0,\"ticks\":\"\"}}}],\"scattermapbox\":[{\"type\":\"scattermapbox\",\"marker\":{\"colorbar\":{\"outlinewidth\":0,\"ticks\":\"\"}}}],\"scatterternary\":[{\"type\":\"scatterternary\",\"marker\":{\"colorbar\":{\"outlinewidth\":0,\"ticks\":\"\"}}}],\"scattercarpet\":[{\"type\":\"scattercarpet\",\"marker\":{\"colorbar\":{\"outlinewidth\":0,\"ticks\":\"\"}}}],\"carpet\":[{\"aaxis\":{\"endlinecolor\":\"#2a3f5f\",\"gridcolor\":\"white\",\"linecolor\":\"white\",\"minorgridcolor\":\"white\",\"startlinecolor\":\"#2a3f5f\"},\"baxis\":{\"endlinecolor\":\"#2a3f5f\",\"gridcolor\":\"white\",\"linecolor\":\"white\",\"minorgridcolor\":\"white\",\"startlinecolor\":\"#2a3f5f\"},\"type\":\"carpet\"}],\"table\":[{\"cells\":{\"fill\":{\"color\":\"#EBF0F8\"},\"line\":{\"color\":\"white\"}},\"header\":{\"fill\":{\"color\":\"#C8D4E3\"},\"line\":{\"color\":\"white\"}},\"type\":\"table\"}],\"barpolar\":[{\"marker\":{\"line\":{\"color\":\"#E5ECF6\",\"width\":0.5},\"pattern\":{\"fillmode\":\"overlay\",\"size\":10,\"solidity\":0.2}},\"type\":\"barpolar\"}],\"pie\":[{\"automargin\":true,\"type\":\"pie\"}]},\"layout\":{\"autotypenumbers\":\"strict\",\"colorway\":[\"#636efa\",\"#EF553B\",\"#00cc96\",\"#ab63fa\",\"#FFA15A\",\"#19d3f3\",\"#FF6692\",\"#B6E880\",\"#FF97FF\",\"#FECB52\"],\"font\":{\"color\":\"#2a3f5f\"},\"hovermode\":\"closest\",\"hoverlabel\":{\"align\":\"left\"},\"paper_bgcolor\":\"white\",\"plot_bgcolor\":\"#E5ECF6\",\"polar\":{\"bgcolor\":\"#E5ECF6\",\"angularaxis\":{\"gridcolor\":\"white\",\"linecolor\":\"white\",\"ticks\":\"\"},\"radialaxis\":{\"gridcolor\":\"white\",\"linecolor\":\"white\",\"ticks\":\"\"}},\"ternary\":{\"bgcolor\":\"#E5ECF6\",\"aaxis\":{\"gridcolor\":\"white\",\"linecolor\":\"white\",\"ticks\":\"\"},\"baxis\":{\"gridcolor\":\"white\",\"linecolor\":\"white\",\"ticks\":\"\"},\"caxis\":{\"gridcolor\":\"white\",\"linecolor\":\"white\",\"ticks\":\"\"}},\"coloraxis\":{\"colorbar\":{\"outlinewidth\":0,\"ticks\":\"\"}},\"colorscale\":{\"sequential\":[[0.0,\"#0d0887\"],[0.1111111111111111,\"#46039f\"],[0.2222222222222222,\"#7201a8\"],[0.3333333333333333,\"#9c179e\"],[0.4444444444444444,\"#bd3786\"],[0.5555555555555556,\"#d8576b\"],[0.6666666666666666,\"#ed7953\"],[0.7777777777777778,\"#fb9f3a\"],[0.8888888888888888,\"#fdca26\"],[1.0,\"#f0f921\"]],\"sequentialminus\":[[0.0,\"#0d0887\"],[0.1111111111111111,\"#46039f\"],[0.2222222222222222,\"#7201a8\"],[0.3333333333333333,\"#9c179e\"],[0.4444444444444444,\"#bd3786\"],[0.5555555555555556,\"#d8576b\"],[0.6666666666666666,\"#ed7953\"],[0.7777777777777778,\"#fb9f3a\"],[0.8888888888888888,\"#fdca26\"],[1.0,\"#f0f921\"]],\"diverging\":[[0,\"#8e0152\"],[0.1,\"#c51b7d\"],[0.2,\"#de77ae\"],[0.3,\"#f1b6da\"],[0.4,\"#fde0ef\"],[0.5,\"#f7f7f7\"],[0.6,\"#e6f5d0\"],[0.7,\"#b8e186\"],[0.8,\"#7fbc41\"],[0.9,\"#4d9221\"],[1,\"#276419\"]]},\"xaxis\":{\"gridcolor\":\"white\",\"linecolor\":\"white\",\"ticks\":\"\",\"title\":{\"standoff\":15},\"zerolinecolor\":\"white\",\"automargin\":true,\"zerolinewidth\":2},\"yaxis\":{\"gridcolor\":\"white\",\"linecolor\":\"white\",\"ticks\":\"\",\"title\":{\"standoff\":15},\"zerolinecolor\":\"white\",\"automargin\":true,\"zerolinewidth\":2},\"scene\":{\"xaxis\":{\"backgroundcolor\":\"#E5ECF6\",\"gridcolor\":\"white\",\"linecolor\":\"white\",\"showbackground\":true,\"ticks\":\"\",\"zerolinecolor\":\"white\",\"gridwidth\":2},\"yaxis\":{\"backgroundcolor\":\"#E5ECF6\",\"gridcolor\":\"white\",\"linecolor\":\"white\",\"showbackground\":true,\"ticks\":\"\",\"zerolinecolor\":\"white\",\"gridwidth\":2},\"zaxis\":{\"backgroundcolor\":\"#E5ECF6\",\"gridcolor\":\"white\",\"linecolor\":\"white\",\"showbackground\":true,\"ticks\":\"\",\"zerolinecolor\":\"white\",\"gridwidth\":2}},\"shapedefaults\":{\"line\":{\"color\":\"#2a3f5f\"}},\"annotationdefaults\":{\"arrowcolor\":\"#2a3f5f\",\"arrowhead\":0,\"arrowwidth\":1},\"geo\":{\"bgcolor\":\"white\",\"landcolor\":\"#E5ECF6\",\"subunitcolor\":\"white\",\"showland\":true,\"showlakes\":true,\"lakecolor\":\"white\"},\"title\":{\"x\":0.05},\"mapbox\":{\"style\":\"light\"}}},\"xaxis\":{\"anchor\":\"y\",\"domain\":[0.0,1.0],\"title\":{\"text\":\"Date\"},\"showgrid\":false},\"yaxis\":{\"anchor\":\"x\",\"domain\":[0.0,1.0],\"title\":{\"text\":\"value\"},\"showgrid\":false},\"legend\":{\"title\":{\"text\":\"Close Price\"},\"tracegroupgap\":0},\"margin\":{\"t\":60},\"title\":{\"text\":\"Comparison between original close price vs predicted close price\"},\"font\":{\"size\":15,\"color\":\"black\"},\"plot_bgcolor\":\"white\"},                        {\"responsive\": true}                    ).then(function(){\n",
              "                            \n",
              "var gd = document.getElementById('17177052-eaa5-44b0-b5d6-053642e6ea85');\n",
              "var x = new MutationObserver(function (mutations, observer) {{\n",
              "        var display = window.getComputedStyle(gd).display;\n",
              "        if (!display || display === 'none') {{\n",
              "            console.log([gd, 'removed!']);\n",
              "            Plotly.purge(gd);\n",
              "            observer.disconnect();\n",
              "        }}\n",
              "}});\n",
              "\n",
              "// Listen for the removal of the full notebook cells\n",
              "var notebookContainer = gd.closest('#notebook-container');\n",
              "if (notebookContainer) {{\n",
              "    x.observe(notebookContainer, {childList: true});\n",
              "}}\n",
              "\n",
              "// Listen for the clearing of the current output cell\n",
              "var outputEl = gd.closest('.output');\n",
              "if (outputEl) {{\n",
              "    x.observe(outputEl, {childList: true});\n",
              "}}\n",
              "\n",
              "                        })                };                            </script>        </div>\n",
              "</body>\n",
              "</html>"
            ]
          },
          "metadata": {}
        }
      ]
    },
    {
      "cell_type": "markdown",
      "source": [
        "#Calculating the different regression losses"
      ],
      "metadata": {
        "id": "GrhXIRoXXOix"
      }
    },
    {
      "cell_type": "markdown",
      "source": [
        "##Mean Poisson Deviance measures the difference between predicted and actual values in Poisson regression models for count data. Mean Gamma Deviance measures the difference in gamma regression models for positively skewed continuous variables. Both are negative log-likelihoods and lower values indicate better fit."
      ],
      "metadata": {
        "id": "jMJpIMm-a4sZ"
      }
    },
    {
      "cell_type": "code",
      "source": [
        "print(\"Train data MGD: \", mean_gamma_deviance(original_ytrain,train_predict))\n",
        "print(\"Test data MGD: \", mean_gamma_deviance(original_ytest, test_predict))"
      ],
      "metadata": {
        "colab": {
          "base_uri": "https://localhost:8080/"
        },
        "id": "nppDezARXEoX",
        "outputId": "edf4eeb3-2f2d-4824-eaf9-7955c00c674a"
      },
      "execution_count": 46,
      "outputs": [
        {
          "output_type": "stream",
          "name": "stdout",
          "text": [
            "Train data MGD:  0.00033150877007167597\n",
            "Test data MGD:  0.00029505075060468023\n"
          ]
        }
      ]
    },
    {
      "cell_type": "code",
      "source": [
        "print(\"Train data MPD: \", mean_poisson_deviance(original_ytrain, train_predict))\n",
        "print(\"Test data MPD: \", mean_poisson_deviance(original_ytest, test_predict))"
      ],
      "metadata": {
        "colab": {
          "base_uri": "https://localhost:8080/"
        },
        "id": "eHitjIwNXamy",
        "outputId": "95a0bb84-a907-4ddb-9599-3a31665b3d42"
      },
      "execution_count": 47,
      "outputs": [
        {
          "output_type": "stream",
          "name": "stdout",
          "text": [
            "Train data MPD:  0.04288624154413459\n",
            "Test data MPD:  0.039554291167628326\n"
          ]
        }
      ]
    },
    {
      "cell_type": "markdown",
      "source": [
        "#Prediction for the next 30 days "
      ],
      "metadata": {
        "id": "jcs7sXHbbozf"
      }
    },
    {
      "cell_type": "code",
      "source": [
        "x_input=test_data[len(test_data)-time_step-1:].reshape(1,-1)\n",
        "print(\"x_input.shape\",x_input.shape)\n",
        "print(\"x_input\",x_input)"
      ],
      "metadata": {
        "colab": {
          "base_uri": "https://localhost:8080/"
        },
        "id": "tCvn2JUEbxHi",
        "outputId": "e20ecf4d-ee9f-482b-998d-2b1c1afedcce"
      },
      "execution_count": 240,
      "outputs": [
        {
          "output_type": "stream",
          "name": "stdout",
          "text": [
            "x_input.shape (1, 16)\n",
            "x_input [[0.36064165 0.40948158 0.36121457 0.35634484 0.32870245 0.37997717\n",
            "  0.38556296 0.38928674 0.38370096 0.4060441  0.4038958  0.37897449\n",
            "  0.36737327 0.36536812 0.37138356 0.38040683]]\n"
          ]
        }
      ]
    },
    {
      "cell_type": "code",
      "source": [
        "temp_input=list(x_input)\n",
        "print(temp_input)"
      ],
      "metadata": {
        "colab": {
          "base_uri": "https://localhost:8080/"
        },
        "id": "2v7SwbFYb1DZ",
        "outputId": "67e9cc9c-f0ef-4784-ce44-98fda0fa0a7a"
      },
      "execution_count": 241,
      "outputs": [
        {
          "output_type": "stream",
          "name": "stdout",
          "text": [
            "[array([0.36064165, 0.40948158, 0.36121457, 0.35634484, 0.32870245,\n",
            "       0.37997717, 0.38556296, 0.38928674, 0.38370096, 0.4060441 ,\n",
            "       0.4038958 , 0.37897449, 0.36737327, 0.36536812, 0.37138356,\n",
            "       0.38040683])]\n"
          ]
        }
      ]
    },
    {
      "cell_type": "code",
      "source": [
        "temp_input=temp_input[0].tolist()\n",
        "len(temp_input)"
      ],
      "metadata": {
        "colab": {
          "base_uri": "https://localhost:8080/"
        },
        "id": "c4-xmKT8b6Bu",
        "outputId": "9a0fb3ae-2cc1-4241-e3ae-d263a1d3f95b"
      },
      "execution_count": 242,
      "outputs": [
        {
          "output_type": "execute_result",
          "data": {
            "text/plain": [
              "16"
            ]
          },
          "metadata": {},
          "execution_count": 242
        }
      ]
    },
    {
      "cell_type": "code",
      "source": [
        "temp_input"
      ],
      "metadata": {
        "colab": {
          "base_uri": "https://localhost:8080/"
        },
        "id": "E6fW82z2goJd",
        "outputId": "62517cb8-95ee-49f7-f5fa-4638401b39c4"
      },
      "execution_count": 243,
      "outputs": [
        {
          "output_type": "execute_result",
          "data": {
            "text/plain": [
              "[0.36064164995703263,\n",
              " 0.40948158120882283,\n",
              " 0.3612145660269266,\n",
              " 0.356344843884274,\n",
              " 0.32870244915497016,\n",
              " 0.3799771698653682,\n",
              " 0.385562961902034,\n",
              " 0.38928673732454877,\n",
              " 0.38370095961042683,\n",
              " 0.40604409911200245,\n",
              " 0.40389580349470067,\n",
              " 0.3789744915496993,\n",
              " 0.3673732741334861,\n",
              " 0.3653681180177599,\n",
              " 0.3713835577198512,\n",
              " 0.38040683185333735]"
            ]
          },
          "metadata": {},
          "execution_count": 243
        }
      ]
    },
    {
      "cell_type": "code",
      "source": [
        "time_step \n"
      ],
      "metadata": {
        "colab": {
          "base_uri": "https://localhost:8080/"
        },
        "id": "JQmHtdGeiYTl",
        "outputId": "92a1a33a-0950-4a16-c409-2b5f01c0f0b9"
      },
      "execution_count": 244,
      "outputs": [
        {
          "output_type": "execute_result",
          "data": {
            "text/plain": [
              "15"
            ]
          },
          "metadata": {},
          "execution_count": 244
        }
      ]
    },
    {
      "cell_type": "code",
      "source": [
        "lst_output = []\n",
        "n_steps = time_step\n",
        "i = 0\n",
        "pred_days = 30\n",
        "\n",
        "while i < time_step:\n",
        "    x_input = np.array(temp_input[1:])\n",
        "    x_input = x_input.reshape(1,-1)\n",
        "    x_input = x_input.reshape(1,n_steps,1)\n",
        "\n",
        "    y_pred = model.predict(x_input, verbose=0)\n",
        "    temp_input.extend(y_pred[0].tolist())\n",
        "    temp_input = temp_input[1:]\n",
        "    lst_output.extend(y_pred.tolist())\n",
        "    i += 1\n",
        "  \n",
        "else:\n",
        "    x_input = x_input.reshape((1,n_steps,1))\n",
        "    y_pred = model.predict(x_input, verbose=0)\n",
        "    temp_input.extend(y_pred[0].tolist())\n",
        "    lst_output.extend(y_pred[0].tolist())\n",
        "    i += 1\n",
        "    \n",
        "print(\"Output of predicted next days: \", len(lst_output))"
      ],
      "metadata": {
        "colab": {
          "base_uri": "https://localhost:8080/"
        },
        "id": "h_ffSIJQclvm",
        "outputId": "6b60c7b2-7c9c-4898-ac61-d59bff49711d"
      },
      "execution_count": 245,
      "outputs": [
        {
          "output_type": "stream",
          "name": "stdout",
          "text": [
            "Output of predicted next days:  16\n"
          ]
        }
      ]
    },
    {
      "cell_type": "code",
      "source": [
        "lst_output"
      ],
      "metadata": {
        "colab": {
          "base_uri": "https://localhost:8080/"
        },
        "id": "EBLdvxfIeAF6",
        "outputId": "b0bb8496-42be-49f3-e346-3d8255f6c382"
      },
      "execution_count": 246,
      "outputs": [
        {
          "output_type": "execute_result",
          "data": {
            "text/plain": [
              "[[0.3778318762779236],\n",
              " [0.37536418437957764],\n",
              " [0.37330377101898193],\n",
              " [0.37130874395370483],\n",
              " [0.3693203330039978],\n",
              " [0.3673545718193054],\n",
              " [0.36543136835098267],\n",
              " [0.36356213688850403],\n",
              " [0.3617519736289978],\n",
              " [0.36000221967697144],\n",
              " [0.3583129346370697],\n",
              " [0.35668328404426575],\n",
              " [0.3551119863986969],\n",
              " [0.3535972833633423],\n",
              " [0.3521372675895691],\n",
              " 0.3521372675895691]"
            ]
          },
          "metadata": {},
          "execution_count": 246
        }
      ]
    },
    {
      "cell_type": "markdown",
      "source": [
        "#Plotting the predicted data"
      ],
      "metadata": {
        "id": "r672VlPQj3iY"
      }
    },
    {
      "cell_type": "markdown",
      "source": [
        "##Here we will be plotting the last 15 days and the next predicted 30 days \n"
      ],
      "metadata": {
        "id": "9MQV8sIfkCvl"
      }
    },
    {
      "cell_type": "code",
      "source": [
        "last_days=np.arange(1,time_step+1)\n",
        "day_pred=np.arange(time_step+1,time_step+pred_days+1)\n",
        "print(last_days)\n",
        "print(day_pred)"
      ],
      "metadata": {
        "colab": {
          "base_uri": "https://localhost:8080/"
        },
        "id": "kDORB7FCj6ca",
        "outputId": "34f3f357-eaff-4de8-bf74-64abab922290"
      },
      "execution_count": 247,
      "outputs": [
        {
          "output_type": "stream",
          "name": "stdout",
          "text": [
            "[ 1  2  3  4  5  6  7  8  9 10 11 12 13 14 15]\n",
            "[16 17 18 19 20 21 22 23 24 25 26 27 28 29 30 31 32 33 34 35 36 37 38 39\n",
            " 40 41 42 43 44 45]\n"
          ]
        }
      ]
    },
    {
      "cell_type": "code",
      "source": [
        "len(last_days)"
      ],
      "metadata": {
        "colab": {
          "base_uri": "https://localhost:8080/"
        },
        "id": "PQTvHJY9A71T",
        "outputId": "f2b35623-4f4a-464f-a44a-c1cd0fe2bbd2"
      },
      "execution_count": 248,
      "outputs": [
        {
          "output_type": "execute_result",
          "data": {
            "text/plain": [
              "15"
            ]
          },
          "metadata": {},
          "execution_count": 248
        }
      ]
    },
    {
      "cell_type": "code",
      "source": [
        "len(day_pred)"
      ],
      "metadata": {
        "colab": {
          "base_uri": "https://localhost:8080/"
        },
        "id": "pFbBlV4LA_IA",
        "outputId": "6c30e0b4-6714-4a46-bb71-97d6e2d8e544"
      },
      "execution_count": 249,
      "outputs": [
        {
          "output_type": "execute_result",
          "data": {
            "text/plain": [
              "30"
            ]
          },
          "metadata": {},
          "execution_count": 249
        }
      ]
    },
    {
      "cell_type": "code",
      "source": [
        "#initialising an empty temporary matrix and then filling it with NaN values so that its non-empty , we will be filling it with the values of the stock prices wrt the dates of the month \n",
        "temp_matrix = np.empty((len(last_days)+pred_days+1,1))\n",
        "temp_matrix[:]=np.nan\n"
      ],
      "metadata": {
        "id": "bZJXFxKPkJD_"
      },
      "execution_count": 250,
      "outputs": []
    },
    {
      "cell_type": "code",
      "source": [
        "temp_matrix.shape\n"
      ],
      "metadata": {
        "colab": {
          "base_uri": "https://localhost:8080/"
        },
        "id": "T7PKGRUTkMcr",
        "outputId": "3b0e0e58-002b-447c-dc79-b4c11e40d8cc"
      },
      "execution_count": 251,
      "outputs": [
        {
          "output_type": "execute_result",
          "data": {
            "text/plain": [
              "(46, 1)"
            ]
          },
          "metadata": {},
          "execution_count": 251
        }
      ]
    },
    {
      "cell_type": "code",
      "source": [
        "temp_matrix = temp_matrix.reshape(1,-1).tolist()[0]"
      ],
      "metadata": {
        "id": "H-eigCZgkPtM"
      },
      "execution_count": 252,
      "outputs": []
    },
    {
      "cell_type": "code",
      "source": [
        "temp_matrix"
      ],
      "metadata": {
        "colab": {
          "base_uri": "https://localhost:8080/"
        },
        "id": "Lys1MfaXAzsv",
        "outputId": "98baa21d-b702-4bef-b521-64eb99a9601b"
      },
      "execution_count": 253,
      "outputs": [
        {
          "output_type": "execute_result",
          "data": {
            "text/plain": [
              "[nan,\n",
              " nan,\n",
              " nan,\n",
              " nan,\n",
              " nan,\n",
              " nan,\n",
              " nan,\n",
              " nan,\n",
              " nan,\n",
              " nan,\n",
              " nan,\n",
              " nan,\n",
              " nan,\n",
              " nan,\n",
              " nan,\n",
              " nan,\n",
              " nan,\n",
              " nan,\n",
              " nan,\n",
              " nan,\n",
              " nan,\n",
              " nan,\n",
              " nan,\n",
              " nan,\n",
              " nan,\n",
              " nan,\n",
              " nan,\n",
              " nan,\n",
              " nan,\n",
              " nan,\n",
              " nan,\n",
              " nan,\n",
              " nan,\n",
              " nan,\n",
              " nan,\n",
              " nan,\n",
              " nan,\n",
              " nan,\n",
              " nan,\n",
              " nan,\n",
              " nan,\n",
              " nan,\n",
              " nan,\n",
              " nan,\n",
              " nan,\n",
              " nan]"
            ]
          },
          "metadata": {},
          "execution_count": 253
        }
      ]
    },
    {
      "cell_type": "code",
      "source": [
        "len(temp_matrix)"
      ],
      "metadata": {
        "colab": {
          "base_uri": "https://localhost:8080/"
        },
        "id": "1FJy6DGsA25i",
        "outputId": "fe87920f-63de-41d2-bc9a-2655bda03e5e"
      },
      "execution_count": 254,
      "outputs": [
        {
          "output_type": "execute_result",
          "data": {
            "text/plain": [
              "46"
            ]
          },
          "metadata": {},
          "execution_count": 254
        }
      ]
    },
    {
      "cell_type": "code",
      "source": [
        "type(lst_output)\n"
      ],
      "metadata": {
        "colab": {
          "base_uri": "https://localhost:8080/"
        },
        "id": "6hjRO_-tkSQD",
        "outputId": "2ba5e893-2a88-4b2d-9461-cd4aa6148567"
      },
      "execution_count": 255,
      "outputs": [
        {
          "output_type": "execute_result",
          "data": {
            "text/plain": [
              "list"
            ]
          },
          "metadata": {},
          "execution_count": 255
        }
      ]
    },
    {
      "cell_type": "code",
      "source": [
        "type(lst_output[0])"
      ],
      "metadata": {
        "colab": {
          "base_uri": "https://localhost:8080/"
        },
        "id": "mm_gSxPOkXi7",
        "outputId": "dcd4dd70-529c-4b28-86ac-23a0622f4ce6"
      },
      "execution_count": 256,
      "outputs": [
        {
          "output_type": "execute_result",
          "data": {
            "text/plain": [
              "list"
            ]
          },
          "metadata": {},
          "execution_count": 256
        }
      ]
    },
    {
      "cell_type": "code",
      "source": [
        "last_original_days_value = temp_matrix\n",
        "\n",
        "next_predicted_days_value = temp_matrix"
      ],
      "metadata": {
        "id": "eq7MpsujkajY"
      },
      "execution_count": 257,
      "outputs": []
    },
    {
      "cell_type": "code",
      "source": [
        "len(last_original_days_value)"
      ],
      "metadata": {
        "colab": {
          "base_uri": "https://localhost:8080/"
        },
        "id": "8czbBfUY7Avg",
        "outputId": "9ed043fa-dffd-4e0b-8642-9cf4ef6feaae"
      },
      "execution_count": 258,
      "outputs": [
        {
          "output_type": "execute_result",
          "data": {
            "text/plain": [
              "46"
            ]
          },
          "metadata": {},
          "execution_count": 258
        }
      ]
    },
    {
      "cell_type": "code",
      "source": [
        "len(next_predicted_days_value)"
      ],
      "metadata": {
        "colab": {
          "base_uri": "https://localhost:8080/"
        },
        "id": "jR69Lk5z7J7A",
        "outputId": "55a886fb-a94e-4f98-884c-455231251531"
      },
      "execution_count": 259,
      "outputs": [
        {
          "output_type": "execute_result",
          "data": {
            "text/plain": [
              "46"
            ]
          },
          "metadata": {},
          "execution_count": 259
        }
      ]
    },
    {
      "cell_type": "code",
      "source": [
        "last_original_days_value[0:time_step+1] = stock_df_close1ly_original_gt[len(stock_df_close1ly_original_gt)-time_step:]['close'].tolist()"
      ],
      "metadata": {
        "id": "ThnKAOfvke6w"
      },
      "execution_count": 260,
      "outputs": []
    },
    {
      "cell_type": "code",
      "source": [
        "lst_output"
      ],
      "metadata": {
        "colab": {
          "base_uri": "https://localhost:8080/"
        },
        "id": "DwbwDV3QTYiM",
        "outputId": "4a0f1fd5-f3d3-43b8-9993-4e1b4beb6eb1"
      },
      "execution_count": 261,
      "outputs": [
        {
          "output_type": "execute_result",
          "data": {
            "text/plain": [
              "[[0.3778318762779236],\n",
              " [0.37536418437957764],\n",
              " [0.37330377101898193],\n",
              " [0.37130874395370483],\n",
              " [0.3693203330039978],\n",
              " [0.3673545718193054],\n",
              " [0.36543136835098267],\n",
              " [0.36356213688850403],\n",
              " [0.3617519736289978],\n",
              " [0.36000221967697144],\n",
              " [0.3583129346370697],\n",
              " [0.35668328404426575],\n",
              " [0.3551119863986969],\n",
              " [0.3535972833633423],\n",
              " [0.3521372675895691],\n",
              " 0.3521372675895691]"
            ]
          },
          "metadata": {},
          "execution_count": 261
        }
      ]
    },
    {
      "cell_type": "code",
      "source": [
        "next_predicted_days_value[time_step+1:] = scaler.inverse_transform(np.array(lst_output).reshape(-1,1)).reshape(1,-1).tolist()[0]\n"
      ],
      "metadata": {
        "colab": {
          "base_uri": "https://localhost:8080/",
          "height": 487
        },
        "id": "OZ-qzwGSSeyi",
        "outputId": "6d82ca11-11ac-46c0-8dba-2025d729dc5f"
      },
      "execution_count": 267,
      "outputs": [
        {
          "output_type": "stream",
          "name": "stderr",
          "text": [
            "<ipython-input-267-3174686a3731>:1: VisibleDeprecationWarning:\n",
            "\n",
            "Creating an ndarray from ragged nested sequences (which is a list-or-tuple of lists-or-tuples-or ndarrays with different lengths or shapes) is deprecated. If you meant to do this, you must specify 'dtype=object' when creating the ndarray.\n",
            "\n"
          ]
        },
        {
          "output_type": "error",
          "ename": "ValueError",
          "evalue": "ignored",
          "traceback": [
            "\u001b[0;31m---------------------------------------------------------------------------\u001b[0m",
            "\u001b[0;31mTypeError\u001b[0m                                 Traceback (most recent call last)",
            "\u001b[0;31mTypeError\u001b[0m: float() argument must be a string or a number, not 'list'",
            "\nThe above exception was the direct cause of the following exception:\n",
            "\u001b[0;31mValueError\u001b[0m                                Traceback (most recent call last)",
            "\u001b[0;32m<ipython-input-267-3174686a3731>\u001b[0m in \u001b[0;36m<cell line: 1>\u001b[0;34m()\u001b[0m\n\u001b[0;32m----> 1\u001b[0;31m \u001b[0mnext_predicted_days_value\u001b[0m\u001b[0;34m[\u001b[0m\u001b[0mtime_step\u001b[0m\u001b[0;34m+\u001b[0m\u001b[0;36m1\u001b[0m\u001b[0;34m:\u001b[0m\u001b[0;34m]\u001b[0m \u001b[0;34m=\u001b[0m \u001b[0mscaler\u001b[0m\u001b[0;34m.\u001b[0m\u001b[0minverse_transform\u001b[0m\u001b[0;34m(\u001b[0m\u001b[0mnp\u001b[0m\u001b[0;34m.\u001b[0m\u001b[0marray\u001b[0m\u001b[0;34m(\u001b[0m\u001b[0mlst_output\u001b[0m\u001b[0;34m)\u001b[0m\u001b[0;34m.\u001b[0m\u001b[0mreshape\u001b[0m\u001b[0;34m(\u001b[0m\u001b[0;34m-\u001b[0m\u001b[0;36m1\u001b[0m\u001b[0;34m,\u001b[0m\u001b[0;36m1\u001b[0m\u001b[0;34m)\u001b[0m\u001b[0;34m)\u001b[0m\u001b[0;34m.\u001b[0m\u001b[0mreshape\u001b[0m\u001b[0;34m(\u001b[0m\u001b[0;36m1\u001b[0m\u001b[0;34m,\u001b[0m\u001b[0;34m-\u001b[0m\u001b[0;36m1\u001b[0m\u001b[0;34m)\u001b[0m\u001b[0;34m.\u001b[0m\u001b[0mtolist\u001b[0m\u001b[0;34m(\u001b[0m\u001b[0;34m)\u001b[0m\u001b[0;34m\u001b[0m\u001b[0;34m\u001b[0m\u001b[0m\n\u001b[0m",
            "\u001b[0;32m/usr/local/lib/python3.9/dist-packages/sklearn/preprocessing/_data.py\u001b[0m in \u001b[0;36minverse_transform\u001b[0;34m(self, X)\u001b[0m\n\u001b[1;32m    535\u001b[0m         \u001b[0mcheck_is_fitted\u001b[0m\u001b[0;34m(\u001b[0m\u001b[0mself\u001b[0m\u001b[0;34m)\u001b[0m\u001b[0;34m\u001b[0m\u001b[0;34m\u001b[0m\u001b[0m\n\u001b[1;32m    536\u001b[0m \u001b[0;34m\u001b[0m\u001b[0m\n\u001b[0;32m--> 537\u001b[0;31m         X = check_array(\n\u001b[0m\u001b[1;32m    538\u001b[0m             \u001b[0mX\u001b[0m\u001b[0;34m,\u001b[0m \u001b[0mcopy\u001b[0m\u001b[0;34m=\u001b[0m\u001b[0mself\u001b[0m\u001b[0;34m.\u001b[0m\u001b[0mcopy\u001b[0m\u001b[0;34m,\u001b[0m \u001b[0mdtype\u001b[0m\u001b[0;34m=\u001b[0m\u001b[0mFLOAT_DTYPES\u001b[0m\u001b[0;34m,\u001b[0m \u001b[0mforce_all_finite\u001b[0m\u001b[0;34m=\u001b[0m\u001b[0;34m\"allow-nan\"\u001b[0m\u001b[0;34m\u001b[0m\u001b[0;34m\u001b[0m\u001b[0m\n\u001b[1;32m    539\u001b[0m         )\n",
            "\u001b[0;32m/usr/local/lib/python3.9/dist-packages/sklearn/utils/validation.py\u001b[0m in \u001b[0;36mcheck_array\u001b[0;34m(array, accept_sparse, accept_large_sparse, dtype, order, copy, force_all_finite, ensure_2d, allow_nd, ensure_min_samples, ensure_min_features, estimator, input_name)\u001b[0m\n\u001b[1;32m    877\u001b[0m                     \u001b[0marray\u001b[0m \u001b[0;34m=\u001b[0m \u001b[0mxp\u001b[0m\u001b[0;34m.\u001b[0m\u001b[0mastype\u001b[0m\u001b[0;34m(\u001b[0m\u001b[0marray\u001b[0m\u001b[0;34m,\u001b[0m \u001b[0mdtype\u001b[0m\u001b[0;34m,\u001b[0m \u001b[0mcopy\u001b[0m\u001b[0;34m=\u001b[0m\u001b[0;32mFalse\u001b[0m\u001b[0;34m)\u001b[0m\u001b[0;34m\u001b[0m\u001b[0;34m\u001b[0m\u001b[0m\n\u001b[1;32m    878\u001b[0m                 \u001b[0;32melse\u001b[0m\u001b[0;34m:\u001b[0m\u001b[0;34m\u001b[0m\u001b[0;34m\u001b[0m\u001b[0m\n\u001b[0;32m--> 879\u001b[0;31m                     \u001b[0marray\u001b[0m \u001b[0;34m=\u001b[0m \u001b[0m_asarray_with_order\u001b[0m\u001b[0;34m(\u001b[0m\u001b[0marray\u001b[0m\u001b[0;34m,\u001b[0m \u001b[0morder\u001b[0m\u001b[0;34m=\u001b[0m\u001b[0morder\u001b[0m\u001b[0;34m,\u001b[0m \u001b[0mdtype\u001b[0m\u001b[0;34m=\u001b[0m\u001b[0mdtype\u001b[0m\u001b[0;34m,\u001b[0m \u001b[0mxp\u001b[0m\u001b[0;34m=\u001b[0m\u001b[0mxp\u001b[0m\u001b[0;34m)\u001b[0m\u001b[0;34m\u001b[0m\u001b[0;34m\u001b[0m\u001b[0m\n\u001b[0m\u001b[1;32m    880\u001b[0m             \u001b[0;32mexcept\u001b[0m \u001b[0mComplexWarning\u001b[0m \u001b[0;32mas\u001b[0m \u001b[0mcomplex_warning\u001b[0m\u001b[0;34m:\u001b[0m\u001b[0;34m\u001b[0m\u001b[0;34m\u001b[0m\u001b[0m\n\u001b[1;32m    881\u001b[0m                 raise ValueError(\n",
            "\u001b[0;32m/usr/local/lib/python3.9/dist-packages/sklearn/utils/_array_api.py\u001b[0m in \u001b[0;36m_asarray_with_order\u001b[0;34m(array, dtype, order, copy, xp)\u001b[0m\n\u001b[1;32m    183\u001b[0m     \u001b[0;32mif\u001b[0m \u001b[0mxp\u001b[0m\u001b[0;34m.\u001b[0m\u001b[0m__name__\u001b[0m \u001b[0;32min\u001b[0m \u001b[0;34m{\u001b[0m\u001b[0;34m\"numpy\"\u001b[0m\u001b[0;34m,\u001b[0m \u001b[0;34m\"numpy.array_api\"\u001b[0m\u001b[0;34m}\u001b[0m\u001b[0;34m:\u001b[0m\u001b[0;34m\u001b[0m\u001b[0;34m\u001b[0m\u001b[0m\n\u001b[1;32m    184\u001b[0m         \u001b[0;31m# Use NumPy API to support order\u001b[0m\u001b[0;34m\u001b[0m\u001b[0;34m\u001b[0m\u001b[0m\n\u001b[0;32m--> 185\u001b[0;31m         \u001b[0marray\u001b[0m \u001b[0;34m=\u001b[0m \u001b[0mnumpy\u001b[0m\u001b[0;34m.\u001b[0m\u001b[0masarray\u001b[0m\u001b[0;34m(\u001b[0m\u001b[0marray\u001b[0m\u001b[0;34m,\u001b[0m \u001b[0morder\u001b[0m\u001b[0;34m=\u001b[0m\u001b[0morder\u001b[0m\u001b[0;34m,\u001b[0m \u001b[0mdtype\u001b[0m\u001b[0;34m=\u001b[0m\u001b[0mdtype\u001b[0m\u001b[0;34m)\u001b[0m\u001b[0;34m\u001b[0m\u001b[0;34m\u001b[0m\u001b[0m\n\u001b[0m\u001b[1;32m    186\u001b[0m         \u001b[0;32mreturn\u001b[0m \u001b[0mxp\u001b[0m\u001b[0;34m.\u001b[0m\u001b[0masarray\u001b[0m\u001b[0;34m(\u001b[0m\u001b[0marray\u001b[0m\u001b[0;34m,\u001b[0m \u001b[0mcopy\u001b[0m\u001b[0;34m=\u001b[0m\u001b[0mcopy\u001b[0m\u001b[0;34m)\u001b[0m\u001b[0;34m\u001b[0m\u001b[0;34m\u001b[0m\u001b[0m\n\u001b[1;32m    187\u001b[0m     \u001b[0;32melse\u001b[0m\u001b[0;34m:\u001b[0m\u001b[0;34m\u001b[0m\u001b[0;34m\u001b[0m\u001b[0m\n",
            "\u001b[0;31mValueError\u001b[0m: setting an array element with a sequence."
          ]
        }
      ]
    },
    {
      "cell_type": "code",
      "source": [
        "last_original_days_value[0:time_step+1]"
      ],
      "metadata": {
        "colab": {
          "base_uri": "https://localhost:8080/"
        },
        "id": "8rNLRIqISBJJ",
        "outputId": "dcc94388-f597-43c2-9f6c-29ab338ba26e"
      },
      "execution_count": 204,
      "outputs": [
        {
          "output_type": "execute_result",
          "data": {
            "text/plain": [
              "[130.550003,\n",
              " 127.18,\n",
              " 126.839996,\n",
              " 124.910004,\n",
              " 128.490005,\n",
              " 128.880005,\n",
              " 129.139999,\n",
              " 128.75,\n",
              " 130.309998,\n",
              " 130.160004,\n",
              " 128.419998,\n",
              " 127.610001,\n",
              " 127.470001,\n",
              " 127.889999,\n",
              " 128.520004,\n",
              " 128.16792635338211]"
            ]
          },
          "metadata": {},
          "execution_count": 204
        }
      ]
    },
    {
      "cell_type": "code",
      "source": [
        "next_predicted_days_value[time_step+2:]"
      ],
      "metadata": {
        "colab": {
          "base_uri": "https://localhost:8080/"
        },
        "id": "jPw1vaKNklmR",
        "outputId": "8ddc51af-5da8-457f-c4c7-46a16762380c"
      },
      "execution_count": 206,
      "outputs": [
        {
          "output_type": "execute_result",
          "data": {
            "text/plain": [
              "[]"
            ]
          },
          "metadata": {},
          "execution_count": 206
        }
      ]
    },
    {
      "cell_type": "code",
      "source": [
        "new_pred_plot = pd.DataFrame({\n",
        "    'last_original_days_value':last_original_days_value,\n",
        "    'next_predicted_days_value':next_predicted_days_value\n",
        "})"
      ],
      "metadata": {
        "id": "gD51kQWU42xf"
      },
      "execution_count": 196,
      "outputs": []
    },
    {
      "cell_type": "code",
      "source": [
        "new_pred_plot.tail()"
      ],
      "metadata": {
        "colab": {
          "base_uri": "https://localhost:8080/",
          "height": 206
        },
        "id": "HehgmLfQ43ZI",
        "outputId": "f2ec2a60-b4b2-4fc1-d1c8-4a09e95fa6d9"
      },
      "execution_count": 197,
      "outputs": [
        {
          "output_type": "execute_result",
          "data": {
            "text/plain": [
              "    last_original_days_value  next_predicted_days_value\n",
              "12                127.470001                 127.470001\n",
              "13                127.889999                 127.889999\n",
              "14                128.520004                 128.520004\n",
              "15                       NaN                        NaN\n",
              "16                128.167926                 128.167926"
            ],
            "text/html": [
              "\n",
              "  <div id=\"df-cb7fa936-4653-46e5-8cae-2b963d6e37f2\">\n",
              "    <div class=\"colab-df-container\">\n",
              "      <div>\n",
              "<style scoped>\n",
              "    .dataframe tbody tr th:only-of-type {\n",
              "        vertical-align: middle;\n",
              "    }\n",
              "\n",
              "    .dataframe tbody tr th {\n",
              "        vertical-align: top;\n",
              "    }\n",
              "\n",
              "    .dataframe thead th {\n",
              "        text-align: right;\n",
              "    }\n",
              "</style>\n",
              "<table border=\"1\" class=\"dataframe\">\n",
              "  <thead>\n",
              "    <tr style=\"text-align: right;\">\n",
              "      <th></th>\n",
              "      <th>last_original_days_value</th>\n",
              "      <th>next_predicted_days_value</th>\n",
              "    </tr>\n",
              "  </thead>\n",
              "  <tbody>\n",
              "    <tr>\n",
              "      <th>12</th>\n",
              "      <td>127.470001</td>\n",
              "      <td>127.470001</td>\n",
              "    </tr>\n",
              "    <tr>\n",
              "      <th>13</th>\n",
              "      <td>127.889999</td>\n",
              "      <td>127.889999</td>\n",
              "    </tr>\n",
              "    <tr>\n",
              "      <th>14</th>\n",
              "      <td>128.520004</td>\n",
              "      <td>128.520004</td>\n",
              "    </tr>\n",
              "    <tr>\n",
              "      <th>15</th>\n",
              "      <td>NaN</td>\n",
              "      <td>NaN</td>\n",
              "    </tr>\n",
              "    <tr>\n",
              "      <th>16</th>\n",
              "      <td>128.167926</td>\n",
              "      <td>128.167926</td>\n",
              "    </tr>\n",
              "  </tbody>\n",
              "</table>\n",
              "</div>\n",
              "      <button class=\"colab-df-convert\" onclick=\"convertToInteractive('df-cb7fa936-4653-46e5-8cae-2b963d6e37f2')\"\n",
              "              title=\"Convert this dataframe to an interactive table.\"\n",
              "              style=\"display:none;\">\n",
              "        \n",
              "  <svg xmlns=\"http://www.w3.org/2000/svg\" height=\"24px\"viewBox=\"0 0 24 24\"\n",
              "       width=\"24px\">\n",
              "    <path d=\"M0 0h24v24H0V0z\" fill=\"none\"/>\n",
              "    <path d=\"M18.56 5.44l.94 2.06.94-2.06 2.06-.94-2.06-.94-.94-2.06-.94 2.06-2.06.94zm-11 1L8.5 8.5l.94-2.06 2.06-.94-2.06-.94L8.5 2.5l-.94 2.06-2.06.94zm10 10l.94 2.06.94-2.06 2.06-.94-2.06-.94-.94-2.06-.94 2.06-2.06.94z\"/><path d=\"M17.41 7.96l-1.37-1.37c-.4-.4-.92-.59-1.43-.59-.52 0-1.04.2-1.43.59L10.3 9.45l-7.72 7.72c-.78.78-.78 2.05 0 2.83L4 21.41c.39.39.9.59 1.41.59.51 0 1.02-.2 1.41-.59l7.78-7.78 2.81-2.81c.8-.78.8-2.07 0-2.86zM5.41 20L4 18.59l7.72-7.72 1.47 1.35L5.41 20z\"/>\n",
              "  </svg>\n",
              "      </button>\n",
              "      \n",
              "  <style>\n",
              "    .colab-df-container {\n",
              "      display:flex;\n",
              "      flex-wrap:wrap;\n",
              "      gap: 12px;\n",
              "    }\n",
              "\n",
              "    .colab-df-convert {\n",
              "      background-color: #E8F0FE;\n",
              "      border: none;\n",
              "      border-radius: 50%;\n",
              "      cursor: pointer;\n",
              "      display: none;\n",
              "      fill: #1967D2;\n",
              "      height: 32px;\n",
              "      padding: 0 0 0 0;\n",
              "      width: 32px;\n",
              "    }\n",
              "\n",
              "    .colab-df-convert:hover {\n",
              "      background-color: #E2EBFA;\n",
              "      box-shadow: 0px 1px 2px rgba(60, 64, 67, 0.3), 0px 1px 3px 1px rgba(60, 64, 67, 0.15);\n",
              "      fill: #174EA6;\n",
              "    }\n",
              "\n",
              "    [theme=dark] .colab-df-convert {\n",
              "      background-color: #3B4455;\n",
              "      fill: #D2E3FC;\n",
              "    }\n",
              "\n",
              "    [theme=dark] .colab-df-convert:hover {\n",
              "      background-color: #434B5C;\n",
              "      box-shadow: 0px 1px 3px 1px rgba(0, 0, 0, 0.15);\n",
              "      filter: drop-shadow(0px 1px 2px rgba(0, 0, 0, 0.3));\n",
              "      fill: #FFFFFF;\n",
              "    }\n",
              "  </style>\n",
              "\n",
              "      <script>\n",
              "        const buttonEl =\n",
              "          document.querySelector('#df-cb7fa936-4653-46e5-8cae-2b963d6e37f2 button.colab-df-convert');\n",
              "        buttonEl.style.display =\n",
              "          google.colab.kernel.accessAllowed ? 'block' : 'none';\n",
              "\n",
              "        async function convertToInteractive(key) {\n",
              "          const element = document.querySelector('#df-cb7fa936-4653-46e5-8cae-2b963d6e37f2');\n",
              "          const dataTable =\n",
              "            await google.colab.kernel.invokeFunction('convertToInteractive',\n",
              "                                                     [key], {});\n",
              "          if (!dataTable) return;\n",
              "\n",
              "          const docLinkHtml = 'Like what you see? Visit the ' +\n",
              "            '<a target=\"_blank\" href=https://colab.research.google.com/notebooks/data_table.ipynb>data table notebook</a>'\n",
              "            + ' to learn more about interactive tables.';\n",
              "          element.innerHTML = '';\n",
              "          dataTable['output_type'] = 'display_data';\n",
              "          await google.colab.output.renderOutput(dataTable, element);\n",
              "          const docLink = document.createElement('div');\n",
              "          docLink.innerHTML = docLinkHtml;\n",
              "          element.appendChild(docLink);\n",
              "        }\n",
              "      </script>\n",
              "    </div>\n",
              "  </div>\n",
              "  "
            ]
          },
          "metadata": {},
          "execution_count": 197
        }
      ]
    },
    {
      "cell_type": "code",
      "source": [
        "new_pred_plot.shape"
      ],
      "metadata": {
        "colab": {
          "base_uri": "https://localhost:8080/"
        },
        "id": "UyBjKzka447Q",
        "outputId": "6847f92b-b668-43ba-f874-2946f5753188"
      },
      "execution_count": 198,
      "outputs": [
        {
          "output_type": "execute_result",
          "data": {
            "text/plain": [
              "(17, 2)"
            ]
          },
          "metadata": {},
          "execution_count": 198
        }
      ]
    },
    {
      "cell_type": "code",
      "source": [
        "names = cycle(['Last 15 days close price', 'Predicted next 30 days close price'])\n",
        "fig = px.line(new_pred_plot,x=new_pred_plot.index,y=[new_pred_plot['last_original_days_value'],new_pred_plot['next_predicted_days_value']],\n",
        "                                                     labels={'value':\"Stock Price\",\"index\":\"Timestamp\"})\n",
        "fig.update_layout(title_text='Compare last 15 days vs next 30 days',plot_bgcolor='white',font_color='black',legend_title_text='Close Price')\n",
        "fig.for_each_trace(lambda t: t.update(visible=True,name=next(names)))\n",
        "fig.update_xaxes(showgrid=False)\n",
        "fig.update_yaxes(showgrid=False)\n",
        "fig.show()"
      ],
      "metadata": {
        "colab": {
          "base_uri": "https://localhost:8080/",
          "height": 542
        },
        "id": "c0VYHtrB5SZa",
        "outputId": "baa52481-166e-4a55-a3bd-e43b2df4ce6c"
      },
      "execution_count": 199,
      "outputs": [
        {
          "output_type": "display_data",
          "data": {
            "text/html": [
              "<html>\n",
              "<head><meta charset=\"utf-8\" /></head>\n",
              "<body>\n",
              "    <div>            <script src=\"https://cdnjs.cloudflare.com/ajax/libs/mathjax/2.7.5/MathJax.js?config=TeX-AMS-MML_SVG\"></script><script type=\"text/javascript\">if (window.MathJax && window.MathJax.Hub && window.MathJax.Hub.Config) {window.MathJax.Hub.Config({SVG: {font: \"STIX-Web\"}});}</script>                <script type=\"text/javascript\">window.PlotlyConfig = {MathJaxConfig: 'local'};</script>\n",
              "        <script src=\"https://cdn.plot.ly/plotly-2.18.2.min.js\"></script>                <div id=\"906963a5-d486-411f-9695-463825ab7377\" class=\"plotly-graph-div\" style=\"height:525px; width:100%;\"></div>            <script type=\"text/javascript\">                                    window.PLOTLYENV=window.PLOTLYENV || {};                                    if (document.getElementById(\"906963a5-d486-411f-9695-463825ab7377\")) {                    Plotly.newPlot(                        \"906963a5-d486-411f-9695-463825ab7377\",                        [{\"hovertemplate\":\"variable=last_original_days_value<br>Timestamp=%{x}<br>Stock Price=%{y}<extra></extra>\",\"legendgroup\":\"last_original_days_value\",\"line\":{\"color\":\"#636efa\",\"dash\":\"solid\"},\"marker\":{\"symbol\":\"circle\"},\"mode\":\"lines\",\"name\":\"Last 15 days close price\",\"orientation\":\"v\",\"showlegend\":true,\"x\":[0,1,2,3,4,5,6,7,8,9,10,11,12,13,14,15,16],\"xaxis\":\"x\",\"y\":[130.550003,127.18,126.839996,124.910004,128.490005,128.880005,129.139999,128.75,130.309998,130.160004,128.419998,127.610001,127.470001,127.889999,128.520004,null,128.16792635338211],\"yaxis\":\"y\",\"type\":\"scatter\",\"visible\":true},{\"hovertemplate\":\"variable=next_predicted_days_value<br>Timestamp=%{x}<br>Stock Price=%{y}<extra></extra>\",\"legendgroup\":\"next_predicted_days_value\",\"line\":{\"color\":\"#EF553B\",\"dash\":\"solid\"},\"marker\":{\"symbol\":\"circle\"},\"mode\":\"lines\",\"name\":\"Predicted next 30 days close price\",\"orientation\":\"v\",\"showlegend\":true,\"x\":[0,1,2,3,4,5,6,7,8,9,10,11,12,13,14,15,16],\"xaxis\":\"x\",\"y\":[130.550003,127.18,126.839996,124.910004,128.490005,128.880005,129.139999,128.75,130.309998,130.160004,128.419998,127.610001,127.470001,127.889999,128.520004,null,128.16792635338211],\"yaxis\":\"y\",\"type\":\"scatter\",\"visible\":true}],                        {\"template\":{\"data\":{\"histogram2dcontour\":[{\"type\":\"histogram2dcontour\",\"colorbar\":{\"outlinewidth\":0,\"ticks\":\"\"},\"colorscale\":[[0.0,\"#0d0887\"],[0.1111111111111111,\"#46039f\"],[0.2222222222222222,\"#7201a8\"],[0.3333333333333333,\"#9c179e\"],[0.4444444444444444,\"#bd3786\"],[0.5555555555555556,\"#d8576b\"],[0.6666666666666666,\"#ed7953\"],[0.7777777777777778,\"#fb9f3a\"],[0.8888888888888888,\"#fdca26\"],[1.0,\"#f0f921\"]]}],\"choropleth\":[{\"type\":\"choropleth\",\"colorbar\":{\"outlinewidth\":0,\"ticks\":\"\"}}],\"histogram2d\":[{\"type\":\"histogram2d\",\"colorbar\":{\"outlinewidth\":0,\"ticks\":\"\"},\"colorscale\":[[0.0,\"#0d0887\"],[0.1111111111111111,\"#46039f\"],[0.2222222222222222,\"#7201a8\"],[0.3333333333333333,\"#9c179e\"],[0.4444444444444444,\"#bd3786\"],[0.5555555555555556,\"#d8576b\"],[0.6666666666666666,\"#ed7953\"],[0.7777777777777778,\"#fb9f3a\"],[0.8888888888888888,\"#fdca26\"],[1.0,\"#f0f921\"]]}],\"heatmap\":[{\"type\":\"heatmap\",\"colorbar\":{\"outlinewidth\":0,\"ticks\":\"\"},\"colorscale\":[[0.0,\"#0d0887\"],[0.1111111111111111,\"#46039f\"],[0.2222222222222222,\"#7201a8\"],[0.3333333333333333,\"#9c179e\"],[0.4444444444444444,\"#bd3786\"],[0.5555555555555556,\"#d8576b\"],[0.6666666666666666,\"#ed7953\"],[0.7777777777777778,\"#fb9f3a\"],[0.8888888888888888,\"#fdca26\"],[1.0,\"#f0f921\"]]}],\"heatmapgl\":[{\"type\":\"heatmapgl\",\"colorbar\":{\"outlinewidth\":0,\"ticks\":\"\"},\"colorscale\":[[0.0,\"#0d0887\"],[0.1111111111111111,\"#46039f\"],[0.2222222222222222,\"#7201a8\"],[0.3333333333333333,\"#9c179e\"],[0.4444444444444444,\"#bd3786\"],[0.5555555555555556,\"#d8576b\"],[0.6666666666666666,\"#ed7953\"],[0.7777777777777778,\"#fb9f3a\"],[0.8888888888888888,\"#fdca26\"],[1.0,\"#f0f921\"]]}],\"contourcarpet\":[{\"type\":\"contourcarpet\",\"colorbar\":{\"outlinewidth\":0,\"ticks\":\"\"}}],\"contour\":[{\"type\":\"contour\",\"colorbar\":{\"outlinewidth\":0,\"ticks\":\"\"},\"colorscale\":[[0.0,\"#0d0887\"],[0.1111111111111111,\"#46039f\"],[0.2222222222222222,\"#7201a8\"],[0.3333333333333333,\"#9c179e\"],[0.4444444444444444,\"#bd3786\"],[0.5555555555555556,\"#d8576b\"],[0.6666666666666666,\"#ed7953\"],[0.7777777777777778,\"#fb9f3a\"],[0.8888888888888888,\"#fdca26\"],[1.0,\"#f0f921\"]]}],\"surface\":[{\"type\":\"surface\",\"colorbar\":{\"outlinewidth\":0,\"ticks\":\"\"},\"colorscale\":[[0.0,\"#0d0887\"],[0.1111111111111111,\"#46039f\"],[0.2222222222222222,\"#7201a8\"],[0.3333333333333333,\"#9c179e\"],[0.4444444444444444,\"#bd3786\"],[0.5555555555555556,\"#d8576b\"],[0.6666666666666666,\"#ed7953\"],[0.7777777777777778,\"#fb9f3a\"],[0.8888888888888888,\"#fdca26\"],[1.0,\"#f0f921\"]]}],\"mesh3d\":[{\"type\":\"mesh3d\",\"colorbar\":{\"outlinewidth\":0,\"ticks\":\"\"}}],\"scatter\":[{\"fillpattern\":{\"fillmode\":\"overlay\",\"size\":10,\"solidity\":0.2},\"type\":\"scatter\"}],\"parcoords\":[{\"type\":\"parcoords\",\"line\":{\"colorbar\":{\"outlinewidth\":0,\"ticks\":\"\"}}}],\"scatterpolargl\":[{\"type\":\"scatterpolargl\",\"marker\":{\"colorbar\":{\"outlinewidth\":0,\"ticks\":\"\"}}}],\"bar\":[{\"error_x\":{\"color\":\"#2a3f5f\"},\"error_y\":{\"color\":\"#2a3f5f\"},\"marker\":{\"line\":{\"color\":\"#E5ECF6\",\"width\":0.5},\"pattern\":{\"fillmode\":\"overlay\",\"size\":10,\"solidity\":0.2}},\"type\":\"bar\"}],\"scattergeo\":[{\"type\":\"scattergeo\",\"marker\":{\"colorbar\":{\"outlinewidth\":0,\"ticks\":\"\"}}}],\"scatterpolar\":[{\"type\":\"scatterpolar\",\"marker\":{\"colorbar\":{\"outlinewidth\":0,\"ticks\":\"\"}}}],\"histogram\":[{\"marker\":{\"pattern\":{\"fillmode\":\"overlay\",\"size\":10,\"solidity\":0.2}},\"type\":\"histogram\"}],\"scattergl\":[{\"type\":\"scattergl\",\"marker\":{\"colorbar\":{\"outlinewidth\":0,\"ticks\":\"\"}}}],\"scatter3d\":[{\"type\":\"scatter3d\",\"line\":{\"colorbar\":{\"outlinewidth\":0,\"ticks\":\"\"}},\"marker\":{\"colorbar\":{\"outlinewidth\":0,\"ticks\":\"\"}}}],\"scattermapbox\":[{\"type\":\"scattermapbox\",\"marker\":{\"colorbar\":{\"outlinewidth\":0,\"ticks\":\"\"}}}],\"scatterternary\":[{\"type\":\"scatterternary\",\"marker\":{\"colorbar\":{\"outlinewidth\":0,\"ticks\":\"\"}}}],\"scattercarpet\":[{\"type\":\"scattercarpet\",\"marker\":{\"colorbar\":{\"outlinewidth\":0,\"ticks\":\"\"}}}],\"carpet\":[{\"aaxis\":{\"endlinecolor\":\"#2a3f5f\",\"gridcolor\":\"white\",\"linecolor\":\"white\",\"minorgridcolor\":\"white\",\"startlinecolor\":\"#2a3f5f\"},\"baxis\":{\"endlinecolor\":\"#2a3f5f\",\"gridcolor\":\"white\",\"linecolor\":\"white\",\"minorgridcolor\":\"white\",\"startlinecolor\":\"#2a3f5f\"},\"type\":\"carpet\"}],\"table\":[{\"cells\":{\"fill\":{\"color\":\"#EBF0F8\"},\"line\":{\"color\":\"white\"}},\"header\":{\"fill\":{\"color\":\"#C8D4E3\"},\"line\":{\"color\":\"white\"}},\"type\":\"table\"}],\"barpolar\":[{\"marker\":{\"line\":{\"color\":\"#E5ECF6\",\"width\":0.5},\"pattern\":{\"fillmode\":\"overlay\",\"size\":10,\"solidity\":0.2}},\"type\":\"barpolar\"}],\"pie\":[{\"automargin\":true,\"type\":\"pie\"}]},\"layout\":{\"autotypenumbers\":\"strict\",\"colorway\":[\"#636efa\",\"#EF553B\",\"#00cc96\",\"#ab63fa\",\"#FFA15A\",\"#19d3f3\",\"#FF6692\",\"#B6E880\",\"#FF97FF\",\"#FECB52\"],\"font\":{\"color\":\"#2a3f5f\"},\"hovermode\":\"closest\",\"hoverlabel\":{\"align\":\"left\"},\"paper_bgcolor\":\"white\",\"plot_bgcolor\":\"#E5ECF6\",\"polar\":{\"bgcolor\":\"#E5ECF6\",\"angularaxis\":{\"gridcolor\":\"white\",\"linecolor\":\"white\",\"ticks\":\"\"},\"radialaxis\":{\"gridcolor\":\"white\",\"linecolor\":\"white\",\"ticks\":\"\"}},\"ternary\":{\"bgcolor\":\"#E5ECF6\",\"aaxis\":{\"gridcolor\":\"white\",\"linecolor\":\"white\",\"ticks\":\"\"},\"baxis\":{\"gridcolor\":\"white\",\"linecolor\":\"white\",\"ticks\":\"\"},\"caxis\":{\"gridcolor\":\"white\",\"linecolor\":\"white\",\"ticks\":\"\"}},\"coloraxis\":{\"colorbar\":{\"outlinewidth\":0,\"ticks\":\"\"}},\"colorscale\":{\"sequential\":[[0.0,\"#0d0887\"],[0.1111111111111111,\"#46039f\"],[0.2222222222222222,\"#7201a8\"],[0.3333333333333333,\"#9c179e\"],[0.4444444444444444,\"#bd3786\"],[0.5555555555555556,\"#d8576b\"],[0.6666666666666666,\"#ed7953\"],[0.7777777777777778,\"#fb9f3a\"],[0.8888888888888888,\"#fdca26\"],[1.0,\"#f0f921\"]],\"sequentialminus\":[[0.0,\"#0d0887\"],[0.1111111111111111,\"#46039f\"],[0.2222222222222222,\"#7201a8\"],[0.3333333333333333,\"#9c179e\"],[0.4444444444444444,\"#bd3786\"],[0.5555555555555556,\"#d8576b\"],[0.6666666666666666,\"#ed7953\"],[0.7777777777777778,\"#fb9f3a\"],[0.8888888888888888,\"#fdca26\"],[1.0,\"#f0f921\"]],\"diverging\":[[0,\"#8e0152\"],[0.1,\"#c51b7d\"],[0.2,\"#de77ae\"],[0.3,\"#f1b6da\"],[0.4,\"#fde0ef\"],[0.5,\"#f7f7f7\"],[0.6,\"#e6f5d0\"],[0.7,\"#b8e186\"],[0.8,\"#7fbc41\"],[0.9,\"#4d9221\"],[1,\"#276419\"]]},\"xaxis\":{\"gridcolor\":\"white\",\"linecolor\":\"white\",\"ticks\":\"\",\"title\":{\"standoff\":15},\"zerolinecolor\":\"white\",\"automargin\":true,\"zerolinewidth\":2},\"yaxis\":{\"gridcolor\":\"white\",\"linecolor\":\"white\",\"ticks\":\"\",\"title\":{\"standoff\":15},\"zerolinecolor\":\"white\",\"automargin\":true,\"zerolinewidth\":2},\"scene\":{\"xaxis\":{\"backgroundcolor\":\"#E5ECF6\",\"gridcolor\":\"white\",\"linecolor\":\"white\",\"showbackground\":true,\"ticks\":\"\",\"zerolinecolor\":\"white\",\"gridwidth\":2},\"yaxis\":{\"backgroundcolor\":\"#E5ECF6\",\"gridcolor\":\"white\",\"linecolor\":\"white\",\"showbackground\":true,\"ticks\":\"\",\"zerolinecolor\":\"white\",\"gridwidth\":2},\"zaxis\":{\"backgroundcolor\":\"#E5ECF6\",\"gridcolor\":\"white\",\"linecolor\":\"white\",\"showbackground\":true,\"ticks\":\"\",\"zerolinecolor\":\"white\",\"gridwidth\":2}},\"shapedefaults\":{\"line\":{\"color\":\"#2a3f5f\"}},\"annotationdefaults\":{\"arrowcolor\":\"#2a3f5f\",\"arrowhead\":0,\"arrowwidth\":1},\"geo\":{\"bgcolor\":\"white\",\"landcolor\":\"#E5ECF6\",\"subunitcolor\":\"white\",\"showland\":true,\"showlakes\":true,\"lakecolor\":\"white\"},\"title\":{\"x\":0.05},\"mapbox\":{\"style\":\"light\"}}},\"xaxis\":{\"anchor\":\"y\",\"domain\":[0.0,1.0],\"title\":{\"text\":\"Timestamp\"},\"showgrid\":false},\"yaxis\":{\"anchor\":\"x\",\"domain\":[0.0,1.0],\"title\":{\"text\":\"Stock Price\"},\"showgrid\":false},\"legend\":{\"title\":{\"text\":\"Close Price\"},\"tracegroupgap\":0},\"margin\":{\"t\":60},\"title\":{\"text\":\"Compare last 15 days vs next 30 days\"},\"font\":{\"color\":\"black\"},\"plot_bgcolor\":\"white\"},                        {\"responsive\": true}                    ).then(function(){\n",
              "                            \n",
              "var gd = document.getElementById('906963a5-d486-411f-9695-463825ab7377');\n",
              "var x = new MutationObserver(function (mutations, observer) {{\n",
              "        var display = window.getComputedStyle(gd).display;\n",
              "        if (!display || display === 'none') {{\n",
              "            console.log([gd, 'removed!']);\n",
              "            Plotly.purge(gd);\n",
              "            observer.disconnect();\n",
              "        }}\n",
              "}});\n",
              "\n",
              "// Listen for the removal of the full notebook cells\n",
              "var notebookContainer = gd.closest('#notebook-container');\n",
              "if (notebookContainer) {{\n",
              "    x.observe(notebookContainer, {childList: true});\n",
              "}}\n",
              "\n",
              "// Listen for the clearing of the current output cell\n",
              "var outputEl = gd.closest('.output');\n",
              "if (outputEl) {{\n",
              "    x.observe(outputEl, {childList: true});\n",
              "}}\n",
              "\n",
              "                        })                };                            </script>        </div>\n",
              "</body>\n",
              "</html>"
            ]
          },
          "metadata": {}
        }
      ]
    },
    {
      "cell_type": "markdown",
      "source": [
        "#Plotting entire Closing Stock Price with next 30 days period of prediction\n"
      ],
      "metadata": {
        "id": "HSbBgSNE5URq"
      }
    },
    {
      "cell_type": "code",
      "source": [
        "stock_df_closel1y = np.array(stock_df_closel1y)\n",
        "lstmdf = stock_df_closel1y.tolist()\n",
        "lstmdf.extend((np.array(lst_output).reshape(-1,1)).tolist())\n",
        "lstmdf=scaler.inverse_transform(lstmdf).reshape(1,-1).tolist()[0]\n",
        "names = cycle(['Close Price'])\n",
        "fig = px.line(lstmdf,labels={'value':'Stock Price','index':'Timestamp'})\n",
        "fig.update_layout(title_text='Plotting whole closing stock price with prediction',plot_bgcolor='white',font_size=15,font_color='black',legend_title_text='Stock')\n",
        "fig.for_each_trace(lambda t : t.update(name=next(names)))\n",
        "fig.update_xaxes(showgrid=False)\n",
        "fig.update_yaxes(showgrid=False)\n",
        "fig.show()"
      ],
      "metadata": {
        "colab": {
          "base_uri": "https://localhost:8080/",
          "height": 522
        },
        "id": "NumIwUxC5W2s",
        "outputId": "f058c976-e319-4eff-e009-7e7570338122"
      },
      "execution_count": 135,
      "outputs": [
        {
          "output_type": "stream",
          "name": "stderr",
          "text": [
            "<ipython-input-135-3603d2088386>:3: VisibleDeprecationWarning:\n",
            "\n",
            "Creating an ndarray from ragged nested sequences (which is a list-or-tuple of lists-or-tuples-or ndarrays with different lengths or shapes) is deprecated. If you meant to do this, you must specify 'dtype=object' when creating the ndarray.\n",
            "\n"
          ]
        },
        {
          "output_type": "error",
          "ename": "ValueError",
          "evalue": "ignored",
          "traceback": [
            "\u001b[0;31m---------------------------------------------------------------------------\u001b[0m",
            "\u001b[0;31mValueError\u001b[0m                                Traceback (most recent call last)",
            "\u001b[0;32m<ipython-input-135-3603d2088386>\u001b[0m in \u001b[0;36m<cell line: 4>\u001b[0;34m()\u001b[0m\n\u001b[1;32m      2\u001b[0m \u001b[0mlstmdf\u001b[0m \u001b[0;34m=\u001b[0m \u001b[0mstock_df_closel1y\u001b[0m\u001b[0;34m.\u001b[0m\u001b[0mtolist\u001b[0m\u001b[0;34m(\u001b[0m\u001b[0;34m)\u001b[0m\u001b[0;34m\u001b[0m\u001b[0;34m\u001b[0m\u001b[0m\n\u001b[1;32m      3\u001b[0m \u001b[0mlstmdf\u001b[0m\u001b[0;34m.\u001b[0m\u001b[0mextend\u001b[0m\u001b[0;34m(\u001b[0m\u001b[0;34m(\u001b[0m\u001b[0mnp\u001b[0m\u001b[0;34m.\u001b[0m\u001b[0marray\u001b[0m\u001b[0;34m(\u001b[0m\u001b[0mlst_output\u001b[0m\u001b[0;34m)\u001b[0m\u001b[0;34m.\u001b[0m\u001b[0mreshape\u001b[0m\u001b[0;34m(\u001b[0m\u001b[0;34m-\u001b[0m\u001b[0;36m1\u001b[0m\u001b[0;34m,\u001b[0m\u001b[0;36m1\u001b[0m\u001b[0;34m)\u001b[0m\u001b[0;34m)\u001b[0m\u001b[0;34m.\u001b[0m\u001b[0mtolist\u001b[0m\u001b[0;34m(\u001b[0m\u001b[0;34m)\u001b[0m\u001b[0;34m)\u001b[0m\u001b[0;34m\u001b[0m\u001b[0;34m\u001b[0m\u001b[0m\n\u001b[0;32m----> 4\u001b[0;31m \u001b[0mlstmdf\u001b[0m\u001b[0;34m=\u001b[0m\u001b[0mscaler\u001b[0m\u001b[0;34m.\u001b[0m\u001b[0minverse_transform\u001b[0m\u001b[0;34m(\u001b[0m\u001b[0mlstmdf\u001b[0m\u001b[0;34m[\u001b[0m\u001b[0;36m0\u001b[0m\u001b[0;34m]\u001b[0m\u001b[0;34m)\u001b[0m\u001b[0;34m.\u001b[0m\u001b[0mreshape\u001b[0m\u001b[0;34m(\u001b[0m\u001b[0;36m1\u001b[0m\u001b[0;34m,\u001b[0m\u001b[0;34m-\u001b[0m\u001b[0;36m1\u001b[0m\u001b[0;34m)\u001b[0m\u001b[0;34m.\u001b[0m\u001b[0mtolist\u001b[0m\u001b[0;34m(\u001b[0m\u001b[0;34m)\u001b[0m\u001b[0;34m[\u001b[0m\u001b[0;36m0\u001b[0m\u001b[0;34m]\u001b[0m\u001b[0;34m\u001b[0m\u001b[0;34m\u001b[0m\u001b[0m\n\u001b[0m\u001b[1;32m      5\u001b[0m \u001b[0mnames\u001b[0m \u001b[0;34m=\u001b[0m \u001b[0mcycle\u001b[0m\u001b[0;34m(\u001b[0m\u001b[0;34m[\u001b[0m\u001b[0;34m'Close Price'\u001b[0m\u001b[0;34m]\u001b[0m\u001b[0;34m)\u001b[0m\u001b[0;34m\u001b[0m\u001b[0;34m\u001b[0m\u001b[0m\n\u001b[1;32m      6\u001b[0m \u001b[0mfig\u001b[0m \u001b[0;34m=\u001b[0m \u001b[0mpx\u001b[0m\u001b[0;34m.\u001b[0m\u001b[0mline\u001b[0m\u001b[0;34m(\u001b[0m\u001b[0mlstmdf\u001b[0m\u001b[0;34m,\u001b[0m\u001b[0mlabels\u001b[0m\u001b[0;34m=\u001b[0m\u001b[0;34m{\u001b[0m\u001b[0;34m'value'\u001b[0m\u001b[0;34m:\u001b[0m\u001b[0;34m'Stock Price'\u001b[0m\u001b[0;34m,\u001b[0m\u001b[0;34m'index'\u001b[0m\u001b[0;34m:\u001b[0m\u001b[0;34m'Timestamp'\u001b[0m\u001b[0;34m}\u001b[0m\u001b[0;34m)\u001b[0m\u001b[0;34m\u001b[0m\u001b[0;34m\u001b[0m\u001b[0m\n",
            "\u001b[0;32m/usr/local/lib/python3.9/dist-packages/sklearn/preprocessing/_data.py\u001b[0m in \u001b[0;36minverse_transform\u001b[0;34m(self, X)\u001b[0m\n\u001b[1;32m    535\u001b[0m         \u001b[0mcheck_is_fitted\u001b[0m\u001b[0;34m(\u001b[0m\u001b[0mself\u001b[0m\u001b[0;34m)\u001b[0m\u001b[0;34m\u001b[0m\u001b[0;34m\u001b[0m\u001b[0m\n\u001b[1;32m    536\u001b[0m \u001b[0;34m\u001b[0m\u001b[0m\n\u001b[0;32m--> 537\u001b[0;31m         X = check_array(\n\u001b[0m\u001b[1;32m    538\u001b[0m             \u001b[0mX\u001b[0m\u001b[0;34m,\u001b[0m \u001b[0mcopy\u001b[0m\u001b[0;34m=\u001b[0m\u001b[0mself\u001b[0m\u001b[0;34m.\u001b[0m\u001b[0mcopy\u001b[0m\u001b[0;34m,\u001b[0m \u001b[0mdtype\u001b[0m\u001b[0;34m=\u001b[0m\u001b[0mFLOAT_DTYPES\u001b[0m\u001b[0;34m,\u001b[0m \u001b[0mforce_all_finite\u001b[0m\u001b[0;34m=\u001b[0m\u001b[0;34m\"allow-nan\"\u001b[0m\u001b[0;34m\u001b[0m\u001b[0;34m\u001b[0m\u001b[0m\n\u001b[1;32m    539\u001b[0m         )\n",
            "\u001b[0;32m/usr/local/lib/python3.9/dist-packages/sklearn/utils/validation.py\u001b[0m in \u001b[0;36mcheck_array\u001b[0;34m(array, accept_sparse, accept_large_sparse, dtype, order, copy, force_all_finite, ensure_2d, allow_nd, ensure_min_samples, ensure_min_features, estimator, input_name)\u001b[0m\n\u001b[1;32m    900\u001b[0m             \u001b[0;31m# If input is 1D raise error\u001b[0m\u001b[0;34m\u001b[0m\u001b[0;34m\u001b[0m\u001b[0m\n\u001b[1;32m    901\u001b[0m             \u001b[0;32mif\u001b[0m \u001b[0marray\u001b[0m\u001b[0;34m.\u001b[0m\u001b[0mndim\u001b[0m \u001b[0;34m==\u001b[0m \u001b[0;36m1\u001b[0m\u001b[0;34m:\u001b[0m\u001b[0;34m\u001b[0m\u001b[0;34m\u001b[0m\u001b[0m\n\u001b[0;32m--> 902\u001b[0;31m                 raise ValueError(\n\u001b[0m\u001b[1;32m    903\u001b[0m                     \u001b[0;34m\"Expected 2D array, got 1D array instead:\\narray={}.\\n\"\u001b[0m\u001b[0;34m\u001b[0m\u001b[0;34m\u001b[0m\u001b[0m\n\u001b[1;32m    904\u001b[0m                     \u001b[0;34m\"Reshape your data either using array.reshape(-1, 1) if \"\u001b[0m\u001b[0;34m\u001b[0m\u001b[0;34m\u001b[0m\u001b[0m\n",
            "\u001b[0;31mValueError\u001b[0m: Expected 2D array, got 1D array instead:\narray=[166.949997].\nReshape your data either using array.reshape(-1, 1) if your data has a single feature or array.reshape(1, -1) if it contains a single sample."
          ]
        }
      ]
    }
  ]
}